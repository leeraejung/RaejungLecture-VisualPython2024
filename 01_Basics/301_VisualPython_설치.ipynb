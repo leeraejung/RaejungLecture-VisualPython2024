{
 "cells": [
  {
   "cell_type": "markdown",
   "id": "157d40f4",
   "metadata": {},
   "source": [
    "<img src=\"https://i.esdrop.com/d/7o0dj05m8rnz/JNGCMedl18.png\" width=\"45%\">"
   ]
  },
  {
   "cell_type": "markdown",
   "id": "406e3ac3",
   "metadata": {},
   "source": [
    "# 1. Introduction\n",
    "[Visual Python](https://visualpython.ai)\n",
    "is a GUI-based Python code generator, developed on the **Jupyter Notebook**, **Jupyter Lab** and **Google Colab** as an extension. <br>\n",
    "Visual Python is an open source project started for students who struggle with coding during Python classes for data science.\n",
    "\n",
    "<br>\n",
    "\n",
    "Try Visual Python if you would like to: <br>\n",
    "* manage big data with minimal coding skills. <br>\n",
    "* help students / business analysts / researchers to overcome learning barriers for Python. <br>\n",
    "* save & reuse repeatedly used codes(snippets). <br>"
   ]
  },
  {
   "cell_type": "markdown",
   "id": "b7cdb853",
   "metadata": {},
   "source": [
    "# 2. Installing Visual Python"
   ]
  },
  {
   "cell_type": "code",
   "execution_count": null,
   "id": "73546437",
   "metadata": {},
   "outputs": [],
   "source": []
  },
  {
   "cell_type": "markdown",
   "id": "de6133f5",
   "metadata": {},
   "source": [
    "## Case 1: Getting Started with Jupyter Notebook\n",
    "\n",
    "### 1. Install package from PyPI\n",
    "```\n",
    "!pip install visualpython\n",
    "```\n",
    "\n",
    "### 2. Enable the package\n",
    "```\n",
    "!visualpy install\n",
    "```\n",
    "\n",
    "### 3. Activate Visual Python on Jupyter Notebook\n",
    "- Refresh your web browser to start a new version.\n",
    "- Click orange square button on the right side of the Jupyter Notebook menu bar. \n"
   ]
  },
  {
   "cell_type": "code",
   "execution_count": null,
   "id": "45a06c25",
   "metadata": {},
   "outputs": [],
   "source": [
    "!pip install visualpython"
   ]
  },
  {
   "cell_type": "code",
   "execution_count": null,
   "id": "009c1f51",
   "metadata": {},
   "outputs": [],
   "source": [
    "!visualpy install"
   ]
  },
  {
   "cell_type": "code",
   "execution_count": null,
   "id": "abb02725",
   "metadata": {},
   "outputs": [],
   "source": [
    "# Refresh your web browser to start a new version."
   ]
  },
  {
   "cell_type": "code",
   "execution_count": null,
   "id": "da9b3304",
   "metadata": {},
   "outputs": [],
   "source": []
  },
  {
   "cell_type": "markdown",
   "id": "3ef7ef7a",
   "metadata": {},
   "source": [
    "## Case 2: Getting Started with Jupyter Lab\n",
    "\n",
    "### 1. Install package from PyPI\n",
    "```\n",
    "!pip install jupyterlab-visualpython\n",
    "```\n",
    "\n",
    "### 2. Activate Visual Python on Jupyter Lab\n",
    "- Refresh your web browser to start a new version.\n",
    "- Click orange square button on the right side of the Jupyter Lab. \n"
   ]
  },
  {
   "cell_type": "code",
   "execution_count": null,
   "id": "a5f6cd9e",
   "metadata": {},
   "outputs": [],
   "source": [
    "!pip install jupyterlab-visualpython"
   ]
  },
  {
   "cell_type": "code",
   "execution_count": null,
   "id": "edd7b888",
   "metadata": {},
   "outputs": [],
   "source": [
    "# Refresh your web browser to start a new version."
   ]
  },
  {
   "cell_type": "code",
   "execution_count": null,
   "id": "aa88cde3",
   "metadata": {},
   "outputs": [],
   "source": []
  },
  {
   "cell_type": "markdown",
   "id": "6d3a1f06",
   "metadata": {},
   "source": [
    "## Case 3: Getting Started with Google Colab\n",
    "\n",
    "### 1. Install package using Chrome Web Store\n",
    "- [Link to Visual Python for Colab](https://chrome.google.com/webstore/detail/visual-python-for-colab/ccmkpknjfagaldcgidgcipbpdipfopob)\n",
    "\n",
    "### 2. Open Google Colab\n",
    "- [Link to Google Colab](https://colab.research.google.com/)\n",
    "\n",
    "### 3.  Activate Visual Python on Google Colab\n",
    "- Click orange square button on the right side of the Chrome Browser menu bar. \n"
   ]
  },
  {
   "cell_type": "markdown",
   "id": "ecf8689a",
   "metadata": {},
   "source": [
    "---"
   ]
  },
  {
   "cell_type": "code",
   "execution_count": null,
   "id": "9d1c669a",
   "metadata": {},
   "outputs": [],
   "source": [
    "# End of file"
   ]
  },
  {
   "cell_type": "code",
   "execution_count": null,
   "id": "772a4f17",
   "metadata": {},
   "outputs": [],
   "source": []
  }
 ],
 "metadata": {
  "kernelspec": {
   "display_name": "Python 3 (ipykernel)",
   "language": "python",
   "name": "python3"
  },
  "language_info": {
   "codemirror_mode": {
    "name": "ipython",
    "version": 3
   },
   "file_extension": ".py",
   "mimetype": "text/x-python",
   "name": "python",
   "nbconvert_exporter": "python",
   "pygments_lexer": "ipython3",
   "version": "3.11.4"
  },
  "vp": {
   "vp_config_version": "1.0.0",
   "vp_menu_width": 273,
   "vp_note_display": false,
   "vp_note_width": 0,
   "vp_position": {
    "width": 278
   },
   "vp_section_display": false,
   "vp_signature": "VisualPython"
  }
 },
 "nbformat": 4,
 "nbformat_minor": 5
}
