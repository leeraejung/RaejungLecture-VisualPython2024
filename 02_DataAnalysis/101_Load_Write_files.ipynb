{
 "cells": [
  {
   "cell_type": "markdown",
   "id": "82ad4f23-6faa-443e-bc34-b66f4cf25b0c",
   "metadata": {},
   "source": [
    "# Load and Write files\n",
    "- Visual Python : Import & File"
   ]
  },
  {
   "cell_type": "markdown",
   "id": "35b10f29-171c-4e86-bd9a-7930788b9267",
   "metadata": {},
   "source": [
    "1. Import - python 패키지 가져오기\n",
    "2. Load files - 다양한 확장자의 파일 불러오기\n",
    "3. Write files - 파일 저장하기/내보내기"
   ]
  },
  {
   "cell_type": "code",
   "execution_count": null,
   "id": "b8ce510a-9ce9-48ad-9fd9-b5672f12400a",
   "metadata": {},
   "outputs": [],
   "source": [
    "# !pip install openpyxl"
   ]
  },
  {
   "cell_type": "markdown",
   "id": "3f2ab13a",
   "metadata": {},
   "source": [
    "# 1. Import python package"
   ]
  },
  {
   "cell_type": "code",
   "execution_count": null,
   "id": "6dd02366",
   "metadata": {},
   "outputs": [],
   "source": [
    "# Visual Python: Data Analysis > Import\n",
    "import numpy as np\n",
    "import pandas as pd\n",
    "import matplotlib.pyplot as plt\n",
    "%matplotlib inline"
   ]
  },
  {
   "cell_type": "markdown",
   "id": "2f5efd8d",
   "metadata": {},
   "source": [
    "# 2. Load files"
   ]
  },
  {
   "cell_type": "markdown",
   "id": "944dec06-fe20-4045-8fe8-e6818dee5f3d",
   "metadata": {},
   "source": [
    "## 2.1. Load csv file"
   ]
  },
  {
   "cell_type": "code",
   "execution_count": null,
   "id": "4500b3a3",
   "metadata": {},
   "outputs": [],
   "source": [
    "# Visual Python: Data Analysis > File\n",
    "df_iris = pd.read_csv('data/iris.csv')\n",
    "df_iris"
   ]
  },
  {
   "cell_type": "markdown",
   "id": "f54c4a53-4cec-4492-acf6-8166111588fb",
   "metadata": {},
   "source": [
    "## 2.2. Load excel file"
   ]
  },
  {
   "cell_type": "code",
   "execution_count": null,
   "id": "c8a89cfe",
   "metadata": {},
   "outputs": [],
   "source": [
    "# Visual Python: Data Analysis > File\n",
    "df_titanic = pd.read_excel('data/titanic.xlsx')\n",
    "df_titanic"
   ]
  },
  {
   "cell_type": "markdown",
   "id": "03fa8d6d-9e26-45d0-a207-70a95a752d27",
   "metadata": {},
   "source": [
    "## 2.3. Load pickle file"
   ]
  },
  {
   "cell_type": "code",
   "execution_count": null,
   "id": "f4b79cbb",
   "metadata": {},
   "outputs": [],
   "source": [
    "# Visual Python: Data Analysis > File\n",
    "df_tips = pd.read_pickle('data/tips.pkl')\n",
    "df_tips"
   ]
  },
  {
   "cell_type": "markdown",
   "id": "e496b2c2",
   "metadata": {},
   "source": [
    "# 3. Write files"
   ]
  },
  {
   "cell_type": "markdown",
   "id": "32549324-3b52-4c83-b928-e9d14b763382",
   "metadata": {},
   "source": [
    "## 3.1. Write as csv file"
   ]
  },
  {
   "cell_type": "code",
   "execution_count": null,
   "id": "a6feefd4",
   "metadata": {},
   "outputs": [],
   "source": [
    "# Visual Python: Data Analysis > File\n",
    "df_iris.to_csv('./data/iris2.csv', index=False)"
   ]
  },
  {
   "cell_type": "markdown",
   "id": "1b53ac7b-19f6-40da-a583-758c183f2367",
   "metadata": {},
   "source": [
    "## 3.2. Write as excel file"
   ]
  },
  {
   "cell_type": "code",
   "execution_count": null,
   "id": "5eb69c92",
   "metadata": {},
   "outputs": [],
   "source": [
    "# Visual Python: Data Analysis > File\n",
    "df_titanic.to_excel('./data/titanic2.xlsx', index=False)"
   ]
  },
  {
   "cell_type": "markdown",
   "id": "0f75124b-4ea3-4571-95bb-ab6e6d5bbacc",
   "metadata": {},
   "source": [
    "## 3.3. Write as pickle file"
   ]
  },
  {
   "cell_type": "code",
   "execution_count": null,
   "id": "a3ef8f75",
   "metadata": {},
   "outputs": [],
   "source": [
    "# Visual Python: Data Analysis > File\n",
    "df_tips.to_pickle('./data/tips2.pkl')"
   ]
  },
  {
   "cell_type": "code",
   "execution_count": null,
   "id": "123bfba9",
   "metadata": {},
   "outputs": [],
   "source": []
  },
  {
   "cell_type": "markdown",
   "id": "504ca5d9",
   "metadata": {},
   "source": [
    "---"
   ]
  },
  {
   "cell_type": "code",
   "execution_count": null,
   "id": "89299491",
   "metadata": {},
   "outputs": [],
   "source": [
    "# End of file"
   ]
  },
  {
   "cell_type": "code",
   "execution_count": null,
   "id": "4aaa567a",
   "metadata": {},
   "outputs": [],
   "source": []
  }
 ],
 "metadata": {
  "kernelspec": {
   "display_name": "Python 3 (ipykernel)",
   "language": "python",
   "name": "python3"
  },
  "language_info": {
   "codemirror_mode": {
    "name": "ipython",
    "version": 3
   },
   "file_extension": ".py",
   "mimetype": "text/x-python",
   "name": "python",
   "nbconvert_exporter": "python",
   "pygments_lexer": "ipython3",
   "version": "3.11.4"
  },
  "vp": {
   "vp_config_version": "1.0.0",
   "vp_menu_width": 273,
   "vp_note_display": false,
   "vp_note_width": 0,
   "vp_position": {
    "width": 278
   },
   "vp_section_display": false,
   "vp_signature": "VisualPython"
  }
 },
 "nbformat": 4,
 "nbformat_minor": 5
}
