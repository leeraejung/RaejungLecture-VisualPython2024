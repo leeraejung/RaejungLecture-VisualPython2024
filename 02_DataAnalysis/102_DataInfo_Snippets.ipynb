{
 "cells": [
  {
   "cell_type": "markdown",
   "id": "788cca4e-d6f9-4a16-9771-b960894954ca",
   "metadata": {},
   "source": [
    "# Data Info & Snippets\n",
    "- Visual Python: Data Info & Snippets"
   ]
  },
  {
   "cell_type": "markdown",
   "id": "4b73f395-aa6a-4dfd-9a27-4614a8d45c1c",
   "metadata": {},
   "source": [
    "#### 1. Data Info\n",
    "1. General\n",
    "    - Info\n",
    "    - Describe\n",
    "    - Head\n",
    "    - Tail\n",
    "2. Status\n",
    "    - Null count\n",
    "    - Duplicated\n",
    "    - Unique\n",
    "    - Value counts\n",
    "3. Statistics\n",
    "    - count, min, max, quantile, sum, mean, median, var, std, skew,  kurtosis\n",
    "    - cumsum\n",
    "4. Correlation\n",
    "    - Correlation table\n",
    "    - Correlation matrix\n",
    "5. Distribution\n",
    "    - Histogram\n",
    "    - Scatter matrix\n",
    "    - Box plot\n",
    "    - Count plot\n",
    "\n",
    "#### 2. Snippets"
   ]
  },
  {
   "cell_type": "markdown",
   "id": "3f2ab13a",
   "metadata": {},
   "source": [
    "# Import python package"
   ]
  },
  {
   "cell_type": "code",
   "execution_count": null,
   "id": "6dd02366",
   "metadata": {},
   "outputs": [],
   "source": [
    "# Visual Python: Data Analysis > Import\n",
    "import numpy as np\n",
    "import pandas as pd\n",
    "import matplotlib.pyplot as plt\n",
    "%matplotlib inline\n",
    "import seaborn as sns"
   ]
  },
  {
   "cell_type": "markdown",
   "id": "2f5efd8d",
   "metadata": {},
   "source": [
    "# Load files"
   ]
  },
  {
   "cell_type": "code",
   "execution_count": null,
   "id": "4500b3a3",
   "metadata": {},
   "outputs": [],
   "source": [
    "# Visual Python: Data Analysis > File\n",
    "df_iris = pd.read_csv('data/iris.csv')\n",
    "df_iris"
   ]
  },
  {
   "cell_type": "markdown",
   "id": "e496b2c2",
   "metadata": {},
   "source": [
    "# 1. Data Info"
   ]
  },
  {
   "cell_type": "markdown",
   "id": "d89f7145",
   "metadata": {},
   "source": [
    "## 1.1 General"
   ]
  },
  {
   "cell_type": "markdown",
   "id": "3738fab5",
   "metadata": {},
   "source": [
    "### 1.1.1 Info"
   ]
  },
  {
   "cell_type": "code",
   "execution_count": null,
   "id": "a47ed62c-79bc-421b-b1f9-96d030d44d30",
   "metadata": {},
   "outputs": [],
   "source": [
    "# Visual Python: Data Analysis > Data Info\n",
    "df_iris.info()"
   ]
  },
  {
   "cell_type": "markdown",
   "id": "578f63c6",
   "metadata": {},
   "source": [
    "### 1.1.2 Describe"
   ]
  },
  {
   "cell_type": "code",
   "execution_count": null,
   "id": "80cbfd21",
   "metadata": {},
   "outputs": [],
   "source": [
    "# Visual Python: Data Analysis > Data Info\n",
    "df_iris.describe()"
   ]
  },
  {
   "cell_type": "markdown",
   "id": "df1914be",
   "metadata": {},
   "source": [
    "### 1.1.3 Head"
   ]
  },
  {
   "cell_type": "code",
   "execution_count": null,
   "id": "8bd89e9f",
   "metadata": {},
   "outputs": [],
   "source": [
    "# Visual Python: Data Analysis > Data Info\n",
    "df_iris.head()"
   ]
  },
  {
   "cell_type": "markdown",
   "id": "fa4d983d",
   "metadata": {},
   "source": [
    "### 1.1.4 Tail"
   ]
  },
  {
   "cell_type": "code",
   "execution_count": null,
   "id": "a47ca605",
   "metadata": {},
   "outputs": [],
   "source": [
    "# Visual Python: Data Analysis > Data Info\n",
    "df_iris.tail()"
   ]
  },
  {
   "cell_type": "markdown",
   "id": "081f6128",
   "metadata": {},
   "source": [
    "## 1.2 Status"
   ]
  },
  {
   "cell_type": "markdown",
   "id": "b036a464",
   "metadata": {},
   "source": [
    "### 1.2.1 Null count"
   ]
  },
  {
   "cell_type": "code",
   "execution_count": null,
   "id": "4312b4c2",
   "metadata": {},
   "outputs": [],
   "source": [
    "# Visual Python: Data Analysis > Data Info\n",
    "pd.DataFrame({'Null Count': df_iris.isnull().sum(), 'Non-Null Count': df_iris.notnull().sum()})"
   ]
  },
  {
   "cell_type": "code",
   "execution_count": null,
   "id": "42d463d5-38c0-4da3-875c-331ba8ad40c5",
   "metadata": {},
   "outputs": [],
   "source": [
    "# Visual Python: Data Analysis > Data Info\n",
    "df_iris.info() # info() 로도 간단하게 확인 가능"
   ]
  },
  {
   "cell_type": "markdown",
   "id": "f6e24644",
   "metadata": {},
   "source": [
    "### 1.2.2 Duplicated"
   ]
  },
  {
   "cell_type": "code",
   "execution_count": null,
   "id": "a65c09a6",
   "metadata": {},
   "outputs": [],
   "source": [
    "# Visual Python: Data Analysis > Data Info\n",
    "_duplicated = ([df_iris.duplicated().sum()] + [df_iris[col].duplicated().sum() for col in df_iris.columns])\n",
    "_duplicated_df = pd.DataFrame({\n",
    "    'Rows':[len(df_iris)]*len(_duplicated),\n",
    "    'Unique':[len(df_iris) - dups for dups in _duplicated],\n",
    "    'Duplicated': _duplicated,\n",
    "    'Duplicated by': ['All columns'] + df_iris.columns.to_list()\n",
    "}, index=['Combination']+df_iris.columns.to_list())\n",
    "_duplicated_df"
   ]
  },
  {
   "cell_type": "markdown",
   "id": "ef31a49e",
   "metadata": {},
   "source": [
    "### 1.2.3 Unique"
   ]
  },
  {
   "cell_type": "code",
   "execution_count": null,
   "id": "cc37f71a",
   "metadata": {},
   "outputs": [],
   "source": [
    "# Visual Python: Data Analysis > Data Info\n",
    "df_iris['variety'].unique()"
   ]
  },
  {
   "cell_type": "markdown",
   "id": "d0be5563",
   "metadata": {},
   "source": [
    "### 1.2.4 Value counts"
   ]
  },
  {
   "cell_type": "code",
   "execution_count": null,
   "id": "18eb9c59-e4f9-42ca-bc0d-8a10dcaff394",
   "metadata": {},
   "outputs": [],
   "source": [
    "# Visual Python: Library > value_counts\n",
    "df_iris['variety'].value_counts()"
   ]
  },
  {
   "cell_type": "code",
   "execution_count": null,
   "id": "a0a9a8a0-551b-445a-b6e3-21da46b69d12",
   "metadata": {},
   "outputs": [],
   "source": [
    "# Visual Python: Library > value_counts\n",
    "df_iris['sepal_width'].value_counts(bins=5)"
   ]
  },
  {
   "cell_type": "code",
   "execution_count": null,
   "id": "feea1015",
   "metadata": {},
   "outputs": [],
   "source": [
    "# Visual Python: Data Analysis > Data Info\n",
    "_dfr = pd.DataFrame()\n",
    "for col in df_iris.columns:\n",
    "    if pd.api.types.is_numeric_dtype(df_iris[col]) and  df_iris[col].value_counts().size > 10:\n",
    "        _value_counts = df_iris[col].value_counts(bins=10, sort=False)\n",
    "        _dfr = pd.concat([_dfr, pd.DataFrame({(col,'bins'): _value_counts.index})], axis=1)\n",
    "    else:\n",
    "        _value_counts = df_iris[col].value_counts()\n",
    "        _dfr = pd.concat([_dfr, pd.DataFrame({(col,'category'): _value_counts.index})], axis=1)\n",
    "    _dfr = pd.concat([_dfr, pd.DataFrame({(col,'count'): _value_counts.values})], axis=1)\n",
    "_dfr.replace(np.nan,'')"
   ]
  },
  {
   "cell_type": "markdown",
   "id": "f6b85c9a",
   "metadata": {},
   "source": [
    "## 1.3 Statistics"
   ]
  },
  {
   "cell_type": "markdown",
   "id": "5f7e27cb",
   "metadata": {},
   "source": [
    "### 1.3.1 count, min, max, quantile, sum, mean, median, var, std, skew, kurtosis"
   ]
  },
  {
   "cell_type": "code",
   "execution_count": null,
   "id": "5a12219b",
   "metadata": {},
   "outputs": [],
   "source": [
    "# Visual Python: Data Analysis > Data Info\n",
    "pd.DataFrame({'count': df_iris.count(),'min': df_iris.min(numeric_only=True),'max': df_iris.max(numeric_only=True),'quantile': df_iris.quantile(numeric_only=True),'sum': df_iris.sum(numeric_only=True),'mean': df_iris.mean(numeric_only=True),'median': df_iris.median(numeric_only=True),'var': df_iris.var(numeric_only=True),'std': df_iris.std(numeric_only=True),'skew': df_iris.skew(numeric_only=True),'kurtosis': df_iris.kurtosis(numeric_only=True)})"
   ]
  },
  {
   "cell_type": "markdown",
   "id": "5348c05d",
   "metadata": {},
   "source": [
    "### 1.3.2 cumsum"
   ]
  },
  {
   "cell_type": "code",
   "execution_count": null,
   "id": "1b993f6f",
   "metadata": {},
   "outputs": [],
   "source": [
    "# Visual Python: Data Analysis > Data Info\n",
    "df_iris[['sepal_length','sepal_width','petal_length','petal_width']].cumsum()"
   ]
  },
  {
   "cell_type": "markdown",
   "id": "3a222a7b",
   "metadata": {},
   "source": [
    "## 1.4 Correlation"
   ]
  },
  {
   "cell_type": "markdown",
   "id": "e3ae0ff9",
   "metadata": {},
   "source": [
    "### 1.4.1 Correlation table"
   ]
  },
  {
   "cell_type": "code",
   "execution_count": null,
   "id": "0c9bc1bd",
   "metadata": {},
   "outputs": [],
   "source": [
    "# Visual Python: Data Analysis > Data Info\n",
    "df_iris.corr(numeric_only=True)"
   ]
  },
  {
   "cell_type": "markdown",
   "id": "9d68ea23",
   "metadata": {},
   "source": [
    "### 1.4.1 Correlation matrix"
   ]
  },
  {
   "cell_type": "code",
   "execution_count": null,
   "id": "f17debc4",
   "metadata": {},
   "outputs": [],
   "source": [
    "# Visual Python: Data Analysis > Data Info\n",
    "_corr = df_iris.corr(numeric_only=True)\n",
    "_corr.style.background_gradient(cmap='coolwarm')"
   ]
  },
  {
   "cell_type": "markdown",
   "id": "46d6b583",
   "metadata": {},
   "source": [
    "## 1.5 Distribution"
   ]
  },
  {
   "cell_type": "markdown",
   "id": "ea6878f9",
   "metadata": {},
   "source": [
    "### 1.5.1 Histogram"
   ]
  },
  {
   "cell_type": "code",
   "execution_count": null,
   "id": "e4a7f7e8",
   "metadata": {},
   "outputs": [],
   "source": [
    "# Visual Python: Data Analysis > Data Info\n",
    "df_iris.hist()\n",
    "plt.show()"
   ]
  },
  {
   "cell_type": "markdown",
   "id": "297a50e4",
   "metadata": {},
   "source": [
    "### 1.5.2 Scatter matrix"
   ]
  },
  {
   "cell_type": "code",
   "execution_count": null,
   "id": "4c8531ec",
   "metadata": {},
   "outputs": [],
   "source": [
    "# Visual Python: Data Analysis > Data Info\n",
    "pd.plotting.scatter_matrix(df_iris, marker='o', hist_kwds={'bins': 30}, s=30, alpha=.8)\n",
    "plt.show()"
   ]
  },
  {
   "cell_type": "markdown",
   "id": "09cb5296",
   "metadata": {},
   "source": [
    "### 1.5.3 Box plot"
   ]
  },
  {
   "cell_type": "code",
   "execution_count": null,
   "id": "7b38116c",
   "metadata": {},
   "outputs": [],
   "source": [
    "# Visual Python: Data Analysis > Data Info\n",
    "df_iris.plot(kind='box')\n",
    "plt.show()"
   ]
  },
  {
   "cell_type": "markdown",
   "id": "94cc93ad",
   "metadata": {},
   "source": [
    "### 1.5.4 Count plot"
   ]
  },
  {
   "cell_type": "code",
   "execution_count": null,
   "id": "c4325c42",
   "metadata": {},
   "outputs": [],
   "source": [
    "# Visual Python: Data Analysis > Data Info\n",
    "df_iris['variety'].value_counts().plot(kind='bar', rot=30)\n",
    "plt.show()"
   ]
  },
  {
   "cell_type": "markdown",
   "id": "cda554d1",
   "metadata": {},
   "source": [
    "# 2. Snippets"
   ]
  },
  {
   "cell_type": "code",
   "execution_count": null,
   "id": "3fe1cd31",
   "metadata": {},
   "outputs": [],
   "source": [
    "# Visual Python: Data Analysis > Snippets\n",
    "def as_int(x):\n",
    "    \"\"\"\n",
    "    usage: df['col'] = df['col'].apply(as_int)\n",
    "    \"\"\"\n",
    "    if not isinstance(x, str):\n",
    "        return 0\n",
    "    else:\n",
    "        try:\n",
    "            result = int(x)\n",
    "            return result\n",
    "        except ValueError:\n",
    "            return 0.0"
   ]
  },
  {
   "cell_type": "code",
   "execution_count": null,
   "id": "24e43967",
   "metadata": {},
   "outputs": [],
   "source": [
    "# Visual Python: Data Analysis > Snippets\n",
    "def as_int(x):\n",
    "    \"\"\"\n",
    "    usage: df['col'] = df['col'].apply(as_int)\n",
    "    \"\"\"\n",
    "    if not isinstance(x, str):\n",
    "        return 0\n",
    "    else:\n",
    "        try:\n",
    "            result = int(x)\n",
    "            return result\n",
    "        except ValueError:\n",
    "            return 0.0"
   ]
  },
  {
   "cell_type": "code",
   "execution_count": null,
   "id": "123bfba9",
   "metadata": {},
   "outputs": [],
   "source": []
  },
  {
   "cell_type": "markdown",
   "id": "504ca5d9",
   "metadata": {},
   "source": [
    "---"
   ]
  },
  {
   "cell_type": "markdown",
   "id": "60290dc3-7911-40d4-90f8-1311992520d0",
   "metadata": {},
   "source": [
    "# [실습] 직접 해보기"
   ]
  },
  {
   "cell_type": "markdown",
   "id": "188f7336-a900-439e-ab7f-f778ef16c0ba",
   "metadata": {},
   "source": [
    "## 실습 1. Titanic 데이터로 Data Info 실습하기"
   ]
  },
  {
   "cell_type": "code",
   "execution_count": null,
   "id": "d8658621-98c4-4e56-89c2-351c82140619",
   "metadata": {},
   "outputs": [],
   "source": [
    "# Visual Python: Data Analysis > File\n",
    "df_titanic = pd.read_csv('./data/titanic.csv')\n",
    "df_titanic"
   ]
  },
  {
   "cell_type": "markdown",
   "id": "96f49072-ea31-4141-8876-0d36b05279d6",
   "metadata": {},
   "source": [
    "#### Q. titanic 데이터의 각 컬럼별 dtype과 데이터의 행 개수를 출력하세요."
   ]
  },
  {
   "cell_type": "code",
   "execution_count": null,
   "id": "cd13d881-8ea0-4e43-bfb6-d43387534f43",
   "metadata": {},
   "outputs": [],
   "source": [
    "# Visual Python: Data Analysis > Data Info\n",
    "df_titanic.info()"
   ]
  },
  {
   "cell_type": "markdown",
   "id": "a516b4b8-7584-415f-a0b7-d1f168836fd4",
   "metadata": {},
   "source": [
    "#### Q. 데이터를 대략적으로 파악하기 위해, 위에서부터 5개 행을 출력하고, 아래에서부터 5개 행을 출력하세요."
   ]
  },
  {
   "cell_type": "code",
   "execution_count": null,
   "id": "d8087c6e-020b-438b-aeec-b67ba536646c",
   "metadata": {},
   "outputs": [],
   "source": [
    "# Visual Python: Data Analysis > Data Info\n",
    "df_titanic.head()"
   ]
  },
  {
   "cell_type": "code",
   "execution_count": null,
   "id": "7f5e5479-474e-41d6-b8dd-160f3b5499ab",
   "metadata": {},
   "outputs": [],
   "source": [
    "# Visual Python: Data Analysis > Data Info\n",
    "df_titanic.tail()"
   ]
  },
  {
   "cell_type": "markdown",
   "id": "21315b00-a9c7-4ef7-b831-82679821b89e",
   "metadata": {},
   "source": [
    "#### Q. 타이타닉호 탑승자의 `Age`와 `Fare`의 최소값, 최대값, 평균, 중앙값을 출력하세요.\n",
    "> **💡 Visual Python Tip** <br/>\n",
    "> Ctrl 키와 마우스 좌클릭으로 여러개의 컬럼을 선택할 수 있습니다.\n",
    "> 또한, Shift 키와 마우스 좌클릭으로 연속된 컬럼을 선택할 수 있습니다."
   ]
  },
  {
   "cell_type": "code",
   "execution_count": null,
   "id": "7aa9fdd3-7b3a-4fae-bdcc-a20dd5c564ef",
   "metadata": {},
   "outputs": [],
   "source": [
    "# Visual Python: Data Analysis > Data Info\n",
    "pd.DataFrame({'min': df_titanic[['Age','Fare']].min(numeric_only=True),'max': df_titanic[['Age','Fare']].max(numeric_only=True),'mean': df_titanic[['Age','Fare']].mean(numeric_only=True),'median': df_titanic[['Age','Fare']].median(numeric_only=True)})"
   ]
  },
  {
   "cell_type": "markdown",
   "id": "4d5278c8-3c76-4654-91d2-299908233a6b",
   "metadata": {},
   "source": [
    "#### Q. 데이터의 각 컬럼별 결측치 개수를 출력하세요."
   ]
  },
  {
   "cell_type": "code",
   "execution_count": null,
   "id": "3a6ffe7d-627d-4cbd-af16-18e668c08a6a",
   "metadata": {},
   "outputs": [],
   "source": [
    "# Visual Python: Data Analysis > Data Info\n",
    "pd.DataFrame({'Null Count': df_titanic.isnull().sum(), 'Non-Null Count': df_titanic.notnull().sum()})"
   ]
  },
  {
   "cell_type": "markdown",
   "id": "8b77d511-0a1f-4202-8d8a-01c0dd8b6f96",
   "metadata": {},
   "source": [
    "#### Q. 컬럼별 중복된 행의 개수를 확인하세요."
   ]
  },
  {
   "cell_type": "code",
   "execution_count": null,
   "id": "7cc0cbf3-0f70-46a1-a1d9-ad0562dfa026",
   "metadata": {},
   "outputs": [],
   "source": [
    "# Visual Python: Data Analysis > Data Info\n",
    "_duplicated = ([df_titanic.duplicated().sum()] + [df_titanic[col].duplicated().sum() for col in df_titanic.columns])\n",
    "_duplicated_df = pd.DataFrame({\n",
    "    'Rows':[len(df_titanic)]*len(_duplicated),\n",
    "    'Unique':[len(df_titanic) - dups for dups in _duplicated],\n",
    "    'Duplicated': _duplicated,\n",
    "    'Duplicated by': ['All columns'] + df_titanic.columns.to_list()\n",
    "}, index=['Combination']+df_titanic.columns.to_list())\n",
    "_duplicated_df"
   ]
  },
  {
   "cell_type": "markdown",
   "id": "cb6b4e3d-7d0c-4675-a613-5cf43671b3f5",
   "metadata": {},
   "source": [
    "#### Q. 중복된 값을 출력한 결과에서, `Unique`값이 5 이하인 컬럼들에 대해 몇 가지 카테고리로 구분되어 있고, 각 카테고리별 데이터의 수를 출력하세요."
   ]
  },
  {
   "cell_type": "code",
   "execution_count": null,
   "id": "6f5ab7dc-5fe1-4aec-b0f4-3329b7dc658d",
   "metadata": {},
   "outputs": [],
   "source": [
    "# Visual Python: Data Analysis > Data Info\n",
    "_dfr = pd.DataFrame()\n",
    "for col in df_titanic[['Survived','Pclass','Sex','Embarked']].columns:\n",
    "    if pd.api.types.is_numeric_dtype(df_titanic[['Survived','Pclass','Sex','Embarked']][col]) and  df_titanic[['Survived','Pclass','Sex','Embarked']][col].value_counts().size > 10:\n",
    "        _value_counts = df_titanic[['Survived','Pclass','Sex','Embarked']][col].value_counts(bins=10, sort=False)\n",
    "        _dfr = pd.concat([_dfr, pd.DataFrame({(col,'bins'): _value_counts.index})], axis=1)\n",
    "    else:\n",
    "        _value_counts = df_titanic[['Survived','Pclass','Sex','Embarked']][col].value_counts()\n",
    "        _dfr = pd.concat([_dfr, pd.DataFrame({(col,'category'): _value_counts.index})], axis=1)\n",
    "    _dfr = pd.concat([_dfr, pd.DataFrame({(col,'count'): _value_counts.values})], axis=1)\n",
    "_dfr.replace(np.nan,'')"
   ]
  },
  {
   "cell_type": "markdown",
   "id": "b2a5ccb3-cd92-4e1b-b34f-6271e170e616",
   "metadata": {},
   "source": [
    "#### Q. 수치형인 `Fare` 컬럼의 히스토그램을 출력해 분포를 확인하세요."
   ]
  },
  {
   "cell_type": "code",
   "execution_count": null,
   "id": "30ab894e-4851-4254-ac2d-779d411fdd89",
   "metadata": {},
   "outputs": [],
   "source": [
    "# Visual Python: Data Analysis > Data Info\n",
    "df_titanic['Fare'].hist()\n",
    "plt.show()"
   ]
  },
  {
   "cell_type": "markdown",
   "id": "43dcf104-bef7-4c3f-92c8-02920d072ec2",
   "metadata": {},
   "source": [
    "#### Q. 데이터의 수치형 컬럼들 간 상관계수를 구하시오."
   ]
  },
  {
   "cell_type": "code",
   "execution_count": null,
   "id": "6b46ecad-9fae-4457-a47a-74e4d99f39e7",
   "metadata": {},
   "outputs": [],
   "source": [
    "# Visual Python: Data Analysis > Data Info\n",
    "df_titanic.corr(numeric_only=True)"
   ]
  },
  {
   "cell_type": "markdown",
   "id": "4569309f-e285-4ede-a266-7d93ced64b14",
   "metadata": {},
   "source": [
    "#### Q. [심화] `Survived`와 나머지 수치형 컬럼들 간 상관계수를 구하시오. 단, 상관계수를 내림차순으로 정렬해서 표시하시오.\n",
    "> **💡 Visual Python Tip** <br/>\n",
    ">Instance 앱을 통해 다양한 속성과 함수를 활용할 수 있습니다.다."
   ]
  },
  {
   "cell_type": "code",
   "execution_count": null,
   "id": "e0b425a7-c2a4-4578-aaf9-de101fb638f0",
   "metadata": {},
   "outputs": [],
   "source": [
    "# Visual Python: Data Analysis > Instance\n",
    "df_titanic.corr(numeric_only=True).loc[:, 'Survived'].sort_values(ascending=False)"
   ]
  },
  {
   "cell_type": "code",
   "execution_count": null,
   "id": "d40818cd-45ac-4797-97ef-2072f2af4e9f",
   "metadata": {},
   "outputs": [],
   "source": []
  },
  {
   "cell_type": "markdown",
   "id": "56496e9f-4a9f-438c-9b03-732fe4209403",
   "metadata": {},
   "source": [
    "---"
   ]
  },
  {
   "cell_type": "code",
   "execution_count": null,
   "id": "89299491",
   "metadata": {},
   "outputs": [],
   "source": [
    "# End of file"
   ]
  },
  {
   "cell_type": "code",
   "execution_count": null,
   "id": "4aaa567a",
   "metadata": {},
   "outputs": [],
   "source": []
  }
 ],
 "metadata": {
  "kernelspec": {
   "display_name": "Python 3 (ipykernel)",
   "language": "python",
   "name": "python3"
  },
  "language_info": {
   "codemirror_mode": {
    "name": "ipython",
    "version": 3
   },
   "file_extension": ".py",
   "mimetype": "text/x-python",
   "name": "python",
   "nbconvert_exporter": "python",
   "pygments_lexer": "ipython3",
   "version": "3.11.4"
  },
  "vp": {
   "vp_config_version": "1.0.0",
   "vp_menu_width": 273,
   "vp_note_display": false,
   "vp_note_width": 0,
   "vp_position": {
    "width": 278
   },
   "vp_section_display": false,
   "vp_signature": "VisualPython"
  }
 },
 "nbformat": 4,
 "nbformat_minor": 5
}
