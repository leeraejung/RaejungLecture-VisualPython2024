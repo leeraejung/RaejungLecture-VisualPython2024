{
 "cells": [
  {
   "cell_type": "markdown",
   "metadata": {},
   "source": [
    "# Frame editor\n",
    "- Visual Python: Data Analysis > Frame"
   ]
  },
  {
   "cell_type": "markdown",
   "metadata": {},
   "source": [
    "1. Drop - 컬럼 및 행 삭제\n",
    "2. Rename - 컬럼 이름 변경\n",
    "3. One-Hot Encoding\n",
    "4. set_index, reset_index - 인덱스 설정\n",
    "5. Replace - 데이터 수정\n",
    "6. As Type - 타입 변경\n",
    "7. Add Column - 컬럼 및 행 추가"
   ]
  },
  {
   "cell_type": "markdown",
   "metadata": {},
   "source": [
    "---"
   ]
  },
  {
   "cell_type": "markdown",
   "metadata": {},
   "source": [
    "## Import Packages\n",
    "- Visual Python: Data Analysis > Import"
   ]
  },
  {
   "cell_type": "code",
   "execution_count": null,
   "metadata": {},
   "outputs": [],
   "source": [
    "import numpy as np\n",
    "import pandas as pd\n",
    "import matplotlib.pyplot as plt\n",
    "%matplotlib inline\n",
    "import seaborn as sns"
   ]
  },
  {
   "cell_type": "markdown",
   "metadata": {},
   "source": [
    "## Read data\n",
    "- Visual Python: Data Analysis > File"
   ]
  },
  {
   "cell_type": "code",
   "execution_count": null,
   "metadata": {},
   "outputs": [],
   "source": [
    "# Visual Python: Data Analysis > File\n",
    "df_economics = pd.read_csv('./data/economics.csv')\n",
    "df_economics"
   ]
  },
  {
   "cell_type": "code",
   "execution_count": null,
   "metadata": {},
   "outputs": [],
   "source": [
    "# Visual Python: Data Analysis > File\n",
    "df_iris = pd.read_csv('./data/iris.csv')\n",
    "df_iris"
   ]
  },
  {
   "cell_type": "markdown",
   "metadata": {},
   "source": [
    "## 1. Edit"
   ]
  },
  {
   "cell_type": "markdown",
   "metadata": {},
   "source": [
    "## 1.1. Add Column - 컬럼 추가"
   ]
  },
  {
   "cell_type": "markdown",
   "metadata": {},
   "source": [
    "### 1.1.1. Add Column - Calculation"
   ]
  },
  {
   "cell_type": "code",
   "execution_count": null,
   "metadata": {},
   "outputs": [],
   "source": [
    "# Visual Python: Data Analysis > Frame\n",
    "vp_df = df_iris.copy()\n",
    "vp_df['col_sum'] = vp_df['sepal_length'] + vp_df['sepal_width']\n",
    "vp_df"
   ]
  },
  {
   "cell_type": "markdown",
   "metadata": {},
   "source": [
    "### 1.1.2. Add Column - Statistics"
   ]
  },
  {
   "cell_type": "code",
   "execution_count": null,
   "metadata": {},
   "outputs": [],
   "source": [
    "# Visual Python: Data Analysis > Frame\n",
    "vp_df = df_iris.copy()\n",
    "vp_df['sepal_mean'] = vp_df[['sepal_length','sepal_width']].apply(lambda x: x.mean(numeric_only=True), axis=1)\n",
    "vp_df"
   ]
  },
  {
   "cell_type": "markdown",
   "metadata": {},
   "source": [
    "### 1.1.3. Add Column - Replace"
   ]
  },
  {
   "cell_type": "code",
   "execution_count": null,
   "metadata": {},
   "outputs": [],
   "source": [
    "# Visual Python: Data Analysis > Frame\n",
    "vp_df = df_iris.copy()\n",
    "vp_df['variety_rep'] = vp_df[['variety']].replace({'Setosa': 'a', 'Versicolor': 'b', 'Virginica': 'c'})\n",
    "vp_df"
   ]
  },
  {
   "cell_type": "markdown",
   "metadata": {},
   "source": [
    "### 1.1.4. Add Column - Condition"
   ]
  },
  {
   "cell_type": "code",
   "execution_count": null,
   "metadata": {},
   "outputs": [],
   "source": [
    "# Visual Python: Data Analysis > Frame\n",
    "vp_df = df_iris.copy()\n",
    "vp_df.loc[(vp_df['sepal_length'] > 5), 'sep_cond'] = 'over 5'\n",
    "vp_df"
   ]
  },
  {
   "cell_type": "markdown",
   "metadata": {},
   "source": [
    "### 1.1.5. Add Column - Apply"
   ]
  },
  {
   "cell_type": "code",
   "execution_count": null,
   "metadata": {},
   "outputs": [],
   "source": [
    "# Visual Python: Data Analysis > Frame\n",
    "vp_df = df_iris.copy()\n",
    "vp_df['sep_cond'] = vp_df['sepal_length'].apply(lambda x: 'over 5' if (x > 5) else 'under 5' if (x <= 5) else np.nan)\n",
    "vp_df"
   ]
  },
  {
   "cell_type": "markdown",
   "metadata": {},
   "source": [
    "## 1.2. Delete - 컬럼 및 행 삭제"
   ]
  },
  {
   "cell_type": "code",
   "execution_count": null,
   "metadata": {},
   "outputs": [],
   "source": [
    "# Visual Python: Data Analysis > Frame\n",
    "vp_df = df_iris.copy()\n",
    "vp_df.drop(['petal_length','petal_width'], axis=1, inplace=True)\n",
    "vp_df"
   ]
  },
  {
   "cell_type": "markdown",
   "metadata": {},
   "source": [
    "## 1.3. Rename - 컬럼 이름 변경"
   ]
  },
  {
   "cell_type": "code",
   "execution_count": null,
   "metadata": {},
   "outputs": [],
   "source": [
    "# Visual Python: Data Analysis > Frame\n",
    "vp_df = df_iris.copy()\n",
    "vp_df.rename(columns={'sepal_length': 'sl', 'sepal_width': 'sw', 'petal_length': 'pl', 'petal_width': 'pw', 'variety': 'v'}, inplace=True)\n",
    "vp_df"
   ]
  },
  {
   "cell_type": "markdown",
   "metadata": {},
   "source": [
    "## 1.4. As type - 데이터 타입 변경"
   ]
  },
  {
   "cell_type": "code",
   "execution_count": null,
   "metadata": {},
   "outputs": [],
   "source": [
    "# Visual Python: Data Analysis > Frame\n",
    "vp_df = df_iris.copy()\n",
    "vp_df = vp_df.astype({'sepal_length': 'int64', 'variety': 'category'})\n",
    "vp_df"
   ]
  },
  {
   "cell_type": "code",
   "execution_count": null,
   "metadata": {},
   "outputs": [],
   "source": [
    "# Visual Python: Data Analysis > Frame\n",
    "vp_df = df_economics.copy()\n",
    "vp_df = vp_df.astype({'date': 'datetime64[ns]'})\n",
    "vp_df"
   ]
  },
  {
   "cell_type": "markdown",
   "metadata": {},
   "source": [
    "## 1.5. To Datetime - 날짜 형식 컬럼의 타입 변경 및 부가적인 컬럼 생성"
   ]
  },
  {
   "cell_type": "code",
   "execution_count": null,
   "metadata": {},
   "outputs": [],
   "source": [
    "# Visual Python: Data Analysis > Frame\n",
    "vp_df = df_economics.copy()\n",
    "vp_df['date'] = pd.to_datetime(vp_df['date'])\n",
    "vp_df['year'] = vp_df['date'].dt.year\n",
    "vp_df['month'] = vp_df['date'].dt.month\n",
    "vp_df['day'] = vp_df['date'].dt.day\n",
    "vp_df"
   ]
  },
  {
   "cell_type": "markdown",
   "metadata": {},
   "source": [
    "## 1.6. Replace - 데이터 대체"
   ]
  },
  {
   "cell_type": "code",
   "execution_count": null,
   "metadata": {},
   "outputs": [],
   "source": [
    "# Visual Python: Data Analysis > Frame\n",
    "vp_df = df_iris.copy()\n",
    "vp_df.loc[:, 'sepal_length'] = 1\n",
    "vp_df"
   ]
  },
  {
   "cell_type": "markdown",
   "metadata": {},
   "source": [
    "## 1.7. Discretize - 데이터 구간 분할"
   ]
  },
  {
   "cell_type": "code",
   "execution_count": null,
   "metadata": {},
   "outputs": [],
   "source": [
    "# Visual Python: Data Analysis > Frame\n",
    "vp_df = df_iris.copy()\n",
    "vp_df['sl_cut'] = pd.cut(vp_df['sepal_length'], 5, labels=['a', 'b', 'c', 'd', 'e'])\n",
    "vp_df"
   ]
  },
  {
   "cell_type": "markdown",
   "metadata": {},
   "source": [
    "# 2. Transform"
   ]
  },
  {
   "cell_type": "markdown",
   "metadata": {},
   "source": [
    "## 2.1. set_index, reset_index - 인덱스 설정"
   ]
  },
  {
   "cell_type": "code",
   "execution_count": null,
   "metadata": {},
   "outputs": [],
   "source": [
    "# Visual Python: Data Analysis > Frame\n",
    "df1 = df_iris.copy()\n",
    "df1.set_index(['variety'], inplace=True)\n",
    "df1"
   ]
  },
  {
   "cell_type": "code",
   "execution_count": null,
   "metadata": {},
   "outputs": [],
   "source": [
    "# Visual Python: Data Analysis > Frame\n",
    "vp_df = df1.copy()\n",
    "vp_df.reset_index(inplace=True)\n",
    "vp_df"
   ]
  },
  {
   "cell_type": "markdown",
   "metadata": {},
   "source": [
    "## 2.2. Data Shift - 데이터 옮기기"
   ]
  },
  {
   "cell_type": "code",
   "execution_count": null,
   "metadata": {},
   "outputs": [],
   "source": [
    "# Visual Python: Data Analysis > Frame\n",
    "vp_df = df_iris.copy()\n",
    "vp_df['petal_length'] = vp_df['petal_length'].shift(1, fill_value=0)\n",
    "vp_df"
   ]
  },
  {
   "cell_type": "markdown",
   "metadata": {},
   "source": [
    "# 3. Sort"
   ]
  },
  {
   "cell_type": "markdown",
   "metadata": {},
   "source": [
    "## 3.1. Sort index & Sort values - 데이터 정렬하기"
   ]
  },
  {
   "cell_type": "code",
   "execution_count": null,
   "metadata": {},
   "outputs": [],
   "source": [
    "# Visual Python: Data Analysis > Frame\n",
    "vp_df = df_iris.copy()\n",
    "vp_df.sort_index(axis=0, ascending=True, inplace=True)\n",
    "vp_df.sort_values(by='sepal_length', ascending=True, inplace=True)\n",
    "vp_df"
   ]
  },
  {
   "cell_type": "markdown",
   "metadata": {},
   "source": [
    "# 4. Encoding"
   ]
  },
  {
   "cell_type": "markdown",
   "metadata": {},
   "source": [
    "## 4.1. Label Encoding"
   ]
  },
  {
   "cell_type": "code",
   "execution_count": null,
   "metadata": {},
   "outputs": [],
   "source": [
    "# Visual Python: Data Analysis > Frame\n",
    "vp_df = df_iris.copy()\n",
    "vp_df['variety_label'] = pd.Categorical(vp_df['variety']).codes\n",
    "vp_df"
   ]
  },
  {
   "cell_type": "markdown",
   "metadata": {},
   "source": [
    "## 4.2. One-hot Encoding"
   ]
  },
  {
   "cell_type": "code",
   "execution_count": null,
   "metadata": {},
   "outputs": [],
   "source": [
    "# Visual Python: Data Analysis > Frame\n",
    "vp_df = df_iris.copy()\n",
    "vp_df = pd.get_dummies(data=vp_df, columns=['variety'])\n",
    "vp_df"
   ]
  },
  {
   "cell_type": "markdown",
   "metadata": {},
   "source": [
    "# 5. Data cleaning"
   ]
  },
  {
   "cell_type": "markdown",
   "metadata": {},
   "source": [
    "* Null data 만들기"
   ]
  },
  {
   "cell_type": "code",
   "execution_count": null,
   "metadata": {},
   "outputs": [],
   "source": [
    "# Visual Python: Data Analysis > Frame\n",
    "df1 = df_iris.copy()\n",
    "df1['petal_length'] = df1['petal_length'].shift(3)\n",
    "df1"
   ]
  },
  {
   "cell_type": "code",
   "execution_count": null,
   "metadata": {},
   "outputs": [],
   "source": [
    "# Visual Python: Data Analysis > Data Info\n",
    "pd.DataFrame({'Null Count': df1.isnull().sum(), 'Non-Null Count': df1.notnull().sum()})"
   ]
  },
  {
   "cell_type": "markdown",
   "metadata": {},
   "source": [
    "## 5.1. Fill NA - 결측치 채우기"
   ]
  },
  {
   "cell_type": "code",
   "execution_count": null,
   "metadata": {},
   "outputs": [],
   "source": [
    "# Visual Python: Data Analysis > Frame\n",
    "vp_df = df1.copy()\n",
    "vp_df['petal_length'] = vp_df['petal_length'].fillna(0)\n",
    "vp_df"
   ]
  },
  {
   "cell_type": "markdown",
   "metadata": {},
   "source": [
    "## 5.2. Drop NA - 결측치 제거"
   ]
  },
  {
   "cell_type": "code",
   "execution_count": null,
   "metadata": {},
   "outputs": [],
   "source": [
    "# Visual Python: Data Analysis > Frame\n",
    "vp_df = df1.copy()\n",
    "vp_df.dropna(axis=0, subset=['petal_length'], how='all', inplace=True)\n",
    "vp_df"
   ]
  },
  {
   "cell_type": "markdown",
   "metadata": {},
   "source": [
    "## 5.3. Fill Outlier - 이상치 채우기"
   ]
  },
  {
   "cell_type": "markdown",
   "metadata": {},
   "source": [
    "### 5.3.1. Before fill outlier"
   ]
  },
  {
   "cell_type": "code",
   "execution_count": null,
   "metadata": {},
   "outputs": [],
   "source": [
    "# Visual Python: Data Analysis > Data Info\n",
    "df_iris.plot(kind='box')\n",
    "plt.show()"
   ]
  },
  {
   "cell_type": "markdown",
   "metadata": {},
   "source": [
    "### 5.3.2. Fill outlier"
   ]
  },
  {
   "cell_type": "code",
   "execution_count": null,
   "metadata": {},
   "outputs": [],
   "source": [
    "# Visual Python: Data Analysis > Frame\n",
    "def vp_fill_outlier(df, col_lst, fill_type='iqr', fill_value_lst=[], weight=1.5):\n",
    "    dfr = df.copy()\n",
    "    for idx, col in enumerate(col_lst):\n",
    "        sr = dfr[col]\n",
    "        q25 = np.percentile(sr.values, 25)\n",
    "        q75 = np.percentile(sr.values, 75)\n",
    "        iqr   = q75 - q25\n",
    "        iqr_w = iqr * weight\n",
    "        val_l = q25 - iqr_w\n",
    "        val_h = q75 + iqr_w\n",
    "        if fill_type == 'mean':\n",
    "            f_val = sr[~((sr < val_l) | (sr > val_h))].mean()\n",
    "        elif fill_type == 'median':\n",
    "            f_val = sr[~((sr < val_l) | (sr > val_h))].median()\n",
    "        elif fill_type == 'value':\n",
    "            f_val = fill_value_lst[idx]\n",
    "        elif fill_type == 'NA':\n",
    "            f_val = np.nan\n",
    "        if fill_type == 'iqr':\n",
    "            dfr.loc[(sr < val_l), col] = val_l\n",
    "            dfr.loc[(sr > val_h), col] = val_h\n",
    "        else:\n",
    "            dfr.loc[(sr < val_l) | (sr > val_h), col] = f_val\n",
    "    return dfr"
   ]
  },
  {
   "cell_type": "code",
   "execution_count": null,
   "metadata": {},
   "outputs": [],
   "source": [
    "# Visual Python: Data Analysis > Frame\n",
    "vp_df = df_iris.copy()\n",
    "vp_df = vp_fill_outlier(vp_df, ['sepal_width'], fill_type='iqr')\n",
    "vp_df"
   ]
  },
  {
   "cell_type": "markdown",
   "metadata": {},
   "source": [
    "### 5.3.3. After fill outlier"
   ]
  },
  {
   "cell_type": "code",
   "execution_count": null,
   "metadata": {},
   "outputs": [],
   "source": [
    "# Visual Python: Data Analysis > Data Info\n",
    "vp_df.plot(kind='box')\n",
    "plt.show()"
   ]
  },
  {
   "cell_type": "markdown",
   "metadata": {},
   "source": [
    "## 5.4. Drop outlier - 이상치 제거하기"
   ]
  },
  {
   "cell_type": "markdown",
   "metadata": {},
   "source": [
    "### 5.4.1. Drop outlier"
   ]
  },
  {
   "cell_type": "code",
   "execution_count": null,
   "metadata": {},
   "outputs": [],
   "source": [
    "# Visual Python: Data Analysis > Frame\n",
    "def vp_drop_outlier(df, col_lst, weight=1.5):\n",
    "    dfr = df.copy()\n",
    "    outlier_index_lst = []\n",
    "    for idx, col in enumerate(col_lst):\n",
    "        sr = dfr[col]\n",
    "        q25 = np.percentile(sr.values, 25)\n",
    "        q75 = np.percentile(sr.values, 75)\n",
    "        iqr   = q75 - q25\n",
    "        iqr_w = iqr * weight\n",
    "        val_l = q25 - iqr_w\n",
    "        val_h = q75 + iqr_w\n",
    "        outlier_index_lst += sr[(sr < val_l) | (sr > val_h)].index.to_list()\n",
    "    outlier_index_lst = list(set(outlier_index_lst))\n",
    "    dfr.drop(outlier_index_lst, inplace=True)\n",
    "    return dfr"
   ]
  },
  {
   "cell_type": "code",
   "execution_count": null,
   "metadata": {},
   "outputs": [],
   "source": [
    "# Visual Python: Data Analysis > Frame\n",
    "vp_df = df_iris.copy()\n",
    "vp_df = vp_drop_outlier(vp_df, ['sepal_width'])\n",
    "vp_df"
   ]
  },
  {
   "cell_type": "markdown",
   "metadata": {},
   "source": [
    "### 5.4.2. After drop outlier"
   ]
  },
  {
   "cell_type": "code",
   "execution_count": null,
   "metadata": {},
   "outputs": [],
   "source": [
    "# Visual Python: Data Analysis > Data Info\n",
    "vp_df.plot(kind='box')\n",
    "plt.show()"
   ]
  },
  {
   "cell_type": "markdown",
   "metadata": {},
   "source": [
    "## 5.5. Drop duplicates - 중복값 제거"
   ]
  },
  {
   "cell_type": "markdown",
   "metadata": {},
   "source": [
    "### 5.5.1. Check duplicates"
   ]
  },
  {
   "cell_type": "code",
   "execution_count": null,
   "metadata": {},
   "outputs": [],
   "source": [
    "# Visual Python: Data Analysis > Data Info\n",
    "_duplicated = ([df_iris[['variety']].duplicated().sum()] + [df_iris[['variety']][col].duplicated().sum() for col in df_iris[['variety']].columns])\n",
    "_duplicated_df = pd.DataFrame({\n",
    "    'Rows':[len(df_iris[['variety']])]*len(_duplicated),\n",
    "    'Unique':[len(df_iris[['variety']]) - dups for dups in _duplicated],\n",
    "    'Duplicated': _duplicated,\n",
    "    'Duplicated by': ['All columns'] + df_iris[['variety']].columns.to_list()\n",
    "}, index=['Combination']+df_iris[['variety']].columns.to_list())\n",
    "_duplicated_df"
   ]
  },
  {
   "cell_type": "markdown",
   "metadata": {},
   "source": [
    "### 5.5.2. Drop duplicates"
   ]
  },
  {
   "cell_type": "code",
   "execution_count": null,
   "metadata": {},
   "outputs": [],
   "source": [
    "# Visual Python: Data Analysis > Frame\n",
    "vp_df = df_iris.copy()\n",
    "vp_df.drop_duplicates(subset=['variety'], inplace=True)\n",
    "vp_df"
   ]
  },
  {
   "cell_type": "markdown",
   "metadata": {},
   "source": [
    "---"
   ]
  },
  {
   "cell_type": "markdown",
   "metadata": {},
   "source": [
    "# [실습] 직접 해보기"
   ]
  },
  {
   "cell_type": "markdown",
   "metadata": {},
   "source": [
    "# 실습 1. iris 데이터로 복습하기"
   ]
  },
  {
   "cell_type": "code",
   "execution_count": null,
   "metadata": {},
   "outputs": [],
   "source": [
    "# Visual Python: Data Analysis > File\n",
    "df = pd.read_csv('./data/iris.csv')\n",
    "df"
   ]
  },
  {
   "cell_type": "markdown",
   "metadata": {},
   "source": [
    "#### 1 Iris 데이터(df)의 컬럼 'sepal_width' 와 'petal_length'를 삭제하세요."
   ]
  },
  {
   "cell_type": "code",
   "execution_count": null,
   "metadata": {},
   "outputs": [],
   "source": [
    "df1 = df.copy()\n",
    "df1.drop(['sepal_width','petal_length'], axis=1, inplace=True)\n",
    "df1"
   ]
  },
  {
   "cell_type": "markdown",
   "metadata": {},
   "source": [
    "#### 2 Iris 데이터(df)의 컬럼 이름을 다음과 같이 변경하고 df_kor에 저장하세요.\n",
    "- '꽃받침길이', '꽃받침너비', '꽃잎길이', '꽃잎너비', '품종'"
   ]
  },
  {
   "cell_type": "code",
   "execution_count": null,
   "metadata": {},
   "outputs": [],
   "source": [
    "df_kor = df.copy()\n",
    "df_kor.rename(columns={'sepal_length': '꽃받침길이', 'sepal_width': '꽃받침너비', 'petal_length': '꽃잎길이', 'petal_width': '꽃잎너비', 'variety': '품종'}, inplace=True)\n",
    "df_kor"
   ]
  },
  {
   "cell_type": "markdown",
   "metadata": {},
   "source": [
    "#### 3 위에서 변경한 데이터(df_kor)의 '품종' 컬럼을 One-Hot Encoding으로 변경하세요."
   ]
  },
  {
   "cell_type": "code",
   "execution_count": null,
   "metadata": {},
   "outputs": [],
   "source": [
    "df3 = df_kor.copy()\n",
    "df3 = pd.get_dummies(data=df3, columns=['품종'])\n",
    "df3"
   ]
  },
  {
   "cell_type": "markdown",
   "metadata": {},
   "source": [
    "#### 4 df_kor의 컬럼 '꽃받침길이'를 인덱스로 설정하세요."
   ]
  },
  {
   "cell_type": "code",
   "execution_count": null,
   "metadata": {},
   "outputs": [],
   "source": [
    "df4 = df_kor.copy()\n",
    "df4.set_index(['꽃받침길이'], inplace=True)\n",
    "df4"
   ]
  },
  {
   "cell_type": "markdown",
   "metadata": {},
   "source": [
    "#### 5 df_kor의 컬럼 '꽃잎길이'값을 10.0으로 설정하세요."
   ]
  },
  {
   "cell_type": "code",
   "execution_count": null,
   "metadata": {},
   "outputs": [],
   "source": [
    "df5 = df_kor.copy()\n",
    "df5['꽃잎길이'] = 10.0\n",
    "df5"
   ]
  },
  {
   "cell_type": "markdown",
   "metadata": {},
   "source": [
    "#### 6  df_kor의 컬럼 '꽃잎길이'의 타입을 int64로 설정하세요."
   ]
  },
  {
   "cell_type": "code",
   "execution_count": null,
   "metadata": {},
   "outputs": [],
   "source": [
    "df6 = df_kor.copy()\n",
    "df6 = df6.astype({'꽃잎길이': 'int64'})\n",
    "df6"
   ]
  },
  {
   "cell_type": "markdown",
   "metadata": {},
   "source": [
    "#### 7 df_kor의 컬럼 '꽃잎길이' 와 '꽃잎너비'를 곱합값으로 새로운 컬럼('컬럼곱')을 추가하세요."
   ]
  },
  {
   "cell_type": "code",
   "execution_count": null,
   "metadata": {},
   "outputs": [],
   "source": [
    "df7 = df_kor.copy()\n",
    "df7['컬럼곱'] = df7['꽃잎길이'] * df7['꽃잎너비']\n",
    "df7"
   ]
  },
  {
   "cell_type": "markdown",
   "metadata": {},
   "source": [
    "---"
   ]
  },
  {
   "cell_type": "markdown",
   "metadata": {},
   "source": [
    "## 실습 2. Titanic 데이터로 전처리하기"
   ]
  },
  {
   "cell_type": "code",
   "execution_count": null,
   "metadata": {},
   "outputs": [],
   "source": [
    "# Visual Python: Data Analysis > File\n",
    "df_titanic = pd.read_csv('./data/titanic.csv')\n",
    "df_titanic"
   ]
  },
  {
   "cell_type": "markdown",
   "metadata": {},
   "source": [
    "#### Q. 데이터의 결측치를 확인하고 아래 순서에 따라 결측치를 제거하세요.\n",
    "- 데이터의 결측치 개수를 확인하세요.\n",
    "- `Age`와 `Embarked` 컬럼에 결측치가 있는 행을 제거하세요.\n",
    "- `Cabin` 컬럼의 데이터를 확인해보고, 컬럼을 제거하세요.\n",
    "- 다시 데이터의 결측치를 확인하세요."
   ]
  },
  {
   "cell_type": "code",
   "execution_count": null,
   "metadata": {},
   "outputs": [],
   "source": [
    "# Visual Python: Data Analysis > Data Info\n",
    "pd.DataFrame({'Null Count': df_titanic.isnull().sum(), 'Non-Null Count': df_titanic.notnull().sum()})"
   ]
  },
  {
   "cell_type": "code",
   "execution_count": null,
   "metadata": {},
   "outputs": [],
   "source": []
  },
  {
   "cell_type": "code",
   "execution_count": null,
   "metadata": {},
   "outputs": [],
   "source": [
    "# Visual Python: Data Analysis > Frame\n",
    "df2 = df_titanic.copy()\n",
    "df2.dropna(axis=0, subset=['Age','Embarked'], how='any', inplace=True)\n",
    "df2"
   ]
  },
  {
   "cell_type": "code",
   "execution_count": null,
   "metadata": {},
   "outputs": [],
   "source": [
    "# Visual Python: Data Analysis > Data Info\n",
    "df2['Cabin'].value_counts()"
   ]
  },
  {
   "cell_type": "code",
   "execution_count": null,
   "metadata": {},
   "outputs": [],
   "source": [
    "# Visual Python: Data Analysis > Frame\n",
    "df2.drop(['Cabin'], axis=1, inplace=True)\n",
    "df2"
   ]
  },
  {
   "cell_type": "code",
   "execution_count": null,
   "metadata": {},
   "outputs": [],
   "source": [
    "# Visual Python: Data Analysis > Data Info\n",
    "pd.DataFrame({'Null Count': df2.isnull().sum(), 'Non-Null Count': df2.notnull().sum()})"
   ]
  },
  {
   "cell_type": "markdown",
   "metadata": {},
   "source": [
    "#### Q. 각 컬럼별 고유한 값과 중복값을 확인하고, 범주형 컬럼 `Sex`와 `Embarked`에 대해 원핫인코딩을 실행하세요."
   ]
  },
  {
   "cell_type": "code",
   "execution_count": null,
   "metadata": {},
   "outputs": [],
   "source": [
    "# Visual Python: Data Analysis > Data Info\n",
    "_dfr = pd.DataFrame()\n",
    "for col in df2.columns:\n",
    "    if pd.api.types.is_numeric_dtype(df2[col]) and  df2[col].value_counts().size > 10:\n",
    "        _value_counts = df2[col].value_counts(bins=10, sort=False)\n",
    "        _dfr = pd.concat([_dfr, pd.DataFrame({(col,'bins'): _value_counts.index})], axis=1)\n",
    "    else:\n",
    "        _value_counts = df2[col].value_counts()\n",
    "        _dfr = pd.concat([_dfr, pd.DataFrame({(col,'category'): _value_counts.index})], axis=1)\n",
    "    _dfr = pd.concat([_dfr, pd.DataFrame({(col,'count'): _value_counts.values})], axis=1)\n",
    "_dfr.replace(np.nan,'')"
   ]
  },
  {
   "cell_type": "code",
   "execution_count": null,
   "metadata": {},
   "outputs": [],
   "source": [
    "# Visual Python: Data Analysis > Data Info\n",
    "_duplicated = ([df2.duplicated().sum()] + [df2[col].duplicated().sum() for col in df2.columns])\n",
    "_duplicated_df = pd.DataFrame({\n",
    "    'Rows':[len(df2)]*len(_duplicated),\n",
    "    'Unique':[len(df2) - dups for dups in _duplicated],\n",
    "    'Duplicated': _duplicated,\n",
    "    'Duplicated by': ['All columns'] + df2.columns.to_list()\n",
    "}, index=['Combination']+df2.columns.to_list())\n",
    "_duplicated_df"
   ]
  },
  {
   "cell_type": "code",
   "execution_count": null,
   "metadata": {},
   "outputs": [],
   "source": [
    "# Visual Python: Data Analysis > Frame\n",
    "df3 = df2.copy()\n",
    "df3 = pd.get_dummies(data=df3, columns=['Sex'])\n",
    "df3 = pd.get_dummies(data=df3, columns=['Embarked'])\n",
    "df3"
   ]
  },
  {
   "cell_type": "markdown",
   "metadata": {},
   "source": [
    "#### Q. `Age` 컬럼을 정수형으로 데이터 타입을 변환하세요."
   ]
  },
  {
   "cell_type": "code",
   "execution_count": null,
   "metadata": {},
   "outputs": [],
   "source": [
    "# Visual Python: Data Analysis > Frame\n",
    "df4 = df3.copy()\n",
    "df4 = df4.astype({'Age': 'int64'})\n",
    "df4"
   ]
  },
  {
   "cell_type": "markdown",
   "metadata": {},
   "source": [
    "#### Q. 지금까지 작업한 데이터를 titanic2.csv로 지정된 경로에 저장하세요.\n",
    "- `data` 폴더 아래의 `titanic2.csv` 파일로 저장하세요.\n",
    "- index는 제외하고 저장하세요."
   ]
  },
  {
   "cell_type": "code",
   "execution_count": null,
   "metadata": {},
   "outputs": [],
   "source": [
    "# Visual Python: Data Analysis > File\n",
    "df3.to_csv('./data/titanic2.csv', index=False)"
   ]
  },
  {
   "cell_type": "markdown",
   "metadata": {},
   "source": [
    "---"
   ]
  },
  {
   "cell_type": "code",
   "execution_count": null,
   "metadata": {},
   "outputs": [],
   "source": [
    "# End of file"
   ]
  },
  {
   "cell_type": "code",
   "execution_count": null,
   "metadata": {},
   "outputs": [],
   "source": []
  }
 ],
 "metadata": {
  "kernelspec": {
   "display_name": "Python 3 (ipykernel)",
   "language": "python",
   "name": "python3"
  },
  "language_info": {
   "codemirror_mode": {
    "name": "ipython",
    "version": 3
   },
   "file_extension": ".py",
   "mimetype": "text/x-python",
   "name": "python",
   "nbconvert_exporter": "python",
   "pygments_lexer": "ipython3",
   "version": "3.11.4"
  },
  "vp": {
   "vp_config_version": "1.0.0",
   "vp_menu_width": 273,
   "vp_note_display": false,
   "vp_note_width": 0,
   "vp_position": {
    "width": 278
   },
   "vp_section_display": false,
   "vp_signature": "VisualPython"
  }
 },
 "nbformat": 4,
 "nbformat_minor": 4
}
