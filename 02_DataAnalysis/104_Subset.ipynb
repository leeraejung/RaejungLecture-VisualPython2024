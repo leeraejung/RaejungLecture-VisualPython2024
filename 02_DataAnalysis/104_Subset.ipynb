{
 "cells": [
  {
   "cell_type": "markdown",
   "metadata": {},
   "source": [
    "# Subset\n",
    "- Visual Python: Data Analysis > Subset"
   ]
  },
  {
   "cell_type": "markdown",
   "metadata": {},
   "source": [
    "#### 원하는 조건으로 특정한 행과 열을 추출"
   ]
  },
  {
   "cell_type": "markdown",
   "metadata": {},
   "source": [
    "#### 데이터 추출 방식\n",
    "1. subset\n",
    "2. loc\n",
    "3. iloc\n",
    "4. query"
   ]
  },
  {
   "cell_type": "markdown",
   "metadata": {},
   "source": [
    "#### 조건 선택 방식\n",
    "1. Indexing\n",
    "2. Slicing\n",
    "3. Condition"
   ]
  },
  {
   "cell_type": "markdown",
   "metadata": {},
   "source": [
    "---"
   ]
  },
  {
   "cell_type": "markdown",
   "metadata": {},
   "source": [
    "## Import Packages\n",
    "- Visual Python: Data Analysis > Import"
   ]
  },
  {
   "cell_type": "code",
   "execution_count": null,
   "metadata": {},
   "outputs": [],
   "source": [
    "import numpy as np\n",
    "import pandas as pd\n",
    "import matplotlib.pyplot as plt\n",
    "%matplotlib inline\n",
    "import seaborn as sns"
   ]
  },
  {
   "cell_type": "markdown",
   "metadata": {},
   "source": [
    "## Read data\n",
    "- Visual Python: Data Analysis > File"
   ]
  },
  {
   "cell_type": "code",
   "execution_count": null,
   "metadata": {},
   "outputs": [],
   "source": [
    "df = pd.read_csv('./data/iris.csv')\n",
    "df"
   ]
  },
  {
   "cell_type": "markdown",
   "metadata": {},
   "source": [
    "## 1 데이터 추출"
   ]
  },
  {
   "cell_type": "markdown",
   "metadata": {},
   "source": [
    "### 1.1 subset"
   ]
  },
  {
   "cell_type": "markdown",
   "metadata": {},
   "source": [
    "#### 1.1.1 컬럼: 'sepal_length', 'petal_length', 'variety'"
   ]
  },
  {
   "cell_type": "code",
   "execution_count": null,
   "metadata": {},
   "outputs": [],
   "source": [
    "# Visual Python: Data Analysis > Subset\n",
    "df[['sepal_length','petal_length','variety']]"
   ]
  },
  {
   "cell_type": "markdown",
   "metadata": {},
   "source": [
    "#### 1.1.2 행: 0(이상) ~ 10(미만), 컬럼: 'sepal_length', 'petal_length', 'variety'"
   ]
  },
  {
   "cell_type": "code",
   "execution_count": null,
   "metadata": {},
   "outputs": [],
   "source": [
    "df[0:10][['sepal_length','petal_length','variety']]"
   ]
  },
  {
   "cell_type": "markdown",
   "metadata": {},
   "source": [
    "### 1.2 loc"
   ]
  },
  {
   "cell_type": "markdown",
   "metadata": {},
   "source": [
    "#### 1.2.1 행: 'variety' == 'Setosa' & 'sepal_length > 5.5"
   ]
  },
  {
   "cell_type": "code",
   "execution_count": null,
   "metadata": {},
   "outputs": [],
   "source": [
    "df.loc[(df['variety'] == 'Setosa')&(df['sepal_length'] > 5.5), :]"
   ]
  },
  {
   "cell_type": "markdown",
   "metadata": {},
   "source": [
    "#### 1.2.2 행: 'variety' == 'Setosa', 컬럼: 'sepal_length', 'petal__length', 'variety"
   ]
  },
  {
   "cell_type": "code",
   "execution_count": null,
   "metadata": {},
   "outputs": [],
   "source": [
    "df.loc[(df['variety'] == 'Setosa'), ['sepal_length','petal_length','variety']]"
   ]
  },
  {
   "cell_type": "markdown",
   "metadata": {},
   "source": [
    "### 1.3 iloc"
   ]
  },
  {
   "cell_type": "markdown",
   "metadata": {},
   "source": [
    "#### 1.3.1 행: 0(이상) ~ 10(미만), 컬럼: 1, 2, 4"
   ]
  },
  {
   "cell_type": "code",
   "execution_count": null,
   "metadata": {},
   "outputs": [],
   "source": [
    "df.iloc[0:10, [1,2,4]]"
   ]
  },
  {
   "cell_type": "markdown",
   "metadata": {},
   "source": [
    "#### 1.3.2 행: 10(이상) ~ 14(미만), 컬럼: 0(이상) ~  3(미만)"
   ]
  },
  {
   "cell_type": "code",
   "execution_count": null,
   "metadata": {},
   "outputs": [],
   "source": [
    "df.iloc[10:14, 0:3]"
   ]
  },
  {
   "cell_type": "markdown",
   "metadata": {},
   "source": [
    "### 1.4 query"
   ]
  },
  {
   "cell_type": "markdown",
   "metadata": {},
   "source": [
    "#### 1.4.1 행: 'variety' == 'Virginica'"
   ]
  },
  {
   "cell_type": "code",
   "execution_count": null,
   "metadata": {},
   "outputs": [],
   "source": [
    "df.query(\"`variety` == 'Virginica'\")"
   ]
  },
  {
   "cell_type": "markdown",
   "metadata": {},
   "source": [
    "#### 1.4.2 행: 'sepal_length' > 5.5, 컬럼: 'sepal_length', 'petal_length', 'variety'"
   ]
  },
  {
   "cell_type": "code",
   "execution_count": null,
   "metadata": {},
   "outputs": [],
   "source": [
    "df.query(\"`sepal_length` > 5.5\")[['sepal_length','petal_length','variety']]"
   ]
  },
  {
   "cell_type": "markdown",
   "metadata": {},
   "source": [
    "---"
   ]
  },
  {
   "cell_type": "markdown",
   "metadata": {},
   "source": [
    "## [실습] 직접 해보기"
   ]
  },
  {
   "cell_type": "markdown",
   "metadata": {},
   "source": [
    "## 실습 1. iris 데이터로 복습하기"
   ]
  },
  {
   "cell_type": "markdown",
   "metadata": {},
   "source": [
    "#### Q. subset: 행이  5 이상 10 미만 이고, 컬럼이 'sepal_width', 'petal_width', 'variety'인 데이터를 추출하세요."
   ]
  },
  {
   "cell_type": "code",
   "execution_count": null,
   "metadata": {},
   "outputs": [],
   "source": [
    "df[5:10][['sepal_width','petal_width','variety']]"
   ]
  },
  {
   "cell_type": "markdown",
   "metadata": {},
   "source": [
    "#### Q. loc: 행이 'petal_width' < 0.2 이고, 컬럼이 'sepal_length', 'variety인 데이터를 추출하세요."
   ]
  },
  {
   "cell_type": "code",
   "execution_count": null,
   "metadata": {},
   "outputs": [],
   "source": [
    "df.loc[(df['petal_width'] < 0.2), ['sepal_length','variety']]"
   ]
  },
  {
   "cell_type": "markdown",
   "metadata": {},
   "source": [
    "#### Q. iloc: 행이 10 이상 14 미만 이고, 컬럼이 0 이상 3 미만인 데이터를 추출하세요."
   ]
  },
  {
   "cell_type": "code",
   "execution_count": null,
   "metadata": {},
   "outputs": [],
   "source": [
    "df.iloc[10:14, 0:3]"
   ]
  },
  {
   "cell_type": "markdown",
   "metadata": {},
   "source": [
    "#### Q. query: 행이 'variety' != 'Versicolor' 이고, 컬럼이  'petal_length', 'variety'인 데이터를 추출하세요."
   ]
  },
  {
   "cell_type": "code",
   "execution_count": null,
   "metadata": {},
   "outputs": [],
   "source": [
    "df.query(\"variety != 'Versicolor'\")[['petal_length','variety']]"
   ]
  },
  {
   "cell_type": "markdown",
   "metadata": {},
   "source": [
    "---"
   ]
  },
  {
   "cell_type": "markdown",
   "metadata": {},
   "source": [
    "## 실습 2. titanic 데이터로 일부 데이터 가져오기"
   ]
  },
  {
   "cell_type": "code",
   "execution_count": null,
   "metadata": {},
   "outputs": [],
   "source": [
    "# Visual Python: Data Analysis > File\n",
    "df_titanic = pd.read_csv('./data/titanic.csv')\n",
    "df_titanic"
   ]
  },
  {
   "cell_type": "markdown",
   "metadata": {},
   "source": [
    "#### Q. loc를 이용해 `Pclass`가 3이면서 `Embarked`가 S인 데이터를 추출하세요."
   ]
  },
  {
   "cell_type": "code",
   "execution_count": null,
   "metadata": {},
   "outputs": [],
   "source": [
    "# Visual Python: Data Analysis > Subset\n",
    "df_titanic.loc[(df_titanic['Pclass'] == 3)&(df_titanic['Embarked'] == 'S'), :]"
   ]
  },
  {
   "cell_type": "markdown",
   "metadata": {},
   "source": [
    "#### Q. subset을 이용해 `Pclass`가 1이면서 `Embarked`가 Q인 데이터를 추출하세요."
   ]
  },
  {
   "cell_type": "code",
   "execution_count": null,
   "metadata": {},
   "outputs": [],
   "source": [
    "# Visual Python: Data Analysis > Subset\n",
    "df_titanic[(df_titanic['Pclass'] == 1)&(df_titanic['Embarked'] == 'Q')]"
   ]
  },
  {
   "cell_type": "markdown",
   "metadata": {},
   "source": [
    "#### Q. loc를 이용해 `Fare`가 30 이상이면서 `Survived`가 1인 데이터의 `PassengerId`와 `Survived`, `Pclass`, `Name` 컬럼을 추출하세요."
   ]
  },
  {
   "cell_type": "code",
   "execution_count": null,
   "metadata": {},
   "outputs": [],
   "source": [
    "# Visual Python: Data Analysis > Subset\n",
    "df_titanic.loc[(df_titanic['Fare'] >= 30)&(df_titanic['Survived'] == 1), ['PassengerId','Survived','Pclass','Name']]"
   ]
  },
  {
   "cell_type": "markdown",
   "metadata": {},
   "source": [
    "#### Q. `Survived`가 0이면서 `Pclass`가 1인 데이터를 추출하고, `Survived`가 0이면서 `Pclass`가 3인 데이터를 추출해 비교해 보세요.\n",
    "- `Survived`가 0이면서 `Pclass`가 1인 데이터를 df1에 저장하세요.\n",
    "- `Survived`가 0이면서 `Pclass`가 3인 데이터를 df2에 저장하세요."
   ]
  },
  {
   "cell_type": "code",
   "execution_count": null,
   "metadata": {},
   "outputs": [],
   "source": [
    "# Visual Python: Data Analysis > Subset\n",
    "df1 = df_titanic.loc[(df_titanic['Survived'] == 0)&(df_titanic['Pclass'] == 1), :]\n",
    "df1"
   ]
  },
  {
   "cell_type": "code",
   "execution_count": null,
   "metadata": {},
   "outputs": [],
   "source": [
    "# Visual Python: Data Analysis > Subset\n",
    "df2 = df_titanic.loc[(df_titanic['Survived'] == 0)&(df_titanic['Pclass'] == 3), :]\n",
    "df2"
   ]
  },
  {
   "cell_type": "markdown",
   "metadata": {},
   "source": [
    "#### Q. `Age` 컬럼의 히스토그램을 그려 분포를 확인하고, 아래 조건에 맞춰 데이터를 추출하세요.\n",
    "- 20세 이상 50세 미만의 나이를 가진 사람들의 데이터를 df3에 저장하세요.\n",
    "- 20세 미만 또는 50세 이상의 나이를 가진 사람들의 데이터를 df4에 저장하세요."
   ]
  },
  {
   "cell_type": "code",
   "execution_count": null,
   "metadata": {},
   "outputs": [],
   "source": [
    "# Visual Python: Data Analysis > Data Info\n",
    "df_titanic['Age'].hist()\n",
    "plt.show()"
   ]
  },
  {
   "cell_type": "code",
   "execution_count": null,
   "metadata": {},
   "outputs": [],
   "source": [
    "# Visual Python: Data Analysis > Subset\n",
    "df3 = df_titanic.loc[(df_titanic['Age'] >= 20)&(df_titanic['Age'] < 50), :]\n",
    "df3"
   ]
  },
  {
   "cell_type": "code",
   "execution_count": null,
   "metadata": {},
   "outputs": [],
   "source": [
    "# Visual Python: Data Analysis > Subset\n",
    "df4 = df_titanic.loc[(df_titanic['Age'] < 20)|(df_titanic['Age'] >= 50), :]\n",
    "df4"
   ]
  },
  {
   "cell_type": "markdown",
   "metadata": {},
   "source": [
    "#### Q. `Age` 컬럼에 실수형 데이터가 들어있는지 확인하려고 할 때, 아래 순서에 따라 데이터를 추출하세요.\n",
    "- `Age` 컬럼의 결측치를 모두 제거하세요.\n",
    "- `Age` 컬럼의 값을 이용해 `Age2` 컬럼을 생성하세요.\n",
    "- `Age2` 컬럼을 int형으로 변경하세요.\n",
    "- 위 순서를 수행한 데이터를 df4에 저장하세요.\n",
    "- `Age`와 `Age2` 컬럼의 값이 다른 데이터를 추출하세요."
   ]
  },
  {
   "cell_type": "code",
   "execution_count": null,
   "metadata": {},
   "outputs": [],
   "source": [
    "# Visual Python: Data Analysis > Frame\n",
    "df4 = df_titanic.copy()\n",
    "df4.dropna(axis=0, subset=['Age'], how='all', inplace=True)\n",
    "df4['Age2'] = df4['Age']\n",
    "df4 = df4.astype({'Age2': 'int64'})\n",
    "df4"
   ]
  },
  {
   "cell_type": "code",
   "execution_count": null,
   "metadata": {},
   "outputs": [],
   "source": [
    "# Visual Python: Data Analysis > Subset\n",
    "df4.loc[(df4['Age'] != df4['Age2']), :]"
   ]
  },
  {
   "cell_type": "markdown",
   "metadata": {},
   "source": [
    "---"
   ]
  },
  {
   "cell_type": "code",
   "execution_count": null,
   "metadata": {},
   "outputs": [],
   "source": [
    "# End of file"
   ]
  },
  {
   "cell_type": "code",
   "execution_count": null,
   "metadata": {},
   "outputs": [],
   "source": []
  }
 ],
 "metadata": {
  "kernelspec": {
   "display_name": "Python 3 (ipykernel)",
   "language": "python",
   "name": "python3"
  },
  "language_info": {
   "codemirror_mode": {
    "name": "ipython",
    "version": 3
   },
   "file_extension": ".py",
   "mimetype": "text/x-python",
   "name": "python",
   "nbconvert_exporter": "python",
   "pygments_lexer": "ipython3",
   "version": "3.11.4"
  },
  "vp": {
   "vp_config_version": "1.0.0",
   "vp_menu_width": 273,
   "vp_note_display": false,
   "vp_note_width": 0,
   "vp_position": {
    "width": 278
   },
   "vp_section_display": false,
   "vp_signature": "VisualPython"
  }
 },
 "nbformat": 4,
 "nbformat_minor": 4
}
