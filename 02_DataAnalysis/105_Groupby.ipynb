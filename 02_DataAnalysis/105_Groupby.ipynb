{
 "cells": [
  {
   "cell_type": "markdown",
   "id": "edef6c31-964e-425a-87a8-5858cb299793",
   "metadata": {},
   "source": [
    "# Group by\n",
    "- Visual Python: Data Analysis > Groupby"
   ]
  },
  {
   "cell_type": "markdown",
   "id": "554b1f12-67cf-4dcc-b179-7af22a4641dc",
   "metadata": {
    "id": "OlghMP3DAoc_"
   },
   "source": [
    "1. 기준 컬럼을 중심으로 그룹핑\n",
    "2. 집계할 컬럼 선택\n",
    "3. 선택된 컬럼의 집계 데이터(합계, 평균, 분산 등)를 각 그룹별로 산출"
   ]
  },
  {
   "cell_type": "markdown",
   "id": "98cfca23-b527-4bc3-bc24-8f6587e37f4d",
   "metadata": {},
   "source": [
    "---"
   ]
  },
  {
   "cell_type": "markdown",
   "id": "3f2ab13a",
   "metadata": {},
   "source": [
    "# Import python package"
   ]
  },
  {
   "cell_type": "code",
   "execution_count": null,
   "id": "7283730c",
   "metadata": {},
   "outputs": [],
   "source": [
    "# Visual Python: Data Analysis > Import\n",
    "import numpy as np\n",
    "import pandas as pd\n",
    "import matplotlib.pyplot as plt\n",
    "%matplotlib inline\n",
    "import seaborn as sns"
   ]
  },
  {
   "cell_type": "markdown",
   "id": "2f5efd8d",
   "metadata": {},
   "source": [
    "# Load files"
   ]
  },
  {
   "cell_type": "code",
   "execution_count": null,
   "id": "7b7d4991",
   "metadata": {},
   "outputs": [],
   "source": [
    "# Visual Python: Data Analysis > File\n",
    "df_tips = pd.read_csv('./data/tips.csv')\n",
    "df_tips"
   ]
  },
  {
   "cell_type": "code",
   "execution_count": null,
   "id": "2ddfd664",
   "metadata": {},
   "outputs": [],
   "source": [
    "# Visual Python: Data Analysis > File\n",
    "df_w = pd.read_csv('./data/washing_machine.csv')\n",
    "df_w"
   ]
  },
  {
   "cell_type": "markdown",
   "id": "31932641",
   "metadata": {},
   "source": [
    "# 1. Single aggregate function"
   ]
  },
  {
   "cell_type": "markdown",
   "id": "283ac7fb",
   "metadata": {},
   "source": [
    "## 1.1. Group by `day`, Agg. function: `mean()`"
   ]
  },
  {
   "cell_type": "code",
   "execution_count": null,
   "id": "dd50c926",
   "metadata": {},
   "outputs": [],
   "source": [
    "# Visual Python: Data Analysis > Groupby\n",
    "df_tips.groupby('day').mean(numeric_only=True)"
   ]
  },
  {
   "cell_type": "markdown",
   "id": "41c79db6",
   "metadata": {},
   "source": [
    "## 1.2. Group by `day`, `smoker`, Agg. function: `mean()`"
   ]
  },
  {
   "cell_type": "code",
   "execution_count": null,
   "id": "b59d3535",
   "metadata": {},
   "outputs": [],
   "source": [
    "# Visual Python: Data Analysis > Groupby\n",
    "df_tips.groupby(['day','smoker']).mean(numeric_only=True)"
   ]
  },
  {
   "cell_type": "markdown",
   "id": "72d2411b",
   "metadata": {},
   "source": [
    "## 1.3. Group by `day`, Agg. column: `total_bill`, Agg. function: `mean()`"
   ]
  },
  {
   "cell_type": "code",
   "execution_count": null,
   "id": "b41f66e7",
   "metadata": {},
   "outputs": [],
   "source": [
    "# Visual Python: Data Analysis > Groupby\n",
    "df_tips.groupby('day')['total_bill'].mean(numeric_only=True)"
   ]
  },
  {
   "cell_type": "markdown",
   "id": "c6cbfaff",
   "metadata": {},
   "source": [
    "## 1.4. Group by `day`, Agg. columns: `total_bill`, `tip`, Agg. function: `mean()`"
   ]
  },
  {
   "cell_type": "code",
   "execution_count": null,
   "id": "4562bbbf",
   "metadata": {},
   "outputs": [],
   "source": [
    "# Visual Python: Data Analysis > Groupby\n",
    "df_tips.groupby('day')[['total_bill','tip']].mean(numeric_only=True)"
   ]
  },
  {
   "cell_type": "markdown",
   "id": "b8258576",
   "metadata": {},
   "source": [
    "# 2. Multiple aggregate functions"
   ]
  },
  {
   "cell_type": "markdown",
   "id": "792d9fd6",
   "metadata": {},
   "source": [
    "## 2.1. Group by `day`, Agg. columns: `total_bill`, `tip`, Agg. functions: `std()`, `mean()`"
   ]
  },
  {
   "cell_type": "code",
   "execution_count": null,
   "id": "fe441ba7",
   "metadata": {},
   "outputs": [],
   "source": [
    "# Visual Python: Data Analysis > Groupby\n",
    "df_tips.groupby('day')[['total_bill','tip']].agg(['std', 'mean'])"
   ]
  },
  {
   "cell_type": "markdown",
   "id": "91524d69",
   "metadata": {},
   "source": [
    "## 2.2. Group by `day`, Agg. columns: `total_bill`, `tip`, Agg. functions: `std()`, `mean()`, Rename: `STD`, `AVG`"
   ]
  },
  {
   "cell_type": "code",
   "execution_count": null,
   "id": "4e79ce2c",
   "metadata": {},
   "outputs": [],
   "source": [
    "# Visual Python: Data Analysis > Groupby\n",
    "df_tips.groupby('day')[['total_bill','tip']].agg([('STD', 'std'), ('AVG', 'mean')])"
   ]
  },
  {
   "cell_type": "markdown",
   "id": "02ba6956",
   "metadata": {},
   "source": [
    "# 3. Multiple aggregate functions for each column"
   ]
  },
  {
   "cell_type": "markdown",
   "id": "a1b71a5a",
   "metadata": {},
   "source": [
    "## 3.1. Group by `day`, Agg. columns: `total_bill`, `tip`, Agg. functions: `total_bill - sum()`, `tip - mean()`"
   ]
  },
  {
   "cell_type": "code",
   "execution_count": null,
   "id": "19c40d44",
   "metadata": {},
   "outputs": [],
   "source": [
    "# Visual Python: Data Analysis > Groupby\n",
    "df_tips.groupby('day')[['total_bill','tip']].agg({'total_bill': 'sum', 'tip': 'mean'})"
   ]
  },
  {
   "cell_type": "markdown",
   "id": "61250868",
   "metadata": {},
   "source": [
    "## 3.2. Group by `day`, Agg. columns: `total_bill`, `tip`, Agg. functions: `total_bill - sum()`, `tip - std(), max(), mean(), median()`"
   ]
  },
  {
   "cell_type": "code",
   "execution_count": null,
   "id": "5eaa8c28",
   "metadata": {},
   "outputs": [],
   "source": [
    "# Visual Python: Data Analysis > Groupby\n",
    "df_tips.groupby('day')[['total_bill','tip']].agg({'total_bill': 'sum', 'tip': ['std','max','mean','median']})"
   ]
  },
  {
   "cell_type": "markdown",
   "id": "f394befa",
   "metadata": {},
   "source": [
    "## 3.3. Group by `day`, Agg. columns: `total_bill`, `tip`, Agg. functions: `total_bill - sum()`, `tip - std(), mean()`, Rename: `SUM`, `STD`, `AVG`"
   ]
  },
  {
   "cell_type": "code",
   "execution_count": null,
   "id": "1fc0502b",
   "metadata": {},
   "outputs": [],
   "source": [
    "# Visual Python: Data Analysis > Groupby\n",
    "df_tips.groupby('day')[['total_bill','tip']].agg({'total_bill': [('SUM', 'sum')], 'tip': [('STD', 'std'),('AVG', 'mean')]})"
   ]
  },
  {
   "cell_type": "markdown",
   "id": "98b8f0b7",
   "metadata": {},
   "source": [
    "# 4. reset_index\n",
    "```Check reset_index```"
   ]
  },
  {
   "cell_type": "code",
   "execution_count": null,
   "id": "51de83d5",
   "metadata": {},
   "outputs": [],
   "source": [
    "# Visual Python: Data Analysis > Groupby\n",
    "df_tips.groupby(['day','smoker'], as_index=False).mean(numeric_only=True)"
   ]
  },
  {
   "cell_type": "code",
   "execution_count": null,
   "id": "ba9e0fc4",
   "metadata": {},
   "outputs": [],
   "source": [
    "# Visual Python: Data Analysis > Groupby\n",
    "df_tips.groupby('day', as_index=False)['tip'].mean(numeric_only=True)"
   ]
  },
  {
   "cell_type": "markdown",
   "id": "29aed3e2",
   "metadata": {},
   "source": [
    "# 5. Result: Series to DataFrame\n",
    "```Check To DataFrame```"
   ]
  },
  {
   "cell_type": "code",
   "execution_count": null,
   "id": "bb6365b8",
   "metadata": {},
   "outputs": [],
   "source": [
    "# Visual Python: Data Analysis > Groupby\n",
    "df_tips.groupby('day')[['tip']].mean(numeric_only=True)"
   ]
  },
  {
   "cell_type": "markdown",
   "id": "830f0fd3",
   "metadata": {
    "id": "_r1Dct9hCDHy"
   },
   "source": [
    "# 6. Grouper"
   ]
  },
  {
   "cell_type": "markdown",
   "id": "533849c5",
   "metadata": {
    "id": "fLJ1ylZPIjDH"
   },
   "source": [
    "### 6.1. As type(object --> datetime)"
   ]
  },
  {
   "cell_type": "code",
   "execution_count": null,
   "id": "34a7b994",
   "metadata": {},
   "outputs": [],
   "source": [
    "# Visual Python: Data Analysis > Frame\n",
    "df_w = df_w.astype({'create_dt_utc': 'datetime64[ns]'})\n",
    "df_w"
   ]
  },
  {
   "cell_type": "markdown",
   "id": "af3f163e",
   "metadata": {},
   "source": [
    "### 6.2. Group by `Grouper(create_dt_utc)`,  Agg. function: `size`"
   ]
  },
  {
   "cell_type": "code",
   "execution_count": null,
   "id": "3d0d2781",
   "metadata": {},
   "outputs": [],
   "source": [
    "# Visual Python: Data Analysis > Groupby\n",
    "df_count = df_w.groupby(pd.Grouper(key='create_dt_utc', freq='4H')).size()\n",
    "df_count"
   ]
  },
  {
   "cell_type": "markdown",
   "id": "38b88a20",
   "metadata": {},
   "source": [
    "### 6.3. Bar chart"
   ]
  },
  {
   "cell_type": "code",
   "execution_count": null,
   "id": "a4ddbfaa",
   "metadata": {},
   "outputs": [],
   "source": [
    "# Visual Python: Visualization > Chart Style\n",
    "import matplotlib.pyplot as plt\n",
    "%matplotlib inline\n",
    "import seaborn as sns\n",
    "plt.rc('figure', figsize=(8, 6))\n",
    "\n",
    "from matplotlib import rcParams\n",
    "rcParams['font.size'] = 10\n",
    "rcParams['axes.unicode_minus'] = False"
   ]
  },
  {
   "cell_type": "code",
   "execution_count": null,
   "id": "a44fea5f",
   "metadata": {},
   "outputs": [],
   "source": [
    "# Visual Python: Library > Pandas Plot\n",
    "df_count.plot(kind='barh')\n",
    "plt.show()"
   ]
  },
  {
   "cell_type": "code",
   "execution_count": null,
   "id": "47a63fd5",
   "metadata": {},
   "outputs": [],
   "source": []
  },
  {
   "cell_type": "markdown",
   "id": "504ca5d9",
   "metadata": {},
   "source": [
    "---"
   ]
  },
  {
   "cell_type": "markdown",
   "id": "6f202113-3e08-471e-8f88-7f059cc04c0b",
   "metadata": {},
   "source": [
    "# [실습] 직접 해보기"
   ]
  },
  {
   "cell_type": "markdown",
   "id": "3dea5f1c-55bf-45de-86b9-86005e9d15e6",
   "metadata": {},
   "source": [
    "## 실습 1. tips 데이터로 복습하기"
   ]
  },
  {
   "cell_type": "code",
   "execution_count": null,
   "id": "34ba9cc1",
   "metadata": {},
   "outputs": [],
   "source": [
    "# Visual Python: Data Analysis > File\n",
    "tips = pd.read_csv('./data/tips.csv')\n",
    "tips"
   ]
  },
  {
   "cell_type": "markdown",
   "id": "0d4a5d0f-27ac-4fdc-b54c-57436412ee7e",
   "metadata": {},
   "source": [
    "#### Q. tips 데이터의 기준 컬럼을 'time'으로 'total_bill'과 'tip'의 sum을 각각 구하세요."
   ]
  },
  {
   "cell_type": "code",
   "execution_count": null,
   "id": "da5454fb-eae1-4790-a45b-8762cd15636b",
   "metadata": {},
   "outputs": [],
   "source": [
    "tips.groupby('time')[['total_bill','tip']].sum(numeric_only=True)"
   ]
  },
  {
   "cell_type": "markdown",
   "id": "ff237ba3-cdc5-4014-9263-15024829cda3",
   "metadata": {},
   "source": [
    "#### Q. tips 데이터의 기준 컬럼을 'time'으로 'total_bill'과 'tip'의 sum, mean을 각각 구하고 컬럼 이름을 '합계', '평균'으로 설정하세요."
   ]
  },
  {
   "cell_type": "code",
   "execution_count": null,
   "id": "25e17d9f-ae40-4c3f-9bb5-91026a5947f0",
   "metadata": {},
   "outputs": [],
   "source": [
    "tips.groupby('time')[['total_bill','tip']].agg([('합계', 'sum'), ('평균', 'mean')])"
   ]
  },
  {
   "cell_type": "markdown",
   "id": "5c2c2bf1-5fb0-4847-8696-ce6200de1a44",
   "metadata": {},
   "source": [
    "#### Q. tips 데이터의 기준 컬럼을 'time'으로 'total_bill의 sum'과 'tip'의 sum, mean을 각각 구하고 컬럼 이름을 '합계', '평균'으로 설정하세요."
   ]
  },
  {
   "cell_type": "code",
   "execution_count": null,
   "id": "1f980112-1526-4535-b98e-218f191098e2",
   "metadata": {},
   "outputs": [],
   "source": [
    "tips.groupby('time')[['total_bill','tip']].agg({'total_bill': [('합계', 'sum')], 'tip': [('합계', 'sum'),('평균', 'mean')]})"
   ]
  },
  {
   "cell_type": "markdown",
   "id": "b233c138-f604-4118-aa7a-e908db41af07",
   "metadata": {},
   "source": [
    "#### Q. df 데이터의 기준 컬럼을 'create_dt_utc'의 하루(1day) 단위로 설정하고 각 행의 수(size)를 출력하세요."
   ]
  },
  {
   "cell_type": "code",
   "execution_count": null,
   "id": "76b511c6-fddb-4ce9-9a72-bb4bfc6cff73",
   "metadata": {},
   "outputs": [],
   "source": [
    "df_w.groupby(pd.Grouper(key='create_dt_utc', freq='1D')).size()"
   ]
  },
  {
   "cell_type": "markdown",
   "id": "82e1d87b-9e71-406c-b6cf-b6b29e77483b",
   "metadata": {},
   "source": [
    "## 실습 2. titanic 데이터로 집계하기"
   ]
  },
  {
   "cell_type": "code",
   "execution_count": null,
   "id": "ca6d59f4-a8d6-4208-afc5-da0e8bfa2724",
   "metadata": {},
   "outputs": [],
   "source": [
    "# Visual Python: Data Analysis > File\n",
    "df_titanic = pd.read_csv('./data/titanic.csv')\n",
    "df_titanic"
   ]
  },
  {
   "cell_type": "markdown",
   "id": "0efdf76a-8284-47b4-923f-0ed03a9c2d62",
   "metadata": {},
   "source": [
    "#### Q. 기준 컬럼을 `Pclass`로 `Age`와 `Fare`컬럼의 평균값을 구하세요."
   ]
  },
  {
   "cell_type": "code",
   "execution_count": null,
   "id": "adf07fb0-19e8-4d71-97f8-9ec5bdb78e87",
   "metadata": {},
   "outputs": [],
   "source": [
    "# Visual Python: Data Analysis > Groupby\n",
    "df_titanic.groupby('Pclass')[['Age','Fare']].mean(numeric_only=True)"
   ]
  },
  {
   "cell_type": "markdown",
   "id": "c98089c0-980b-4157-a54a-c864f2b2a4a6",
   "metadata": {},
   "source": [
    "#### Q. 기준 컬럼을 `Survived`로 `Age`와 `Pclass`, `Fare` 컬럼의 평균과 중앙값을 구하세요."
   ]
  },
  {
   "cell_type": "code",
   "execution_count": null,
   "id": "ac39add4-ea5b-4046-ae1a-20185e4e0e87",
   "metadata": {},
   "outputs": [],
   "source": [
    "# Visual Python: Data Analysis > Groupby\n",
    "df_titanic.groupby('Survived')[['Pclass','Age','Fare']].agg(['mean', 'median'])"
   ]
  },
  {
   "cell_type": "markdown",
   "id": "49efbc32-f73e-47b7-9d92-0a296498f9d1",
   "metadata": {},
   "source": [
    "#### Q. 기준 컬럼을 `Survived`와 `Pclass`로, `Age` 컬럼의 min, max, mean을 구하고 `Fare` 컬럼의 mean, sum, quantile을 구하세요."
   ]
  },
  {
   "cell_type": "code",
   "execution_count": null,
   "id": "06cb881e-d4b9-4dd5-bce8-9e2da82ee737",
   "metadata": {},
   "outputs": [],
   "source": [
    "# Visual Python: Data Analysis > Groupby\n",
    "df_titanic.groupby(['Survived','Pclass']).agg({'Age': ['max','mean','min'], 'Fare': ['sum','mean','quantile']})"
   ]
  },
  {
   "cell_type": "markdown",
   "id": "e432b287-1e3f-42a6-90ec-e1ad6f298fe4",
   "metadata": {},
   "source": [
    "#### Q. 기준 컬럼을 `Survived`와 `Pclass`로, `Age` 컬럼의 min, max, mean을 구하고, 각각 최소나이, 최대나이, 평균나이로 컬럼명을 지정해 출력하세요."
   ]
  },
  {
   "cell_type": "code",
   "execution_count": null,
   "id": "d745b865-bf2e-4a01-86e5-873834ed5152",
   "metadata": {},
   "outputs": [],
   "source": [
    "# Visual Python: Data Analysis > Groupby\n",
    "df_titanic.groupby(['Survived','Pclass']).agg({'Age': [('최대나이', 'max'),('평균나이', 'mean'),('최소나이', 'min')]})"
   ]
  },
  {
   "cell_type": "markdown",
   "id": "dee3dabc-3f6b-4cf1-8972-62aa9f4385a8",
   "metadata": {
    "id": "V8k8kti1872I"
   },
   "source": [
    "---"
   ]
  },
  {
   "cell_type": "code",
   "execution_count": null,
   "id": "89299491",
   "metadata": {},
   "outputs": [],
   "source": [
    "# End of file"
   ]
  },
  {
   "cell_type": "code",
   "execution_count": null,
   "id": "4aaa567a",
   "metadata": {},
   "outputs": [],
   "source": []
  }
 ],
 "metadata": {
  "kernelspec": {
   "display_name": "Python 3 (ipykernel)",
   "language": "python",
   "name": "python3"
  },
  "language_info": {
   "codemirror_mode": {
    "name": "ipython",
    "version": 3
   },
   "file_extension": ".py",
   "mimetype": "text/x-python",
   "name": "python",
   "nbconvert_exporter": "python",
   "pygments_lexer": "ipython3",
   "version": "3.11.4"
  },
  "vp": {
   "vp_config_version": "1.0.0",
   "vp_menu_width": 273,
   "vp_note_display": false,
   "vp_note_width": 0,
   "vp_position": {
    "width": 278
   },
   "vp_section_display": false,
   "vp_signature": "VisualPython"
  }
 },
 "nbformat": 4,
 "nbformat_minor": 5
}
