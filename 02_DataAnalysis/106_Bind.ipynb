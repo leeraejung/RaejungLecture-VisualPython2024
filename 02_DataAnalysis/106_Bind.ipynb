{
 "cells": [
  {
   "cell_type": "markdown",
   "metadata": {
    "id": "xaOoxIfuDBmP"
   },
   "source": [
    "# Bind - Merge, Concat\n",
    "- Visual Python: Data Analysis > Bind"
   ]
  },
  {
   "cell_type": "markdown",
   "metadata": {
    "id": "xaOoxIfuDBmP"
   },
   "source": [
    "## Merge\n",
    "1. 컬럼을 기준으로 2개의 데이터를 병합\n",
    "2. 인덱스를 기준으로 2개의 데이터를 병합\n",
    "3. 데이터 병합 방식\n",
    "<img src=\"./data/merge.png\" width=\"500\"/>"
   ]
  },
  {
   "cell_type": "markdown",
   "metadata": {
    "id": "JRGl69-tCme2"
   },
   "source": [
    "## Concat\n",
    "1. 2개 이상의 데이터를 병합\n",
    "2. 축 따라 이어 붙이기(가로축 병합, 세로축 병합)\n",
    "3. 데이터 병합 방식: 'inner', 'outer'"
   ]
  },
  {
   "cell_type": "markdown",
   "metadata": {},
   "source": [
    "---"
   ]
  },
  {
   "cell_type": "markdown",
   "metadata": {},
   "source": [
    "## Import Packages\n",
    "- Visual Python: Data Analysis > Import"
   ]
  },
  {
   "cell_type": "code",
   "execution_count": null,
   "metadata": {},
   "outputs": [],
   "source": [
    "import numpy as np\n",
    "import pandas as pd\n",
    "import matplotlib.pyplot as plt\n",
    "%matplotlib inline\n",
    "import seaborn as sns"
   ]
  },
  {
   "cell_type": "markdown",
   "metadata": {
    "id": "_r1Dct9hCDHy"
   },
   "source": [
    "# 1. Merge"
   ]
  },
  {
   "cell_type": "markdown",
   "metadata": {
    "id": "m2qzy8nrCmek"
   },
   "source": [
    "## 1.1. 컬럼을 기준으로 데이터 병합"
   ]
  },
  {
   "cell_type": "code",
   "execution_count": null,
   "metadata": {
    "id": "D_kDdhlvCmel"
   },
   "outputs": [],
   "source": [
    "left  = pd.DataFrame({'key1': ['foo', 'foo', 'bar'],\n",
    "                      'key2': ['one', 'two', 'one'],\n",
    "                      'lval': [1, 2, 3]})\n",
    "\n",
    "right = pd.DataFrame({'key1': ['foo', 'foo', 'bar', 'bar'],\n",
    "                      'key2': ['one', 'one', 'one', 'two'],\n",
    "                      'rval': [4, 5, 6, 7]})"
   ]
  },
  {
   "cell_type": "markdown",
   "metadata": {
    "id": "BaK4Bl2VQo15"
   },
   "source": [
    "### 1.1.1 'key1'을 기준으로 left 데이터와 right 데이터를 병합"
   ]
  },
  {
   "cell_type": "code",
   "execution_count": null,
   "metadata": {
    "colab": {
     "base_uri": "https://localhost:8080/",
     "height": 238
    },
    "id": "Wxwd--_GCmeo",
    "outputId": "36fc1dcf-9f38-485c-9ddb-6ae059c4fc98"
   },
   "outputs": [],
   "source": [
    "# 중복되는 컬럼 이름 자동 변경\n",
    "pd.merge(left, right, on='key1')"
   ]
  },
  {
   "cell_type": "code",
   "execution_count": null,
   "metadata": {
    "colab": {
     "base_uri": "https://localhost:8080/",
     "height": 238
    },
    "id": "w0mayOb1Cmep",
    "outputId": "d04ed098-6b7f-478f-e44d-4b28e106bf48"
   },
   "outputs": [],
   "source": [
    "# 중복되는 컬럼 이름 뒤에 붙일 문자열 지정\n",
    "pd.merge(left, right, on='key1', suffixes=('_left', '_right'))"
   ]
  },
  {
   "cell_type": "markdown",
   "metadata": {
    "id": "a24wZAUlObfb"
   },
   "source": [
    "### 1.1.2' key1' 과 'key2'를 기준으로 left 데이터와 right 데이터를 병합"
   ]
  },
  {
   "cell_type": "code",
   "execution_count": null,
   "metadata": {},
   "outputs": [],
   "source": [
    "pd.merge(left, right, on=['key1', 'key2'], how='outer')"
   ]
  },
  {
   "cell_type": "markdown",
   "metadata": {
    "id": "m2qzy8nrCmek"
   },
   "source": [
    "## 1.2 인덱스를 기준으로 데이터 병합"
   ]
  },
  {
   "cell_type": "markdown",
   "metadata": {
    "id": "m2qzy8nrCmek"
   },
   "source": [
    "### 1.2.1 left1의 기준: 'key', right1의 기준: 인덱스"
   ]
  },
  {
   "cell_type": "code",
   "execution_count": null,
   "metadata": {
    "id": "1VaiG8keCmet"
   },
   "outputs": [],
   "source": [
    "left1  = pd.DataFrame({'key': ['a', 'b', 'a', 'a', 'b', 'c'], 'value': range(6)})\n",
    "right1 = pd.DataFrame({'group_val': [3.5, 7]}, index=['a', 'b'])"
   ]
  },
  {
   "cell_type": "code",
   "execution_count": null,
   "metadata": {
    "id": "F6_0X9X4Cmev",
    "outputId": "42264e4d-e7a3-4d95-8cc4-7e4356ec3905"
   },
   "outputs": [],
   "source": [
    "pd.merge(left1, right1, left_on='key', right_index=True)"
   ]
  },
  {
   "cell_type": "markdown",
   "metadata": {
    "id": "m2qzy8nrCmek"
   },
   "source": [
    "### 1.2.2 멀티 인덱스 -  left1의 기준: 'key', 'key2',  right1의 기준: 멀티 인덱스"
   ]
  },
  {
   "cell_type": "code",
   "execution_count": null,
   "metadata": {
    "id": "SeARuHOACmew"
   },
   "outputs": [],
   "source": [
    "lefth  = pd.DataFrame({'key1': ['Ohio', 'Ohio', 'Ohio', 'Nevada', 'Nevada'],\n",
    "                       'key2': [2000, 2001, 2002, 2001, 2002],\n",
    "                       'data': np.arange(5.)})\n",
    "\n",
    "righth = pd.DataFrame(np.arange(12).reshape((6, 2)),\n",
    "                      index=[['Nevada', 'Nevada', 'Ohio', 'Ohio', 'Ohio', 'Ohio'],\n",
    "                             [2001, 2000, 2000, 2000, 2001, 2002]],\n",
    "                      columns=['event1', 'event2'])"
   ]
  },
  {
   "cell_type": "code",
   "execution_count": null,
   "metadata": {
    "id": "Ke4Pl4pFCmey",
    "outputId": "1a0c61c3-70a4-4195-c586-acfe2118b34c"
   },
   "outputs": [],
   "source": [
    "pd.merge(lefth, righth, left_on=['key1', 'key2'], right_index=True)"
   ]
  },
  {
   "cell_type": "markdown",
   "metadata": {
    "id": "_r1Dct9hCDHy"
   },
   "source": [
    "# 2 Concat"
   ]
  },
  {
   "cell_type": "markdown",
   "metadata": {
    "id": "m2qzy8nrCmek"
   },
   "source": [
    "## 2.1 가로 방향 데이터 병합"
   ]
  },
  {
   "cell_type": "code",
   "execution_count": null,
   "metadata": {
    "id": "CkflCXYACme5"
   },
   "outputs": [],
   "source": [
    "df1 = pd.DataFrame(np.arange(6).reshape(3, 2), index=['a', 'b', 'c'], columns=['one', 'two'])\n",
    "df2 = pd.DataFrame(5 + np.arange(4).reshape(2, 2), index=['a', 'c'], columns=['three', 'four'])"
   ]
  },
  {
   "cell_type": "markdown",
   "metadata": {
    "id": "m2qzy8nrCmek"
   },
   "source": [
    "### 2.1.1 outer join - 합집합"
   ]
  },
  {
   "cell_type": "code",
   "execution_count": null,
   "metadata": {},
   "outputs": [],
   "source": [
    "pd.concat([df1, df2], axis=1, join='outer')"
   ]
  },
  {
   "cell_type": "markdown",
   "metadata": {
    "id": "m2qzy8nrCmek"
   },
   "source": [
    "### 2.1.2 inner join - 교집합"
   ]
  },
  {
   "cell_type": "code",
   "execution_count": null,
   "metadata": {},
   "outputs": [],
   "source": [
    "pd.concat([df1, df2], axis=1, join='inner')"
   ]
  },
  {
   "cell_type": "markdown",
   "metadata": {
    "id": "m2qzy8nrCmek"
   },
   "source": [
    "## 2.2 세로 방향 데이터 병합"
   ]
  },
  {
   "cell_type": "code",
   "execution_count": null,
   "metadata": {
    "id": "CkflCXYACme5"
   },
   "outputs": [],
   "source": [
    "df3 = pd.DataFrame(np.arange(6).reshape(2, 3), index=['a', 'b'], columns=['one', 'two', 'three'])\n",
    "df4 = pd.DataFrame(5 + np.arange(4).reshape(2, 2), index=['c', 'd'], columns=['one', 'three'])"
   ]
  },
  {
   "cell_type": "markdown",
   "metadata": {
    "id": "m2qzy8nrCmek"
   },
   "source": [
    "### 2.2.1 outer join - 합집합"
   ]
  },
  {
   "cell_type": "code",
   "execution_count": null,
   "metadata": {},
   "outputs": [],
   "source": [
    "pd.concat([df3, df4], axis=0)"
   ]
  },
  {
   "cell_type": "markdown",
   "metadata": {
    "id": "m2qzy8nrCmek"
   },
   "source": [
    "### 2.2.2 inner join - 교집합"
   ]
  },
  {
   "cell_type": "code",
   "execution_count": null,
   "metadata": {},
   "outputs": [],
   "source": [
    "pd.concat([df3, df4], axis=0, join='inner')"
   ]
  },
  {
   "cell_type": "markdown",
   "metadata": {
    "id": "m2qzy8nrCmek"
   },
   "source": [
    "## 2.3 인덱스 재설정"
   ]
  },
  {
   "cell_type": "code",
   "execution_count": null,
   "metadata": {
    "id": "BJnU9iJICme7"
   },
   "outputs": [],
   "source": [
    "df5 = pd.DataFrame(np.random.randn(3, 4), columns=['a', 'b', 'c', 'd'])\n",
    "df6 = pd.DataFrame(np.random.randn(2, 3), columns=['b', 'd', 'a'])"
   ]
  },
  {
   "cell_type": "markdown",
   "metadata": {
    "id": "1P2UdRwlCme7"
   },
   "source": [
    "### 2.3.1 인덱스 유지"
   ]
  },
  {
   "cell_type": "code",
   "execution_count": null,
   "metadata": {},
   "outputs": [],
   "source": [
    "pd.concat([df5, df6], ignore_index=False)"
   ]
  },
  {
   "cell_type": "markdown",
   "metadata": {
    "id": "1P2UdRwlCme7"
   },
   "source": [
    "### 2.3.2 인덱스 재설정"
   ]
  },
  {
   "cell_type": "code",
   "execution_count": null,
   "metadata": {},
   "outputs": [],
   "source": [
    "pd.concat([df5, df6], ignore_index=True)"
   ]
  },
  {
   "cell_type": "markdown",
   "metadata": {},
   "source": [
    "---"
   ]
  },
  {
   "cell_type": "markdown",
   "metadata": {},
   "source": [
    "# [실습] 직접 해보기"
   ]
  },
  {
   "cell_type": "markdown",
   "metadata": {},
   "source": [
    "## 실습 1. 복습하기"
   ]
  },
  {
   "cell_type": "markdown",
   "metadata": {},
   "source": [
    "#### Q. [Merge] left1의 컬럼 'key'와  right1의 인덱스를 기준으로 데이터를 병합하세요. (단 병합 방법은 합집합(outer)으로 하세요)"
   ]
  },
  {
   "cell_type": "code",
   "execution_count": null,
   "metadata": {},
   "outputs": [],
   "source": [
    "pd.merge(left1, right1, left_on='key', right_index=True, how='outer')"
   ]
  },
  {
   "cell_type": "markdown",
   "metadata": {},
   "source": [
    "#### Q. [Merge] lefth의 컬럼 'key1', 'key2'와  righth의 인덱스를 기준으로 데이터를 병합하세요. (단 병합 방법은 교집합(inner)으로 하세요)"
   ]
  },
  {
   "cell_type": "code",
   "execution_count": null,
   "metadata": {},
   "outputs": [],
   "source": [
    "pd.merge(lefth, righth, left_on=['key1', 'key2'], right_index=True, how='inner')"
   ]
  },
  {
   "cell_type": "markdown",
   "metadata": {},
   "source": [
    "#### Q. [Concat] df1 데이터와 df2데이터를 가로 방향으로 병합하세요. (단 병합 방법은 합집합(outer)으로 하세요)"
   ]
  },
  {
   "cell_type": "code",
   "execution_count": null,
   "metadata": {},
   "outputs": [],
   "source": [
    "pd.concat([df1, df2], axis=1, join='outer')"
   ]
  },
  {
   "cell_type": "markdown",
   "metadata": {},
   "source": [
    "#### Q. [Concat] df5 데이터와 df6데이터를 가로 방향으로 병합하세요. (단 인덱스를 재설정 하세요)"
   ]
  },
  {
   "cell_type": "code",
   "execution_count": null,
   "metadata": {},
   "outputs": [],
   "source": [
    "pd.concat([df5, df6], ignore_index=True)"
   ]
  },
  {
   "cell_type": "markdown",
   "metadata": {},
   "source": [
    "## 실습 2. 고객 데이터로 병합하기"
   ]
  },
  {
   "cell_type": "code",
   "execution_count": null,
   "metadata": {},
   "outputs": [],
   "source": [
    "# 고객 정보 데이터\n",
    "customer = pd.DataFrame({\n",
    "    'id': [1,2,3,4,5,6,7,8,9,10],\n",
    "    'name': ['김', '이', '박', '유', '송', '강', '백', '오', '홍', '윤'],\n",
    "    'age': [21, 34, 18, 61, 47, 55, 80, 25, 36, 41]\n",
    "})\n",
    "\n",
    "# 결제 정보 데이터\n",
    "purchase = pd.DataFrame({\n",
    "    'p_id': [111,112,113,114,115,116,117,118,119,120,121,122,123,124,125],\n",
    "    'p_name': ['공책', '화장품', '화장품', '연필', '물', '인형', '노트북', '펜', '공책', '티셔츠', '맨투맨', '만두', '장난감', '드레스', '화장품'],\n",
    "    'cost': [2500, 25000, 18200, 1500, 1900, 5000, 350000, 1000, 2500, 10000, 15000, 8000, 35000, 49000, 25000],\n",
    "    'c_id': [2, 1, 8, 3, 4, 3, 2, 7, 1, 1, 2, 10, 6, 2, 2]\n",
    "})\n",
    "\n",
    "purchase2 = pd.DataFrame({\n",
    "    'p_id': [126, 127, 128, 129, 130],\n",
    "    'p_name': ['잠옷', '지우개', '음료수', '태블릿', '연필'],\n",
    "    'cose': [19000, 500, 1500, 760000, 1500], # 잘못된 컬럼명일 경우 처리 방법\n",
    "    'c_id': [2, 1, 10, 11, 3]\n",
    "})"
   ]
  },
  {
   "cell_type": "markdown",
   "metadata": {},
   "source": [
    "#### Q. [merge] customer 데이터와 purchase 데이터를 `id`와 `c_id` 컬럼을 기준으로 병합하세요.\n",
    "- purchase를 left에, customer을 right에 놓고, 각각 기준 컬럼을 설정하세요.\n",
    "- left 합집합 방식으로 병합하세요."
   ]
  },
  {
   "cell_type": "code",
   "execution_count": null,
   "metadata": {},
   "outputs": [],
   "source": [
    "# Visual Python: Data Analysis > Bind\n",
    "pd.merge(purchase, customer, left_on=['c_id'], right_on=['id'], how='left')"
   ]
  },
  {
   "cell_type": "markdown",
   "metadata": {},
   "source": [
    "#### Q. [merge] customer 데이터와 purchase 데이터를 `id`와 `c_id` 컬럼을 기준으로 병합하세요.\n",
    "- customer을 left에, purchase를 right에 놓고, 각각 기준 컬럼을 설정하세요.\n",
    "- 합집합 방식을 선택하세요."
   ]
  },
  {
   "cell_type": "code",
   "execution_count": null,
   "metadata": {},
   "outputs": [],
   "source": [
    "# Visual Python: Data Analysis > Bind\n",
    "pd.merge(customer, purchase, left_on=['id'], right_on=['c_id'], how='outer')"
   ]
  },
  {
   "cell_type": "markdown",
   "metadata": {},
   "source": [
    "#### Q. [concat] 아래 순서에 따라 purchase와 purchase2 데이터를 세로 방향으로 병합하세요.\n",
    "- purchase와 purchase2 데이터를 concat을 통해 세로 방향으로 병합하세요.\n",
    "- purchase2 데이터의 `cose` 컬럼명을 `cost`로 변경하세요. (단, purchase3 데이터로 저장하세요.)\n",
    "- purchase와 purchase3 데이터를 concat을 통해 세로 방향으로 병합하세요. (단, purchase4 데이터로 저장하세요.)"
   ]
  },
  {
   "cell_type": "code",
   "execution_count": null,
   "metadata": {},
   "outputs": [],
   "source": [
    "# Visual Python: Data Analysis > Bind\n",
    "pd.concat([purchase,purchase2], join='outer', axis=0)"
   ]
  },
  {
   "cell_type": "code",
   "execution_count": null,
   "metadata": {},
   "outputs": [],
   "source": [
    "# Visual Python: Data Analysis > Frame\n",
    "purchase3 = purchase2.copy()\n",
    "purchase3.rename(columns={'cose': 'cost'}, inplace=True)\n",
    "purchase3"
   ]
  },
  {
   "cell_type": "code",
   "execution_count": null,
   "metadata": {},
   "outputs": [],
   "source": [
    "# Visual Python: Data Analysis > Bind\n",
    "purchase4 = pd.concat([purchase,purchase3], join='outer', axis=0)\n",
    "purchase4"
   ]
  },
  {
   "cell_type": "code",
   "execution_count": null,
   "metadata": {},
   "outputs": [],
   "source": []
  },
  {
   "cell_type": "markdown",
   "metadata": {
    "id": "V8k8kti1872I"
   },
   "source": [
    "---"
   ]
  },
  {
   "cell_type": "code",
   "execution_count": null,
   "metadata": {
    "id": "m_lkQ2_N872I"
   },
   "outputs": [],
   "source": [
    "# End of file"
   ]
  },
  {
   "cell_type": "code",
   "execution_count": null,
   "metadata": {},
   "outputs": [],
   "source": []
  }
 ],
 "metadata": {
  "colab": {
   "collapsed_sections": [],
   "name": "오전수업_Merge.ipynb",
   "provenance": []
  },
  "kernelspec": {
   "display_name": "Python 3 (ipykernel)",
   "language": "python",
   "name": "python3"
  },
  "language_info": {
   "codemirror_mode": {
    "name": "ipython",
    "version": 3
   },
   "file_extension": ".py",
   "mimetype": "text/x-python",
   "name": "python",
   "nbconvert_exporter": "python",
   "pygments_lexer": "ipython3",
   "version": "3.11.4"
  },
  "vp": {
   "vp_config_version": "1.0.0",
   "vp_menu_width": 273,
   "vp_note_display": false,
   "vp_note_width": 0,
   "vp_position": {
    "width": 278
   },
   "vp_section_display": false,
   "vp_signature": "VisualPython"
  }
 },
 "nbformat": 4,
 "nbformat_minor": 4
}
