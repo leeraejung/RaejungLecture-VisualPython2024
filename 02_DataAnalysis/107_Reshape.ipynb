{
 "cells": [
  {
   "cell_type": "markdown",
   "metadata": {
    "id": "xaOoxIfuDBmP"
   },
   "source": [
    "# Reshape - Pivot, Pivot_table, Melt\n",
    "- Visual Python: Data Analysis > Reshape"
   ]
  },
  {
   "cell_type": "markdown",
   "metadata": {
    "id": "xaOoxIfuDBmP"
   },
   "source": [
    "#### 1. Pivot: Long format data --> Wide format data\n",
    "#### 2. Melt: Wide format data --> Long format data\n",
    "<img src=\"./data/reshape.png\" width=\"500\"/>"
   ]
  },
  {
   "cell_type": "markdown",
   "metadata": {
    "id": "unCt5X7cGPus"
   },
   "source": [
    "---"
   ]
  },
  {
   "cell_type": "markdown",
   "metadata": {},
   "source": [
    "## Import Packages\n",
    "- Visual Python: Data Analysis > Import"
   ]
  },
  {
   "cell_type": "code",
   "execution_count": null,
   "metadata": {},
   "outputs": [],
   "source": [
    "import numpy as np\n",
    "import pandas as pd\n",
    "import matplotlib.pyplot as plt\n",
    "%matplotlib inline\n",
    "import seaborn as sns"
   ]
  },
  {
   "cell_type": "markdown",
   "metadata": {},
   "source": [
    "## 1 Pivot - Long to Wide format data"
   ]
  },
  {
   "cell_type": "markdown",
   "metadata": {},
   "source": [
    "### Read data\n",
    "- Visual Python: Data Analysis > File"
   ]
  },
  {
   "cell_type": "code",
   "execution_count": null,
   "metadata": {},
   "outputs": [],
   "source": [
    "df1 = pd.read_csv('data/pivot.csv')\n",
    "df1"
   ]
  },
  {
   "cell_type": "markdown",
   "metadata": {
    "id": "Tkz1Uc5POuro"
   },
   "source": [
    "### 1.1 Wide format data로 변경 - index='date', columns='item', values='value'"
   ]
  },
  {
   "cell_type": "code",
   "execution_count": null,
   "metadata": {
    "id": "tnjEG5Q8Vhvn",
    "outputId": "8149bce3-8e85-4fc1-ad00-0a817272e086"
   },
   "outputs": [],
   "source": [
    "# index, columns, values 는 모두 여러값을 리스트 형태로 지정 가능\n",
    "df1.pivot(index='date', columns='item', values='value')"
   ]
  },
  {
   "cell_type": "markdown",
   "metadata": {
    "id": "Tkz1Uc5POuro"
   },
   "source": [
    "### 1.2 Wide format data로 변경 - index='date', columns='item'"
   ]
  },
  {
   "cell_type": "code",
   "execution_count": null,
   "metadata": {
    "id": "Ydzw6jOoVhvo",
    "outputId": "ef5962fb-0599-4c89-b087-67c74d509576"
   },
   "outputs": [],
   "source": [
    "# values 생략하면 모든값에 적용\n",
    "df1.pivot(index='date', columns='item')"
   ]
  },
  {
   "cell_type": "code",
   "execution_count": null,
   "metadata": {},
   "outputs": [],
   "source": []
  },
  {
   "cell_type": "markdown",
   "metadata": {},
   "source": [
    "## 2 Melt - Wide to Long format data"
   ]
  },
  {
   "cell_type": "markdown",
   "metadata": {},
   "source": [
    "### Read data\n",
    "- Visual Python: Data Analysis > File"
   ]
  },
  {
   "cell_type": "code",
   "execution_count": null,
   "metadata": {},
   "outputs": [],
   "source": [
    "df2 = pd.read_csv('data/melt.csv')\n",
    "df2"
   ]
  },
  {
   "cell_type": "markdown",
   "metadata": {
    "id": "Tkz1Uc5POuro"
   },
   "source": [
    "### 2.1 Long format data로 변경 - id_vars='date'"
   ]
  },
  {
   "cell_type": "code",
   "execution_count": null,
   "metadata": {
    "id": "ja2d5w83Vhvs",
    "outputId": "a8a0ea80-388a-47f7-f7a2-a6ad88d6c855"
   },
   "outputs": [],
   "source": [
    "# value_vars 생략하면 모든 컬럼에 적용\n",
    "df2.melt(id_vars='date')"
   ]
  },
  {
   "cell_type": "markdown",
   "metadata": {
    "id": "Tkz1Uc5POuro"
   },
   "source": [
    "### 2.2 Long format data로 변경(id_vars='date'), 생성된 데이터의 컬럼 이름을 'item', 'value1'으로 설정"
   ]
  },
  {
   "cell_type": "code",
   "execution_count": null,
   "metadata": {
    "id": "ja2d5w83Vhvs",
    "outputId": "a8a0ea80-388a-47f7-f7a2-a6ad88d6c855"
   },
   "outputs": [],
   "source": [
    "# value_vars 생략하면 모든 컬럼에 적용\n",
    "df2.melt(id_vars='date', var_name='item', value_name='value1')"
   ]
  },
  {
   "cell_type": "markdown",
   "metadata": {
    "id": "Tkz1Uc5POuro"
   },
   "source": [
    "### 2.2 Long format data로 변경 - id_vars='date', value_vars='infl'"
   ]
  },
  {
   "cell_type": "code",
   "execution_count": null,
   "metadata": {
    "id": "d-hLRuczVhvr",
    "outputId": "c0de7e1c-da90-4272-f060-6d3207f78118"
   },
   "outputs": [],
   "source": [
    "# id_vars: 기준 컬럼, value_vars: 행으로 쌓을 컬럼\n",
    "df2.melt(id_vars='date', value_vars='infl')"
   ]
  },
  {
   "cell_type": "markdown",
   "metadata": {
    "id": "Tkz1Uc5POuro"
   },
   "source": [
    "### 2.3 Long format data로 변경 - id_vars='date', value_vars='realgdp', 'unemp'"
   ]
  },
  {
   "cell_type": "code",
   "execution_count": null,
   "metadata": {
    "id": "GciTKp5IVhvs",
    "outputId": "dc44ccd7-c904-45ef-ed97-cdcde94ca35b"
   },
   "outputs": [],
   "source": [
    "# id_vars, value_vars 는 모두 여러값을 리스트 형태로 지정 가능\n",
    "df2.melt(id_vars='date', value_vars=['realgdp','unemp'])"
   ]
  },
  {
   "cell_type": "code",
   "execution_count": null,
   "metadata": {},
   "outputs": [],
   "source": []
  },
  {
   "cell_type": "markdown",
   "metadata": {},
   "source": [
    "## 3 Pivot_table"
   ]
  },
  {
   "cell_type": "markdown",
   "metadata": {},
   "source": [
    "### Read data\n",
    "- Visual Python: Data Analysis > File"
   ]
  },
  {
   "cell_type": "code",
   "execution_count": null,
   "metadata": {},
   "outputs": [],
   "source": [
    "df3 = pd.read_csv('data/pivot_table.csv')\n",
    "df3"
   ]
  },
  {
   "cell_type": "markdown",
   "metadata": {
    "id": "Tkz1Uc5POuro"
   },
   "source": [
    "### 3.1 index='name', columns='subject', values='score', aggfunc='maen'"
   ]
  },
  {
   "cell_type": "code",
   "execution_count": null,
   "metadata": {},
   "outputs": [],
   "source": [
    "# Visual Python: Data Analysis > Reshape\n",
    "df3.pivot_table(index='name', columns='subject', values='score', aggfunc='mean')"
   ]
  },
  {
   "cell_type": "code",
   "execution_count": null,
   "metadata": {},
   "outputs": [],
   "source": []
  },
  {
   "cell_type": "markdown",
   "metadata": {},
   "source": [
    "## [실습] 직접 해보기"
   ]
  },
  {
   "cell_type": "markdown",
   "metadata": {},
   "source": [
    "## 실습 1. pivot, melt 데이터로 복습하기"
   ]
  },
  {
   "cell_type": "markdown",
   "metadata": {
    "id": "Tkz1Uc5POuro"
   },
   "source": [
    "#### 1 [Pivot] df1 데이터를 Wide format data로 변경하세요. (단  index='date', columns='item', values='value')"
   ]
  },
  {
   "cell_type": "code",
   "execution_count": null,
   "metadata": {
    "id": "tnjEG5Q8Vhvn",
    "outputId": "8149bce3-8e85-4fc1-ad00-0a817272e086"
   },
   "outputs": [],
   "source": [
    "df1.pivot(index='date', columns='item', values='value')"
   ]
  },
  {
   "cell_type": "markdown",
   "metadata": {
    "id": "Tkz1Uc5POuro"
   },
   "source": [
    "#### 2 [Melt] df2 데이터를 Long format data로 변경하고 컬럼 이름을 '아이템', '밸류'로 설정하세요. (단 기준 컬럼은 'date', 쌓을 컬럼은 'infl', 'realgdp')"
   ]
  },
  {
   "cell_type": "code",
   "execution_count": null,
   "metadata": {},
   "outputs": [],
   "source": [
    "df2.melt(id_vars='date', value_vars=['infl','realgdp'], var_name='아이템', value_name='밸류')"
   ]
  },
  {
   "cell_type": "markdown",
   "metadata": {},
   "source": [
    "## 실습 2. 새 데이터로 재구조화하기"
   ]
  },
  {
   "cell_type": "code",
   "execution_count": null,
   "metadata": {},
   "outputs": [],
   "source": [
    "score = pd.DataFrame({\n",
    "    'name': ['김말이', '덕복이', '순대희', '김새우', '이우동', '박호'],\n",
    "    'class': ['A', 'B', 'A', 'A', 'B', 'B'],\n",
    "    'korean': [90, 80, 95, 88, 60, 75],\n",
    "    'english': [80, 71, 88, 96, 100, 50],\n",
    "    'mathematics': [100, 98, 70, 81, 60, 89]\n",
    "})"
   ]
  },
  {
   "cell_type": "markdown",
   "metadata": {},
   "source": [
    "#### Q. [melt] score 데이터를 활용해 과목들을 컬럼이 아닌 데이터로 재구조화하세요.\n",
    "- `name`과 `class`는 그대로 표시하세요.\n",
    "- `korean`, `english` `mathematics`를 `subject` 컬럼으로, 그 값인 점수를 `score` 컬럼으로 설정하세요."
   ]
  },
  {
   "cell_type": "code",
   "execution_count": null,
   "metadata": {},
   "outputs": [],
   "source": [
    "# Visual Python: Data Analysis > Reshape\n",
    "score.melt(id_vars=['name','class'], value_vars=['korean','english','mathematics'], var_name='subject', value_name='score')"
   ]
  },
  {
   "cell_type": "code",
   "execution_count": null,
   "metadata": {},
   "outputs": [],
   "source": []
  },
  {
   "cell_type": "markdown",
   "metadata": {
    "id": "fpPMPWj7Vhvu"
   },
   "source": [
    "---"
   ]
  },
  {
   "cell_type": "code",
   "execution_count": null,
   "metadata": {
    "id": "tKGH-tkaVhvu"
   },
   "outputs": [],
   "source": [
    "# End of file"
   ]
  },
  {
   "cell_type": "code",
   "execution_count": null,
   "metadata": {
    "id": "sgMQIAWZVhvv"
   },
   "outputs": [],
   "source": []
  }
 ],
 "metadata": {
  "colab": {
   "collapsed_sections": [],
   "name": "전처리_Reshape.ipynb",
   "provenance": []
  },
  "kernelspec": {
   "display_name": "Python 3 (ipykernel)",
   "language": "python",
   "name": "python3"
  },
  "language_info": {
   "codemirror_mode": {
    "name": "ipython",
    "version": 3
   },
   "file_extension": ".py",
   "mimetype": "text/x-python",
   "name": "python",
   "nbconvert_exporter": "python",
   "pygments_lexer": "ipython3",
   "version": "3.11.4"
  },
  "vp": {
   "vp_config_version": "1.0.0",
   "vp_menu_width": 273,
   "vp_note_display": false,
   "vp_note_width": 0,
   "vp_position": {
    "width": 278
   },
   "vp_section_display": false,
   "vp_signature": "VisualPython"
  }
 },
 "nbformat": 4,
 "nbformat_minor": 4
}
