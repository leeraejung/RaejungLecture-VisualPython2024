{
 "cells": [
  {
   "cell_type": "markdown",
   "id": "d40f9ddd-0e68-4e7c-b154-4413a85d61ee",
   "metadata": {},
   "source": [
    "# Seaborn"
   ]
  },
  {
   "cell_type": "markdown",
   "id": "61ad2420-3749-4d81-9d1a-51e2a4a3c85c",
   "metadata": {},
   "source": [
    "- Visual Python: Visualization > Seaborn"
   ]
  },
  {
   "cell_type": "markdown",
   "id": "15b2123b-9ca5-4b15-b0c2-2feeab4180a2",
   "metadata": {},
   "source": [
    "# Load file"
   ]
  },
  {
   "cell_type": "code",
   "execution_count": null,
   "id": "d9127d39-0bcb-4e09-812f-9977f1ccdf02",
   "metadata": {},
   "outputs": [],
   "source": [
    "# Visual Python: Data Analysis > Import\n",
    "import numpy as np\n",
    "import pandas as pd\n",
    "import matplotlib.pyplot as plt\n",
    "%matplotlib inline\n",
    "import seaborn as sns"
   ]
  },
  {
   "cell_type": "code",
   "execution_count": null,
   "id": "e37ef4e7-e855-4463-92f2-b4868d7327cc",
   "metadata": {},
   "outputs": [],
   "source": [
    "# Visual Python: Data Analysis > File\n",
    "df_iris = pd.read_csv('./data/iris.csv')\n",
    "df_iris"
   ]
  },
  {
   "cell_type": "code",
   "execution_count": null,
   "id": "c58ae566-f8f4-4091-a73d-7419cdf2de9a",
   "metadata": {},
   "outputs": [],
   "source": [
    "# Visual Python: Data Analysis > File\n",
    "df_titanic = pd.read_csv('./data/titanic.csv')\n",
    "df_titanic"
   ]
  },
  {
   "cell_type": "code",
   "execution_count": null,
   "id": "51b7025b-9174-4aae-b3d0-5660b5929cac",
   "metadata": {},
   "outputs": [],
   "source": [
    "# Visual Python: Data Analysis > File\n",
    "df_economics = pd.read_csv('./data/economics.csv')\n",
    "df_economics"
   ]
  },
  {
   "cell_type": "markdown",
   "id": "1f4fdf82-9ddb-4d5e-9ae8-63ab6b44da34",
   "metadata": {},
   "source": [
    "# 한글 표현을 위한 글꼴 설정\n",
    "- Visual Python: Visualization > Chart Style"
   ]
  },
  {
   "cell_type": "code",
   "execution_count": null,
   "id": "3ce00030-96f2-4e67-b542-c42192371a3b",
   "metadata": {},
   "outputs": [],
   "source": [
    "# Visual Python: Visualization > Chart Style\n",
    "import matplotlib.pyplot as plt\n",
    "%matplotlib inline\n",
    "import seaborn as sns\n",
    "plt.rc('figure', figsize=(6, 4))\n",
    "\n",
    "from matplotlib import rcParams\n",
    "rcParams['font.family'] = 'New Gulim'\n",
    "rcParams['font.size'] = 10\n",
    "rcParams['axes.unicode_minus'] = False"
   ]
  },
  {
   "cell_type": "markdown",
   "id": "1bc7d83e-b76a-4bcb-a760-c7117c636f1c",
   "metadata": {},
   "source": [
    "# 1. Scatter plot - 산점도\n",
    "- 산점도에서 파악할 수 있는 것\n",
    "    - 데이터 밀도\n",
    "    - 두 변수 간 관계성\n",
    "    - 데이터 분포\n",
    "    - 이상치\n",
    "- 한계\n",
    "    - 대량의 데이터\n",
    "    - 선형 관계의 파악에 한정됨"
   ]
  },
  {
   "cell_type": "markdown",
   "id": "2451b446-4359-470c-b619-18ee72571f9b",
   "metadata": {},
   "source": [
    "#### `variety`를 기준으로 `sepal_length`의 분포 확인"
   ]
  },
  {
   "cell_type": "code",
   "execution_count": null,
   "id": "5318a499-3a94-4ad0-9518-1f226f1b32e3",
   "metadata": {},
   "outputs": [],
   "source": [
    "# Visual Python: Visualization > Seaborn\n",
    "sns.scatterplot(data=df_iris, x='sepal_length', y=df_iris.index, hue='variety')\n",
    "plt.show()"
   ]
  },
  {
   "cell_type": "markdown",
   "id": "49d40415-37b5-4d8e-9093-c66b65427fcf",
   "metadata": {},
   "source": [
    "#### `variety`를 기준으로 `sepal_length`와 `petal_length`의 상관관계 확인"
   ]
  },
  {
   "cell_type": "code",
   "execution_count": null,
   "id": "4e543d66-bc58-46b2-afa3-001313acea32",
   "metadata": {},
   "outputs": [],
   "source": [
    "# Visual Python: Visualization > Seaborn\n",
    "sns.scatterplot(data=df_iris, x='sepal_length', y='petal_length', hue='variety')\n",
    "plt.show()"
   ]
  },
  {
   "cell_type": "markdown",
   "id": "255ac065-d553-49b2-873b-0a50ffa75894",
   "metadata": {},
   "source": [
    "# 2. Line plot - 선 그래프\n",
    "- 시간이나 데이터의 변화에 따른 추세를 시각적으로 표현하는 데 유용함"
   ]
  },
  {
   "cell_type": "markdown",
   "id": "af942420-c267-4d2e-ba74-4f722324e34f",
   "metadata": {},
   "source": [
    "#### iris 데이터의 데이터별 추세 확인"
   ]
  },
  {
   "cell_type": "code",
   "execution_count": null,
   "id": "c88be2ae-b3bf-4941-9cb7-2d2e030e2c09",
   "metadata": {},
   "outputs": [],
   "source": [
    "# Visual Python: Visualization > Seaborn\n",
    "sns.lineplot(data=df_iris)\n",
    "plt.show()"
   ]
  },
  {
   "cell_type": "markdown",
   "id": "ed57c44d-42f5-46d2-aceb-f1af506a1666",
   "metadata": {},
   "source": [
    "#### economics 데이터의 시간 변화에 따른 값 변화 확인"
   ]
  },
  {
   "cell_type": "code",
   "execution_count": null,
   "id": "8f4d4b5f-e31f-492b-a50e-e4a8d4e31671",
   "metadata": {},
   "outputs": [],
   "source": [
    "# Visual Python: Data Analysis > Frame\n",
    "df_economics = df_economics.astype({'date': 'datetime64[ns]'})\n",
    "df_economics"
   ]
  },
  {
   "cell_type": "code",
   "execution_count": null,
   "id": "b0a23541-b097-4ccf-afc1-698775c9b54b",
   "metadata": {},
   "outputs": [],
   "source": [
    "# Visual Python: Visualization > Seaborn\n",
    "sns.lineplot(data=df_economics, x='date', y='pop')\n",
    "plt.xticks(rotation=45)\n",
    "plt.show()"
   ]
  },
  {
   "cell_type": "markdown",
   "id": "d6bcefb2-32c3-4305-9b68-0f78fad54405",
   "metadata": {},
   "source": [
    "# 3. Hist plot - 히스토그램\n",
    "- 데이터의 분포를 시각적으로 표현하는 간단한 시각화 방법"
   ]
  },
  {
   "cell_type": "markdown",
   "id": "22331cd7-b1eb-4111-bddc-0503df7cd442",
   "metadata": {},
   "source": [
    "#### 단순한 히스토그램으로 `petal_length`의 데이터 분포 확인"
   ]
  },
  {
   "cell_type": "code",
   "execution_count": null,
   "id": "99147671-b772-4a8a-b97d-560f8c902cf9",
   "metadata": {},
   "outputs": [],
   "source": [
    "# Visual Python: Visualization > Seaborn\n",
    "sns.histplot(data=df_iris, x='petal_length')\n",
    "plt.show()"
   ]
  },
  {
   "cell_type": "markdown",
   "id": "078be11f-ff01-4afb-bfd1-e0b67e3588fb",
   "metadata": {},
   "source": [
    "#### `hue`와 `bins`옵션을 활용해 세부적인 분포 확인\n",
    "- hue : 범주\n",
    "- bins : 나눌 구간의 수"
   ]
  },
  {
   "cell_type": "code",
   "execution_count": null,
   "id": "9e73211d-b8ae-43b2-90bc-7c2f6faf57ef",
   "metadata": {},
   "outputs": [],
   "source": [
    "# Visual Python: Visualization > Seaborn\n",
    "sns.histplot(data=df_iris, x='petal_length', hue='variety', bins=15)\n",
    "plt.show()"
   ]
  },
  {
   "cell_type": "markdown",
   "id": "dcd5a3e8-b5d7-437e-8a47-b835de3c8a6f",
   "metadata": {},
   "source": [
    "# 4. KDE plot\n",
    "- 커널 밀도 추정(Kernel Density Estimation, KDE)\n",
    "- 데이터의 분포를 연속적인 곡선으로 표현함\n",
    "- 단, 데이터의 양이 많아지면 부하가 커질 수 있음"
   ]
  },
  {
   "cell_type": "code",
   "execution_count": null,
   "id": "67b04647-9ae6-4fe8-94ec-a6d4a12a268c",
   "metadata": {},
   "outputs": [],
   "source": [
    "# Visual Python: Visualization > Seaborn\n",
    "sns.kdeplot(data=df_iris)\n",
    "plt.show()"
   ]
  },
  {
   "cell_type": "markdown",
   "id": "13f069ca-0595-4bc4-83b2-a8f71d1443ee",
   "metadata": {},
   "source": [
    "# 5. Rug plot\n",
    "- 데이터의 분포를 확인할 수 있음\n",
    "- 데이터의 각 포인트를 축 위에 작은 선분으로 표시함"
   ]
  },
  {
   "cell_type": "code",
   "execution_count": null,
   "id": "7ce7f9bf-435f-4748-89c4-898fcb4a340f",
   "metadata": {},
   "outputs": [],
   "source": [
    "# Visual Python: Visualization > Seaborn\n",
    "sns.rugplot(data=df_iris, x='sepal_length', y='petal_length', hue='variety')\n",
    "plt.show()"
   ]
  },
  {
   "cell_type": "markdown",
   "id": "3c093a9f-666f-4c9e-9cbc-0749bc4c98b3",
   "metadata": {},
   "source": [
    "# 6. Strip plot\n",
    "- 데이터 포인트를 점으로 나타내는 방식\n",
    "- 수직 방향으로 정확한 위치에 표시"
   ]
  },
  {
   "cell_type": "code",
   "execution_count": null,
   "id": "276a93ed-7f57-4b14-a0e2-39486f90d08f",
   "metadata": {},
   "outputs": [],
   "source": [
    "# Visual Python: Visualization > Seaborn\n",
    "sns.stripplot(data=df_iris)\n",
    "plt.show()"
   ]
  },
  {
   "cell_type": "markdown",
   "id": "b67c6520-6d1c-4480-b2cf-6f57d129400d",
   "metadata": {},
   "source": [
    "# 7. Swarm plot\n",
    "- 데이터 포인트를 점으로 나타내는 방식\n",
    "- 데이터 포인트를 가로로 나열하고, 겹치지 않도록 작은 조정을 가하여 데이터를 시각적으로 분리함\n",
    "- Stripplot보다 비교적 큰 데이터에도 활용할 수 있음"
   ]
  },
  {
   "cell_type": "code",
   "execution_count": null,
   "id": "397fb253-8057-4638-80ef-6155a1ae3077",
   "metadata": {},
   "outputs": [],
   "source": [
    "# Visual Python: Data Analysis > Pandas Option\n",
    "import warnings\n",
    "warnings.simplefilter(action='ignore', category=Warning)"
   ]
  },
  {
   "cell_type": "code",
   "execution_count": null,
   "id": "0f37b953-e0cd-4f35-ad71-759e13fddcd6",
   "metadata": {},
   "outputs": [],
   "source": [
    "# Visual Python: Visualization > Seaborn\n",
    "sns.swarmplot(data=df_iris)\n",
    "plt.show()"
   ]
  },
  {
   "cell_type": "markdown",
   "id": "7949924f-b8e4-463c-b161-fc269ac0c1e5",
   "metadata": {},
   "source": [
    "# 8. Box plot\n",
    "- 이상치를 감지하고 데이터의 중심 경향을 파악하는 데 활용함\n",
    "- 확인할 수 있는 요소:\n",
    "    - 중앙값\n",
    "    - 사분위수\n",
    "    - 분포의 범위\n",
    "    - 이상치 : 박스 플롯 위 아래의 포인트로 표시됨"
   ]
  },
  {
   "cell_type": "markdown",
   "id": "adb7869c-bc6b-48ba-9437-38aa92d16d3e",
   "metadata": {},
   "source": [
    "#### iris 데이터의 각 컬럼별 분포"
   ]
  },
  {
   "cell_type": "code",
   "execution_count": null,
   "id": "357e93b5-7601-42a6-8fe1-c4d5d2b4c50f",
   "metadata": {},
   "outputs": [],
   "source": [
    "# Visual Python: Visualization > Seaborn\n",
    "sns.boxplot(data=df_iris)\n",
    "plt.show()"
   ]
  },
  {
   "cell_type": "markdown",
   "id": "c02805d3-c284-4bcc-8d57-a2b555fcde28",
   "metadata": {},
   "source": [
    "# 9. Violin plot\n",
    "- 커널 밀도 추정(kernel density estimation)을 사용하여 데이터 분포의 모양과 밀도를 더 자세히 이해하고 비교하는 데에 사용함\n",
    "- 확인할 수 있는 요소:\n",
    "    - 중앙값\n",
    "    - 사분위수\n",
    "    - 분포의 범위\n",
    "    - 분포의 너비 : violinplot의 너비가 데이터의 밀도임\n",
    "    - 비대칭성 : 분포의 너비를 활용해 분포의 비대칭성을 확인할 수 있음"
   ]
  },
  {
   "cell_type": "markdown",
   "id": "579a43a7-1ff8-4edd-9a6c-d3aa36e85f9e",
   "metadata": {},
   "source": [
    "#### iris 데이터의 각 컬럼별 분포와 밀도"
   ]
  },
  {
   "cell_type": "code",
   "execution_count": null,
   "id": "7b71ede3-9224-4659-8bc3-d353cbb97da6",
   "metadata": {},
   "outputs": [],
   "source": [
    "# Visual Python: Visualization > Seaborn\n",
    "sns.violinplot(data=df_iris)\n",
    "plt.show()"
   ]
  },
  {
   "cell_type": "markdown",
   "id": "2c0dbfdd-1894-4870-81fc-c22563fbf3ea",
   "metadata": {},
   "source": [
    "# 10. Point plot\n",
    "- 하나 이상의 범주형 변수에 따라 연속형 데이터 간의 관계를 확인할 수 있음"
   ]
  },
  {
   "cell_type": "markdown",
   "id": "cf6bcbf4-b980-4f93-9424-5a596398f01b",
   "metadata": {},
   "source": [
    "#### iris 데이터의 `variety`와 `sepal_length` 데이터의 관계"
   ]
  },
  {
   "cell_type": "code",
   "execution_count": null,
   "id": "f0c9957e-bf76-4e39-9e01-c623e190dcd1",
   "metadata": {},
   "outputs": [],
   "source": [
    "# Visual Python: Visualization > Seaborn\n",
    "sns.pointplot(data=df_iris, x='variety', y='sepal_length')\n",
    "plt.show()"
   ]
  },
  {
   "cell_type": "code",
   "execution_count": null,
   "id": "c80045fe-d9f2-4e11-b06c-c5ec91e0d853",
   "metadata": {},
   "outputs": [],
   "source": [
    "# Visual Python: Visualization > Seaborn\n",
    "sns.pointplot(data=df_iris, x='sepal_width', y='petal_width', hue='variety')\n",
    "plt.show()"
   ]
  },
  {
   "cell_type": "markdown",
   "id": "edd1d5dd-d949-4a1c-9a92-cb8a17bad4c3",
   "metadata": {},
   "source": [
    "# 11. Bar plot\n",
    "- 주로 범주형 데이터를 시각적으로 표현할 때 사용함"
   ]
  },
  {
   "cell_type": "code",
   "execution_count": null,
   "id": "3a46b089-fa5f-462d-9a2e-a928a8d5db66",
   "metadata": {},
   "outputs": [],
   "source": [
    "# Visual Python: Visualization > Seaborn\n",
    "def vp_seaborn_show_values(axs, precision=1, space=0.01):\n",
    "    pstr = '{:.' + str(precision) + 'f}'\n",
    "    \n",
    "    def _single(ax):\n",
    "        # check orient\n",
    "        orient = 'v'\n",
    "        if len(ax.patches) == 1:\n",
    "            # check if 0\n",
    "            if ax.patches[0].get_x() == 0:\n",
    "                orient = 'h'\n",
    "        else:\n",
    "            # compare 0, 1 patches\n",
    "            p0 = ax.patches[0]\n",
    "            p1 = ax.patches[1]\n",
    "            if p0.get_x() == p1.get_x():\n",
    "                orient = 'h'\n",
    "                \n",
    "        if orient == 'v':\n",
    "            for p in ax.patches:\n",
    "                _x = p.get_x() + p.get_width() / 2\n",
    "                _y = p.get_y() + p.get_height() + (p.get_height()*space)\n",
    "                if not np.isnan(_x) and not np.isnan(_y):\n",
    "                    value = pstr.format(p.get_height())\n",
    "                    ax.text(_x, _y, value, ha='center') \n",
    "        elif orient == 'h':\n",
    "            for p in ax.patches:\n",
    "                _x = p.get_x() + p.get_width() + (space - 0.01)\n",
    "                _y = p.get_y() + p.get_height() / 2\n",
    "                if not np.isnan(_x) and not np.isnan(_y):\n",
    "                    value = pstr.format(p.get_width())\n",
    "                    ax.text(_x, _y, value, ha='left')\n",
    "\n",
    "    if isinstance(axs, np.ndarray):\n",
    "        for idx, ax in np.ndenumerate(axs):\n",
    "            _single(ax)\n",
    "    else:\n",
    "        _single(axs)"
   ]
  },
  {
   "cell_type": "markdown",
   "id": "c6043612-532b-420e-a581-b0b7d27202e0",
   "metadata": {},
   "source": [
    "#### titanic 데이터의 `Pclass` 기준으로 탑승비 비교 (`Sex` 범주로 구분)"
   ]
  },
  {
   "cell_type": "code",
   "execution_count": null,
   "id": "87cb9279-1eb2-4769-84f1-47cbb9cb68a2",
   "metadata": {},
   "outputs": [],
   "source": [
    "# Visual Python: Visualization > Seaborn\n",
    "ax = sns.barplot(data=df_titanic, x='Pclass', y='Fare', hue='Sex', errorbar=None)\n",
    "vp_seaborn_show_values(ax)\n",
    "plt.show()"
   ]
  },
  {
   "cell_type": "markdown",
   "id": "bfb8be05-0121-4567-884e-2987d15037b4",
   "metadata": {},
   "source": [
    "# 12. Count plot\n",
    "- 주로 범주형 데이터의 빈도를 시각화할 때 사용함"
   ]
  },
  {
   "cell_type": "markdown",
   "id": "8ee21740-610b-4084-b482-314bbd53fc64",
   "metadata": {},
   "source": [
    "#### titanic 데이터의 `Pclass`별 데이터 빈도 확인"
   ]
  },
  {
   "cell_type": "code",
   "execution_count": null,
   "id": "ae844add-0558-41d7-95b7-a68a92f24d2b",
   "metadata": {},
   "outputs": [],
   "source": [
    "# Visual Python: Visualization > Seaborn\n",
    "ax = sns.countplot(data=df_titanic, x='Pclass', order=df_titanic['Pclass'].value_counts(ascending=False).index)\n",
    "vp_seaborn_show_values(ax)\n",
    "plt.show()"
   ]
  },
  {
   "cell_type": "markdown",
   "id": "cf8b0e6d-5786-4104-9ede-c541a724c057",
   "metadata": {},
   "source": [
    "# 13. Heatmap - 히트맵\n",
    "- 데이터의 패턴, 상관 관계 및 분포를 시각적으로 표현함\n",
    "- 특히 히트맵은 데이터의 상관 관계를 시각적으로 분석할 때 사용하기 때문에, 상관계수와 함께 사용하는 경우가 많음"
   ]
  },
  {
   "cell_type": "code",
   "execution_count": null,
   "id": "97686ced-99a6-405d-b5e2-6ca39100bc15",
   "metadata": {},
   "outputs": [],
   "source": [
    "corr_iris = df_iris.corr(numeric_only=True)"
   ]
  },
  {
   "cell_type": "code",
   "execution_count": null,
   "id": "c654f5a4-a408-4ac3-a6ad-759c5bc660a5",
   "metadata": {},
   "outputs": [],
   "source": [
    "# Visual Python: Visualization > Seaborn\n",
    "sns.heatmap(data=corr_iris)\n",
    "plt.show()"
   ]
  },
  {
   "cell_type": "markdown",
   "id": "fa98117e-d2cc-41a3-a2ce-70aa462ab412",
   "metadata": {},
   "source": [
    "# 14. 기타 시각화 기능"
   ]
  },
  {
   "cell_type": "markdown",
   "id": "78852f09-ae20-4769-b649-0aaddc95c766",
   "metadata": {},
   "source": [
    "## 14.1. title, label, legend\n",
    "- title : 타이틀 추가\n",
    "- xlabel : x축 라벨 추가\n",
    "- ylabel : y축 라벨 추가\n",
    "- legend : 범주 박스의 위치 설정"
   ]
  },
  {
   "cell_type": "code",
   "execution_count": null,
   "id": "c20dc73a-5d2e-41b9-9f01-4b8fafed51b5",
   "metadata": {},
   "outputs": [],
   "source": [
    "# Visual Python: Visualization > Seaborn\n",
    "sns.scatterplot(data=df_iris, x='sepal_width', y='petal_width', hue='variety')\n",
    "plt.legend(loc='lower left')\n",
    "plt.title('iris의 산점도')\n",
    "plt.xlabel('꽃받침 너비')\n",
    "plt.ylabel('꽃잎 너비')\n",
    "plt.show()"
   ]
  },
  {
   "cell_type": "markdown",
   "id": "8e45386e-08ce-473b-998a-331d71c5d2b2",
   "metadata": {},
   "source": [
    "## 14.2. limit, ticks\n",
    "- xlim : x축의 시작, 종료값 제한\n",
    "- ylim : x축의 시작, 종료값 제한\n",
    "- xticks : x축의 포인트 라벨 제어\n",
    "- yticks : y축의 포인트 라벨 제어"
   ]
  },
  {
   "cell_type": "code",
   "execution_count": null,
   "id": "5f04dc12-8397-40d2-bb48-032c2b008e8b",
   "metadata": {},
   "outputs": [],
   "source": [
    "# Visual Python: Visualization > Seaborn\n",
    "sns.lineplot(data=df_iris)\n",
    "plt.xlim((20, 120))\n",
    "plt.ylim((0, 6))\n",
    "plt.xticks(rotation=45)\n",
    "plt.yticks(rotation=45)\n",
    "plt.show()"
   ]
  },
  {
   "cell_type": "markdown",
   "id": "9bd6f0dc-ad45-46df-9bd3-cde38b92e266",
   "metadata": {},
   "source": [
    "## 14.3. color, marker, grid\n",
    "- color : 선이나 점의 색상 변경\n",
    "- marker : 포인트의 모양 변경\n",
    "- grid : 그래프를 가로지르는 격자선 추가/제거 및 색상 제어"
   ]
  },
  {
   "cell_type": "code",
   "execution_count": null,
   "id": "cc99c93b-3937-4112-bb4c-c1af19dea4d7",
   "metadata": {},
   "outputs": [],
   "source": [
    "# Visual Python: Visualization > Seaborn\n",
    "sns.lineplot(data=df_iris, x='petal_length', y='sepal_length', color='#fe95f5', marker='D')\n",
    "plt.grid(True, color='#c9c9c9')\n",
    "plt.show()"
   ]
  },
  {
   "cell_type": "markdown",
   "id": "3cbb2263-4978-4903-a6f0-a218e00b7016",
   "metadata": {},
   "source": [
    "---"
   ]
  },
  {
   "cell_type": "markdown",
   "id": "842a220d-eb85-4d9d-b5d2-a4a57301cb0e",
   "metadata": {},
   "source": [
    "# [실습] 직접 해보기"
   ]
  },
  {
   "cell_type": "markdown",
   "id": "dfd927c9-b433-435f-97c1-523c6bc393ff",
   "metadata": {},
   "source": [
    "# 실습 1. economics 데이터로 시각화하기"
   ]
  },
  {
   "cell_type": "markdown",
   "id": "7df77ee7-c011-43a3-9153-66e9ac97fb34",
   "metadata": {},
   "source": [
    "#### Q. `date`를 x축으로 `pce`의 변화를 시각화하세요.\n",
    "- 단, `연도별 pce 변화`를 타이틀로 표시해 주세요."
   ]
  },
  {
   "cell_type": "code",
   "execution_count": null,
   "id": "46655065-d9c3-4a6d-83f0-f3767a50f7ca",
   "metadata": {},
   "outputs": [],
   "source": [
    "# Visual Python: Visualization > Seaborn\n",
    "sns.lineplot(data=df_economics, x='date', y='pce')\n",
    "plt.title('연도별 pce 변화')\n",
    "plt.show()"
   ]
  },
  {
   "cell_type": "markdown",
   "id": "8cddfd4d-90ab-43a5-ab9d-457c3112195f",
   "metadata": {},
   "source": [
    "#### Q. 산점도를 이용해 `pce` 컬럼과 `pop` 컬럼의 관계를 파악하세요."
   ]
  },
  {
   "cell_type": "code",
   "execution_count": null,
   "id": "f2510185-f23e-4d99-a984-426e961f9f9c",
   "metadata": {},
   "outputs": [],
   "source": [
    "# Visual Python: Visualization > Seaborn\n",
    "sns.lineplot(data=df_economics, x='pce', y='pop')\n",
    "plt.show()"
   ]
  },
  {
   "cell_type": "markdown",
   "id": "16e9232b-2201-4403-85a4-cba2ae37e99a",
   "metadata": {},
   "source": [
    "#### Q. `pop` 컬럼의 데이터 분포를 다양한 시각화 방식을 활용해 확인하세요.\n",
    "- histplot\n",
    "- kdeplot\n",
    "- rugplot"
   ]
  },
  {
   "cell_type": "code",
   "execution_count": null,
   "id": "52617137-f957-4b72-904b-428d007c5f31",
   "metadata": {},
   "outputs": [],
   "source": [
    "# Visual Python: Visualization > Seaborn\n",
    "sns.histplot(data=df_economics, x='pop')\n",
    "plt.show()"
   ]
  },
  {
   "cell_type": "code",
   "execution_count": null,
   "id": "e31d3fa7-902b-4d4c-be26-10d9117f052d",
   "metadata": {},
   "outputs": [],
   "source": [
    "# Visual Python: Visualization > Seaborn\n",
    "sns.kdeplot(data=df_economics, x='pop')\n",
    "plt.show()"
   ]
  },
  {
   "cell_type": "code",
   "execution_count": null,
   "id": "a803ea62-1627-40e3-87aa-b70859dbcfd1",
   "metadata": {},
   "outputs": [],
   "source": [
    "# Visual Python: Visualization > Seaborn\n",
    "sns.rugplot(data=df_economics, x='pop')\n",
    "plt.show()"
   ]
  },
  {
   "cell_type": "code",
   "execution_count": null,
   "id": "297e0be1-8b6c-4229-af25-7bfc5950134c",
   "metadata": {},
   "outputs": [],
   "source": []
  },
  {
   "cell_type": "markdown",
   "id": "0af24134-3ba3-455a-87e0-e3b33f6bfc29",
   "metadata": {},
   "source": [
    "---"
   ]
  },
  {
   "cell_type": "code",
   "execution_count": null,
   "id": "6a145c8a-c8af-4ede-97ac-3559044e5ace",
   "metadata": {},
   "outputs": [],
   "source": [
    "# End of file"
   ]
  },
  {
   "cell_type": "code",
   "execution_count": null,
   "id": "7fba0726-8797-41f0-bf81-a29477ea1d05",
   "metadata": {},
   "outputs": [],
   "source": []
  }
 ],
 "metadata": {
  "kernelspec": {
   "display_name": "Python 3 (ipykernel)",
   "language": "python",
   "name": "python3"
  },
  "language_info": {
   "codemirror_mode": {
    "name": "ipython",
    "version": 3
   },
   "file_extension": ".py",
   "mimetype": "text/x-python",
   "name": "python",
   "nbconvert_exporter": "python",
   "pygments_lexer": "ipython3",
   "version": "3.11.4"
  },
  "vp": {
   "vp_config_version": "1.0.0",
   "vp_menu_width": 273,
   "vp_note_display": false,
   "vp_note_width": 0,
   "vp_position": {
    "width": 278
   },
   "vp_section_display": false,
   "vp_signature": "VisualPython"
  }
 },
 "nbformat": 4,
 "nbformat_minor": 5
}
