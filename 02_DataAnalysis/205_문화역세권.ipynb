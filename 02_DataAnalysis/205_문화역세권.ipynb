{
 "cells": [
  {
   "cell_type": "markdown",
   "metadata": {},
   "source": [
    "# 문화 역세권"
   ]
  },
  {
   "cell_type": "markdown",
   "metadata": {},
   "source": [
    "---"
   ]
  },
  {
   "cell_type": "markdown",
   "metadata": {},
   "source": [
    "## [문화역세권 데이터](https://www.bigdata-culture.kr/bigdata/user/data_market/detail.do?id=f41966cf-a563-40da-875c-5c317faee505)"
   ]
  },
  {
   "cell_type": "markdown",
   "metadata": {},
   "source": [
    "## Import Packages\n",
    "- Visual Python: Data Analysis > Import"
   ]
  },
  {
   "cell_type": "code",
   "execution_count": null,
   "metadata": {},
   "outputs": [],
   "source": [
    "import numpy as np\n",
    "import pandas as pd\n",
    "import matplotlib.pyplot as plt\n",
    "%matplotlib inline\n",
    "import seaborn as sns"
   ]
  },
  {
   "cell_type": "markdown",
   "metadata": {},
   "source": [
    "## 1. 전국 문화시설 수"
   ]
  },
  {
   "cell_type": "markdown",
   "metadata": {},
   "source": [
    "### Read CSV file"
   ]
  },
  {
   "cell_type": "code",
   "execution_count": null,
   "metadata": {
    "scrolled": false
   },
   "outputs": [],
   "source": [
    "df = pd.read_csv('data/문화역세권분석.csv')\n",
    "df"
   ]
  },
  {
   "cell_type": "markdown",
   "metadata": {},
   "source": [
    "### Edit columns"
   ]
  },
  {
   "cell_type": "code",
   "execution_count": null,
   "metadata": {},
   "outputs": [],
   "source": [
    "df.rename(columns={'id': '고유ID', 'lclas': 'L1 대분류', 'mlsfc': 'L2 중분류', 'fclt_name': '시설명', \n",
    "                   'ctprvn_nm': '시도', 'sgnr_nm': '시군구', 'legaldong_cd': '법정동코드', \n",
    "                   'legalemd_nm': '법정읍면동명', 'adstrd_cd': '행정동코드', \n",
    "                   'adstrd_nm': '행정동명', 'rdnmaddr_cd': '도로명주소코드', \n",
    "                   'rdnm_addr': '도로명주소', 'zip_cd': '우편번호', 'grid_cd': '격자코드', \n",
    "                   'x_cd': 'X좌표', 'y_cd': 'Y좌표', 'buld_totar': '시설현황 건물 연면적', \n",
    "                   'usemem_nm': '연간이용자수', 'infl_factor': '영향도지수', \n",
    "                   'file_name': '파일명', 'base_ymd': '기준일'}, inplace=True)\n",
    "                    "
   ]
  },
  {
   "cell_type": "code",
   "execution_count": null,
   "metadata": {
    "scrolled": false
   },
   "outputs": [],
   "source": [
    "df.drop(['고유ID', '시설명', '법정동코드', '행정동코드', '도로명주소코드', '격자코드',  '파일명', '기준일'], axis=1, inplace=True)\n",
    "df"
   ]
  },
  {
   "cell_type": "markdown",
   "metadata": {},
   "source": [
    "### Information"
   ]
  },
  {
   "cell_type": "code",
   "execution_count": null,
   "metadata": {},
   "outputs": [],
   "source": [
    "df['시도'].value_counts()"
   ]
  },
  {
   "cell_type": "code",
   "execution_count": null,
   "metadata": {},
   "outputs": [],
   "source": [
    "df['L2 중분류'].value_counts()"
   ]
  },
  {
   "cell_type": "markdown",
   "metadata": {},
   "source": [
    "### Groupby"
   ]
  },
  {
   "cell_type": "code",
   "execution_count": null,
   "metadata": {},
   "outputs": [],
   "source": [
    "# Visual Python: Data Analysis > Groupby\n",
    "gp_cnt = df.groupby('시도', as_index=False).size()"
   ]
  },
  {
   "cell_type": "code",
   "execution_count": null,
   "metadata": {},
   "outputs": [],
   "source": [
    "gp_cnt = gp_cnt.copy()\n",
    "gp_cnt.rename(columns={'size': '문화시설수'}, inplace=True)\n",
    "gp_cnt"
   ]
  },
  {
   "cell_type": "markdown",
   "metadata": {},
   "source": [
    "### Visualization"
   ]
  },
  {
   "cell_type": "code",
   "execution_count": null,
   "metadata": {},
   "outputs": [],
   "source": [
    "# VisualPython [6] - 1\n",
    "import matplotlib.pyplot as plt\n",
    "%matplotlib inline\n",
    "import seaborn as sns\n",
    "plt.rc('figure', figsize=(12, 8))\n",
    "plt.style.use('seaborn-v0_8-darkgrid')\n",
    "\n",
    "from matplotlib import rcParams\n",
    "rcParams['font.family'] = 'New Gulim'\n",
    "rcParams['font.size'] = 10\n",
    "rcParams['axes.unicode_minus'] = False"
   ]
  },
  {
   "cell_type": "code",
   "execution_count": null,
   "metadata": {},
   "outputs": [],
   "source": [
    "#sns.barplot(data=gp_cnt, x='시도', y='문화시설수')\n",
    "sns.barplot(data=gp_cnt, x='시도', y='문화시설수', order=gp_cnt.sort_values('문화시설수', ascending=False)['시도'])\n",
    "plt.xticks(rotation=30)\n",
    "plt.show()"
   ]
  },
  {
   "cell_type": "markdown",
   "metadata": {},
   "source": [
    "## 2. 전국 문화시설 수 - 분류별"
   ]
  },
  {
   "cell_type": "code",
   "execution_count": null,
   "metadata": {},
   "outputs": [],
   "source": [
    "gp_cnt_cat = df.groupby(['시도','L2 중분류'], as_index=False).size()"
   ]
  },
  {
   "cell_type": "code",
   "execution_count": null,
   "metadata": {},
   "outputs": [],
   "source": [
    "gp_cnt_cat = gp_cnt_cat.copy()\n",
    "gp_cnt_cat.rename(columns={'size': '문화시설수'}, inplace=True)\n",
    "gp_cnt_cat"
   ]
  },
  {
   "cell_type": "code",
   "execution_count": null,
   "metadata": {},
   "outputs": [],
   "source": [
    "#sns.barplot(data=gp_cnt_cat, x='시도', y='문화시설수', hue='L2 중분류')\n",
    "sns.barplot(data=gp_cnt_cat, x='시도', y='문화시설수', hue='L2 중분류', order=gp_cnt_cat[gp_cnt_cat['L2 중분류']=='공공도서관'].sort_values('문화시설수', ascending=False)['시도'])\n",
    "plt.xticks(rotation=30)\n",
    "plt.show()"
   ]
  },
  {
   "cell_type": "markdown",
   "metadata": {},
   "source": [
    "## 3. 전국 문화시설  영향도 지수"
   ]
  },
  {
   "cell_type": "code",
   "execution_count": null,
   "metadata": {},
   "outputs": [],
   "source": [
    "df"
   ]
  },
  {
   "cell_type": "code",
   "execution_count": null,
   "metadata": {},
   "outputs": [],
   "source": [
    "gp_eff = df.groupby('시도', as_index=False)['영향도지수'].mean()\n",
    "gp_eff"
   ]
  },
  {
   "cell_type": "code",
   "execution_count": null,
   "metadata": {},
   "outputs": [],
   "source": [
    "#sns.barplot(data=gp_eff, x='시도', y='영향도지수')\n",
    "sns.barplot(data=gp_eff, x='시도', y='영향도지수', order=gp_eff.sort_values('영향도지수', ascending=False)['시도'])\n",
    "plt.xticks(rotation=30)\n",
    "plt.show()"
   ]
  },
  {
   "cell_type": "markdown",
   "metadata": {},
   "source": [
    "## 4. 인구 대비 전국 문화시설 수"
   ]
  },
  {
   "cell_type": "markdown",
   "metadata": {},
   "source": [
    "### Read file"
   ]
  },
  {
   "cell_type": "code",
   "execution_count": null,
   "metadata": {},
   "outputs": [],
   "source": [
    "df_p = pd.read_excel('data/인구.xlsx')\n",
    "df_p.set_index('지역', inplace=True)\n",
    "df_p"
   ]
  },
  {
   "cell_type": "code",
   "execution_count": null,
   "metadata": {},
   "outputs": [],
   "source": [
    "culture_cnt =  df.groupby('시도').size()"
   ]
  },
  {
   "cell_type": "code",
   "execution_count": null,
   "metadata": {},
   "outputs": [],
   "source": [
    "df_p['문화시설수'] =  culture_cnt\n",
    "df_p"
   ]
  },
  {
   "cell_type": "code",
   "execution_count": null,
   "metadata": {},
   "outputs": [],
   "source": [
    "df_p['시설수/10만명'] = (df_p['문화시설수'] * 100000 / df_p['인구']).round(2)\n",
    "df_p"
   ]
  },
  {
   "cell_type": "code",
   "execution_count": null,
   "metadata": {},
   "outputs": [],
   "source": [
    "#sns.barplot(data=df_p, x= df_p.index, y='시설수/10만명')\n",
    "sns.barplot(data=df_p, x= df_p.index, y='시설수/10만명', order=df_p.sort_values('시설수/10만명', ascending=False).index)\n",
    "plt.xticks(rotation=30)\n",
    "plt.show()"
   ]
  },
  {
   "cell_type": "code",
   "execution_count": null,
   "metadata": {},
   "outputs": [],
   "source": []
  },
  {
   "cell_type": "markdown",
   "metadata": {},
   "source": [
    "---"
   ]
  },
  {
   "cell_type": "code",
   "execution_count": null,
   "metadata": {},
   "outputs": [],
   "source": [
    "# End of file"
   ]
  },
  {
   "cell_type": "code",
   "execution_count": null,
   "metadata": {},
   "outputs": [],
   "source": []
  }
 ],
 "metadata": {
  "kernelspec": {
   "display_name": "Python 3 (ipykernel)",
   "language": "python",
   "name": "python3"
  },
  "language_info": {
   "codemirror_mode": {
    "name": "ipython",
    "version": 3
   },
   "file_extension": ".py",
   "mimetype": "text/x-python",
   "name": "python",
   "nbconvert_exporter": "python",
   "pygments_lexer": "ipython3",
   "version": "3.11.4"
  },
  "vp": {
   "vp_config_version": "1.0.0",
   "vp_menu_width": 273,
   "vp_note_display": false,
   "vp_note_width": 0,
   "vp_position": {
    "width": 278
   },
   "vp_section_display": false,
   "vp_signature": "VisualPython"
  }
 },
 "nbformat": 4,
 "nbformat_minor": 4
}
