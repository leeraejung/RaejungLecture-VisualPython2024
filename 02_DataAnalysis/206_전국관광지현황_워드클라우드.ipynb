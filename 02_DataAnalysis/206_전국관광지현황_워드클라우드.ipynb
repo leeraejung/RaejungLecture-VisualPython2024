{
 "cells": [
  {
   "cell_type": "markdown",
   "id": "1fe12dcb",
   "metadata": {},
   "source": [
    "# 전국 관광지 현황 - WordCloud"
   ]
  },
  {
   "cell_type": "markdown",
   "id": "3a32b549",
   "metadata": {},
   "source": [
    "---"
   ]
  },
  {
   "cell_type": "markdown",
   "id": "03a8c916",
   "metadata": {},
   "source": [
    "## Import Packages\n",
    "- Visual Python: Data Analysis > Import"
   ]
  },
  {
   "cell_type": "code",
   "execution_count": null,
   "id": "af8bcb15",
   "metadata": {},
   "outputs": [],
   "source": [
    "import numpy as np\n",
    "import pandas as pd\n",
    "import matplotlib.pyplot as plt\n",
    "%matplotlib inline\n",
    "import seaborn as sns"
   ]
  },
  {
   "cell_type": "markdown",
   "id": "437ff263",
   "metadata": {},
   "source": [
    "### Word Cloud - Tex file 사용"
   ]
  },
  {
   "cell_type": "code",
   "execution_count": null,
   "id": "111840e4",
   "metadata": {},
   "outputs": [],
   "source": [
    "# Visual Python: Logic > code\n",
    "from wordcloud import WordCloud\n",
    "from collections import Counter\n",
    "import matplotlib.pyplot as plt\n",
    "%matplotlib inline"
   ]
  },
  {
   "cell_type": "code",
   "execution_count": null,
   "id": "cd8876d4",
   "metadata": {},
   "outputs": [],
   "source": [
    "# Visual Python: Visualization > WordCloud\n",
    "with open('./data/관광지_개요.txt', 'rt') as fp:\n",
    "    word_cloud_text = fp.read()\n",
    "\n",
    "counts = Counter(word_cloud_text.split())\n",
    "tags = counts.most_common(200)\n",
    "\n",
    "wc = WordCloud(max_font_size=200, background_color='white', width=1000, height=800, font_path='C:/Windows/Fonts/NGULIM.TTF')\n",
    "cloud = wc.generate_from_frequencies(dict(tags))\n",
    "\n",
    "plt.figure(figsize=(8, 20))\n",
    "plt.imshow(cloud)\n",
    "plt.tight_layout(pad=0)\n",
    "plt.axis('off')\n",
    "plt.show()\n"
   ]
  },
  {
   "cell_type": "code",
   "execution_count": null,
   "id": "e2187263",
   "metadata": {},
   "outputs": [],
   "source": []
  },
  {
   "cell_type": "markdown",
   "id": "2e745c05",
   "metadata": {},
   "source": [
    "---"
   ]
  },
  {
   "cell_type": "code",
   "execution_count": null,
   "id": "0ad3e3c5",
   "metadata": {},
   "outputs": [],
   "source": [
    " # End of file"
   ]
  },
  {
   "cell_type": "code",
   "execution_count": null,
   "id": "1f98640b",
   "metadata": {},
   "outputs": [],
   "source": []
  }
 ],
 "metadata": {
  "kernelspec": {
   "display_name": "Python 3 (ipykernel)",
   "language": "python",
   "name": "python3"
  },
  "language_info": {
   "codemirror_mode": {
    "name": "ipython",
    "version": 3
   },
   "file_extension": ".py",
   "mimetype": "text/x-python",
   "name": "python",
   "nbconvert_exporter": "python",
   "pygments_lexer": "ipython3",
   "version": "3.11.4"
  },
  "vp": {
   "vp_config_version": "1.0.0",
   "vp_menu_width": 273,
   "vp_note_display": false,
   "vp_note_width": 0,
   "vp_position": {
    "width": 278
   },
   "vp_section_display": false,
   "vp_signature": "VisualPython"
  }
 },
 "nbformat": 4,
 "nbformat_minor": 5
}
