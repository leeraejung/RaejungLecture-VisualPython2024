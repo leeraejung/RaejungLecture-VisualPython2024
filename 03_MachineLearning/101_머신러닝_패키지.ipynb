{
 "cells": [
  {
   "cell_type": "markdown",
   "id": "8bdca2fc",
   "metadata": {},
   "source": [
    "# Machine Learning Package"
   ]
  },
  {
   "cell_type": "markdown",
   "id": "89ed51d3",
   "metadata": {},
   "source": [
    "---"
   ]
  },
  {
   "cell_type": "markdown",
   "id": "c367e992",
   "metadata": {},
   "source": [
    "# 1. scikit-learn"
   ]
  },
  {
   "cell_type": "markdown",
   "id": "e2ce31d9",
   "metadata": {},
   "source": [
    "### 1.1 내장된 예제 데이터 세트"
   ]
  },
  {
   "cell_type": "markdown",
   "id": "1ab4d6cf",
   "metadata": {},
   "source": [
    "- 회귀나 분류 연습용 예제 데이터\n",
    "\n",
    "|API 명|설명|\n",
    "|:---|:---|\n",
    "|datasets.load_breast_cancer() | 분류 용도이며, 위스콘신 유방암 피처들과 악성/음성 레이블 데이터 세트|\n",
    "|datasets.load_diabetes() | 회귀 용도이며, 당뇨 데이터 세트|\n",
    "|datasets.load_digits() | 분류 용도이며, 0에서 9까지 숫자의 이미지 픽셀 데이터 세트|\n",
    "|datasets.load_iris() | 분류 용도이며, 붓꽃에 대한 피처를 가진 데이터 세트|"
   ]
  },
  {
   "cell_type": "markdown",
   "id": "3cf8bc8a",
   "metadata": {},
   "source": [
    "- 분류와 클러스터링을 위한 표본 데이터 생성기\n",
    "\n",
    "|API 명|설명|\n",
    "|:---|:---|\n",
    "|datasets.make_classifications() | 분류를 위한 데이터 세트를 생성|\n",
    "|특히 높은 상관도, 불필요한 속성 등의 노이즈 효과를 위한 데이터를 무작위로 생성|\n",
    "|datasets.make_blobs() | 클러스터링을 위한 데이터 세트를 무작위로 생성|\n",
    "|군집 지정 개수에 따라 여러 가지 클러스터링을 위한 데이터 세트를 생성|\n",
    "|datasets.make_circles() | 원 모양의 클러스터 데이터를 생성|\n",
    "|군집 지정 개수에 따라 여러 가지 클러스터링을 위한 데이터 세트를 생성|\n",
    "|datasets.moons() | 초승달 모양 클러스터 두 개 형상의 데이터를 생성|\n",
    "|군집 지정 개수에 따라 여러 가지 클러스터링을 위한 데이터 세트를 생성|"
   ]
  },
  {
   "cell_type": "markdown",
   "id": "f2528923",
   "metadata": {},
   "source": [
    "### 1.2 예제 데이터 세트 불러오기"
   ]
  },
  {
   "cell_type": "code",
   "execution_count": null,
   "id": "6544e8db",
   "metadata": {},
   "outputs": [],
   "source": [
    "# Visual Python: Data Analysis > Import\n",
    "import numpy as np\n",
    "import pandas as pd\n",
    "import matplotlib.pyplot as plt\n",
    "%matplotlib inline\n",
    "import seaborn as sns"
   ]
  },
  {
   "cell_type": "markdown",
   "id": "5ca72570",
   "metadata": {},
   "source": [
    "#### 1.2.1 회귀 예제 데이터 - diabetes"
   ]
  },
  {
   "cell_type": "code",
   "execution_count": null,
   "id": "455c12af",
   "metadata": {},
   "outputs": [],
   "source": [
    "# Visual Python: Machine Learning > Data Sets\n",
    "from sklearn.datasets import load_diabetes\n",
    "\n",
    "ldata = load_diabetes()\n",
    "# Create DataFrame\n",
    "df_ldata = pd.DataFrame(data=ldata.data, columns=ldata.feature_names)\n",
    "df_ldata['target'] = ldata.target\n",
    "df_ldata"
   ]
  },
  {
   "cell_type": "markdown",
   "id": "8b0a31aa",
   "metadata": {},
   "source": [
    "#### 1.2.2 분류 예제 데이터 - breast_cancer"
   ]
  },
  {
   "cell_type": "code",
   "execution_count": null,
   "id": "53ea2e12",
   "metadata": {},
   "outputs": [],
   "source": [
    "# Visual Python: Machine Learning > Data Sets\n",
    "from sklearn.datasets import load_breast_cancer\n",
    "\n",
    "ldata = load_breast_cancer()\n",
    "# Create DataFrame\n",
    "df_ldata = pd.DataFrame(data=ldata.data, columns=ldata.feature_names)\n",
    "df_ldata['target'] = ldata.target\n",
    "df_ldata"
   ]
  },
  {
   "cell_type": "markdown",
   "id": "38e5e9fc",
   "metadata": {},
   "source": [
    "#### 1.2.3 군집 예제 데이터 생성 - make_blobs()"
   ]
  },
  {
   "cell_type": "code",
   "execution_count": null,
   "id": "4dbf0449",
   "metadata": {},
   "outputs": [],
   "source": [
    "# Visual Python: Machine Learning > Data Sets\n",
    "from sklearn.datasets import make_blobs\n",
    "\n",
    "_X, _y = make_blobs(n_samples=200, n_features=2)\n",
    "# Create DataFrame\n",
    "_feature_names = ['X{}'.format(i+1) for i in range(len(_X[0]))]\n",
    "df_blobs = pd.DataFrame(data=_X, columns=_feature_names)\n",
    "df_blobs['target'] = _y\n",
    "df_blobs"
   ]
  },
  {
   "cell_type": "code",
   "execution_count": null,
   "id": "710afcc9",
   "metadata": {},
   "outputs": [],
   "source": [
    "# Visual Python: Visualization > Seaborn\n",
    "sns.scatterplot(data=df_blobs, x='X1', y='X2', hue='target')\n",
    "plt.show()"
   ]
  },
  {
   "cell_type": "markdown",
   "id": "347d7ea5",
   "metadata": {},
   "source": [
    "# 2. Machine Learning Application"
   ]
  },
  {
   "cell_type": "markdown",
   "id": "c1650e5c",
   "metadata": {},
   "source": [
    "### 2.1 머신러닝 프로세스\n",
    "1. **데이터 세트 분리:** 데이터를 학습 데이터와 테스트 데이터로 분리\n",
    "2. **모델 학습:** 학습 데이터를 기반으로 ML 알고리즘을 적용해 모델을 학습\n",
    "3. **결과 예측:** 학습된 ML 모델을 이용해 테스트 데이터의 분류(붓꽃 종류)를 예측\n",
    "4. **평가:** 예측된 결과값과 테스트 데이터의 실제 결과값을 비교해 ML 모델 성능 평가"
   ]
  },
  {
   "cell_type": "markdown",
   "id": "3c8932e2",
   "metadata": {},
   "source": [
    "### 2.2 붓꽃 분류\n",
    "- 지도학습\n",
    "- 꽃잎(petal)과 꽃받침(sepal)의 폭과 길이 값만 보고 붓꽃의 종류를 분류하는 문제\n",
    "- 붓 꽃의 종류(품종): setosa, versicolor, virginica"
   ]
  },
  {
   "cell_type": "markdown",
   "id": "64831b31",
   "metadata": {},
   "source": [
    "#### 2.2.1 데이터 로딩"
   ]
  },
  {
   "cell_type": "code",
   "execution_count": null,
   "id": "07ed0d7e",
   "metadata": {},
   "outputs": [],
   "source": [
    "# Visual Python: Machine Learning > Data Sets\n",
    "from sklearn.datasets import load_iris\n",
    "\n",
    "iris = load_iris()\n",
    "# Create DataFrame\n",
    "df_iris = pd.DataFrame(data=iris.data, columns=iris.feature_names)\n",
    "df_iris['target'] = iris.target\n",
    "df_iris"
   ]
  },
  {
   "cell_type": "markdown",
   "id": "67179fa0",
   "metadata": {},
   "source": [
    "#### 2.2.2 데이터 분할: 학습 데이터 + 테스트 데이터"
   ]
  },
  {
   "cell_type": "code",
   "execution_count": null,
   "id": "90db5e87",
   "metadata": {},
   "outputs": [],
   "source": [
    "# Visual Python: Machine Learning > Data Split\n",
    "from sklearn.model_selection import train_test_split\n",
    "\n",
    "X_train, X_test, y_train, y_test = train_test_split(df_iris[['sepal length (cm)', 'sepal width (cm)', 'petal length (cm)', 'petal width (cm)']], df_iris['target'])"
   ]
  },
  {
   "cell_type": "markdown",
   "id": "9d9f0396",
   "metadata": {
    "collapsed": true
   },
   "source": [
    "#### 2.2.3 모델 생성"
   ]
  },
  {
   "cell_type": "code",
   "execution_count": null,
   "id": "0c90b1f0",
   "metadata": {},
   "outputs": [],
   "source": [
    "# Visual Python: Machine Learning > Classifier\n",
    "from sklearn.tree import DecisionTreeClassifier\n",
    "\n",
    "model = DecisionTreeClassifier()"
   ]
  },
  {
   "cell_type": "markdown",
   "id": "e1dc82f2",
   "metadata": {
    "collapsed": true
   },
   "source": [
    "#### 2.2.4 모델 학습"
   ]
  },
  {
   "cell_type": "code",
   "execution_count": null,
   "id": "752ca6cf",
   "metadata": {},
   "outputs": [],
   "source": [
    "# Visual Python: Machine Learning > Fit/Predict\n",
    "model.fit(X_train, y_train)"
   ]
  },
  {
   "cell_type": "markdown",
   "id": "d400c186",
   "metadata": {
    "collapsed": true
   },
   "source": [
    "#### 2.2.5 결과 예측"
   ]
  },
  {
   "cell_type": "code",
   "execution_count": null,
   "id": "3cd255a4",
   "metadata": {},
   "outputs": [],
   "source": [
    "# Visual Python: Machine Learning > Fit/Predict\n",
    "pred = model.predict(X_test)\n",
    "pred"
   ]
  },
  {
   "cell_type": "markdown",
   "id": "12f3d0dc",
   "metadata": {
    "collapsed": true
   },
   "source": [
    "#### 2.2.6 모델  평가"
   ]
  },
  {
   "cell_type": "code",
   "execution_count": null,
   "id": "bf17b9a1",
   "metadata": {},
   "outputs": [],
   "source": [
    "# Visual Python: Machine Learning > Evaluation\n",
    "from sklearn import metrics"
   ]
  },
  {
   "cell_type": "code",
   "execution_count": null,
   "id": "6018a205",
   "metadata": {},
   "outputs": [],
   "source": [
    "# Visual Python: Machine Learning > Evaluation\n",
    "from IPython.display import display, Markdown"
   ]
  },
  {
   "cell_type": "code",
   "execution_count": null,
   "id": "0788ac05",
   "metadata": {},
   "outputs": [],
   "source": [
    "# Visual Python: Machine Learning > Evaluation\n",
    "# Confusion Matrix\n",
    "display(Markdown('### Confusion Matrix'))\n",
    "display(pd.crosstab(y_test, pred, margins=True))"
   ]
  },
  {
   "cell_type": "code",
   "execution_count": null,
   "id": "564d3cf3",
   "metadata": {},
   "outputs": [],
   "source": [
    "# Visual Python: Machine Learning > Evaluation\n",
    "# Classification report\n",
    "print(metrics.classification_report(y_test, pred))"
   ]
  },
  {
   "cell_type": "markdown",
   "id": "b6637df5",
   "metadata": {},
   "source": [
    "# 3. Cross Validation(교차 검증)"
   ]
  },
  {
   "cell_type": "markdown",
   "id": "acf45deb",
   "metadata": {},
   "source": [
    "### 3.1 cross_val_score"
   ]
  },
  {
   "cell_type": "code",
   "execution_count": null,
   "id": "dccf519c",
   "metadata": {},
   "outputs": [],
   "source": [
    "# Visual Python: Machine Learning > Model Info\n",
    "from sklearn.model_selection import cross_val_score\n",
    "\n",
    "scores = cross_val_score(model, X_train, y_train)\n",
    "scores"
   ]
  },
  {
   "cell_type": "code",
   "execution_count": null,
   "id": "df1a1d2e",
   "metadata": {},
   "outputs": [],
   "source": []
  },
  {
   "cell_type": "markdown",
   "id": "f076fa13",
   "metadata": {},
   "source": [
    "---"
   ]
  },
  {
   "cell_type": "code",
   "execution_count": null,
   "id": "810a4484",
   "metadata": {},
   "outputs": [],
   "source": [
    "# End of file"
   ]
  },
  {
   "cell_type": "code",
   "execution_count": null,
   "id": "2fc31ab3",
   "metadata": {},
   "outputs": [],
   "source": []
  }
 ],
 "metadata": {
  "kernelspec": {
   "display_name": "Python 3 (ipykernel)",
   "language": "python",
   "name": "python3"
  },
  "language_info": {
   "codemirror_mode": {
    "name": "ipython",
    "version": 3
   },
   "file_extension": ".py",
   "mimetype": "text/x-python",
   "name": "python",
   "nbconvert_exporter": "python",
   "pygments_lexer": "ipython3",
   "version": "3.11.4"
  },
  "vp": {
   "vp_config_version": "1.0.0",
   "vp_menu_width": 273,
   "vp_note_display": false,
   "vp_note_width": 0,
   "vp_position": {
    "width": 278
   },
   "vp_section_display": false,
   "vp_signature": "VisualPython"
  }
 },
 "nbformat": 4,
 "nbformat_minor": 5
}
