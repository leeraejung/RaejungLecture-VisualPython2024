{
 "cells": [
  {
   "cell_type": "markdown",
   "id": "7dd97f98",
   "metadata": {},
   "source": [
    "# Data Preprocessing"
   ]
  },
  {
   "cell_type": "markdown",
   "id": "e633fa00",
   "metadata": {},
   "source": [
    "---"
   ]
  },
  {
   "cell_type": "markdown",
   "id": "be8459af",
   "metadata": {},
   "source": [
    "# 데이터 전처리"
   ]
  },
  {
   "cell_type": "code",
   "execution_count": null,
   "id": "332f7e4d",
   "metadata": {},
   "outputs": [],
   "source": [
    "# Visual Python: Data Analysis > Import\n",
    "import numpy as np\n",
    "import pandas as pd\n",
    "import matplotlib.pyplot as plt\n",
    "%matplotlib inline\n",
    "import seaborn as sns"
   ]
  },
  {
   "cell_type": "markdown",
   "id": "01f3855a",
   "metadata": {},
   "source": [
    "# 1 Data Scaling\n",
    "- Feature(X값): 수치형 데이터\n",
    "- [scikit-learn preprocessing](https://scikit-learn.org/stable/modules/classes.html#module-sklearn.preprocessing)"
   ]
  },
  {
   "cell_type": "markdown",
   "id": "53d21ce8",
   "metadata": {},
   "source": [
    "1. Standard Scaling\n",
    "2. MinMax Scaling\n",
    "3. Robust Scaling\n",
    "4. Normalization Scaling\n",
    "5. Log Scaling\n",
    "6. Exponential Scaling"
   ]
  },
  {
   "cell_type": "markdown",
   "id": "925206ce",
   "metadata": {},
   "source": [
    "##### <주의> 학습 데이터, 테스트 데이터 스케일 조정"
   ]
  },
  {
   "cell_type": "markdown",
   "id": "96318384",
   "metadata": {},
   "source": [
    "#### 데이터 로딩"
   ]
  },
  {
   "cell_type": "code",
   "execution_count": null,
   "id": "808e6e84",
   "metadata": {},
   "outputs": [],
   "source": [
    "# Visual Python: Data Analysis > File\n",
    "df_iris = pd.read_csv('./data/iris.csv')\n",
    "df_iris"
   ]
  },
  {
   "cell_type": "markdown",
   "id": "309153bf",
   "metadata": {},
   "source": [
    "#### 데이터 분할: 학습 데이터 + 테스트 데이터"
   ]
  },
  {
   "cell_type": "code",
   "execution_count": null,
   "id": "d06517f3",
   "metadata": {},
   "outputs": [],
   "source": [
    "# Visual Python: Machine Learning > Data Split\n",
    "from sklearn.model_selection import train_test_split\n",
    "\n",
    "X_train, X_test, y_train, y_test = train_test_split(df_iris[['sepal_length', 'sepal_width', 'petal_length', 'petal_width']], df_iris['variety'])"
   ]
  },
  {
   "cell_type": "markdown",
   "id": "7bbefa90",
   "metadata": {},
   "source": [
    "### 1.1 Standard Scaling"
   ]
  },
  {
   "cell_type": "markdown",
   "id": "314fd929",
   "metadata": {},
   "source": [
    "#### 1.1.1 스케일러 생성"
   ]
  },
  {
   "cell_type": "code",
   "execution_count": null,
   "id": "9a4127ae",
   "metadata": {},
   "outputs": [],
   "source": [
    "# Visual Python: Machine Learning > Data Prep\n",
    "from sklearn.preprocessing import StandardScaler\n",
    "\n",
    "scaler = StandardScaler()"
   ]
  },
  {
   "cell_type": "markdown",
   "id": "d6e77cb2",
   "metadata": {},
   "source": [
    "#### 1.1.2 스케일러 학습 - 규칙 설정"
   ]
  },
  {
   "cell_type": "code",
   "execution_count": null,
   "id": "f0d40d51",
   "metadata": {},
   "outputs": [],
   "source": [
    "# Visual Python: Machine Learning > Fit/Predict\n",
    "scaler.fit(X_train)"
   ]
  },
  {
   "cell_type": "markdown",
   "id": "708f284c",
   "metadata": {},
   "source": [
    "#### 1.1.3 학습 데이터 변환"
   ]
  },
  {
   "cell_type": "code",
   "execution_count": null,
   "id": "39854912",
   "metadata": {},
   "outputs": [],
   "source": [
    "# Visual Python: Machine Learning > Fit/Predict\n",
    "X_train_scaled = scaler.transform(X_train)\n",
    "X_train_scaled"
   ]
  },
  {
   "cell_type": "markdown",
   "id": "f2a6586f",
   "metadata": {},
   "source": [
    "#### 1.1.4 테스트 데이터 변환"
   ]
  },
  {
   "cell_type": "code",
   "execution_count": null,
   "id": "7d45b8a9",
   "metadata": {},
   "outputs": [],
   "source": [
    "# Visual Python: Machine Learning > Fit/Predict\n",
    "X_test_scaled = scaler.transform(X_test)\n",
    "X_test_scaled"
   ]
  },
  {
   "cell_type": "code",
   "execution_count": null,
   "id": "05c0a945",
   "metadata": {},
   "outputs": [],
   "source": [
    "print('스케일 조정 후 특성별 최소값:', X_test_scaled.min(axis=0))\n",
    "print('스케일 조정 후 특성별 최대값:', X_test_scaled.max(axis=0))"
   ]
  },
  {
   "cell_type": "markdown",
   "id": "208e100a",
   "metadata": {},
   "source": [
    "### 1.2 MinMaxScaler"
   ]
  },
  {
   "cell_type": "markdown",
   "id": "e33da381",
   "metadata": {},
   "source": [
    "#### 1.2.1 스케일러 생성"
   ]
  },
  {
   "cell_type": "code",
   "execution_count": null,
   "id": "2db2297b",
   "metadata": {},
   "outputs": [],
   "source": [
    "# Visual Python: Machine Learning > Data Prep\n",
    "from sklearn.preprocessing import MinMaxScaler\n",
    "\n",
    "scaler_m = MinMaxScaler()"
   ]
  },
  {
   "cell_type": "markdown",
   "id": "08c9ad7e",
   "metadata": {},
   "source": [
    "#### 1.2.2 스케일러 학습 - 규칙 설정"
   ]
  },
  {
   "cell_type": "code",
   "execution_count": null,
   "id": "79b4b7f5",
   "metadata": {},
   "outputs": [],
   "source": [
    "# Visual Python: Machine Learning > Fit/Predict\n",
    "scaler_m.fit(X_train)"
   ]
  },
  {
   "cell_type": "markdown",
   "id": "759a26e6",
   "metadata": {},
   "source": [
    "#### 1.2.3 학습 데이터 변환"
   ]
  },
  {
   "cell_type": "code",
   "execution_count": null,
   "id": "a262cf66",
   "metadata": {},
   "outputs": [],
   "source": [
    "# Visual Python: Machine Learning > Fit/Predict\n",
    "X_train_scaled_m = scaler_m.transform(X_train)\n",
    "X_train_scaled_m"
   ]
  },
  {
   "cell_type": "code",
   "execution_count": null,
   "id": "ed9ac119",
   "metadata": {},
   "outputs": [],
   "source": [
    "print('스케일 조정 후 특성별 최소값:', X_train_scaled_m.min(axis=0))\n",
    "print('스케일 조정 후 특성별 최대값:', X_train_scaled_m.max(axis=0))"
   ]
  },
  {
   "cell_type": "markdown",
   "id": "7295363e",
   "metadata": {},
   "source": [
    "#### 1.2.4 테스트 데이터 변환"
   ]
  },
  {
   "cell_type": "code",
   "execution_count": null,
   "id": "71691cda",
   "metadata": {},
   "outputs": [],
   "source": [
    "# Visual Python: Machine Learning > Fit/Predict\n",
    "X_test_scaled_m = scaler_m.transform(X_test)\n",
    "X_test_scaled_m"
   ]
  },
  {
   "cell_type": "code",
   "execution_count": null,
   "id": "ccbaef59",
   "metadata": {},
   "outputs": [],
   "source": [
    "print('스케일 조정 후 특성별 최소값:', X_test_scaled_m.min(axis=0))\n",
    "print('스케일 조정 후 특성별 최대값:', X_test_scaled_m.max(axis=0))"
   ]
  },
  {
   "cell_type": "markdown",
   "id": "cdd7c737",
   "metadata": {},
   "source": [
    "### 1.7 스케일링 적용 - 지도학습"
   ]
  },
  {
   "cell_type": "code",
   "execution_count": null,
   "id": "fddf2f53",
   "metadata": {},
   "outputs": [],
   "source": [
    "# Visual Python: Machine Learning > Data Sets\n",
    "from sklearn.datasets import load_breast_cancer\n",
    "\n",
    "ldata = load_breast_cancer()\n",
    "# Create DataFrame\n",
    "df_ldata = pd.DataFrame(data=ldata.data, columns=ldata.feature_names)\n",
    "df_ldata['target'] = ldata.target\n",
    "df_ldata"
   ]
  },
  {
   "cell_type": "markdown",
   "id": "cb444a80",
   "metadata": {},
   "source": [
    "#### 1.7.1 데이터 분할"
   ]
  },
  {
   "cell_type": "markdown",
   "id": "a1bee589",
   "metadata": {},
   "source": [
    "#### 1.7.2 Supprt Vector Machine"
   ]
  },
  {
   "cell_type": "code",
   "execution_count": null,
   "id": "1b74a2d0",
   "metadata": {},
   "outputs": [],
   "source": [
    "# Visual Python: Machine Learning > Pipeline\n",
    "# [1] Data Split\n",
    "from sklearn.model_selection import train_test_split\n",
    "\n",
    "X_train, X_test, y_train, y_test = train_test_split(df_ldata[['mean radius', 'mean texture', 'mean perimeter', 'mean area', 'mean smoothness',\n",
    "                                                              'mean compactness', 'mean concavity', 'mean concave points', 'mean symmetry',\n",
    "                                                              'mean fractal dimension', 'radius error', 'texture error', 'perimeter error',\n",
    "                                                              'area error', 'smoothness error', 'compactness error', 'concavity error',\n",
    "                                                              'concave points error', 'symmetry error', 'fractal dimension error', 'worst radius',\n",
    "                                                              'worst texture', 'worst perimeter', 'worst area', 'worst smoothness', 'worst compactness',\n",
    "                                                              'worst concavity', 'worst concave points', 'worst symmetry', 'worst fractal dimension']],\n",
    "                                                    df_ldata['target'])\n",
    "\n",
    "# [2] Classifier\n",
    "from sklearn.svm import SVC\n",
    "\n",
    "svc = SVC()\n",
    "\n",
    "# [3] Fit\n",
    "svc.fit(X_train, y_train)\n",
    "\n",
    "# [4] Predict\n",
    "pred = svc.predict(X_test)\n",
    "\n",
    "# [5] Evaluation\n",
    "from sklearn import metrics\n",
    "from IPython.display import display, Markdown\n",
    "# Confusion Matrix\n",
    "display(Markdown('### Confusion Matrix'))\n",
    "display(pd.crosstab(y_test, pred, margins=True))\n",
    "# Classification report\n",
    "print(metrics.classification_report(y_test, pred))"
   ]
  },
  {
   "cell_type": "markdown",
   "id": "880e6390",
   "metadata": {},
   "source": [
    "#### 1.7.3 Supprt Vector Machine - StandardScaler 적용"
   ]
  },
  {
   "cell_type": "code",
   "execution_count": null,
   "id": "364f4062",
   "metadata": {},
   "outputs": [],
   "source": [
    "# Visual Python: Machine Learning > Pipeline\n",
    "# [1] Data Prep\n",
    "from sklearn.preprocessing import StandardScaler\n",
    "\n",
    "scaler = StandardScaler()\n",
    "\n",
    "# [2] Fit\n",
    "scaler.fit(X_train)\n",
    "\n",
    "# [3] Transform\n",
    "X_train_scaled = scaler.transform(X_train)"
   ]
  },
  {
   "cell_type": "code",
   "execution_count": null,
   "id": "26c155d2",
   "metadata": {},
   "outputs": [],
   "source": [
    "X_test_scaled = scaler.transform(X_test)"
   ]
  },
  {
   "cell_type": "code",
   "execution_count": null,
   "id": "1dbfc1c8",
   "metadata": {},
   "outputs": [],
   "source": [
    "# Visual Python: Machine Learning > Pipeline\n",
    "# [1] Classifier\n",
    "from sklearn.svm import SVC\n",
    "\n",
    "svc_s = SVC()\n",
    "\n",
    "# [2] Fit\n",
    "svc_s.fit(X_train_scaled, y_train)\n",
    "\n",
    "# [3] Predict\n",
    "pred = svc_s.predict(X_test_scaled)\n",
    "\n",
    "# [4] Evaluation\n",
    "from sklearn import metrics\n",
    "from IPython.display import display, Markdown\n",
    "# Confusion Matrix\n",
    "display(Markdown('### Confusion Matrix'))\n",
    "display(pd.crosstab(y_test, pred, margins=True))\n",
    "# Classification report\n",
    "print(metrics.classification_report(y_test, pred))"
   ]
  },
  {
   "cell_type": "markdown",
   "id": "e0187778",
   "metadata": {},
   "source": [
    "#### 1.7.4 Supprt Vector Machine - MinMaxScaler 적용"
   ]
  },
  {
   "cell_type": "code",
   "execution_count": null,
   "id": "5ba33ee5",
   "metadata": {},
   "outputs": [],
   "source": [
    "# Visual Python: Machine Learning > Pipeline\n",
    "# [1] Data Prep\n",
    "from sklearn.preprocessing import MinMaxScaler\n",
    "\n",
    "scaler_m = MinMaxScaler()\n",
    "\n",
    "# [2] Fit\n",
    "scaler_m.fit(X_train)\n",
    "\n",
    "# [3] Transform\n",
    "X_train_scaled_m = scaler_m.transform(X_train)"
   ]
  },
  {
   "cell_type": "code",
   "execution_count": null,
   "id": "3b706a5f",
   "metadata": {},
   "outputs": [],
   "source": [
    "X_test_scaled_m = scaler_m.transform(X_test)"
   ]
  },
  {
   "cell_type": "code",
   "execution_count": null,
   "id": "7ae89e14",
   "metadata": {},
   "outputs": [],
   "source": [
    "# Visual Python: Machine Learning > Pipeline\n",
    "# [1] Classifier\n",
    "from sklearn.svm import SVC\n",
    "\n",
    "svc_m = SVC()\n",
    "\n",
    "# [2] Fit\n",
    "svc_m.fit(X_train_scaled_m, y_train)\n",
    "\n",
    "# [3] Predict\n",
    "pred = svc_m.predict(X_test_scaled_m)\n",
    "\n",
    "# [4] Evaluation\n",
    "from sklearn import metrics\n",
    "from IPython.display import display, Markdown\n",
    "# Confusion Matrix\n",
    "display(Markdown('### Confusion Matrix'))\n",
    "display(pd.crosstab(y_test, pred, margins=True))\n",
    "# Classification report\n",
    "print(metrics.classification_report(y_test, pred))"
   ]
  },
  {
   "cell_type": "markdown",
   "id": "420e3eeb",
   "metadata": {},
   "source": [
    "# 2 Data Encoding\n",
    "- Feature(X값): 범주형 데이터\n",
    "- [scikit-learn preprocessing](https://scikit-learn.org/stable/modules/classes.html#module-sklearn.preprocessing)"
   ]
  },
  {
   "cell_type": "markdown",
   "id": "71033177",
   "metadata": {},
   "source": [
    "1. Label Encoding\n",
    "2. Ordinal Encoding\n",
    "3. One-hot Encoding\n",
    "4. [Mean Encoding](https://dailyheumsi.tistory.com/120)"
   ]
  },
  {
   "cell_type": "markdown",
   "id": "96d198f1",
   "metadata": {},
   "source": [
    "#### 데이터 로딩"
   ]
  },
  {
   "cell_type": "code",
   "execution_count": null,
   "id": "27627622",
   "metadata": {},
   "outputs": [],
   "source": [
    "df = pd.DataFrame({'col1': [70000, 64000, 72000, 59000, 57000, 67000, 62000 , 69000],\n",
    "                   'col2': ['TV','냉장고','전자렌지','컴퓨터','선풍기','선풍기','믹서','믹서']})\n",
    "df"
   ]
  },
  {
   "cell_type": "markdown",
   "id": "4a98abba",
   "metadata": {},
   "source": [
    "### 2.1 Label Encoding"
   ]
  },
  {
   "cell_type": "markdown",
   "id": "9f6a0f7f",
   "metadata": {},
   "source": [
    "#### 2.1.1 Pandas DataFrame 이용"
   ]
  },
  {
   "cell_type": "code",
   "execution_count": null,
   "id": "ef5c43fa",
   "metadata": {},
   "outputs": [],
   "source": [
    "# Visual Python: Data Analysis > Frame\n",
    "df['col2_label'] = pd.Categorical(df['col2']).codes\n",
    "df"
   ]
  },
  {
   "cell_type": "markdown",
   "id": "85280818",
   "metadata": {},
   "source": [
    "#### 2.1.2 scikit-learn 이용"
   ]
  },
  {
   "cell_type": "code",
   "execution_count": null,
   "id": "3b28a6fb",
   "metadata": {},
   "outputs": [],
   "source": [
    "# Visual Python: Machine Learning > Pipeline\n",
    "# [1] Data Prep\n",
    "from sklearn.preprocessing import LabelEncoder\n",
    "\n",
    "encoder_l = LabelEncoder()\n",
    "\n",
    "# [2] Fit\n",
    "encoder_l.fit(df_iris['variety'])\n",
    "\n",
    "# [3] Transform\n",
    "enc_l = encoder_l.transform(df_iris['variety'])"
   ]
  },
  {
   "cell_type": "markdown",
   "id": "cd1a7162",
   "metadata": {},
   "source": [
    "### 2.2 One-hot Encoding"
   ]
  },
  {
   "cell_type": "markdown",
   "id": "70d1ab12",
   "metadata": {},
   "source": [
    "#### 2.1.2 Pandas DataFrame 이용"
   ]
  },
  {
   "cell_type": "code",
   "execution_count": null,
   "id": "745b8a90",
   "metadata": {},
   "outputs": [],
   "source": [
    "# Visual Python: Data Analysis > Frame\n",
    "df = pd.get_dummies(data=df, columns=['col2'], dtype=int)\n",
    "df"
   ]
  },
  {
   "cell_type": "markdown",
   "id": "fa2a9988",
   "metadata": {},
   "source": [
    "#### 2.2.2 scikit-learn 이용"
   ]
  },
  {
   "cell_type": "code",
   "execution_count": null,
   "id": "691a17c5",
   "metadata": {},
   "outputs": [],
   "source": [
    "# Visual Python: Machine Learning > Pipeline\n",
    "# [1] Data Prep\n",
    "from sklearn.preprocessing import OneHotEncoder\n",
    "\n",
    "encoder_o = OneHotEncoder(sparse_output=False)\n",
    "\n",
    "# [2] Fit\n",
    "encoder_o.fit(df_iris[['variety']])\n",
    "\n",
    "# [3] Transform\n",
    "enc_o = encoder_o.transform(df_iris[['variety']])"
   ]
  },
  {
   "cell_type": "markdown",
   "id": "f076fa13",
   "metadata": {},
   "source": [
    "---"
   ]
  },
  {
   "cell_type": "code",
   "execution_count": null,
   "id": "810a4484",
   "metadata": {},
   "outputs": [],
   "source": [
    "# End of file"
   ]
  },
  {
   "cell_type": "code",
   "execution_count": null,
   "id": "85afea49",
   "metadata": {},
   "outputs": [],
   "source": []
  }
 ],
 "metadata": {
  "kernelspec": {
   "display_name": "Python 3 (ipykernel)",
   "language": "python",
   "name": "python3"
  },
  "language_info": {
   "codemirror_mode": {
    "name": "ipython",
    "version": 3
   },
   "file_extension": ".py",
   "mimetype": "text/x-python",
   "name": "python",
   "nbconvert_exporter": "python",
   "pygments_lexer": "ipython3",
   "version": "3.11.4"
  },
  "vp": {
   "vp_config_version": "1.0.0",
   "vp_menu_width": 273,
   "vp_note_display": false,
   "vp_note_width": 0,
   "vp_position": {
    "width": 278
   },
   "vp_section_display": false,
   "vp_signature": "VisualPython"
  }
 },
 "nbformat": 4,
 "nbformat_minor": 5
}
