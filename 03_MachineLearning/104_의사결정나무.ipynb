{
 "cells": [
  {
   "cell_type": "markdown",
   "id": "075f84b3",
   "metadata": {},
   "source": [
    "# Decision Tree - 의사결정나무"
   ]
  },
  {
   "cell_type": "markdown",
   "id": "368e6fcd",
   "metadata": {},
   "source": [
    "---"
   ]
  },
  {
   "cell_type": "code",
   "execution_count": null,
   "id": "2926f3d7",
   "metadata": {},
   "outputs": [],
   "source": [
    "# Visual Python: Data Analysis > Import\n",
    "import numpy as np\n",
    "import pandas as pd\n",
    "import matplotlib.pyplot as plt\n",
    "%matplotlib inline\n",
    "import seaborn as sns"
   ]
  },
  {
   "cell_type": "markdown",
   "id": "92e122cf",
   "metadata": {},
   "source": [
    "# 1 Decision Tree"
   ]
  },
  {
   "cell_type": "markdown",
   "id": "b1181809",
   "metadata": {},
   "source": [
    "- Gini Index\n",
    "- Entroy Index\n",
    "- Information Gain"
   ]
  },
  {
   "cell_type": "markdown",
   "id": "e038a383",
   "metadata": {},
   "source": [
    "### 1.1 결정 트리 복잡도 제어 - Overfitting 방지"
   ]
  },
  {
   "cell_type": "markdown",
   "id": "54137e03",
   "metadata": {},
   "source": [
    "#### 1.1.1 max_depth 조절"
   ]
  },
  {
   "cell_type": "code",
   "execution_count": null,
   "id": "ec741bb8",
   "metadata": {},
   "outputs": [],
   "source": [
    "# Visual Python: Machine Learning > Data Sets\n",
    "from sklearn.datasets import load_breast_cancer\n",
    "\n",
    "ldata = load_breast_cancer()\n",
    "# Create DataFrame\n",
    "df_ldata = pd.DataFrame(data=ldata.data, columns=ldata.feature_names)\n",
    "df_ldata['target'] = ldata.target\n",
    "df_ldata"
   ]
  },
  {
   "cell_type": "code",
   "execution_count": null,
   "id": "c951dddb",
   "metadata": {},
   "outputs": [],
   "source": [
    "# Visual Python: Machine Learning > Data Split\n",
    "from sklearn.model_selection import train_test_split\n",
    "\n",
    "X_train, X_test, y_train, y_test = train_test_split(df_ldata[['mean radius', 'mean texture', 'mean perimeter', 'mean area', 'mean smoothness', 'mean compactness',\n",
    "                                                              'mean concavity', 'mean concave points', 'mean symmetry', 'mean fractal dimension', 'radius error', \n",
    "                                                              'texture error', 'perimeter error', 'area error', 'smoothness error', 'compactness error', \n",
    "                                                              'concavity error', 'concave points error', 'symmetry error', 'fractal dimension error', 'worst radius', \n",
    "                                                              'worst texture', 'worst perimeter', 'worst area', 'worst smoothness', 'worst compactness', 'worst concavity', \n",
    "                                                              'worst concave points', 'worst symmetry', 'worst fractal dimension']],\n",
    "                                                              df_ldata['target'])"
   ]
  },
  {
   "cell_type": "code",
   "execution_count": null,
   "id": "2231e40b",
   "metadata": {},
   "outputs": [],
   "source": [
    "# Visual Python: Machine Learning > Classifier\n",
    "from sklearn.tree import DecisionTreeClassifier\n",
    "\n",
    "tree = DecisionTreeClassifier()"
   ]
  },
  {
   "cell_type": "code",
   "execution_count": null,
   "id": "177571be",
   "metadata": {},
   "outputs": [],
   "source": [
    "# Visual Python: Machine Learning > Fit/Predict\n",
    "tree.fit(X_train, y_train)"
   ]
  },
  {
   "cell_type": "code",
   "execution_count": null,
   "id": "384f6873",
   "metadata": {},
   "outputs": [],
   "source": [
    "# Visual Python: Machine Learning > Model Info\n",
    "scores = tree.score(X_train, y_train)\n",
    "scores"
   ]
  },
  {
   "cell_type": "code",
   "execution_count": null,
   "id": "03284914",
   "metadata": {},
   "outputs": [],
   "source": [
    "# Visual Python: Machine Learning > Model Info\n",
    "scores_test = tree.score(X_test, y_test)\n",
    "scores_test"
   ]
  },
  {
   "cell_type": "markdown",
   "id": "81fe483d",
   "metadata": {},
   "source": [
    "#### max_depth = 4"
   ]
  },
  {
   "cell_type": "code",
   "execution_count": null,
   "id": "027ade13",
   "metadata": {},
   "outputs": [],
   "source": [
    "# Visual Python: Machine Learning > Classifier\n",
    "from sklearn.tree import DecisionTreeClassifier\n",
    "\n",
    "tree_max4 = DecisionTreeClassifier(max_depth=4)"
   ]
  },
  {
   "cell_type": "code",
   "execution_count": null,
   "id": "f6e323a0",
   "metadata": {},
   "outputs": [],
   "source": [
    "# Visual Python: Machine Learning > Fit/Predict\n",
    "tree_max4.fit(X_train, y_train)"
   ]
  },
  {
   "cell_type": "code",
   "execution_count": null,
   "id": "43a3e30f",
   "metadata": {},
   "outputs": [],
   "source": [
    "# Visual Python: Machine Learning > Model Info\n",
    "scores = tree_max4.score(X_train, y_train)\n",
    "scores"
   ]
  },
  {
   "cell_type": "code",
   "execution_count": null,
   "id": "47574f8f",
   "metadata": {},
   "outputs": [],
   "source": [
    "# Visual Python: Machine Learning > Model Info\n",
    "scores_test = tree_max4.score(X_test, y_test)\n",
    "scores_test"
   ]
  },
  {
   "cell_type": "markdown",
   "id": "d89afb99",
   "metadata": {},
   "source": [
    "### 1.3 결정 트리의 특성 중요도"
   ]
  },
  {
   "cell_type": "markdown",
   "id": "7ab6d0fb",
   "metadata": {},
   "source": [
    "#### Feature Importance - Tree 계열 모델에만 적용 가능\n",
    "#### Permutation Feature Importance - 모든 모델에 적용 가능"
   ]
  },
  {
   "cell_type": "code",
   "execution_count": null,
   "id": "4f66046d",
   "metadata": {},
   "outputs": [],
   "source": [
    "# Visual Python: Machine Learning > Model Info\n",
    "def vp_create_feature_importances(model, X_train=None, sort=False):\n",
    "    if isinstance(X_train, pd.core.frame.DataFrame):\n",
    "        feature_names = X_train.columns\n",
    "    else:\n",
    "        feature_names = [ 'X{}'.format(i) for i in range(len(model.feature_importances_)) ]\n",
    "                        \n",
    "    df_i = pd.DataFrame(model.feature_importances_, index=feature_names, columns=['Feature_importance'])\n",
    "    df_i['Percentage'] = 100 * (df_i['Feature_importance'] / df_i['Feature_importance'].max())\n",
    "    if sort: df_i.sort_values(by='Feature_importance', ascending=False, inplace=True)\n",
    "    df_i = df_i.round(2)\n",
    "                        \n",
    "    return df_i"
   ]
  },
  {
   "cell_type": "code",
   "execution_count": null,
   "id": "c1147ddb",
   "metadata": {},
   "outputs": [],
   "source": [
    "# Visual Python: Machine Learning > Model Info\n",
    "def vp_plot_feature_importances(model, X_train=None, sort=False, top_count=0):\n",
    "    df_i = vp_create_feature_importances(model, X_train, sort)\n",
    "                        \n",
    "    if sort: \n",
    "        if top_count > 0:\n",
    "            df_i['Percentage'].sort_values().tail(top_count).plot(kind='barh')\n",
    "        else:\n",
    "            df_i['Percentage'].sort_values().plot(kind='barh')\n",
    "    else: \n",
    "        df_i['Percentage'].plot(kind='barh')\n",
    "    plt.xlabel('Feature importance Percentage')\n",
    "    plt.ylabel('Features')\n",
    "                        \n",
    "    plt.show()"
   ]
  },
  {
   "cell_type": "code",
   "execution_count": null,
   "id": "4f100924",
   "metadata": {},
   "outputs": [],
   "source": [
    "# Visual Python: Machine Learning > Model Info\n",
    "vp_plot_feature_importances(tree, X_train, sort=True, top_count=10)"
   ]
  },
  {
   "cell_type": "code",
   "execution_count": null,
   "id": "0dcdfd1c",
   "metadata": {},
   "outputs": [],
   "source": []
  },
  {
   "cell_type": "markdown",
   "id": "f076fa13",
   "metadata": {},
   "source": [
    "---"
   ]
  },
  {
   "cell_type": "code",
   "execution_count": null,
   "id": "810a4484",
   "metadata": {},
   "outputs": [],
   "source": [
    "# End of file"
   ]
  },
  {
   "cell_type": "code",
   "execution_count": null,
   "id": "2883e3dc",
   "metadata": {},
   "outputs": [],
   "source": []
  }
 ],
 "metadata": {
  "kernelspec": {
   "display_name": "Python 3 (ipykernel)",
   "language": "python",
   "name": "python3"
  },
  "language_info": {
   "codemirror_mode": {
    "name": "ipython",
    "version": 3
   },
   "file_extension": ".py",
   "mimetype": "text/x-python",
   "name": "python",
   "nbconvert_exporter": "python",
   "pygments_lexer": "ipython3",
   "version": "3.11.4"
  },
  "vp": {
   "vp_config_version": "1.0.0",
   "vp_menu_width": 273,
   "vp_note_display": false,
   "vp_note_width": 0,
   "vp_position": {
    "width": 278
   },
   "vp_section_display": false,
   "vp_signature": "VisualPython"
  }
 },
 "nbformat": 4,
 "nbformat_minor": 5
}
