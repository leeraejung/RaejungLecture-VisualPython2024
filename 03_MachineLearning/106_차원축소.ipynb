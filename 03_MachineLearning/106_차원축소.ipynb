{
 "cells": [
  {
   "cell_type": "markdown",
   "id": "50aff1d3",
   "metadata": {},
   "source": [
    "# Dimension Reduction - 차원 축소"
   ]
  },
  {
   "cell_type": "markdown",
   "id": "f2249a65",
   "metadata": {},
   "source": [
    "---"
   ]
  },
  {
   "cell_type": "code",
   "execution_count": null,
   "id": "2ed289f0",
   "metadata": {},
   "outputs": [],
   "source": [
    "# Visual Python: Data Analysis > Import\n",
    "import numpy as np\n",
    "import pandas as pd\n",
    "import matplotlib.pyplot as plt\n",
    "%matplotlib inline\n",
    "import seaborn as sns"
   ]
  },
  {
   "cell_type": "markdown",
   "id": "61d2b2d5",
   "metadata": {},
   "source": [
    "# 1 PCA(Principal Component Analysis) - 주성분 분석"
   ]
  },
  {
   "cell_type": "markdown",
   "id": "dfc7e3ed",
   "metadata": {},
   "source": [
    "- 피처 선택(Feature selection)\n",
    "- 피처 추출(Feature extraction)"
   ]
  },
  {
   "cell_type": "markdown",
   "id": "99588700",
   "metadata": {},
   "source": [
    "### 1.1 PCA 적용 - Iris 데이터 셋"
   ]
  },
  {
   "cell_type": "markdown",
   "id": "e8722bff",
   "metadata": {},
   "source": [
    "#### 1.1.1 데이터 로딩"
   ]
  },
  {
   "cell_type": "code",
   "execution_count": null,
   "id": "aa1a381d",
   "metadata": {},
   "outputs": [],
   "source": [
    "# Visual Python: Machine Learning > Data Sets\n",
    "from sklearn.datasets import load_iris\n",
    "\n",
    "ldata = load_iris()\n",
    "# Create DataFrame\n",
    "df_ldata = pd.DataFrame(data=ldata.data, columns=ldata.feature_names)\n",
    "df_ldata['target'] = ldata.target\n",
    "df_ldata"
   ]
  },
  {
   "cell_type": "markdown",
   "id": "9a372056",
   "metadata": {},
   "source": [
    "#### 1.1.2 데이터 시각화"
   ]
  },
  {
   "cell_type": "code",
   "execution_count": null,
   "id": "afb64ba9",
   "metadata": {},
   "outputs": [],
   "source": [
    "# Visual Python: Visualization > Seaborn\n",
    "sns.scatterplot(data=df_ldata, x='sepal length (cm)', y='sepal width (cm)', hue='target')\n",
    "plt.show()"
   ]
  },
  {
   "cell_type": "markdown",
   "id": "0b5756c7",
   "metadata": {},
   "source": [
    "#### 1.1.3 데이터 스케일링"
   ]
  },
  {
   "cell_type": "code",
   "execution_count": null,
   "id": "117f8d4c",
   "metadata": {},
   "outputs": [],
   "source": [
    "# Visual Python: Machine Learning > Data Prep\n",
    "from sklearn.preprocessing import StandardScaler\n",
    "\n",
    "scaler = StandardScaler()"
   ]
  },
  {
   "cell_type": "code",
   "execution_count": null,
   "id": "1e59c337",
   "metadata": {
    "scrolled": false
   },
   "outputs": [],
   "source": [
    "# Visual Python: Machine Learning > Fit/Predict\n",
    "X_scaled = scaler.fit_transform(df_ldata[['sepal length (cm)', 'sepal width (cm)', 'petal length (cm)', 'petal width (cm)']])"
   ]
  },
  {
   "cell_type": "markdown",
   "id": "737b51b0",
   "metadata": {},
   "source": [
    "#### 1.2.4 PCA 적용"
   ]
  },
  {
   "cell_type": "code",
   "execution_count": null,
   "id": "db4a30ad",
   "metadata": {},
   "outputs": [],
   "source": [
    "# Visual Python: Machine Learning > Dimension\n",
    "from sklearn.decomposition import PCA\n",
    "\n",
    "pca = PCA(n_components=2)"
   ]
  },
  {
   "cell_type": "code",
   "execution_count": null,
   "id": "4edce76a",
   "metadata": {},
   "outputs": [],
   "source": [
    "# Visual Python: Machine Learning > Fit/Predict\n",
    "X_pca = pca.fit_transform(X_scaled)\n",
    "X_pca"
   ]
  },
  {
   "cell_type": "code",
   "execution_count": null,
   "id": "a9332a14",
   "metadata": {},
   "outputs": [],
   "source": [
    "print('원본 데이터 형태:', X_scaled.shape)\n",
    "print('PCA 적용된 데이터 형태:', X_pca.shape)"
   ]
  },
  {
   "cell_type": "markdown",
   "id": "183a55eb",
   "metadata": {},
   "source": [
    "#### 1.2.5 PCA 성분\n",
    "- 정보를 담고 있는 비율"
   ]
  },
  {
   "cell_type": "code",
   "execution_count": null,
   "id": "3efb3fc8",
   "metadata": {},
   "outputs": [],
   "source": [
    "# Visual Python: Machine Learning > Model Info\n",
    "ratio = pca.explained_variance_ratio_\n",
    "ratio"
   ]
  },
  {
   "cell_type": "markdown",
   "id": "cea76b5e",
   "metadata": {},
   "source": [
    "#### 1.2.6 PCA 적용된 DataFrame 생성"
   ]
  },
  {
   "cell_type": "code",
   "execution_count": null,
   "id": "158fc83a",
   "metadata": {},
   "outputs": [],
   "source": [
    "df_pca = pd.DataFrame(X_pca, columns=['col1', 'col2'])\n",
    "\n",
    "df_pca['target']= df_ldata['target']\n",
    "df_pca"
   ]
  },
  {
   "cell_type": "markdown",
   "id": "29d847e1",
   "metadata": {},
   "source": [
    "#### 1.2.7 PCA 적용된 데이터 시각화"
   ]
  },
  {
   "cell_type": "code",
   "execution_count": null,
   "id": "bd659652",
   "metadata": {},
   "outputs": [],
   "source": [
    "# Visual Python: Visualization > Seaborn\n",
    "sns.scatterplot(data=df_pca, x='col1', y='col2', hue='target')\n",
    "plt.show()"
   ]
  },
  {
   "cell_type": "markdown",
   "id": "f65adbca",
   "metadata": {},
   "source": [
    "#### 1.2.8 분류 예측: 원본 데이터 사용"
   ]
  },
  {
   "cell_type": "code",
   "execution_count": null,
   "id": "131c02ce",
   "metadata": {},
   "outputs": [],
   "source": [
    "# Visual Python: Machine Learning > Pipeline\n",
    "# [1] Data Split\n",
    "from sklearn.model_selection import train_test_split\n",
    "\n",
    "X_train, X_test, y_train, y_test = train_test_split(df_ldata[['sepal length (cm)', 'sepal width (cm)', 'petal length (cm)', 'petal width (cm)']], df_ldata['target'])\n",
    "\n",
    "# [2] Classifier\n",
    "from sklearn.ensemble import RandomForestClassifier\n",
    "\n",
    "model = RandomForestClassifier()\n",
    "\n",
    "# [3] Fit\n",
    "model.fit(X_train, y_train)\n",
    "\n",
    "# [4] Predict\n",
    "pred = model.predict(X_test)\n",
    "\n",
    "# [5] Evaluation\n",
    "from sklearn import metrics\n",
    "from IPython.display import display, Markdown\n",
    "# Confusion Matrix\n",
    "display(Markdown('### Confusion Matrix'))\n",
    "display(pd.crosstab(y_test, pred, margins=True))\n",
    "# Classification report\n",
    "print(metrics.classification_report(y_test, pred))"
   ]
  },
  {
   "cell_type": "markdown",
   "id": "2222325f",
   "metadata": {},
   "source": [
    "#### 1.2.9 분류 예측: PCA 적용된 데이터 사용"
   ]
  },
  {
   "cell_type": "code",
   "execution_count": null,
   "id": "9ddd597d",
   "metadata": {},
   "outputs": [],
   "source": [
    "# Visual Python: Machine Learning > Pipeline\n",
    "# [1] Data Split\n",
    "from sklearn.model_selection import train_test_split\n",
    "\n",
    "X_train, X_test, y_train, y_test = train_test_split(df_pca[['col1', 'col2']], df_pca['target'])\n",
    "\n",
    "# [2] Classifier\n",
    "from sklearn.ensemble import RandomForestClassifier\n",
    "\n",
    "model = RandomForestClassifier()\n",
    "\n",
    "# [3] Fit\n",
    "model.fit(X_train, y_train)\n",
    "\n",
    "# [4] Predict\n",
    "pred = model.predict(X_test)\n",
    "\n",
    "# [5] Evaluation\n",
    "from sklearn import metrics\n",
    "from IPython.display import display, Markdown\n",
    "# Confusion Matrix\n",
    "display(Markdown('### Confusion Matrix'))\n",
    "display(pd.crosstab(y_test, pred, margins=True))\n",
    "# Classification report\n",
    "print(metrics.classification_report(y_test, pred))"
   ]
  },
  {
   "cell_type": "code",
   "execution_count": null,
   "id": "a4f9ac52",
   "metadata": {},
   "outputs": [],
   "source": []
  },
  {
   "cell_type": "markdown",
   "id": "f076fa13",
   "metadata": {},
   "source": [
    "---"
   ]
  },
  {
   "cell_type": "code",
   "execution_count": null,
   "id": "810a4484",
   "metadata": {},
   "outputs": [],
   "source": [
    "# End of file"
   ]
  },
  {
   "cell_type": "code",
   "execution_count": null,
   "id": "96ce6113",
   "metadata": {},
   "outputs": [],
   "source": []
  }
 ],
 "metadata": {
  "kernelspec": {
   "display_name": "Python 3 (ipykernel)",
   "language": "python",
   "name": "python3"
  },
  "language_info": {
   "codemirror_mode": {
    "name": "ipython",
    "version": 3
   },
   "file_extension": ".py",
   "mimetype": "text/x-python",
   "name": "python",
   "nbconvert_exporter": "python",
   "pygments_lexer": "ipython3",
   "version": "3.11.4"
  },
  "vp": {
   "vp_config_version": "1.0.0",
   "vp_menu_width": 273,
   "vp_note_display": false,
   "vp_note_width": 0,
   "vp_position": {
    "width": 278
   },
   "vp_section_display": false,
   "vp_signature": "VisualPython"
  }
 },
 "nbformat": 4,
 "nbformat_minor": 5
}
