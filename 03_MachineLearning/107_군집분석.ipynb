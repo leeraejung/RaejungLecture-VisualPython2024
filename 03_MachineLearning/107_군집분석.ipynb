{
 "cells": [
  {
   "cell_type": "markdown",
   "id": "16feef88",
   "metadata": {},
   "source": [
    "# Clustering - 군집 분석"
   ]
  },
  {
   "cell_type": "markdown",
   "id": "4620cec6",
   "metadata": {},
   "source": [
    "---"
   ]
  },
  {
   "cell_type": "code",
   "execution_count": null,
   "id": "daaec586",
   "metadata": {},
   "outputs": [],
   "source": [
    "# Visual Python: Data Analysis > Import\n",
    "import numpy as np\n",
    "import pandas as pd\n",
    "import matplotlib.pyplot as plt\n",
    "%matplotlib inline\n",
    "import seaborn as sns"
   ]
  },
  {
   "cell_type": "code",
   "execution_count": null,
   "id": "4d1397d7",
   "metadata": {},
   "outputs": [],
   "source": [
    "# Visual Python: Visualization > Chart Style\n",
    "import matplotlib.pyplot as plt\n",
    "%matplotlib inline\n",
    "import seaborn as sns\n",
    "plt.rc('figure', figsize=(8, 6))\n",
    "\n",
    "from matplotlib import rcParams\n",
    "rcParams['font.family'] = 'New Gulim'\n",
    "rcParams['font.size'] = 10\n",
    "rcParams['axes.unicode_minus'] = False"
   ]
  },
  {
   "cell_type": "markdown",
   "id": "dfd9a680",
   "metadata": {},
   "source": [
    "# 1 유럽 국가별 단백질 섭취원 비율"
   ]
  },
  {
   "cell_type": "markdown",
   "id": "6d8fa8ad",
   "metadata": {},
   "source": [
    "#### 데이터 로드"
   ]
  },
  {
   "cell_type": "code",
   "execution_count": null,
   "id": "cc476385",
   "metadata": {},
   "outputs": [],
   "source": [
    "# Visual Python: Data Analysis > File\n",
    "df = pd.read_csv('./data/protein.csv', index_col='Country')\n",
    "df"
   ]
  },
  {
   "cell_type": "markdown",
   "id": "1c580100",
   "metadata": {},
   "source": [
    "### 1.1 K-Means 알고리즘"
   ]
  },
  {
   "cell_type": "code",
   "execution_count": null,
   "id": "b80835fa",
   "metadata": {},
   "outputs": [],
   "source": [
    "# Visual Python: Machine Learning > Clustering\n",
    "from sklearn.cluster import KMeans\n",
    "\n",
    "model = KMeans(n_clusters=5)"
   ]
  },
  {
   "cell_type": "code",
   "execution_count": null,
   "id": "589e484e",
   "metadata": {},
   "outputs": [],
   "source": [
    "# Visual Python: Machine Learning > Fit/Predict\n",
    "pred = model.fit_predict(df)\n",
    "pred"
   ]
  },
  {
   "cell_type": "code",
   "execution_count": null,
   "id": "a21ce92a",
   "metadata": {},
   "outputs": [],
   "source": [
    "# Visual Python: Data Analysis > Frame\n",
    "df['gpnum'] = pred\n",
    "df"
   ]
  },
  {
   "cell_type": "markdown",
   "id": "dfb2c2e8",
   "metadata": {},
   "source": [
    "### 1.2 병합군집(Agglomerative Clustering)"
   ]
  },
  {
   "cell_type": "code",
   "execution_count": null,
   "id": "39bd7f89",
   "metadata": {},
   "outputs": [],
   "source": [
    "# Visual Python: Machine Learning > Clustering\n",
    "from sklearn.cluster import AgglomerativeClustering\n",
    "\n",
    "model = AgglomerativeClustering(n_clusters=5)"
   ]
  },
  {
   "cell_type": "code",
   "execution_count": null,
   "id": "13276fe7",
   "metadata": {},
   "outputs": [],
   "source": [
    "# Visual Python: Machine Learning > Fit/Predict\n",
    "pred = model.fit_predict(df)\n",
    "pred"
   ]
  },
  {
   "cell_type": "markdown",
   "id": "cd640d0d",
   "metadata": {},
   "source": [
    "### 1.3 GMM(Gaussian Mixture Model)"
   ]
  },
  {
   "cell_type": "code",
   "execution_count": null,
   "id": "57e3c579",
   "metadata": {},
   "outputs": [],
   "source": [
    "# Visual Python: Machine Learning > Clustering\n",
    "from sklearn.mixture import GaussianMixture\n",
    "\n",
    "model = GaussianMixture(n_components=5)"
   ]
  },
  {
   "cell_type": "code",
   "execution_count": null,
   "id": "b6b2ae1e",
   "metadata": {
    "scrolled": true
   },
   "outputs": [],
   "source": [
    "# Visual Python: Machine Learning > Fit/Predict\n",
    "pred = model.fit_predict(df)\n",
    "pred"
   ]
  },
  {
   "cell_type": "markdown",
   "id": "56aae2ea",
   "metadata": {},
   "source": [
    "### 1.4 DBSCAN"
   ]
  },
  {
   "cell_type": "code",
   "execution_count": null,
   "id": "d0f74b1f",
   "metadata": {},
   "outputs": [],
   "source": [
    "# Visual Python: Machine Learning > Clustering\n",
    "from sklearn.cluster import DBSCAN\n",
    "\n",
    "model = DBSCAN()"
   ]
  },
  {
   "cell_type": "code",
   "execution_count": null,
   "id": "64c6a740",
   "metadata": {},
   "outputs": [],
   "source": [
    "# Visual Python: Machine Learning > Fit/Predict\n",
    "pred = model.fit_predict(df)\n",
    "pred"
   ]
  },
  {
   "cell_type": "markdown",
   "id": "4a88dc0b",
   "metadata": {},
   "source": [
    "# 2 K-Means\n",
    "- 거리 기반 군집 알고리즘"
   ]
  },
  {
   "cell_type": "markdown",
   "id": "af2da3ff",
   "metadata": {},
   "source": [
    "### 2.1 K-Means 알고리즘"
   ]
  },
  {
   "cell_type": "markdown",
   "id": "ada8e5bb",
   "metadata": {},
   "source": [
    "#### 2.1.1 데이터 생성"
   ]
  },
  {
   "cell_type": "code",
   "execution_count": null,
   "id": "9ec6d782",
   "metadata": {},
   "outputs": [],
   "source": [
    "# Visual Python: Machine Learning > Data Sets\n",
    "from sklearn.datasets import make_blobs\n",
    "\n",
    "_X, _y = make_blobs(n_features=2)\n",
    "# Create DataFrame\n",
    "_feature_names = ['X{}'.format(i+1) for i in range(len(_X[0]))]\n",
    "df_bl = pd.DataFrame(data=_X, columns=_feature_names)\n",
    "df_bl['target'] = _y\n",
    "df_bl"
   ]
  },
  {
   "cell_type": "markdown",
   "id": "f08ac264",
   "metadata": {},
   "source": [
    "#### 2.1.2 K-Means 군집 모델 생성"
   ]
  },
  {
   "cell_type": "code",
   "execution_count": null,
   "id": "a01a4a9e",
   "metadata": {},
   "outputs": [],
   "source": [
    "# Visual Python: Machine Learning > Clustering\n",
    "from sklearn.cluster import KMeans\n",
    "\n",
    "kmeans = KMeans(n_clusters=3)"
   ]
  },
  {
   "cell_type": "code",
   "execution_count": null,
   "id": "e29d74ae",
   "metadata": {},
   "outputs": [],
   "source": [
    "# Visual Python: Machine Learning > Fit/Predict\n",
    "kmeans.fit(df_bl[['X1', 'X2']])"
   ]
  },
  {
   "cell_type": "code",
   "execution_count": null,
   "id": "65ab8d8a",
   "metadata": {},
   "outputs": [],
   "source": [
    "# Visual Python: Machine Learning > Fit/Predict\n",
    "pred = kmeans.predict(df_bl[['X1', 'X2']])\n",
    "pred"
   ]
  },
  {
   "cell_type": "code",
   "execution_count": null,
   "id": "784a0256",
   "metadata": {},
   "outputs": [],
   "source": [
    "import matplotlib as mpl\n",
    "from matplotlib.colors import ListedColormap, colorConverter, LinearSegmentedColormap\n",
    "\n",
    "cm_cycle = ListedColormap(['#0000aa', '#ff5050', '#50ff50', '#9040a0', '#fff000'])\n",
    "cm3 = ListedColormap(['#0000aa', '#ff2020', '#50ff50'])\n",
    "cm2 = ListedColormap(['#0000aa', '#ff2020'])\n",
    "\n",
    "# create a smooth transition from the first to to the second color of cm3\n",
    "# similar to RdBu but with our red and blue, also not going through white,\n",
    "# which is really bad for greyscale\n",
    "\n",
    "cdict = {'red': [(0.0, 0.0, cm2(0)[0]),\n",
    "                 (1.0, cm2(1)[0], 1.0)],\n",
    "\n",
    "         'green': [(0.0, 0.0, cm2(0)[1]),\n",
    "                   (1.0, cm2(1)[1], 1.0)],\n",
    "\n",
    "         'blue': [(0.0, 0.0, cm2(0)[2]),\n",
    "                  (1.0, cm2(1)[2], 1.0)]}\n",
    "\n",
    "ReBl = LinearSegmentedColormap(\"ReBl\", cdict)\n",
    "\n",
    "def discrete_scatter(x1, x2, y=None, markers=None, s=10, ax=None,\n",
    "                     labels=None, padding=.2, alpha=1, c=None, markeredgewidth=None):\n",
    "    if ax is None:\n",
    "        ax = plt.gca()\n",
    "\n",
    "    if y is None:\n",
    "        y = np.zeros(len(x1))\n",
    "\n",
    "    unique_y = np.unique(y)\n",
    "\n",
    "    if markers is None:\n",
    "        markers = ['o', '^', 'v', 'D', 's', '*', 'p', 'h', 'H', '8', '<', '>'] * 10\n",
    "\n",
    "    if len(markers) == 1:\n",
    "        markers = markers * len(unique_y)\n",
    "\n",
    "    if labels is None:\n",
    "        labels = unique_y\n",
    "\n",
    "    # lines in the matplotlib sense, not actual lines\n",
    "    lines = []\n",
    "\n",
    "    current_cycler = mpl.rcParams['axes.prop_cycle']\n",
    "\n",
    "    for i, (yy, cycle) in enumerate(zip(unique_y, current_cycler())):\n",
    "        mask = y == yy\n",
    "        # if c is none, use color cycle\n",
    "        if c is None:\n",
    "            color = cycle['color']\n",
    "        elif len(c) > 1:\n",
    "            color = c[i]\n",
    "        else:\n",
    "            color = c\n",
    "        # use light edge for dark markers\n",
    "        if np.mean(colorConverter.to_rgb(color)) < .4:\n",
    "            markeredgecolor = \"grey\"\n",
    "        else:\n",
    "            markeredgecolor = \"black\"\n",
    "\n",
    "        lines.append(ax.plot(x1[mask], x2[mask], markers[i], markersize=s,\n",
    "                             label=labels[i], alpha=alpha, c=color,\n",
    "                             markeredgewidth=markeredgewidth,\n",
    "                             markeredgecolor=markeredgecolor)[0])\n",
    "\n",
    "    if padding != 0:\n",
    "        pad1 = x1.std() * padding\n",
    "        pad2 = x2.std() * padding\n",
    "        xlim = ax.get_xlim()\n",
    "        ylim = ax.get_ylim()\n",
    "        ax.set_xlim(min(x1.min() - pad1, xlim[0]), max(x1.max() + pad1, xlim[1]))\n",
    "        ax.set_ylim(min(x2.min() - pad2, ylim[0]), max(x2.max() + pad2, ylim[1]))\n",
    "\n",
    "    return lines"
   ]
  },
  {
   "cell_type": "code",
   "execution_count": null,
   "id": "df868adc",
   "metadata": {},
   "outputs": [],
   "source": [
    "# 클러스터 할당 시각화\n",
    "discrete_scatter(df_bl['X1'], df_bl['X2'], pred, markers='o')\n",
    "\n",
    "plt.title('KMeans Clustering')\n",
    "plt.xlabel('X1')\n",
    "plt.ylabel('X2')\n",
    "plt.show()"
   ]
  },
  {
   "cell_type": "markdown",
   "id": "e9218034",
   "metadata": {},
   "source": [
    "# 3 병합군집(Agglomerative Clustering)"
   ]
  },
  {
   "cell_type": "markdown",
   "id": "286fcb8c",
   "metadata": {},
   "source": [
    "#### linkage 옵션\n",
    "- ward: 기본값인 ward 연결은 모든 클러스터 내의 분산을 가장 작게 증가시키는 두 클러스터를 병합. 크기가 비교적 비슷한 클러스터 생성\n",
    "- average: 클러스터 포인트 사이의 평균 거리가 가장 짧은 두 클러스터를 병합\n",
    "- complete: 클러스터 포인트 사이의 최대 거리가 가장 짧은 두 클러스터를 병합"
   ]
  },
  {
   "cell_type": "markdown",
   "id": "9c814c43",
   "metadata": {},
   "source": [
    "### 3.1 병합군집(Agglomerative Clustering)"
   ]
  },
  {
   "cell_type": "code",
   "execution_count": null,
   "id": "3762c7a6",
   "metadata": {},
   "outputs": [],
   "source": [
    "# 데이터 생성\n",
    "from sklearn.datasets import make_blobs\n",
    "\n",
    "X, y = make_blobs(random_state=0, n_samples=12)"
   ]
  },
  {
   "cell_type": "code",
   "execution_count": null,
   "id": "f49b53f7",
   "metadata": {},
   "outputs": [],
   "source": [
    "from scipy.cluster.hierarchy import dendrogram, ward\n",
    "\n",
    "# 덴드로 그램\n",
    "linkage_array = ward(X)\n",
    "dendrogram(linkage_array)\n",
    "\n",
    "# 두 개와 세 개의 클러스터를 구분하는 커트라인을 표시\n",
    "ax = plt.gca()\n",
    "bounds = ax.get_xbound()\n",
    "ax.plot(bounds, [7.25, 7.25], '--', c='k')\n",
    "ax.plot(bounds, [4, 4], '--', c='k')\n",
    "\n",
    "ax.text(bounds[1], 7.25, ' 두 개 클러스터', va='center', fontdict={'size': 15})\n",
    "ax.text(bounds[1], 4, ' 세 개 클러스터', va='center', fontdict={'size': 15})\n",
    "\n",
    "plt.xlabel('샘플 번호')\n",
    "plt.ylabel('클러스터 거리')\n",
    "plt.show()"
   ]
  },
  {
   "cell_type": "markdown",
   "id": "6b50e937",
   "metadata": {},
   "source": [
    "# 4 GMM(Gaussian Mixture Model)"
   ]
  },
  {
   "cell_type": "markdown",
   "id": "56ad429e",
   "metadata": {},
   "source": [
    "- 확률 기반 군집 알고리즘"
   ]
  },
  {
   "cell_type": "code",
   "execution_count": null,
   "id": "864a8ebe",
   "metadata": {},
   "outputs": [],
   "source": [
    "# 무작위로 클러스터 데이터 생성\n",
    "from sklearn.datasets import make_blobs\n",
    "\n",
    "X, y = make_blobs(random_state=170, n_samples=600)\n",
    "rng = np.random.RandomState(74)\n",
    "\n",
    "# 데이터가 길게 늘어지도록 변경\n",
    "transformation = rng.normal(size=(2, 2))\n",
    "X = np.dot(X, transformation)"
   ]
  },
  {
   "cell_type": "code",
   "execution_count": null,
   "id": "a901ac5c",
   "metadata": {},
   "outputs": [],
   "source": [
    "# 세개의 클러스터로 GMM 알고리즘 적용\n",
    "from sklearn.mixture import GaussianMixture\n",
    "\n",
    "gmm = GaussianMixture(n_components=3, random_state=0)\n",
    "gmm_label = gmm.fit(X).predict(X)"
   ]
  },
  {
   "cell_type": "code",
   "execution_count": null,
   "id": "907ab05e",
   "metadata": {},
   "outputs": [],
   "source": [
    "# 클러스터 할당 시각화\n",
    "discrete_scatter(X[:,0], X[:,1], gmm_label, markers='o')\n",
    "\n",
    "plt.title('원형이 아닌 클러스터에 GMM 적용')\n",
    "plt.xlabel('특성 0')\n",
    "plt.ylabel('특성 1')\n",
    "plt.show()"
   ]
  },
  {
   "cell_type": "markdown",
   "id": "4e770b48",
   "metadata": {},
   "source": [
    "# 5 DBSCAN"
   ]
  },
  {
   "cell_type": "markdown",
   "id": "9d3eba98",
   "metadata": {},
   "source": [
    "#### 옵션\n",
    "- 입실론 주변 영역(epsilon): 개별 데이터를 중심으로 입실론 반경을 가지는 원형의 영역\n",
    "- 최소 데이터 개수(min points): 개별 데이터의 입실론 주변 영역에 포함되는 타 데이터의 개수"
   ]
  },
  {
   "cell_type": "markdown",
   "id": "4a43eb87",
   "metadata": {},
   "source": [
    "#### 포인트 구분\n",
    "- 핵심 포인트(Core Point): 주변 영역 내에 최소 데이터 개수 이상의 타 데이터를 가지고 있는 데이터 포인트\n",
    "- 이웃 포인트(Neighbor Point): 주변 영역 내에 위치한 타 데이터 포인트\n",
    "- 경계 포인트(Border Point): 핵심 포인트를 이웃 포인트로 가지고 있는 데이터 포인트\n",
    "- 잡음 포인트(Noise Point): 최소 데이터 개수 이상의 이웃 포인트를 가지고 있지 않고 핵심 포인트를 이웃 포인트로도 가지고 있지 않은 데이터 포인트"
   ]
  },
  {
   "cell_type": "markdown",
   "id": "1e22c46c",
   "metadata": {},
   "source": [
    "### 5.1 DBSCAN 적용"
   ]
  },
  {
   "cell_type": "code",
   "execution_count": null,
   "id": "0e91af4d",
   "metadata": {},
   "outputs": [],
   "source": [
    "# 데이터 생성\n",
    "from sklearn.datasets import make_blobs\n",
    "X, y = make_blobs(random_state=0, n_samples=12)"
   ]
  },
  {
   "cell_type": "code",
   "execution_count": null,
   "id": "a9873dcf",
   "metadata": {},
   "outputs": [],
   "source": [
    "# DBSCAN\n",
    "from sklearn.cluster import DBSCAN\n",
    "\n",
    "dbscan = DBSCAN()\n",
    "clusters = dbscan.fit_predict(X)\n",
    "\n",
    "print('클러스터 레이블:\\n', clusters)"
   ]
  },
  {
   "cell_type": "markdown",
   "id": "47789f0f",
   "metadata": {},
   "source": [
    "### 5.2 DBSCAN 적용 - 데이터 스케일링"
   ]
  },
  {
   "cell_type": "code",
   "execution_count": null,
   "id": "95dff265",
   "metadata": {},
   "outputs": [],
   "source": [
    "# 데이터 생성\n",
    "from sklearn.datasets import make_moons\n",
    "\n",
    "X, y = make_moons(n_samples=200, noise=0.05, random_state=0)"
   ]
  },
  {
   "cell_type": "code",
   "execution_count": null,
   "id": "67e67c6e",
   "metadata": {},
   "outputs": [],
   "source": [
    "# 스케일 조정\n",
    "from sklearn.preprocessing import StandardScaler\n",
    "\n",
    "scaler = StandardScaler()\n",
    "scaler.fit(X)\n",
    "X_scaled = scaler.transform(X)"
   ]
  },
  {
   "cell_type": "code",
   "execution_count": null,
   "id": "aa6b0de0",
   "metadata": {},
   "outputs": [],
   "source": [
    "# DBSCAN\n",
    "from sklearn.cluster import DBSCAN\n",
    "\n",
    "dbscan = DBSCAN()\n",
    "clusters = dbscan.fit_predict(X_scaled)"
   ]
  },
  {
   "cell_type": "code",
   "execution_count": null,
   "id": "04c519de",
   "metadata": {},
   "outputs": [],
   "source": [
    "# 클러스터 할당 시각화\n",
    "\n",
    "plt.scatter(X_scaled[:,0], X_scaled[:,1], c=clusters, cmap=cm2, s=60, edgecolors='black')\n",
    "\n",
    "plt.title('기본값 eps=0.5를 사용해 DBSCAN으로 찾은 클러스터 할당')\n",
    "plt.xlabel('특성 0')\n",
    "plt.ylabel('특성 1')\n",
    "plt.show()"
   ]
  },
  {
   "cell_type": "markdown",
   "id": "5ed71ebd",
   "metadata": {},
   "source": [
    "### 5.3 DBSCAN 적용 - 원형 데이터"
   ]
  },
  {
   "cell_type": "code",
   "execution_count": null,
   "id": "3d8bc7b4",
   "metadata": {},
   "outputs": [],
   "source": [
    "# 데이터 생성\n",
    "from sklearn.datasets import make_circles\n",
    "\n",
    "X, y = make_circles(n_samples=1000, shuffle=True, noise=0.05, random_state=0, factor=0.5)"
   ]
  },
  {
   "cell_type": "code",
   "execution_count": null,
   "id": "5bea72a4",
   "metadata": {},
   "outputs": [],
   "source": [
    "# DBSCAN\n",
    "from sklearn.cluster import DBSCAN\n",
    "\n",
    "dbscan = DBSCAN(eps=0.2, min_samples=10, metric='euclidean')\n",
    "clusters = dbscan.fit_predict(X)"
   ]
  },
  {
   "cell_type": "code",
   "execution_count": null,
   "id": "9c309114",
   "metadata": {},
   "outputs": [],
   "source": [
    "# 클러스터 할당 시각화\n",
    "\n",
    "plt.scatter(X[:,0], X[:,1], c=clusters, cmap=cm2, s=60, edgecolors='black')\n",
    "\n",
    "plt.title('원형 데이터 분포를 DBSCAN으로 찾은 클러스터 할당')\n",
    "plt.xlabel('특성 0')\n",
    "plt.ylabel('특성 1')\n",
    "plt.show()"
   ]
  },
  {
   "cell_type": "code",
   "execution_count": null,
   "id": "1206e567",
   "metadata": {},
   "outputs": [],
   "source": []
  },
  {
   "cell_type": "markdown",
   "id": "f076fa13",
   "metadata": {},
   "source": [
    "---"
   ]
  },
  {
   "cell_type": "code",
   "execution_count": null,
   "id": "810a4484",
   "metadata": {},
   "outputs": [],
   "source": [
    "# End of file"
   ]
  },
  {
   "cell_type": "code",
   "execution_count": null,
   "id": "09323c66",
   "metadata": {},
   "outputs": [],
   "source": []
  }
 ],
 "metadata": {
  "kernelspec": {
   "display_name": "Python 3 (ipykernel)",
   "language": "python",
   "name": "python3"
  },
  "language_info": {
   "codemirror_mode": {
    "name": "ipython",
    "version": 3
   },
   "file_extension": ".py",
   "mimetype": "text/x-python",
   "name": "python",
   "nbconvert_exporter": "python",
   "pygments_lexer": "ipython3",
   "version": "3.11.4"
  },
  "vp": {
   "vp_config_version": "1.0.0",
   "vp_menu_width": 273,
   "vp_note_display": false,
   "vp_note_width": 0,
   "vp_position": {
    "width": 278
   },
   "vp_section_display": false,
   "vp_signature": "VisualPython"
  }
 },
 "nbformat": 4,
 "nbformat_minor": 5
}
