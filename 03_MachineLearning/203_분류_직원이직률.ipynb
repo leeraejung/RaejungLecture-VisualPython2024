{
 "cells": [
  {
   "cell_type": "markdown",
   "id": "e54cce21-c0e4-46a7-aded-1840bd3b4417",
   "metadata": {},
   "source": [
    "# 분류 - 직원 이직률"
   ]
  },
  {
   "cell_type": "markdown",
   "id": "028d7d16-a3c9-4ef2-b437-fc98ae20bc8c",
   "metadata": {},
   "source": [
    "직원 이직률 데이터 활용\n",
    "- Employee Turnover\n",
    "- 출처 : [Kaggle - Employee Turnover](https://www.kaggle.com/datasets/davinwijaya/employee-turnover)\n",
    "- 총 16개 컬럼 중 Target 컬럼은 `event`"
   ]
  },
  {
   "cell_type": "markdown",
   "id": "048a9870-f327-49f6-9244-8338b39df80b",
   "metadata": {},
   "source": [
    "---"
   ]
  },
  {
   "cell_type": "markdown",
   "id": "214d7e95",
   "metadata": {},
   "source": [
    "# Import Libraries & Load data"
   ]
  },
  {
   "cell_type": "code",
   "execution_count": null,
   "id": "88724e6c-bd98-487f-bed2-13cc169fb43c",
   "metadata": {},
   "outputs": [],
   "source": [
    "# Visual Python: Data Analysis > Import\n",
    "import numpy as np\n",
    "import pandas as pd\n",
    "import matplotlib.pyplot as plt\n",
    "%matplotlib inline\n",
    "import seaborn as sns"
   ]
  },
  {
   "cell_type": "code",
   "execution_count": null,
   "id": "8b91ef1b",
   "metadata": {},
   "outputs": [],
   "source": [
    "# Visual Python: Data Analysis > File\n",
    "df = pd.read_csv('./data/Employee_Turnover.csv')\n",
    "df"
   ]
  },
  {
   "cell_type": "markdown",
   "id": "123bf6ca-464e-4b1d-8aa5-4dc2d8a79c3b",
   "metadata": {},
   "source": [
    "# EDA & Data Preprocessing"
   ]
  },
  {
   "cell_type": "markdown",
   "id": "f1fa4f37-74bd-41f2-be3a-e02c6387e3b6",
   "metadata": {},
   "source": [
    "#### Q. 데이터의 상위 5개 행을 출력하세요."
   ]
  },
  {
   "cell_type": "code",
   "execution_count": null,
   "id": "654e5555-ed0a-4a43-bba2-fc0650bbacb7",
   "metadata": {},
   "outputs": [],
   "source": [
    "# Visual Python: Data Analysis > Data Info\n",
    "df.head()"
   ]
  },
  {
   "cell_type": "markdown",
   "id": "4b405b3a-9bf9-41b6-82b8-7746336ae504",
   "metadata": {},
   "source": [
    "#### Q. 각 컬럼별 데이터 타입과 데이터 개수를 확인하세요."
   ]
  },
  {
   "cell_type": "code",
   "execution_count": null,
   "id": "9ec8ca8b-120f-4361-954c-81e2ea54f3a9",
   "metadata": {},
   "outputs": [],
   "source": [
    "# Visual Python: Data Analysis > Data Info\n",
    "df.info()"
   ]
  },
  {
   "cell_type": "code",
   "execution_count": null,
   "id": "aece482a",
   "metadata": {},
   "outputs": [],
   "source": [
    "# 타겟 컬럼\n",
    "col_target = 'event'\n",
    "# 수치형 컬럼\n",
    "col_num = ['stag', 'age', 'extraversion', 'independ', 'selfcontrol', 'anxiety', 'novator']"
   ]
  },
  {
   "cell_type": "markdown",
   "id": "0ed2a072-b971-46e9-8755-23fc72a13f64",
   "metadata": {},
   "source": [
    "#### Q. 각 컬럼의 결측치 수를 확인하세요."
   ]
  },
  {
   "cell_type": "code",
   "execution_count": null,
   "id": "1d4e3439",
   "metadata": {},
   "outputs": [],
   "source": [
    "# Visual Python: Data Analysis > Data Info\n",
    "pd.DataFrame({'Null Count': df.isnull().sum(), 'Non-Null Count': df.notnull().sum()})"
   ]
  },
  {
   "cell_type": "markdown",
   "id": "bb2f69cb-7fe9-43b4-a1f8-b50a7c207168",
   "metadata": {},
   "source": [
    "#### Q. 수치형 컬럼들의 통계값을 출력하세요.\n",
    "- 수치형 컬럼: `stag`, `age`, `extraversion`, `independ`, `selfcontrol`, `anxiety`, `novator`"
   ]
  },
  {
   "cell_type": "code",
   "execution_count": null,
   "id": "a8298fd2",
   "metadata": {},
   "outputs": [],
   "source": [
    "# Visual Python: Data Analysis > Data Info\n",
    "df.describe()"
   ]
  },
  {
   "cell_type": "markdown",
   "id": "6e73c9ad",
   "metadata": {},
   "source": [
    "#### Q. 수치형 컬럼간 상관계수를 확인하시오."
   ]
  },
  {
   "cell_type": "code",
   "execution_count": null,
   "id": "748d344b",
   "metadata": {},
   "outputs": [],
   "source": [
    "# Visual Python: Data Analysis > Data Info\n",
    "df.corr(numeric_only=True)"
   ]
  },
  {
   "cell_type": "markdown",
   "id": "ed6328c6",
   "metadata": {},
   "source": [
    "#### Q. 히스토그램을 이용해 수치형 컬럼들의 데이터 분포를 확인하시오."
   ]
  },
  {
   "cell_type": "code",
   "execution_count": null,
   "id": "d214cd4c",
   "metadata": {},
   "outputs": [],
   "source": [
    "# Visual Python: Data Analysis > Data Info\n",
    "df.hist()\n",
    "plt.show()"
   ]
  },
  {
   "cell_type": "markdown",
   "id": "1044d3be",
   "metadata": {},
   "source": [
    "#### Q. 박스플롯을 이용해 수치형 컬럼들의 분포와 이상치를 확인하세요."
   ]
  },
  {
   "cell_type": "code",
   "execution_count": null,
   "id": "d57b5753",
   "metadata": {},
   "outputs": [],
   "source": [
    "# Visual Python: Data Analysis > Data Info\n",
    "df.plot(kind='box')\n",
    "plt.show()"
   ]
  },
  {
   "cell_type": "markdown",
   "id": "ff3fcb8c-a256-438f-8c21-5b919c215fc4",
   "metadata": {},
   "source": [
    "#### Q. 직원의 이직 여부(`event`)의 비율을 countplot으로 그려보세요."
   ]
  },
  {
   "cell_type": "code",
   "execution_count": null,
   "id": "0f11d5f4",
   "metadata": {},
   "outputs": [],
   "source": [
    "# Visual Python: Visualization > Seaborn\n",
    "sns.countplot(data=df, x='event')\n",
    "plt.show()"
   ]
  },
  {
   "cell_type": "markdown",
   "id": "7038d1a3-b088-4e33-90e0-1a1890975be3",
   "metadata": {},
   "source": [
    "#### Q. 직원의 이직 여부(event)를 범주로 `gender`와 `way`의 countplot을 그려보세요."
   ]
  },
  {
   "cell_type": "code",
   "execution_count": null,
   "id": "9b3dc123",
   "metadata": {},
   "outputs": [],
   "source": [
    "# Visual Python: Visualization > Seaborn\n",
    "sns.countplot(data=df, x='gender', hue='event', order=df['gender'].value_counts(ascending=False).index)\n",
    "plt.show()"
   ]
  },
  {
   "cell_type": "code",
   "execution_count": null,
   "id": "90508e56-e089-4029-a664-689dcbe10c18",
   "metadata": {},
   "outputs": [],
   "source": [
    "# Visual Python: Visualization > Seaborn\n",
    "sns.countplot(data=df, x='way', hue='event')\n",
    "plt.show()"
   ]
  },
  {
   "cell_type": "markdown",
   "id": "19da28b1-2c49-411a-b854-5cee25a22b61",
   "metadata": {},
   "source": [
    "#### Q. `gender`, `head_gender`,`greywage` 컬럼을 라벨 인코딩한 후 원본 컬럼은 삭제하세요."
   ]
  },
  {
   "cell_type": "code",
   "execution_count": null,
   "id": "c578ee69",
   "metadata": {},
   "outputs": [],
   "source": [
    "# Visual Python: Data Analysis > Frame\n",
    "df['gender_label'] = pd.Categorical(df['gender']).codes\n",
    "df['head_gender_label'] = pd.Categorical(df['head_gender']).codes\n",
    "df['greywage_label'] = pd.Categorical(df['greywage']).codes\n",
    "df.drop(['gender','head_gender','greywage'], axis=1, inplace=True)\n",
    "df"
   ]
  },
  {
   "cell_type": "markdown",
   "id": "f017c9d0-4471-4e60-8ae5-03b7edbb9830",
   "metadata": {},
   "source": [
    "#### Q.  `industry`, `profession`, `traffic`, `coach`, `way` 컬럼을 원핫인코딩 하세요."
   ]
  },
  {
   "cell_type": "code",
   "execution_count": null,
   "id": "0941f2fa",
   "metadata": {},
   "outputs": [],
   "source": [
    "# Visual Python: Data Analysis > Frame\n",
    "df = pd.get_dummies(data=df, columns=['industry','profession','traffic','coach','way'])\n",
    "df"
   ]
  },
  {
   "cell_type": "markdown",
   "id": "52c36736-990f-4237-9ea6-db15a3fab879",
   "metadata": {},
   "source": [
    "# Support Vector Machine 모델로 분류하기"
   ]
  },
  {
   "cell_type": "markdown",
   "id": "e8f2c777",
   "metadata": {},
   "source": [
    "#### Q. `df`를 이용해 데이터셋을 train, test로 분리해주세요."
   ]
  },
  {
   "cell_type": "code",
   "execution_count": null,
   "id": "44225ef8",
   "metadata": {},
   "outputs": [],
   "source": [
    "# Visual Python: Machine Learning > Data Split\n",
    "from sklearn.model_selection import train_test_split\n",
    "\n",
    "X_train, X_test, y_train, y_test = train_test_split(df[['stag', 'age', 'extraversion', 'independ', 'selfcontrol', 'anxiety', 'novator', 'gender_label', 'head_gender_label', 'greywage_label', 'industry_ HoReCa', 'industry_Agriculture', 'industry_Banks', 'industry_Building', 'industry_Consult', 'industry_IT', 'industry_Mining', 'industry_Pharma', 'industry_PowerGeneration', 'industry_RealEstate', 'industry_Retail', 'industry_State', 'industry_Telecom', 'industry_etc', 'industry_manufacture', 'industry_transport', 'profession_Accounting', 'profession_BusinessDevelopment', 'profession_Commercial', 'profession_Consult', 'profession_Engineer', 'profession_Finane', 'profession_HR', 'profession_IT', 'profession_Law', 'profession_Marketing', 'profession_PR', 'profession_Sales', 'profession_Teaching', 'profession_etc', 'profession_manage', 'traffic_KA', 'traffic_advert', 'traffic_empjs', 'traffic_friends', 'traffic_rabrecNErab', 'traffic_recNErab', 'traffic_referal', 'traffic_youjs', 'coach_my head', 'coach_no', 'coach_yes', 'way_bus', 'way_car', 'way_foot']], df['event'])"
   ]
  },
  {
   "cell_type": "markdown",
   "id": "9bb5393e-ef97-4cf1-9be6-da968ae8ae03",
   "metadata": {},
   "source": [
    "#### Q. Support Vector Machine 모델을 생성하고, fit으로 학습시킨 후 예측 결과를 `pred`에 저장하세요."
   ]
  },
  {
   "cell_type": "code",
   "execution_count": null,
   "id": "76946a2b",
   "metadata": {},
   "outputs": [],
   "source": [
    "# Visual Python: Machine Learning > Classifier\n",
    "from sklearn.svm import SVC\n",
    "\n",
    "model_svc = SVC()"
   ]
  },
  {
   "cell_type": "code",
   "execution_count": null,
   "id": "25ab8464",
   "metadata": {},
   "outputs": [],
   "source": [
    "# Visual Python: Machine Learning > Fit/Predict\n",
    "model_svc.fit(X_train, y_train)"
   ]
  },
  {
   "cell_type": "code",
   "execution_count": null,
   "id": "06189362",
   "metadata": {},
   "outputs": [],
   "source": [
    "# Visual Python: Machine Learning > Fit/Predict\n",
    "pred = model_svc.predict(X_test)\n",
    "pred"
   ]
  },
  {
   "cell_type": "markdown",
   "id": "ce9abce1-2082-4999-98f4-24fadc7a50a3",
   "metadata": {},
   "source": [
    "#### Q. 예측결과인 `pred`를 평가해 정확도(accuracy)와 f1-score를 확인하세요.\n",
    "- Visual Python: Machine Learning > Evaluation"
   ]
  },
  {
   "cell_type": "code",
   "execution_count": null,
   "id": "8f049478-17f9-4dc0-8984-2a3db7b954d2",
   "metadata": {},
   "outputs": [],
   "source": [
    "# Visual Python: Machine Learning > Evaluation\n",
    "from sklearn import metrics"
   ]
  },
  {
   "cell_type": "code",
   "execution_count": null,
   "id": "1a73c0cf-9916-4e22-a17b-1ac81a358674",
   "metadata": {},
   "outputs": [],
   "source": [
    "# Visual Python: Machine Learning > Evaluation\n",
    "from IPython.display import display, Markdown"
   ]
  },
  {
   "cell_type": "code",
   "execution_count": null,
   "id": "dc7b1cf9-2b92-4d22-8fa6-ad479cd5b6d1",
   "metadata": {},
   "outputs": [],
   "source": [
    "# Visual Python: Machine Learning > Evaluation\n",
    "# Confusion Matrix\n",
    "display(Markdown('### Confusion Matrix'))\n",
    "display(pd.crosstab(y_test, pred, margins=True))"
   ]
  },
  {
   "cell_type": "code",
   "execution_count": null,
   "id": "70b2e11f-8eb2-4d49-b797-bd1c5206cf34",
   "metadata": {},
   "outputs": [],
   "source": [
    "# Visual Python: Machine Learning > Evaluation\n",
    "# Classification report\n",
    "print(metrics.classification_report(y_test, pred))"
   ]
  },
  {
   "cell_type": "markdown",
   "id": "4d7728ac-40c4-454d-af3d-22b8ba71108d",
   "metadata": {},
   "source": [
    "# RandomForestClassifier 모델로 분류하기"
   ]
  },
  {
   "cell_type": "markdown",
   "id": "87ead65a",
   "metadata": {},
   "source": [
    "#### Q. `df`를 이용해 데이터셋을 train, test로 분리해주세요."
   ]
  },
  {
   "cell_type": "code",
   "execution_count": null,
   "id": "b0864986",
   "metadata": {},
   "outputs": [],
   "source": [
    "# Visual Python: Machine Learning > Data Split\n",
    "from sklearn.model_selection import train_test_split\n",
    "\n",
    "X_train, X_test, y_train, y_test = train_test_split(df[['stag', 'age', 'extraversion', 'independ', 'selfcontrol', 'anxiety', 'novator', 'gender_label', 'head_gender_label', 'greywage_label', 'industry_ HoReCa', 'industry_Agriculture', 'industry_Banks', 'industry_Building', 'industry_Consult', 'industry_IT', 'industry_Mining', 'industry_Pharma', 'industry_PowerGeneration', 'industry_RealEstate', 'industry_Retail', 'industry_State', 'industry_Telecom', 'industry_etc', 'industry_manufacture', 'industry_transport', 'profession_Accounting', 'profession_BusinessDevelopment', 'profession_Commercial', 'profession_Consult', 'profession_Engineer', 'profession_Finane', 'profession_HR', 'profession_IT', 'profession_Law', 'profession_Marketing', 'profession_PR', 'profession_Sales', 'profession_Teaching', 'profession_etc', 'profession_manage', 'traffic_KA', 'traffic_advert', 'traffic_empjs', 'traffic_friends', 'traffic_rabrecNErab', 'traffic_recNErab', 'traffic_referal', 'traffic_youjs', 'coach_my head', 'coach_no', 'coach_yes', 'way_bus', 'way_car', 'way_foot']], df['event'])"
   ]
  },
  {
   "cell_type": "markdown",
   "id": "f584e216-7ac3-4d68-bc41-8ed0db97f22b",
   "metadata": {},
   "source": [
    "#### Q. RandomForestClassifier 모델을 생성하고, fit으로 학습시킨 후 예측 결과를 `pred2`에 저장하세요."
   ]
  },
  {
   "cell_type": "code",
   "execution_count": null,
   "id": "81ae2374-5dd2-4bea-ab80-f628121462bd",
   "metadata": {},
   "outputs": [],
   "source": [
    "# Visual Python: Machine Learning > Classifier\n",
    "from sklearn.ensemble import RandomForestClassifier\n",
    "\n",
    "model_rf = RandomForestClassifier()"
   ]
  },
  {
   "cell_type": "code",
   "execution_count": null,
   "id": "6fa9b336-647f-4e46-b0d8-08d18440ea5f",
   "metadata": {},
   "outputs": [],
   "source": [
    "# Visual Python: Machine Learning > Fit/Predict\n",
    "model_rf.fit(X_train, y_train)"
   ]
  },
  {
   "cell_type": "code",
   "execution_count": null,
   "id": "8e90f55d-0066-4928-aa7c-62dfcab7d46f",
   "metadata": {},
   "outputs": [],
   "source": [
    "# Visual Python: Machine Learning > Fit/Predict\n",
    "pred2 = model_rf.predict(X_test)\n",
    "pred2"
   ]
  },
  {
   "cell_type": "markdown",
   "id": "6e8f7418-e005-45e4-bc56-63e1c21a05cb",
   "metadata": {},
   "source": [
    "#### Q. 예측결과인 `pred2`를 평가해 정확도(accuracy)와 f1-score를 확인하세요.\n",
    "- Visual Python: Machine Learning > Evaluation"
   ]
  },
  {
   "cell_type": "code",
   "execution_count": null,
   "id": "a22a29ef-1301-4ec0-a18d-83ec62cf34fa",
   "metadata": {},
   "outputs": [],
   "source": [
    "# Visual Python: Machine Learning > Evaluation\n",
    "from IPython.display import display, Markdown"
   ]
  },
  {
   "cell_type": "code",
   "execution_count": null,
   "id": "f4196180-3f31-4afe-8887-6350f0d239e3",
   "metadata": {},
   "outputs": [],
   "source": [
    "# Visual Python: Machine Learning > Evaluation\n",
    "# Confusion Matrix\n",
    "display(Markdown('### Confusion Matrix'))\n",
    "display(pd.crosstab(y_test, pred2, margins=True))"
   ]
  },
  {
   "cell_type": "code",
   "execution_count": null,
   "id": "2b39003e-7210-4313-b045-20f5d88f853d",
   "metadata": {},
   "outputs": [],
   "source": [
    "# Visual Python: Machine Learning > Evaluation\n",
    "# Classification report\n",
    "print(metrics.classification_report(y_test, pred2))"
   ]
  },
  {
   "cell_type": "markdown",
   "id": "e9a05866",
   "metadata": {},
   "source": [
    "#### Q. Feature Importance를 차트로 그리세요."
   ]
  },
  {
   "cell_type": "code",
   "execution_count": null,
   "id": "cb0f165d",
   "metadata": {},
   "outputs": [],
   "source": [
    "# Visual Python: Machine Learning > Model Info\n",
    "def vp_create_feature_importances(model, X_train=None, sort=False):\n",
    "    if isinstance(X_train, pd.core.frame.DataFrame):\n",
    "        feature_names = X_train.columns\n",
    "    else:\n",
    "        feature_names = [ 'X{}'.format(i) for i in range(len(model.feature_importances_)) ]\n",
    "                        \n",
    "    df_i = pd.DataFrame(model.feature_importances_, index=feature_names, columns=['Feature_importance'])\n",
    "    df_i['Percentage'] = 100 * df_i['Feature_importance']\n",
    "    if sort: df_i.sort_values(by='Feature_importance', ascending=False, inplace=True)\n",
    "    df_i = df_i.round(2)\n",
    "                        \n",
    "    return df_i\n",
    "def vp_plot_feature_importances(model, X_train=None, sort=False, top_count=0):\n",
    "    df_i = vp_create_feature_importances(model, X_train, sort)\n",
    "                        \n",
    "    if sort: \n",
    "        if top_count > 0:\n",
    "            df_i['Percentage'].sort_values().tail(top_count).plot(kind='barh')\n",
    "        else:\n",
    "            df_i['Percentage'].sort_values().plot(kind='barh')\n",
    "    else: \n",
    "        df_i['Percentage'].plot(kind='barh')\n",
    "    plt.xlabel('Feature importance Percentage')\n",
    "    plt.ylabel('Features')\n",
    "                        \n",
    "    plt.show()"
   ]
  },
  {
   "cell_type": "code",
   "execution_count": null,
   "id": "d07cf9b9",
   "metadata": {},
   "outputs": [],
   "source": [
    "# Visual Python: Machine Learning > Model Info\n",
    "vp_plot_feature_importances(model_rf, X_train, sort=True, top_count=10)"
   ]
  },
  {
   "cell_type": "code",
   "execution_count": null,
   "id": "daa01cf6",
   "metadata": {},
   "outputs": [],
   "source": []
  },
  {
   "cell_type": "markdown",
   "id": "e29ae2ed",
   "metadata": {},
   "source": [
    "---"
   ]
  },
  {
   "cell_type": "code",
   "execution_count": null,
   "id": "986b1522-0803-4a2e-b747-b6cb9926b5ea",
   "metadata": {},
   "outputs": [],
   "source": [
    "# End of file"
   ]
  },
  {
   "cell_type": "code",
   "execution_count": null,
   "id": "8ab41b85-c606-4dfc-9b91-f1a01e8f73ed",
   "metadata": {},
   "outputs": [],
   "source": []
  }
 ],
 "metadata": {
  "kernelspec": {
   "display_name": "Python 3 (ipykernel)",
   "language": "python",
   "name": "python3"
  },
  "language_info": {
   "codemirror_mode": {
    "name": "ipython",
    "version": 3
   },
   "file_extension": ".py",
   "mimetype": "text/x-python",
   "name": "python",
   "nbconvert_exporter": "python",
   "pygments_lexer": "ipython3",
   "version": "3.11.4"
  },
  "vp": {
   "vp_config_version": "1.0.0",
   "vp_menu_width": 273,
   "vp_note_display": false,
   "vp_note_width": 0,
   "vp_position": {
    "width": 278
   },
   "vp_section_display": false,
   "vp_signature": "VisualPython"
  }
 },
 "nbformat": 4,
 "nbformat_minor": 5
}
