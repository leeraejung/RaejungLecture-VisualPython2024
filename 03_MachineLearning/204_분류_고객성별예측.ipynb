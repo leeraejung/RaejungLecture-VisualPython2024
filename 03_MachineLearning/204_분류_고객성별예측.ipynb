{
 "cells": [
  {
   "cell_type": "markdown",
   "id": "e4ac17dc",
   "metadata": {},
   "source": [
    "# 분류 - 고객 성별 예측"
   ]
  },
  {
   "cell_type": "markdown",
   "id": "ee0cb650",
   "metadata": {},
   "source": [
    "#### 데이터 설명\n",
    "\n",
    "|칼럼영|칼럼 설명|\n",
    "|---|---|\n",
    "|회원ID|회원고유번호|\n",
    "|총구매액|총 구매금액(원)|\n",
    "|최대구매액|구매건당 최대구매금액(원)|\n",
    "|환불금액|환불금액(원)|\n",
    "|주구매상품|주로 구매한 품목(42개 품목 범주)|\n",
    "|주구매지점|주로 구매한 저점명(24개 저점 범부)|\n",
    "|방문일수|고객이 방문한 일수(일)|\n",
    "|방문당구매건수|총구매건수/방문일수|\n",
    "|주말방문비율|주말에 방문한 비율|\n",
    "|구매주기|구매 주기(일)|\n",
    "|성별|고객 성별(0:여자, 1:남자)|"
   ]
  },
  {
   "cell_type": "markdown",
   "id": "92c625c0",
   "metadata": {},
   "source": [
    "---"
   ]
  },
  {
   "cell_type": "code",
   "execution_count": null,
   "id": "69cf37c1",
   "metadata": {},
   "outputs": [],
   "source": [
    "# Visual Python: Data Analysis > Import\n",
    "import numpy as np\n",
    "import pandas as pd\n",
    "import matplotlib.pyplot as plt\n",
    "%matplotlib inline\n",
    "import seaborn as sns"
   ]
  },
  {
   "cell_type": "markdown",
   "id": "ea9b3f63",
   "metadata": {},
   "source": [
    "## 데이터 읽기"
   ]
  },
  {
   "cell_type": "code",
   "execution_count": null,
   "id": "3b61eccf",
   "metadata": {},
   "outputs": [],
   "source": [
    "# Visual Python: Data Analysis > File\n",
    "df = pd.read_csv('./data/customer.csv')\n",
    "df"
   ]
  },
  {
   "cell_type": "code",
   "execution_count": null,
   "id": "a1dd4b55",
   "metadata": {},
   "outputs": [],
   "source": [
    "# Visual Python: Data Analysis > Data Info\n",
    "df.info()"
   ]
  },
  {
   "cell_type": "code",
   "execution_count": null,
   "id": "afb8262b",
   "metadata": {},
   "outputs": [],
   "source": [
    "# Visual Python: Data Analysis > Data Info\n",
    "df.describe()"
   ]
  },
  {
   "cell_type": "code",
   "execution_count": null,
   "id": "866ac093",
   "metadata": {},
   "outputs": [],
   "source": [
    "# Visual Python: Data Analysis > Data Info\n",
    "pd.DataFrame({'Null Count': df.isnull().sum(), 'Non-Null Count': df.notnull().sum()})"
   ]
  },
  {
   "cell_type": "markdown",
   "id": "f3e4b3b9",
   "metadata": {},
   "source": [
    "#### Target 컬럼 확인"
   ]
  },
  {
   "cell_type": "code",
   "execution_count": null,
   "id": "2ac40080",
   "metadata": {},
   "outputs": [],
   "source": [
    "# Visual Python: Data Analysis > Data Info\n",
    "df['성별'].value_counts()"
   ]
  },
  {
   "cell_type": "markdown",
   "id": "7d857cd9",
   "metadata": {},
   "source": [
    "#### 결측치 처리"
   ]
  },
  {
   "cell_type": "code",
   "execution_count": null,
   "id": "2e39c393",
   "metadata": {},
   "outputs": [],
   "source": [
    "# Visual Python: Data Analysis > Frame\n",
    "df.drop(['회원ID'], axis=1, inplace=True)\n",
    "df['환불금액'] = df['환불금액'].fillna(df['환불금액'].median())\n",
    "df"
   ]
  },
  {
   "cell_type": "markdown",
   "id": "a0e5c524",
   "metadata": {},
   "source": [
    "#### 범주형 변수: Label Encoding"
   ]
  },
  {
   "cell_type": "code",
   "execution_count": null,
   "id": "511c3992",
   "metadata": {},
   "outputs": [],
   "source": [
    "# Visual Python: Data Analysis > Frame\n",
    "df['주구매상품_label'] = pd.Categorical(df['주구매상품']).codes\n",
    "df['주구매지점_label'] = pd.Categorical(df['주구매지점']).codes\n",
    "df.drop(['주구매상품','주구매지점'], axis=1, inplace=True)\n",
    "df"
   ]
  },
  {
   "cell_type": "markdown",
   "id": "9eff31ae",
   "metadata": {},
   "source": [
    "#### 수치형 변수: Min-Max Scaling"
   ]
  },
  {
   "cell_type": "code",
   "execution_count": null,
   "id": "aae7e0d7",
   "metadata": {},
   "outputs": [],
   "source": [
    "# Visual Python: Machine Learning > Pipeline\n",
    "# [1] Data Prep\n",
    "from sklearn.preprocessing import MinMaxScaler\n",
    "\n",
    "scaler = MinMaxScaler()\n",
    "\n",
    "# [2] Fit\n",
    "scaler.fit(df[['총구매액', '최대구매액', '환불금액', '방문일수', '방문당구매건수', '주말방문비율', '구매주기']])\n",
    "\n",
    "# [3] Transform\n",
    "trans = scaler.transform(df[['총구매액', '최대구매액', '환불금액', '방문일수', '방문당구매건수', '주말방문비율', '구매주기']])"
   ]
  },
  {
   "cell_type": "code",
   "execution_count": null,
   "id": "6f6362e2",
   "metadata": {},
   "outputs": [],
   "source": [
    "cols = ['총구매액','최대구매액','환불금액','방문일수','방문당구매건수','주말방문비율','구매주기']\n",
    "\n",
    "df[cols] = trans"
   ]
  },
  {
   "cell_type": "markdown",
   "id": "c273d9f4",
   "metadata": {},
   "source": [
    "#### 성별 예측"
   ]
  },
  {
   "cell_type": "code",
   "execution_count": null,
   "id": "e7621f4a",
   "metadata": {},
   "outputs": [],
   "source": [
    "# Visual Python: Machine Learning > Pipeline\n",
    "# [1] Data Split\n",
    "from sklearn.model_selection import train_test_split\n",
    "\n",
    "X_train, X_test, y_train, y_test = train_test_split(df[['총구매액', '최대구매액', '환불금액', '방문일수', '방문당구매건수', '주말방문비율', '구매주기', '주구매상품_label', '주구매지점_label']], df['성별'])\n",
    "\n",
    "# [2] Classifier\n",
    "from sklearn.ensemble import RandomForestClassifier\n",
    "\n",
    "model = RandomForestClassifier()\n",
    "\n",
    "# [3] Fit\n",
    "model.fit(X_train, y_train)\n",
    "\n",
    "# [4] Predict\n",
    "pred = model.predict(X_test)\n",
    "\n",
    "# [5] Evaluation\n",
    "from sklearn import metrics\n",
    "from IPython.display import display, Markdown\n",
    "# Confusion Matrix\n",
    "display(Markdown('### Confusion Matrix'))\n",
    "display(pd.crosstab(y_test, pred, margins=True))\n",
    "# Classification report\n",
    "print(metrics.classification_report(y_test, pred))"
   ]
  },
  {
   "cell_type": "code",
   "execution_count": null,
   "id": "75e6e5d7",
   "metadata": {},
   "outputs": [],
   "source": [
    "# Visual Python: Visualization > Chart Style\n",
    "import matplotlib.pyplot as plt\n",
    "%matplotlib inline\n",
    "import seaborn as sns\n",
    "plt.rc('figure', figsize=(8, 6))\n",
    "\n",
    "from matplotlib import rcParams\n",
    "rcParams['font.family'] = 'New Gulim'\n",
    "rcParams['font.size'] = 10\n",
    "rcParams['axes.unicode_minus'] = False"
   ]
  },
  {
   "cell_type": "code",
   "execution_count": null,
   "id": "0632f8ed",
   "metadata": {},
   "outputs": [],
   "source": [
    "# Visual Python: Machine Learning > Model Info\n",
    "def vp_create_feature_importances(model, X_train=None, sort=False):\n",
    "    if isinstance(X_train, pd.core.frame.DataFrame):\n",
    "        feature_names = X_train.columns\n",
    "    else:\n",
    "        feature_names = [ 'X{}'.format(i) for i in range(len(model.feature_importances_)) ]\n",
    "                        \n",
    "    df_i = pd.DataFrame(model.feature_importances_, index=feature_names, columns=['Feature_importance'])\n",
    "    df_i['Percentage'] = 100 * df_i['Feature_importance']\n",
    "    if sort: df_i.sort_values(by='Feature_importance', ascending=False, inplace=True)\n",
    "    df_i = df_i.round(2)\n",
    "                        \n",
    "    return df_i\n",
    "def vp_plot_feature_importances(model, X_train=None, sort=False, top_count=0):\n",
    "    df_i = vp_create_feature_importances(model, X_train, sort)\n",
    "                        \n",
    "    if sort: \n",
    "        if top_count > 0:\n",
    "            df_i['Percentage'].sort_values().tail(top_count).plot(kind='barh')\n",
    "        else:\n",
    "            df_i['Percentage'].sort_values().plot(kind='barh')\n",
    "    else: \n",
    "        df_i['Percentage'].plot(kind='barh')\n",
    "    plt.xlabel('Feature importance Percentage')\n",
    "    plt.ylabel('Features')\n",
    "                        \n",
    "    plt.show()"
   ]
  },
  {
   "cell_type": "code",
   "execution_count": null,
   "id": "5e461e14",
   "metadata": {},
   "outputs": [],
   "source": [
    "# Visual Python: Machine Learning > Model Info\n",
    "vp_plot_feature_importances(model, X_train, sort=True)"
   ]
  },
  {
   "cell_type": "code",
   "execution_count": null,
   "id": "20e2fe1a",
   "metadata": {},
   "outputs": [],
   "source": []
  },
  {
   "cell_type": "markdown",
   "id": "9a840dbf",
   "metadata": {},
   "source": [
    "#### [참고] 확률값 예측하기"
   ]
  },
  {
   "cell_type": "code",
   "execution_count": null,
   "id": "6df9e626",
   "metadata": {},
   "outputs": [],
   "source": [
    "# Visual Python: Machine Learning > Fit/Predict\n",
    "pred_prob = model.predict_proba(X_test)\n",
    "pred_prob"
   ]
  },
  {
   "cell_type": "markdown",
   "id": "891a7c12",
   "metadata": {},
   "source": [
    "---"
   ]
  },
  {
   "cell_type": "code",
   "execution_count": null,
   "id": "65b47933",
   "metadata": {},
   "outputs": [],
   "source": [
    "# End of file"
   ]
  },
  {
   "cell_type": "code",
   "execution_count": null,
   "id": "0c108bf6",
   "metadata": {},
   "outputs": [],
   "source": []
  }
 ],
 "metadata": {
  "kernelspec": {
   "display_name": "Python 3 (ipykernel)",
   "language": "python",
   "name": "python3"
  },
  "language_info": {
   "codemirror_mode": {
    "name": "ipython",
    "version": 3
   },
   "file_extension": ".py",
   "mimetype": "text/x-python",
   "name": "python",
   "nbconvert_exporter": "python",
   "pygments_lexer": "ipython3",
   "version": "3.11.4"
  },
  "vp": {
   "vp_config_version": "1.0.0",
   "vp_menu_width": 273,
   "vp_note_display": false,
   "vp_note_width": 0,
   "vp_position": {
    "width": 278
   },
   "vp_section_display": false,
   "vp_signature": "VisualPython"
  }
 },
 "nbformat": 4,
 "nbformat_minor": 5
}
