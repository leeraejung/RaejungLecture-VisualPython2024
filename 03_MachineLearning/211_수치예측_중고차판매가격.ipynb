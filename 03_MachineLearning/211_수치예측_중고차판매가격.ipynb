{
 "cells": [
  {
   "cell_type": "markdown",
   "id": "e54cce21-c0e4-46a7-aded-1840bd3b4417",
   "metadata": {},
   "source": [
    "# 수치예측 - 중고차 판매 가격"
   ]
  },
  {
   "cell_type": "markdown",
   "id": "028d7d16-a3c9-4ef2-b437-fc98ae20bc8c",
   "metadata": {},
   "source": [
    "중고차 판매 데이터 활용\n",
    "- Dubizzle used car sales data 데이터 활용\n",
    "- 출처 : [Dubizzle used car sales data](https://www.kaggle.com/datasets/alihassankp/dubizzle-used-car-sale-data)\n",
    "- 총 20개 컬럼 중 Target 컬럼은 `price_in_aed`"
   ]
  },
  {
   "cell_type": "markdown",
   "id": "048a9870-f327-49f6-9244-8338b39df80b",
   "metadata": {},
   "source": [
    "---"
   ]
  },
  {
   "cell_type": "markdown",
   "id": "c15afeca",
   "metadata": {},
   "source": [
    "# Import Libraries & Load data"
   ]
  },
  {
   "cell_type": "code",
   "execution_count": null,
   "id": "88724e6c-bd98-487f-bed2-13cc169fb43c",
   "metadata": {},
   "outputs": [],
   "source": [
    "# Visual Python: Data Analysis > Import\n",
    "import numpy as np\n",
    "import pandas as pd\n",
    "import matplotlib.pyplot as plt\n",
    "%matplotlib inline\n",
    "import seaborn as sns"
   ]
  },
  {
   "cell_type": "code",
   "execution_count": null,
   "id": "9806def9",
   "metadata": {},
   "outputs": [],
   "source": [
    "# Visual Python: Data Analysis > File\n",
    "df = pd.read_csv('./data/Dubizzle_used_car_sales.csv')\n",
    "df"
   ]
  },
  {
   "cell_type": "code",
   "execution_count": null,
   "id": "d9c05967-1421-4b15-8032-406ecdce38e1",
   "metadata": {},
   "outputs": [],
   "source": [
    "# Visual Python: Library > columns\n",
    "df.columns"
   ]
  },
  {
   "cell_type": "code",
   "execution_count": null,
   "id": "26194244-5957-4680-8a63-134d0c3e3a28",
   "metadata": {},
   "outputs": [],
   "source": [
    "# 타겟 컬럼\n",
    "target_col = 'price_in_aed'"
   ]
  },
  {
   "cell_type": "markdown",
   "id": "123bf6ca-464e-4b1d-8aa5-4dc2d8a79c3b",
   "metadata": {},
   "source": [
    "# EDA & Data Preprocessing"
   ]
  },
  {
   "cell_type": "markdown",
   "id": "f1fa4f37-74bd-41f2-be3a-e02c6387e3b6",
   "metadata": {},
   "source": [
    "#### Q. 데이터의 상위 5개 행을 출력하세요."
   ]
  },
  {
   "cell_type": "code",
   "execution_count": null,
   "id": "654e5555-ed0a-4a43-bba2-fc0650bbacb7",
   "metadata": {},
   "outputs": [],
   "source": [
    "# Visual Python: Data Analysis > Data Info\n",
    "df.head()"
   ]
  },
  {
   "cell_type": "markdown",
   "id": "4b405b3a-9bf9-41b6-82b8-7746336ae504",
   "metadata": {},
   "source": [
    "#### Q. 각 컬럼별 데이터 타입과 데이터 개수를 확인하세요."
   ]
  },
  {
   "cell_type": "code",
   "execution_count": null,
   "id": "9ec8ca8b-120f-4361-954c-81e2ea54f3a9",
   "metadata": {},
   "outputs": [],
   "source": [
    "# Visual Python: Data Analysis > Data Info\n",
    "df.info()"
   ]
  },
  {
   "cell_type": "markdown",
   "id": "39e97993-a100-4625-bc69-fe5de00c7941",
   "metadata": {},
   "source": [
    "#### Q. `title`, `date_posted` 컬럼을 삭제하세요."
   ]
  },
  {
   "cell_type": "code",
   "execution_count": null,
   "id": "baf8eafc-694c-4130-ab49-c4c5d89a6291",
   "metadata": {},
   "outputs": [],
   "source": [
    "# Visual Python: Data Analysis > Frame\n",
    "df.drop(['title'], axis=1, inplace=True)\n",
    "df.drop(['date_posted'], axis=1, inplace=True)\n",
    "df"
   ]
  },
  {
   "cell_type": "markdown",
   "id": "0ed2a072-b971-46e9-8755-23fc72a13f64",
   "metadata": {},
   "source": [
    "#### Q. 각 컬럼의 결측치 수를 확인하세요."
   ]
  },
  {
   "cell_type": "code",
   "execution_count": null,
   "id": "041b3f3c",
   "metadata": {},
   "outputs": [],
   "source": [
    "# Visual Python: Data Analysis > Data Info\n",
    "pd.DataFrame({'Null Count': df.isnull().sum(), 'Non-Null Count': df.notnull().sum()})"
   ]
  },
  {
   "cell_type": "markdown",
   "id": "861ffd33",
   "metadata": {},
   "source": [
    "#### Q. 결측치가 있는 행을 제거하세요."
   ]
  },
  {
   "cell_type": "code",
   "execution_count": null,
   "id": "2c2349a3",
   "metadata": {},
   "outputs": [],
   "source": [
    "# Visual Python: Data Analysis > Frame\n",
    "df.dropna(axis=0, subset=['no_of_cylinders','year','motors_trim'], how='any', inplace=True)\n",
    "df"
   ]
  },
  {
   "cell_type": "markdown",
   "id": "2f01131e",
   "metadata": {},
   "source": [
    "#### Q. `no_of_cylinders` 컬럼의 'None', 'Unknown' 행을 삭제하세요"
   ]
  },
  {
   "cell_type": "code",
   "execution_count": null,
   "id": "0c36c127",
   "metadata": {},
   "outputs": [],
   "source": [
    "# Visual Python: Data Analysis > Subset\n",
    "df = df.loc[(df['no_of_cylinders'] != 'None')&(df['no_of_cylinders'] != 'Unknown'), :]\n",
    "df"
   ]
  },
  {
   "cell_type": "markdown",
   "id": "1f781075",
   "metadata": {},
   "source": [
    "#### Q. `no_of_cylinders` 컬럼의 타입을 int로 바꾸세요."
   ]
  },
  {
   "cell_type": "code",
   "execution_count": null,
   "id": "8fd0e838",
   "metadata": {},
   "outputs": [],
   "source": [
    "# Visual Python: Data Analysis > Frame\n",
    "df = df.astype({'no_of_cylinders': 'int64'})\n",
    "df"
   ]
  },
  {
   "cell_type": "markdown",
   "id": "bb2f69cb-7fe9-43b4-a1f8-b50a7c207168",
   "metadata": {},
   "source": [
    "#### Q. 수치형 컬럼들의 통계값을 출력하세요.\n",
    "- 수치형 컬럼: `price_in_aed`, `kilometers`, `no_of_cylinders`, `year`"
   ]
  },
  {
   "cell_type": "code",
   "execution_count": null,
   "id": "a6681843",
   "metadata": {},
   "outputs": [],
   "source": [
    "# Visual Python: Data Analysis > Data Info\n",
    "df[['price_in_aed', 'kilometers', 'no_of_cylinders', 'year']].describe()"
   ]
  },
  {
   "cell_type": "markdown",
   "id": "13b6e0b4",
   "metadata": {},
   "source": [
    "#### Q. 수치형 컬럼간 상관계수를 확인하시오.\n",
    "- 수치형 컬럼: `price_in_aed`, `kilometers`, `no_of_cylinders`, `year`"
   ]
  },
  {
   "cell_type": "code",
   "execution_count": null,
   "id": "25f6e8fe",
   "metadata": {},
   "outputs": [],
   "source": [
    "# Visual Python: Data Analysis > Data Info\n",
    "df[['price_in_aed', 'kilometers', 'no_of_cylinders', 'year']].corr(numeric_only=True)"
   ]
  },
  {
   "cell_type": "markdown",
   "id": "bb37463d",
   "metadata": {},
   "source": [
    "#### Q. 모든 범주형 컬럼을 라벨 인코딩한 후 원본 컬럼을 삭제하세요."
   ]
  },
  {
   "cell_type": "code",
   "execution_count": null,
   "id": "67884acb",
   "metadata": {},
   "outputs": [],
   "source": [
    "# Visual Python: Data Analysis > Frame\n",
    "df['body_condition_label'] = pd.Categorical(df['body_condition']).codes\n",
    "df['mechanical_condition_label'] = pd.Categorical(df['mechanical_condition']).codes\n",
    "df['seller_type_label'] = pd.Categorical(df['seller_type']).codes\n",
    "df['body_type_label'] = pd.Categorical(df['body_type']).codes\n",
    "df['transmission_type_label'] = pd.Categorical(df['transmission_type']).codes\n",
    "df['regional_specs_label'] = pd.Categorical(df['regional_specs']).codes\n",
    "df['horsepower_label'] = pd.Categorical(df['horsepower']).codes\n",
    "df['fuel_type_label'] = pd.Categorical(df['fuel_type']).codes\n",
    "df['steering_side_label'] = pd.Categorical(df['steering_side']).codes\n",
    "df['color_label'] = pd.Categorical(df['color']).codes\n",
    "df['emirate_label'] = pd.Categorical(df['emirate']).codes\n",
    "df['motors_trim_label'] = pd.Categorical(df['motors_trim']).codes\n",
    "df['company_label'] = pd.Categorical(df['company']).codes\n",
    "df['model_label'] = pd.Categorical(df['model']).codes\n",
    "df.drop(['body_condition','mechanical_condition','seller_type','body_type','transmission_type','regional_specs','horsepower','fuel_type','steering_side','color','emirate','motors_trim','company','model'], axis=1, inplace=True)\n",
    "df"
   ]
  },
  {
   "cell_type": "markdown",
   "id": "4d7728ac-40c4-454d-af3d-22b8ba71108d",
   "metadata": {},
   "source": [
    "# RandomForestClassifier 모델로 분류하기"
   ]
  },
  {
   "cell_type": "markdown",
   "id": "c8142495",
   "metadata": {},
   "source": [
    "#### Q. `df`를 이용해 데이터셋을 train, test로 분리해주세요."
   ]
  },
  {
   "cell_type": "code",
   "execution_count": null,
   "id": "c83344f5",
   "metadata": {},
   "outputs": [],
   "source": [
    "# Visual Python: Machine Learning > Data Split\n",
    "from sklearn.model_selection import train_test_split\n",
    "\n",
    "X_train, X_test, y_train, y_test = train_test_split(df[['kilometers', 'no_of_cylinders', 'year', 'body_condition_label', 'mechanical_condition_label', 'seller_type_label', 'body_type_label', 'transmission_type_label', 'regional_specs_label', 'horsepower_label', 'fuel_type_label', 'steering_side_label', 'color_label', 'emirate_label', 'motors_trim_label', 'company_label', 'model_label']], df['price_in_aed'])"
   ]
  },
  {
   "cell_type": "markdown",
   "id": "f584e216-7ac3-4d68-bc41-8ed0db97f22b",
   "metadata": {},
   "source": [
    "#### Q. RandomForestClassifier 모델을 생성하고, fit으로 학습시킨 후 예측 결과를 `pred`에 저장하세요."
   ]
  },
  {
   "cell_type": "code",
   "execution_count": null,
   "id": "f0616ef2",
   "metadata": {},
   "outputs": [],
   "source": [
    "# Visual Python: Machine Learning > Regressor\n",
    "from sklearn.ensemble import RandomForestRegressor\n",
    "\n",
    "rf_model = RandomForestRegressor()"
   ]
  },
  {
   "cell_type": "code",
   "execution_count": null,
   "id": "60eae25d",
   "metadata": {},
   "outputs": [],
   "source": [
    "# Visual Python: Machine Learning > Fit/Predict\n",
    "rf_model.fit(X_train, y_train)"
   ]
  },
  {
   "cell_type": "code",
   "execution_count": null,
   "id": "0f4e0293",
   "metadata": {},
   "outputs": [],
   "source": [
    "# Visual Python: Machine Learning > Fit/Predict\n",
    "pred = rf_model.predict(X_test)\n",
    "pred"
   ]
  },
  {
   "cell_type": "markdown",
   "id": "8c815950",
   "metadata": {},
   "source": [
    "#### Q. 예측결과인 `pred`를 평가해 R squared 와 RMSE를 확인하세요.\n",
    "- Visual Python: Machine Learning > Evaluation"
   ]
  },
  {
   "cell_type": "code",
   "execution_count": null,
   "id": "c1ef981f",
   "metadata": {},
   "outputs": [],
   "source": [
    "# Visual Python: Machine Learning > Evaluation\n",
    "from sklearn import metrics"
   ]
  },
  {
   "cell_type": "code",
   "execution_count": null,
   "id": "35aba878",
   "metadata": {},
   "outputs": [],
   "source": [
    "# Visual Python: Machine Learning > Evaluation\n",
    "from IPython.display import display, Markdown"
   ]
  },
  {
   "cell_type": "code",
   "execution_count": null,
   "id": "e7df5793",
   "metadata": {},
   "outputs": [],
   "source": [
    "# Visual Python: Machine Learning > Evaluation\n",
    "# R square\n",
    "print('R square: {}'.format(metrics.r2_score(y_test, pred)))"
   ]
  },
  {
   "cell_type": "code",
   "execution_count": null,
   "id": "58cd3026",
   "metadata": {},
   "outputs": [],
   "source": [
    "# Visual Python: Machine Learning > Evaluation\n",
    "# RMSE(Root Mean Squared Error)\n",
    "print('RMSE: {}'.format(metrics.mean_squared_error(y_test, pred)**0.5))"
   ]
  },
  {
   "cell_type": "code",
   "execution_count": null,
   "id": "bb473fd9",
   "metadata": {},
   "outputs": [],
   "source": [
    "# Visual Python: Machine Learning > Evaluation\n",
    "# Regression plot\n",
    "display(Markdown('### Regression plot'))\n",
    "plt.scatter(y_test, pred)\n",
    "plt.xlabel('y_test')\n",
    "plt.ylabel('pred')\n",
    "plt.show()"
   ]
  },
  {
   "cell_type": "markdown",
   "id": "2e69fa32",
   "metadata": {},
   "source": [
    "#### Q. Feature Importance를 차트로 그리세요."
   ]
  },
  {
   "cell_type": "code",
   "execution_count": null,
   "id": "112ade66",
   "metadata": {},
   "outputs": [],
   "source": [
    "# Visual Python: Machine Learning > Model Info\n",
    "def vp_create_feature_importances(model, X_train=None, sort=False):\n",
    "    if isinstance(X_train, pd.core.frame.DataFrame):\n",
    "        feature_names = X_train.columns\n",
    "    else:\n",
    "        feature_names = [ 'X{}'.format(i) for i in range(len(model.feature_importances_)) ]\n",
    "                        \n",
    "    df_i = pd.DataFrame(model.feature_importances_, index=feature_names, columns=['Feature_importance'])\n",
    "    df_i['Percentage'] = 100 * df_i['Feature_importance']\n",
    "    if sort: df_i.sort_values(by='Feature_importance', ascending=False, inplace=True)\n",
    "    df_i = df_i.round(2)\n",
    "                        \n",
    "    return df_i\n",
    "def vp_plot_feature_importances(model, X_train=None, sort=False, top_count=0):\n",
    "    df_i = vp_create_feature_importances(model, X_train, sort)\n",
    "                        \n",
    "    if sort: \n",
    "        if top_count > 0:\n",
    "            df_i['Percentage'].sort_values().tail(top_count).plot(kind='barh')\n",
    "        else:\n",
    "            df_i['Percentage'].sort_values().plot(kind='barh')\n",
    "    else: \n",
    "        df_i['Percentage'].plot(kind='barh')\n",
    "    plt.xlabel('Feature importance Percentage')\n",
    "    plt.ylabel('Features')\n",
    "                        \n",
    "    plt.show()"
   ]
  },
  {
   "cell_type": "code",
   "execution_count": null,
   "id": "70992ee6",
   "metadata": {},
   "outputs": [],
   "source": [
    "# Visual Python: Machine Learning > Model Info\n",
    "vp_plot_feature_importances(rf_model, X_train, sort=True, top_count=10)"
   ]
  },
  {
   "cell_type": "code",
   "execution_count": null,
   "id": "fec91250",
   "metadata": {},
   "outputs": [],
   "source": []
  },
  {
   "cell_type": "markdown",
   "id": "e29ae2ed",
   "metadata": {},
   "source": [
    "---"
   ]
  },
  {
   "cell_type": "code",
   "execution_count": null,
   "id": "986b1522-0803-4a2e-b747-b6cb9926b5ea",
   "metadata": {},
   "outputs": [],
   "source": [
    "# End of file"
   ]
  },
  {
   "cell_type": "code",
   "execution_count": null,
   "id": "ff71ef08",
   "metadata": {},
   "outputs": [],
   "source": []
  }
 ],
 "metadata": {
  "kernelspec": {
   "display_name": "Python 3 (ipykernel)",
   "language": "python",
   "name": "python3"
  },
  "language_info": {
   "codemirror_mode": {
    "name": "ipython",
    "version": 3
   },
   "file_extension": ".py",
   "mimetype": "text/x-python",
   "name": "python",
   "nbconvert_exporter": "python",
   "pygments_lexer": "ipython3",
   "version": "3.11.4"
  },
  "vp": {
   "vp_config_version": "1.0.0",
   "vp_menu_width": 273,
   "vp_note_display": false,
   "vp_note_width": 0,
   "vp_position": {
    "width": 278
   },
   "vp_section_display": false,
   "vp_signature": "VisualPython"
  }
 },
 "nbformat": 4,
 "nbformat_minor": 5
}
