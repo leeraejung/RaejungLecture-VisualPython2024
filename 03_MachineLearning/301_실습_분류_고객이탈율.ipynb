{
 "cells": [
  {
   "cell_type": "markdown",
   "id": "e54cce21-c0e4-46a7-aded-1840bd3b4417",
   "metadata": {},
   "source": [
    "# 분류 - 고객 이탈율"
   ]
  },
  {
   "cell_type": "markdown",
   "id": "028d7d16-a3c9-4ef2-b437-fc98ae20bc8c",
   "metadata": {},
   "source": [
    "고객 이탈 데이터 활용\n",
    "- Telco Customer Churn 데이터 활용\n",
    "- 출처 : [Kaggle Telco Customer Churn](https://www.kaggle.com/datasets/blastchar/telco-customer-churn/data)\n",
    "- 총 21개 컬럼 중 Target 컬럼은 `Churn`"
   ]
  },
  {
   "cell_type": "markdown",
   "id": "048a9870-f327-49f6-9244-8338b39df80b",
   "metadata": {},
   "source": [
    "---"
   ]
  },
  {
   "cell_type": "markdown",
   "id": "e427d7e6",
   "metadata": {},
   "source": [
    "# Import Libraries & Load data"
   ]
  },
  {
   "cell_type": "code",
   "execution_count": null,
   "id": "88724e6c-bd98-487f-bed2-13cc169fb43c",
   "metadata": {},
   "outputs": [],
   "source": [
    "# Visual Python: Data Analysis > Import\n",
    "import numpy as np\n",
    "import pandas as pd\n",
    "import matplotlib.pyplot as plt\n",
    "%matplotlib inline\n",
    "import seaborn as sns"
   ]
  },
  {
   "cell_type": "code",
   "execution_count": null,
   "id": "1744aa29-f524-4b75-b956-835a78a351b5",
   "metadata": {},
   "outputs": [],
   "source": [
    "# Visual Python: Data Analysis > File\n",
    "df = pd.read_csv('./data/Telco_Customer_Churn.csv')\n",
    "df"
   ]
  },
  {
   "cell_type": "code",
   "execution_count": null,
   "id": "d9c05967-1421-4b15-8032-406ecdce38e1",
   "metadata": {},
   "outputs": [],
   "source": [
    "# Visual Python: Library > columns\n",
    "df.columns"
   ]
  },
  {
   "cell_type": "code",
   "execution_count": null,
   "id": "26194244-5957-4680-8a63-134d0c3e3a28",
   "metadata": {},
   "outputs": [],
   "source": [
    "# 타겟 컬럼\n",
    "target_col = 'Churn'\n",
    "# 수치형 컬럼\n",
    "num_cols = ['tenure', 'MonthlyCharges', 'TotalCharges']"
   ]
  },
  {
   "cell_type": "markdown",
   "id": "123bf6ca-464e-4b1d-8aa5-4dc2d8a79c3b",
   "metadata": {},
   "source": [
    "# EDA & Data Preprocessing"
   ]
  },
  {
   "cell_type": "markdown",
   "id": "f1fa4f37-74bd-41f2-be3a-e02c6387e3b6",
   "metadata": {},
   "source": [
    "#### Q. 데이터의 상위 5개 행을 출력하세요."
   ]
  },
  {
   "cell_type": "code",
   "execution_count": null,
   "id": "654e5555-ed0a-4a43-bba2-fc0650bbacb7",
   "metadata": {},
   "outputs": [],
   "source": [
    "# Visual Python: Data Analysis > Data Info\n",
    "df.head()"
   ]
  },
  {
   "cell_type": "markdown",
   "id": "4b405b3a-9bf9-41b6-82b8-7746336ae504",
   "metadata": {},
   "source": [
    "#### Q. 각 컬럼별 데이터 타입과 데이터 개수를 확인하세요."
   ]
  },
  {
   "cell_type": "code",
   "execution_count": null,
   "id": "9ec8ca8b-120f-4361-954c-81e2ea54f3a9",
   "metadata": {},
   "outputs": [],
   "source": [
    "# Visual Python: Data Analysis > Data Info\n",
    "df.info()"
   ]
  },
  {
   "cell_type": "markdown",
   "id": "39e97993-a100-4625-bc69-fe5de00c7941",
   "metadata": {},
   "source": [
    "#### Q. `customerID` 컬럼을 삭제하세요."
   ]
  },
  {
   "cell_type": "code",
   "execution_count": null,
   "id": "baf8eafc-694c-4130-ab49-c4c5d89a6291",
   "metadata": {},
   "outputs": [],
   "source": [
    "# Visual Python: Data Analysis > Frame\n",
    "df.drop(['customerID'], axis=1, inplace=True)\n",
    "df"
   ]
  },
  {
   "cell_type": "markdown",
   "id": "0251339d-64ab-40ae-945d-81f60dbcf045",
   "metadata": {},
   "source": [
    "#### Q. 수치형 컬럼 중 `object` 타입으로 되어 있는 `TotalCharges` 컬럼의 타입을 `float`으로 변경하세요.\n",
    "- 단, ' ' 공백 데이터는 np.nan으로 변경한 후 데이터 타입을 변경하시오."
   ]
  },
  {
   "cell_type": "code",
   "execution_count": null,
   "id": "123234a6-6d72-4f33-9238-a71629dd813c",
   "metadata": {},
   "outputs": [],
   "source": [
    "# Visual Python: Data Analysis > Frame\n",
    "df['TotalCharges'] = df[['TotalCharges']].replace({' ': np.nan})\n",
    "df = df.astype({'TotalCharges': 'float64'})\n",
    "df"
   ]
  },
  {
   "cell_type": "markdown",
   "id": "0ed2a072-b971-46e9-8755-23fc72a13f64",
   "metadata": {},
   "source": [
    "#### Q. `TotalCharges`의 결측치 수를 확인한 후, 결측치가 있다면 그 행을 제거하세요."
   ]
  },
  {
   "cell_type": "code",
   "execution_count": null,
   "id": "1c7ee97a-5054-4ced-a565-f336a71d49e7",
   "metadata": {},
   "outputs": [],
   "source": [
    "# Visual Python: Data Analysis > Data Info\n",
    "pd.DataFrame({'Null Count': df[['TotalCharges']].isnull().sum(), 'Non-Null Count': df[['TotalCharges']].notnull().sum()})"
   ]
  },
  {
   "cell_type": "code",
   "execution_count": null,
   "id": "120f4fc6",
   "metadata": {},
   "outputs": [],
   "source": [
    "# Visual Python: Data Analysis > Frame\n",
    "df.dropna(axis=0, subset=['TotalCharges'], how='all', inplace=True)\n",
    "df"
   ]
  },
  {
   "cell_type": "markdown",
   "id": "bb2f69cb-7fe9-43b4-a1f8-b50a7c207168",
   "metadata": {},
   "source": [
    "#### Q. 수치형 컬럼들의 통계값을 출력하세요.\n",
    "- 수치형 컬럼: `tenure`, `MonthlyCharges`, `TotalCharges`"
   ]
  },
  {
   "cell_type": "code",
   "execution_count": null,
   "id": "5cbc8e6f-95a2-4688-8261-15d0b79f355b",
   "metadata": {},
   "outputs": [],
   "source": [
    "# Visual Python: Data Analysis > Data Info\n",
    "df[['tenure', 'MonthlyCharges', 'TotalCharges']].describe()"
   ]
  },
  {
   "cell_type": "markdown",
   "id": "77534fae-d367-46ea-85a0-c7197f6b6b9c",
   "metadata": {},
   "source": [
    "#### Q. 수치형 컬럼간 상관계수를 확인하시오.\n",
    "- 수치형 컬럼: `tenure`, `MonthlyCharges`, `TotalCharges`"
   ]
  },
  {
   "cell_type": "code",
   "execution_count": null,
   "id": "0b7c1892-0df0-42fb-a634-dcc580512a0d",
   "metadata": {},
   "outputs": [],
   "source": [
    "# Visual Python: Data Analysis > Data Info\n",
    "df[['tenure', 'MonthlyCharges', 'TotalCharges']].corr(numeric_only=True)"
   ]
  },
  {
   "cell_type": "markdown",
   "id": "afd8cf53-8dc6-4b05-b14c-584b6cd03d63",
   "metadata": {},
   "source": [
    "#### Q. 히스토그램을 이용해 수치형 컬럼들의 데이터 분포를 확인하시오.\n",
    "- 수치형 컬럼: `tenure`, `MonthlyCharges`, `TotalCharges`"
   ]
  },
  {
   "cell_type": "code",
   "execution_count": null,
   "id": "f3355825-a2ce-4754-8ac6-941f557261c5",
   "metadata": {},
   "outputs": [],
   "source": [
    "# Visual Python: Data Analysis > Data Info\n",
    "df[['tenure', 'MonthlyCharges', 'TotalCharges']].hist()\n",
    "plt.show()"
   ]
  },
  {
   "cell_type": "markdown",
   "id": "405d478c-4e8c-4b7b-8e9b-e4768994cde3",
   "metadata": {},
   "source": [
    "#### Q. 박스플롯을 이용해 수치형 컬럼들의 분포와 이상치를 확인하세요.\n",
    "- 수치형 컬럼: `tenure`, `MonthlyCharges`, `TotalCharges`"
   ]
  },
  {
   "cell_type": "code",
   "execution_count": null,
   "id": "f81e605b",
   "metadata": {},
   "outputs": [],
   "source": [
    "# Visual Python: Data Analysis > Data Info\n",
    "df[['tenure','MonthlyCharges','TotalCharges']].plot(kind='box')\n",
    "plt.show()"
   ]
  },
  {
   "cell_type": "code",
   "execution_count": null,
   "id": "4741679f-1f72-48e3-99fd-2b430fdd649d",
   "metadata": {},
   "outputs": [],
   "source": [
    "# Visual Python: Data Analysis > Data Info\n",
    "df['tenure'].plot(kind='box')\n",
    "plt.show()"
   ]
  },
  {
   "cell_type": "code",
   "execution_count": null,
   "id": "500d5604-2791-4b46-833a-96eb20308806",
   "metadata": {},
   "outputs": [],
   "source": [
    "# Visual Python: Data Analysis > Data Info\n",
    "df['MonthlyCharges'].plot(kind='box')\n",
    "plt.show()"
   ]
  },
  {
   "cell_type": "code",
   "execution_count": null,
   "id": "99b251fa-7f9f-45f2-ae15-62b2e9c3da8a",
   "metadata": {},
   "outputs": [],
   "source": [
    "# Visual Python: Data Analysis > Data Info\n",
    "df['TotalCharges'].plot(kind='box')\n",
    "plt.show()"
   ]
  },
  {
   "cell_type": "markdown",
   "id": "ff3fcb8c-a256-438f-8c21-5b919c215fc4",
   "metadata": {},
   "source": [
    "#### Q. 고객의 이탈 여부(`Churn`)의 Yes와 No의 비율을 countplot으로 그려보세요."
   ]
  },
  {
   "cell_type": "code",
   "execution_count": null,
   "id": "8da1360a-a4a3-43a2-a6af-f872c2541b1e",
   "metadata": {},
   "outputs": [],
   "source": [
    "# Visual Python: Visualization > Seaborn\n",
    "sns.countplot(data=df, x='Churn')\n",
    "plt.show()"
   ]
  },
  {
   "cell_type": "markdown",
   "id": "7038d1a3-b088-4e33-90e0-1a1890975be3",
   "metadata": {},
   "source": [
    "#### Q. 고객의 이탈 여부(Churn)를 범주로 `Contract`와 `TechSupport`의 countplot을 그려보세요."
   ]
  },
  {
   "cell_type": "code",
   "execution_count": null,
   "id": "760340d0-f861-4955-ab7d-8272bf8f6eff",
   "metadata": {},
   "outputs": [],
   "source": [
    "# Visual Python: Visualization > Seaborn\n",
    "sns.countplot(data=df, x='Contract', hue='Churn', order=df['Contract'].value_counts(ascending=False).index)\n",
    "plt.show()"
   ]
  },
  {
   "cell_type": "code",
   "execution_count": null,
   "id": "90508e56-e089-4029-a664-689dcbe10c18",
   "metadata": {},
   "outputs": [],
   "source": [
    "# Visual Python: Visualization > Seaborn\n",
    "sns.countplot(data=df, x='TechSupport', hue='Churn')\n",
    "plt.show()"
   ]
  },
  {
   "cell_type": "markdown",
   "id": "19da28b1-2c49-411a-b854-5cee25a22b61",
   "metadata": {},
   "source": [
    "#### Q. `gender`, `Partner`, `Dependents`, `PhoneService`, `Churn` 컬럼을 라벨 인코딩한 후 원본 컬럼을 삭제하세요."
   ]
  },
  {
   "cell_type": "code",
   "execution_count": null,
   "id": "33a69aac",
   "metadata": {},
   "outputs": [],
   "source": [
    "# Visual Python: Data Analysis > Frame\n",
    "df['gender_label'] = pd.Categorical(df['gender']).codes\n",
    "df['Partner_label'] = pd.Categorical(df['Partner']).codes\n",
    "df['Dependents_label'] = pd.Categorical(df['Dependents']).codes\n",
    "df['PhoneService_label'] = pd.Categorical(df['PhoneService']).codes\n",
    "df['Churn_label'] = pd.Categorical(df['Churn']).codes\n",
    "df.drop(['gender','Partner','Dependents','PhoneService','Churn'], axis=1, inplace=True)\n",
    "df"
   ]
  },
  {
   "cell_type": "markdown",
   "id": "f017c9d0-4471-4e60-8ae5-03b7edbb9830",
   "metadata": {},
   "source": [
    "#### Q.  나머지 모든 범주형 변수를 원핫인코딩 하세요."
   ]
  },
  {
   "cell_type": "code",
   "execution_count": null,
   "id": "4f77ac87",
   "metadata": {},
   "outputs": [],
   "source": [
    "# Visual Python: Data Analysis > Frame\n",
    "df = pd.get_dummies(data=df, columns=['MultipleLines','InternetService','OnlineSecurity','OnlineBackup','DeviceProtection','TechSupport','StreamingTV','StreamingMovies','Contract','PaperlessBilling','PaymentMethod'])\n",
    "df"
   ]
  },
  {
   "cell_type": "markdown",
   "id": "4d7728ac-40c4-454d-af3d-22b8ba71108d",
   "metadata": {},
   "source": [
    "# RandomForestClassifier 모델로 분류하기"
   ]
  },
  {
   "cell_type": "markdown",
   "id": "7c2f6e7c",
   "metadata": {},
   "source": [
    "#### Q. `df`를 이용해 데이터셋을 train, test로 분리해주세요."
   ]
  },
  {
   "cell_type": "code",
   "execution_count": null,
   "id": "5ba4a5df",
   "metadata": {},
   "outputs": [],
   "source": [
    "# Visual Python: Machine Learning > Data Split\n",
    "from sklearn.model_selection import train_test_split\n",
    "\n",
    "X_train, X_test, y_train, y_test = train_test_split(df[['SeniorCitizen', 'tenure', 'MonthlyCharges', 'TotalCharges', 'gender_label', 'Partner_label', 'Dependents_label', 'PhoneService_label', 'MultipleLines_No', 'MultipleLines_No phone service', 'MultipleLines_Yes', 'InternetService_DSL', 'InternetService_Fiber optic', 'InternetService_No', 'OnlineSecurity_No', 'OnlineSecurity_No internet service', 'OnlineSecurity_Yes', 'OnlineBackup_No', 'OnlineBackup_No internet service', 'OnlineBackup_Yes', 'DeviceProtection_No', 'DeviceProtection_No internet service', 'DeviceProtection_Yes', 'TechSupport_No', 'TechSupport_No internet service', 'TechSupport_Yes', 'StreamingTV_No', 'StreamingTV_No internet service', 'StreamingTV_Yes', 'StreamingMovies_No', 'StreamingMovies_No internet service', 'StreamingMovies_Yes', 'Contract_Month-to-month', 'Contract_One year', 'Contract_Two year', 'PaperlessBilling_No', 'PaperlessBilling_Yes', 'PaymentMethod_Bank transfer (automatic)', 'PaymentMethod_Credit card (automatic)', 'PaymentMethod_Electronic check', 'PaymentMethod_Mailed check']], df['Churn_label'])"
   ]
  },
  {
   "cell_type": "markdown",
   "id": "f584e216-7ac3-4d68-bc41-8ed0db97f22b",
   "metadata": {},
   "source": [
    "#### Q. RandomForestClassifier 모델을 생성하고, fit으로 학습시킨 후 예측 결과를 `pred`에 저장하세요."
   ]
  },
  {
   "cell_type": "code",
   "execution_count": null,
   "id": "81ae2374-5dd2-4bea-ab80-f628121462bd",
   "metadata": {},
   "outputs": [],
   "source": [
    "# Visual Python: Machine Learning > Classifier\n",
    "from sklearn.ensemble import RandomForestClassifier\n",
    "\n",
    "model_rf = RandomForestClassifier()"
   ]
  },
  {
   "cell_type": "code",
   "execution_count": null,
   "id": "6fa9b336-647f-4e46-b0d8-08d18440ea5f",
   "metadata": {},
   "outputs": [],
   "source": [
    "# Visual Python: Machine Learning > Fit/Predict\n",
    "model_rf.fit(X_train, y_train)"
   ]
  },
  {
   "cell_type": "code",
   "execution_count": null,
   "id": "8e90f55d-0066-4928-aa7c-62dfcab7d46f",
   "metadata": {},
   "outputs": [],
   "source": [
    "# Visual Python: Machine Learning > Fit/Predict\n",
    "pred = model_rf.predict(X_test)\n",
    "pred"
   ]
  },
  {
   "cell_type": "markdown",
   "id": "6e8f7418-e005-45e4-bc56-63e1c21a05cb",
   "metadata": {},
   "source": [
    "#### Q. 예측결과인 `pred`를 평가해 정확도(accuracy)와 f1-score를 확인하세요.\n",
    "- Visual Python: Machine Learning > Evaluation"
   ]
  },
  {
   "cell_type": "code",
   "execution_count": null,
   "id": "b37ef6a0",
   "metadata": {},
   "outputs": [],
   "source": [
    "# Visual Python: Machine Learning > Evaluation\n",
    "from sklearn import metrics"
   ]
  },
  {
   "cell_type": "code",
   "execution_count": null,
   "id": "de0750d7",
   "metadata": {},
   "outputs": [],
   "source": [
    "# Visual Python: Machine Learning > Evaluation\n",
    "from IPython.display import display, Markdown"
   ]
  },
  {
   "cell_type": "code",
   "execution_count": null,
   "id": "ff528daf",
   "metadata": {},
   "outputs": [],
   "source": [
    "# Visual Python: Machine Learning > Evaluation\n",
    "# Confusion Matrix\n",
    "display(Markdown('### Confusion Matrix'))\n",
    "display(pd.crosstab(y_test, pred, margins=True))"
   ]
  },
  {
   "cell_type": "code",
   "execution_count": null,
   "id": "77bd28d6",
   "metadata": {},
   "outputs": [],
   "source": [
    "# Visual Python: Machine Learning > Evaluation\n",
    "# Classification report\n",
    "print(metrics.classification_report(y_test, pred))"
   ]
  },
  {
   "cell_type": "code",
   "execution_count": null,
   "id": "ae3110e2",
   "metadata": {},
   "outputs": [],
   "source": [
    "# Visual Python: Machine Learning > Model Info\n",
    "from sklearn import metrics\n",
    "\n",
    "fpr, tpr, thresholds = metrics.roc_curve(y_test, model_rf.predict_proba(X_test)[:, 1])                                \n",
    "plt.plot(fpr, tpr, label='ROC Curve')                                \n",
    "plt.xlabel('Sensitivity')                                \n",
    "plt.ylabel('Specificity')                                \n",
    "plt.show()"
   ]
  },
  {
   "cell_type": "code",
   "execution_count": null,
   "id": "9a65f7dc",
   "metadata": {},
   "outputs": [],
   "source": [
    "# Visual Python: Machine Learning > Model Info\n",
    "def vp_create_feature_importances(model, X_train=None, sort=False):\n",
    "    if isinstance(X_train, pd.core.frame.DataFrame):\n",
    "        feature_names = X_train.columns\n",
    "    else:\n",
    "        feature_names = [ 'X{}'.format(i) for i in range(len(model.feature_importances_)) ]\n",
    "                        \n",
    "    df_i = pd.DataFrame(model.feature_importances_, index=feature_names, columns=['Feature_importance'])\n",
    "    df_i['Percentage'] = 100 * df_i['Feature_importance']\n",
    "    if sort: df_i.sort_values(by='Feature_importance', ascending=False, inplace=True)\n",
    "    df_i = df_i.round(2)\n",
    "                        \n",
    "    return df_i\n",
    "def vp_plot_feature_importances(model, X_train=None, sort=False, top_count=0):\n",
    "    df_i = vp_create_feature_importances(model, X_train, sort)\n",
    "                        \n",
    "    if sort: \n",
    "        if top_count > 0:\n",
    "            df_i['Percentage'].sort_values().tail(top_count).plot(kind='barh')\n",
    "        else:\n",
    "            df_i['Percentage'].sort_values().plot(kind='barh')\n",
    "    else: \n",
    "        df_i['Percentage'].plot(kind='barh')\n",
    "    plt.xlabel('Feature importance Percentage')\n",
    "    plt.ylabel('Features')\n",
    "                        \n",
    "    plt.show()"
   ]
  },
  {
   "cell_type": "code",
   "execution_count": null,
   "id": "2760f06f",
   "metadata": {},
   "outputs": [],
   "source": [
    "# Visual Python: Machine Learning > Model Info\n",
    "vp_plot_feature_importances(model_rf, X_train, sort=True, top_count=10)"
   ]
  },
  {
   "cell_type": "code",
   "execution_count": null,
   "id": "22cfc3ee",
   "metadata": {},
   "outputs": [],
   "source": []
  },
  {
   "cell_type": "markdown",
   "id": "e29ae2ed",
   "metadata": {},
   "source": [
    "---"
   ]
  },
  {
   "cell_type": "code",
   "execution_count": null,
   "id": "986b1522-0803-4a2e-b747-b6cb9926b5ea",
   "metadata": {},
   "outputs": [],
   "source": [
    "# End of file"
   ]
  },
  {
   "cell_type": "code",
   "execution_count": null,
   "id": "8ab41b85-c606-4dfc-9b91-f1a01e8f73ed",
   "metadata": {},
   "outputs": [],
   "source": []
  }
 ],
 "metadata": {
  "kernelspec": {
   "display_name": "Python 3 (ipykernel)",
   "language": "python",
   "name": "python3"
  },
  "language_info": {
   "codemirror_mode": {
    "name": "ipython",
    "version": 3
   },
   "file_extension": ".py",
   "mimetype": "text/x-python",
   "name": "python",
   "nbconvert_exporter": "python",
   "pygments_lexer": "ipython3",
   "version": "3.11.4"
  },
  "vp": {
   "vp_config_version": "1.0.0",
   "vp_menu_width": 273,
   "vp_note_display": false,
   "vp_note_width": 0,
   "vp_position": {
    "width": 278
   },
   "vp_section_display": false,
   "vp_signature": "VisualPython"
  }
 },
 "nbformat": 4,
 "nbformat_minor": 5
}
