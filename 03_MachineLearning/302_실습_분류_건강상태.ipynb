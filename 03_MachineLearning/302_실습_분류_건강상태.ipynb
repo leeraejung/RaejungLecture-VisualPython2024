{
 "cells": [
  {
   "cell_type": "markdown",
   "id": "a44a60b5",
   "metadata": {},
   "source": [
    "# 분류 - 건강 상태"
   ]
  },
  {
   "cell_type": "markdown",
   "id": "56f19021",
   "metadata": {
    "id": "shWWLB-fZmKQ"
   },
   "source": [
    "- 건강상태(General_Health)를 예측"
   ]
  },
  {
   "cell_type": "markdown",
   "id": "7bb31c39",
   "metadata": {},
   "source": [
    "---"
   ]
  },
  {
   "cell_type": "code",
   "execution_count": null,
   "id": "7c501308",
   "metadata": {},
   "outputs": [],
   "source": [
    "# Visual Python: Data Analysis > Import\n",
    "import numpy as np\n",
    "import pandas as pd\n",
    "import matplotlib.pyplot as plt\n",
    "%matplotlib inline\n",
    "import seaborn as sns"
   ]
  },
  {
   "cell_type": "code",
   "execution_count": null,
   "id": "d4fa0ef7",
   "metadata": {},
   "outputs": [],
   "source": [
    "# Visual Python: Data Analysis > File\n",
    "df = pd.read_csv('./data/health.csv')\n",
    "df"
   ]
  },
  {
   "cell_type": "code",
   "execution_count": null,
   "id": "557046b1",
   "metadata": {},
   "outputs": [],
   "source": [
    "# Visual Python: Data Analysis > Data Info\n",
    "df.info()"
   ]
  },
  {
   "cell_type": "code",
   "execution_count": null,
   "id": "02a226d2",
   "metadata": {},
   "outputs": [],
   "source": [
    "# Visual Python: Data Analysis > Data Info\n",
    "df.describe()"
   ]
  },
  {
   "cell_type": "code",
   "execution_count": null,
   "id": "be769f21",
   "metadata": {},
   "outputs": [],
   "source": [
    "# Visual Python: Data Analysis > Data Info\n",
    "pd.DataFrame({'Null Count': df.isnull().sum(), 'Non-Null Count': df.notnull().sum()})"
   ]
  },
  {
   "cell_type": "code",
   "execution_count": null,
   "id": "14f0bdfb",
   "metadata": {},
   "outputs": [],
   "source": [
    "# Visual Python: Data Analysis > Data Info\n",
    "df['General_Health'].value_counts()"
   ]
  },
  {
   "cell_type": "markdown",
   "id": "089dc9d1",
   "metadata": {},
   "source": [
    "####  컬럼(ID) 삭제"
   ]
  },
  {
   "cell_type": "code",
   "execution_count": null,
   "id": "e496e269",
   "metadata": {},
   "outputs": [],
   "source": [
    "# Visual Python: Data Analysis > Frame\n",
    "df.drop(['ID'], axis=1, inplace=True)\n",
    "df"
   ]
  },
  {
   "cell_type": "markdown",
   "id": "abf10fb8",
   "metadata": {},
   "source": [
    "#### 범주형 변수: One-Hot Encoding"
   ]
  },
  {
   "cell_type": "code",
   "execution_count": null,
   "id": "2fbd49b0",
   "metadata": {
    "scrolled": false
   },
   "outputs": [],
   "source": [
    "# Visual Python: Data Analysis > Frame\n",
    "df = pd.get_dummies(data=df, columns=['Checkup','Exercise','Heart_Disease','Skin_Cancer','Other_Cancer','Depression','Diabetes','Arthritis','Sex','Age_Category','Smoking_History'])\n",
    "df"
   ]
  },
  {
   "cell_type": "markdown",
   "id": "1b3141b4",
   "metadata": {},
   "source": [
    "#### 수치형 변수: Min-Max Scaling"
   ]
  },
  {
   "cell_type": "code",
   "execution_count": null,
   "id": "1b3636ad",
   "metadata": {},
   "outputs": [],
   "source": [
    "# Visual Python: Machine Learning > Pipeline\n",
    "# [1] Data Prep\n",
    "from sklearn.preprocessing import MinMaxScaler\n",
    "\n",
    "scaler = MinMaxScaler()\n",
    "\n",
    "# [2] Fit\n",
    "scaler.fit(df[['Height_(cm)', 'Weight_(kg)', 'BMI', 'Alcohol_Consumption', 'Fruit_Consumption', 'Green_Vegetables_Consumption', 'FriedPotato_Consumption']])\n",
    "\n",
    "# [3] Transform\n",
    "trans = scaler.transform(df[['Height_(cm)', 'Weight_(kg)', 'BMI', 'Alcohol_Consumption', 'Fruit_Consumption', 'Green_Vegetables_Consumption', 'FriedPotato_Consumption']])"
   ]
  },
  {
   "cell_type": "code",
   "execution_count": null,
   "id": "d04a2f80",
   "metadata": {},
   "outputs": [],
   "source": [
    "col_num = ['Height_(cm)','Weight_(kg)','BMI','Alcohol_Consumption',\n",
    "           'Fruit_Consumption','Green_Vegetables_Consumption','FriedPotato_Consumption']\n",
    "\n",
    "df[col_num] = trans"
   ]
  },
  {
   "cell_type": "markdown",
   "id": "919f9002",
   "metadata": {},
   "source": [
    "#### General_Health 예측"
   ]
  },
  {
   "cell_type": "code",
   "execution_count": null,
   "id": "ddf1f207",
   "metadata": {},
   "outputs": [],
   "source": [
    "# Visual Python: Machine Learning > Pipeline\n",
    "# [1] Data Split\n",
    "from sklearn.model_selection import train_test_split\n",
    "\n",
    "X_train, X_test, y_train, y_test = train_test_split(df[['Height_(cm)', 'Weight_(kg)', 'BMI', 'Alcohol_Consumption', 'Fruit_Consumption', 'Green_Vegetables_Consumption', 'FriedPotato_Consumption', 'Checkup_5 or more years ago', 'Checkup_Never', 'Checkup_Within the past 2 years', 'Checkup_Within the past 5 years', 'Checkup_Within the past year', 'Exercise_No', 'Exercise_Yes', 'Heart_Disease_No', 'Heart_Disease_Yes', 'Skin_Cancer_No', 'Skin_Cancer_Yes', 'Other_Cancer_No', 'Other_Cancer_Yes', 'Depression_No', 'Depression_Yes', 'Diabetes_No', 'Diabetes_No, pre-diabetes or borderline diabetes', 'Diabetes_Yes', 'Diabetes_Yes, but female told only during pregnancy', 'Arthritis_No', 'Arthritis_Yes', 'Sex_Female', 'Sex_Male', 'Age_Category_18-24', 'Age_Category_25-29', 'Age_Category_30-34', 'Age_Category_35-39', 'Age_Category_40-44', 'Age_Category_45-49', 'Age_Category_50-54', 'Age_Category_55-59', 'Age_Category_60-64', 'Age_Category_65-69', 'Age_Category_70-74', 'Age_Category_75-79', 'Age_Category_80+', 'Smoking_History_No', 'Smoking_History_Yes']], df['General_Health'])\n",
    "\n",
    "# [2] Classifier\n",
    "from sklearn.ensemble import RandomForestClassifier\n",
    "\n",
    "model = RandomForestClassifier()\n",
    "\n",
    "# [3] Fit\n",
    "model.fit(X_train, y_train)\n",
    "\n",
    "# [4] Predict\n",
    "pred = model.predict(X_test)\n",
    "\n",
    "# [5] Evaluation\n",
    "from sklearn import metrics\n",
    "from IPython.display import display, Markdown\n",
    "# Confusion Matrix\n",
    "display(Markdown('### Confusion Matrix'))\n",
    "display(pd.crosstab(y_test, pred, margins=True))\n",
    "# Classification report\n",
    "print(metrics.classification_report(y_test, pred))"
   ]
  },
  {
   "cell_type": "code",
   "execution_count": null,
   "id": "5fe3118d",
   "metadata": {},
   "outputs": [],
   "source": [
    "# Visual Python: Machine Learning > Model Info\n",
    "def vp_create_feature_importances(model, X_train=None, sort=False):\n",
    "    if isinstance(X_train, pd.core.frame.DataFrame):\n",
    "        feature_names = X_train.columns\n",
    "    else:\n",
    "        feature_names = [ 'X{}'.format(i) for i in range(len(model.feature_importances_)) ]\n",
    "                        \n",
    "    df_i = pd.DataFrame(model.feature_importances_, index=feature_names, columns=['Feature_importance'])\n",
    "    df_i['Percentage'] = 100 * df_i['Feature_importance']\n",
    "    if sort: df_i.sort_values(by='Feature_importance', ascending=False, inplace=True)\n",
    "    df_i = df_i.round(2)\n",
    "                        \n",
    "    return df_i\n",
    "def vp_plot_feature_importances(model, X_train=None, sort=False, top_count=0):\n",
    "    df_i = vp_create_feature_importances(model, X_train, sort)\n",
    "                        \n",
    "    if sort: \n",
    "        if top_count > 0:\n",
    "            df_i['Percentage'].sort_values().tail(top_count).plot(kind='barh')\n",
    "        else:\n",
    "            df_i['Percentage'].sort_values().plot(kind='barh')\n",
    "    else: \n",
    "        df_i['Percentage'].plot(kind='barh')\n",
    "    plt.xlabel('Feature importance Percentage')\n",
    "    plt.ylabel('Features')\n",
    "                        \n",
    "    plt.show()"
   ]
  },
  {
   "cell_type": "code",
   "execution_count": null,
   "id": "023694ce",
   "metadata": {},
   "outputs": [],
   "source": [
    "# Visual Python: Machine Learning > Model Info\n",
    "vp_plot_feature_importances(model, X_train, sort=True, top_count=10)"
   ]
  },
  {
   "cell_type": "code",
   "execution_count": null,
   "id": "eda02242",
   "metadata": {},
   "outputs": [],
   "source": []
  },
  {
   "cell_type": "markdown",
   "id": "170dffe5",
   "metadata": {},
   "source": [
    "---"
   ]
  },
  {
   "cell_type": "code",
   "execution_count": null,
   "id": "1dc13f67",
   "metadata": {},
   "outputs": [],
   "source": [
    "# End of file"
   ]
  },
  {
   "cell_type": "code",
   "execution_count": null,
   "id": "98134252",
   "metadata": {},
   "outputs": [],
   "source": []
  }
 ],
 "metadata": {
  "kernelspec": {
   "display_name": "Python 3 (ipykernel)",
   "language": "python",
   "name": "python3"
  },
  "language_info": {
   "codemirror_mode": {
    "name": "ipython",
    "version": 3
   },
   "file_extension": ".py",
   "mimetype": "text/x-python",
   "name": "python",
   "nbconvert_exporter": "python",
   "pygments_lexer": "ipython3",
   "version": "3.11.4"
  },
  "vp": {
   "vp_config_version": "1.0.0",
   "vp_menu_width": 273,
   "vp_note_display": false,
   "vp_note_width": 0,
   "vp_position": {
    "width": 278
   },
   "vp_section_display": false,
   "vp_signature": "VisualPython"
  }
 },
 "nbformat": 4,
 "nbformat_minor": 5
}
