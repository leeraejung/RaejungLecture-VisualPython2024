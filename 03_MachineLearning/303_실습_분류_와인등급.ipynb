{
 "cells": [
  {
   "cell_type": "markdown",
   "id": "12489bc5",
   "metadata": {},
   "source": [
    "# 분류 - 와인 등급"
   ]
  },
  {
   "cell_type": "markdown",
   "id": "136e39be",
   "metadata": {},
   "source": [
    "---"
   ]
  },
  {
   "cell_type": "markdown",
   "id": "4a0f2646",
   "metadata": {},
   "source": [
    "## 1. 와인 등급 예측(분류)"
   ]
  },
  {
   "cell_type": "code",
   "execution_count": null,
   "id": "46be5620",
   "metadata": {},
   "outputs": [],
   "source": [
    "# Visual Python: Data Analysis > Import\n",
    "import numpy as np\n",
    "import pandas as pd\n",
    "import matplotlib.pyplot as plt\n",
    "%matplotlib inline\n",
    "import seaborn as sns"
   ]
  },
  {
   "cell_type": "code",
   "execution_count": null,
   "id": "ef00bbf4",
   "metadata": {},
   "outputs": [],
   "source": [
    "# Visual Python: Data Analysis > File\n",
    "df = pd.read_csv('./data/wine.csv')\n",
    "df"
   ]
  },
  {
   "cell_type": "code",
   "execution_count": null,
   "id": "f31f6e63",
   "metadata": {},
   "outputs": [],
   "source": [
    "# Visual Python: Data Analysis > Data Info\n",
    "df.info()"
   ]
  },
  {
   "cell_type": "code",
   "execution_count": null,
   "id": "3c0fc907",
   "metadata": {},
   "outputs": [],
   "source": [
    "# Visual Python: Data Analysis > Data Info\n",
    "df.describe()"
   ]
  },
  {
   "cell_type": "code",
   "execution_count": null,
   "id": "83bec885",
   "metadata": {},
   "outputs": [],
   "source": [
    "# Visual Python: Data Analysis > Data Info\n",
    "df['target'].value_counts()"
   ]
  },
  {
   "cell_type": "code",
   "execution_count": null,
   "id": "72c53f80",
   "metadata": {},
   "outputs": [],
   "source": [
    "# Visual Python: Data Analysis > Data Info\n",
    "pd.DataFrame({'Null Count': df.isnull().sum(), 'Non-Null Count': df.notnull().sum()})"
   ]
  },
  {
   "cell_type": "code",
   "execution_count": null,
   "id": "39025615",
   "metadata": {},
   "outputs": [],
   "source": [
    "# Visual Python: Machine Learning > Pipeline\n",
    "# [1] Data Split\n",
    "from sklearn.model_selection import train_test_split\n",
    "\n",
    "X_train, X_test, y_train, y_test = train_test_split(df[['alcohol', 'malic_acid', 'ash', 'alcalinity_of_ash', 'magnesium', 'total_phenols', 'flavanoids', 'nonflavanoid_phenols', 'proanthocyanins', 'color_intensity', 'hue', 'od280/od315_of_diluted_wines', 'proline']], df['target'])\n",
    "\n",
    "# [2] Classifier\n",
    "from sklearn.ensemble import RandomForestClassifier\n",
    "\n",
    "model = RandomForestClassifier()\n",
    "\n",
    "# [3] Fit\n",
    "model.fit(X_train, y_train)\n",
    "\n",
    "# [4] Predict\n",
    "pred = model.predict(X_test)\n",
    "\n",
    "# [5] Evaluation\n",
    "from sklearn import metrics\n",
    "from IPython.display import display, Markdown\n",
    "# Confusion Matrix\n",
    "display(Markdown('### Confusion Matrix'))\n",
    "display(pd.crosstab(y_test, pred, margins=True))\n",
    "# Classification report\n",
    "print(metrics.classification_report(y_test, pred))"
   ]
  },
  {
   "cell_type": "code",
   "execution_count": null,
   "id": "1f75f7f0",
   "metadata": {},
   "outputs": [],
   "source": [
    "# Visual Python: Machine Learning > Model Info\n",
    "def vp_create_feature_importances(model, X_train=None, sort=False):\n",
    "    if isinstance(X_train, pd.core.frame.DataFrame):\n",
    "        feature_names = X_train.columns\n",
    "    else:\n",
    "        feature_names = [ 'X{}'.format(i) for i in range(len(model.feature_importances_)) ]\n",
    "                        \n",
    "    df_i = pd.DataFrame(model.feature_importances_, index=feature_names, columns=['Feature_importance'])\n",
    "    df_i['Percentage'] = 100 * df_i['Feature_importance']\n",
    "    if sort: df_i.sort_values(by='Feature_importance', ascending=False, inplace=True)\n",
    "    df_i = df_i.round(2)\n",
    "                        \n",
    "    return df_i\n",
    "def vp_plot_feature_importances(model, X_train=None, sort=False, top_count=0):\n",
    "    df_i = vp_create_feature_importances(model, X_train, sort)\n",
    "                        \n",
    "    if sort: \n",
    "        if top_count > 0:\n",
    "            df_i['Percentage'].sort_values().tail(top_count).plot(kind='barh')\n",
    "        else:\n",
    "            df_i['Percentage'].sort_values().plot(kind='barh')\n",
    "    else: \n",
    "        df_i['Percentage'].plot(kind='barh')\n",
    "    plt.xlabel('Feature importance Percentage')\n",
    "    plt.ylabel('Features')\n",
    "                        \n",
    "    plt.show()"
   ]
  },
  {
   "cell_type": "code",
   "execution_count": null,
   "id": "f20433b4",
   "metadata": {},
   "outputs": [],
   "source": [
    "# Visual Python: Machine Learning > Model Info\n",
    "vp_plot_feature_importances(model, X_train, sort=True)"
   ]
  },
  {
   "cell_type": "code",
   "execution_count": null,
   "id": "7df8b9d1",
   "metadata": {},
   "outputs": [],
   "source": []
  },
  {
   "cell_type": "markdown",
   "id": "c8cf0ab6",
   "metadata": {},
   "source": [
    "---"
   ]
  },
  {
   "cell_type": "code",
   "execution_count": null,
   "id": "41ccc4e0",
   "metadata": {},
   "outputs": [],
   "source": [
    "# End of file"
   ]
  },
  {
   "cell_type": "code",
   "execution_count": null,
   "id": "c5041ca4",
   "metadata": {},
   "outputs": [],
   "source": []
  }
 ],
 "metadata": {
  "kernelspec": {
   "display_name": "Python 3 (ipykernel)",
   "language": "python",
   "name": "python3"
  },
  "language_info": {
   "codemirror_mode": {
    "name": "ipython",
    "version": 3
   },
   "file_extension": ".py",
   "mimetype": "text/x-python",
   "name": "python",
   "nbconvert_exporter": "python",
   "pygments_lexer": "ipython3",
   "version": "3.11.4"
  },
  "vp": {
   "vp_config_version": "1.0.0",
   "vp_menu_width": 273,
   "vp_note_display": false,
   "vp_note_width": 0,
   "vp_position": {
    "width": 278
   },
   "vp_section_display": false,
   "vp_signature": "VisualPython"
  }
 },
 "nbformat": 4,
 "nbformat_minor": 5
}
