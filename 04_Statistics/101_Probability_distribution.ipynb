{
 "cells": [
  {
   "cell_type": "markdown",
   "id": "8bdca2fc",
   "metadata": {},
   "source": [
    "# Probability_distribution"
   ]
  },
  {
   "cell_type": "markdown",
   "id": "89ed51d3",
   "metadata": {},
   "source": [
    "---"
   ]
  },
  {
   "cell_type": "code",
   "execution_count": null,
   "id": "8952cc00",
   "metadata": {},
   "outputs": [],
   "source": [
    "# Visual Python: Data Analysis > Import\n",
    "import numpy as np\n",
    "import pandas as pd\n",
    "import matplotlib.pyplot as plt\n",
    "%matplotlib inline\n",
    "import seaborn as sns"
   ]
  },
  {
   "cell_type": "markdown",
   "id": "c52165d7",
   "metadata": {},
   "source": [
    "## 1. Bernoulli distribution"
   ]
  },
  {
   "cell_type": "markdown",
   "id": "c8a30e3f",
   "metadata": {},
   "source": [
    "### 1.1 Probability mass function"
   ]
  },
  {
   "cell_type": "code",
   "execution_count": null,
   "id": "012cf7fb",
   "metadata": {},
   "outputs": [],
   "source": [
    "# Visual Python: Prob. Distribution\n",
    "from scipy import stats\n",
    "\n",
    "_rv = stats.bernoulli(p=0.6)\n",
    "\n",
    "# Probability mass function (Bernoulli)\n",
    "plt.bar([0,1], _rv.pmf([0,1]))\n",
    "plt.title('Probability mass function: Bernoulli')\n",
    "plt.xlim(-1, 2)\n",
    "plt.ylim(0, 1)\n",
    "plt.xticks([0, 1], ['x=0', 'x=1'])\n",
    "plt.xlabel('$x$')\n",
    "plt.ylabel('$p(x)$')\n",
    "plt.show()"
   ]
  },
  {
   "cell_type": "markdown",
   "id": "0b31a8c9",
   "metadata": {},
   "source": [
    "## 2. Normal distribution\n",
    "- loc: Mean\n",
    "- scale: Standard deviation."
   ]
  },
  {
   "cell_type": "markdown",
   "id": "5474a0aa",
   "metadata": {},
   "source": [
    "### 2.1 Probability density function\n",
    "### 2.2 Cumulative distribution function"
   ]
  },
  {
   "cell_type": "code",
   "execution_count": null,
   "id": "ce9ddcc8",
   "metadata": {},
   "outputs": [],
   "source": [
    "# Visual Python: Prob. Distribution\n",
    "from scipy import stats\n",
    "\n",
    "_rv = stats.norm(loc=0, scale=1)\n",
    "x = np.linspace(-5, 5, 100)\n",
    "\n",
    "# Probability density function (Normal)\n",
    "plt.plot(x, _rv.pdf(x))\n",
    "plt.title('Probability density function: Normal')\n",
    "plt.xlabel('$x$')\n",
    "plt.ylabel('$p(x)$')\n",
    "plt.show()\n",
    "\n",
    "# Cumulative distribution function (Normal)\n",
    "import warnings\n",
    "with warnings.catch_warnings():\n",
    "    _x = np.linspace(-5, 5, 100)\n",
    "    plt.plot(_x, _rv.cdf(_x))\n",
    "\n",
    "    plt.title('Cumulative distribution function: Normal')\n",
    "    plt.xlabel('$x$')\n",
    "    plt.ylabel('$F(x)$')\n",
    "    plt.show()"
   ]
  },
  {
   "cell_type": "markdown",
   "id": "365d8334",
   "metadata": {},
   "source": [
    "### 2.3 Generate random numbers"
   ]
  },
  {
   "cell_type": "code",
   "execution_count": null,
   "id": "3993586a",
   "metadata": {},
   "outputs": [],
   "source": [
    "# Visual Python: Prob. Distribution\n",
    "from scipy import stats\n",
    "\n",
    "_rv = stats.norm(loc=0, scale=1)\n",
    "\n",
    "# Generate random numbers (Normal)\n",
    "from IPython.display import display\n",
    "samples = _rv.rvs(size=10000)\n",
    "display(samples)\n",
    "\n",
    "# Sample distribution (Normal)\n",
    "import warnings\n",
    "with warnings.catch_warnings():\n",
    "    warnings.simplefilter(action='ignore', category=Warning)\n",
    "    sns.histplot(samples, stat='density', kde=True)\n",
    "    plt.title('Generate random numbers: Normal')\n",
    "    plt.xlabel('$x$')\n",
    "    plt.show()"
   ]
  },
  {
   "cell_type": "markdown",
   "id": "4170a989",
   "metadata": {},
   "source": [
    "---"
   ]
  },
  {
   "cell_type": "code",
   "execution_count": null,
   "id": "6de915c8",
   "metadata": {},
   "outputs": [],
   "source": [
    "# End of file"
   ]
  },
  {
   "cell_type": "code",
   "execution_count": null,
   "id": "e813c7e4",
   "metadata": {},
   "outputs": [],
   "source": []
  }
 ],
 "metadata": {
  "kernelspec": {
   "display_name": "Python 3 (ipykernel)",
   "language": "python",
   "name": "python3"
  },
  "language_info": {
   "codemirror_mode": {
    "name": "ipython",
    "version": 3
   },
   "file_extension": ".py",
   "mimetype": "text/x-python",
   "name": "python",
   "nbconvert_exporter": "python",
   "pygments_lexer": "ipython3",
   "version": "3.11.4"
  },
  "vp": {
   "vp_config_version": "1.0.0",
   "vp_menu_width": 273,
   "vp_note_display": false,
   "vp_note_width": 0,
   "vp_position": {
    "width": 278
   },
   "vp_section_display": false,
   "vp_signature": "VisualPython"
  }
 },
 "nbformat": 4,
 "nbformat_minor": 5
}
