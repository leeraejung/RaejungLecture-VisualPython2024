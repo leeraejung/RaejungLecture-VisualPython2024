{
 "cells": [
  {
   "cell_type": "markdown",
   "id": "cd261202",
   "metadata": {},
   "source": [
    "# Descriptive Statistics"
   ]
  },
  {
   "cell_type": "markdown",
   "id": "6513ce2a",
   "metadata": {},
   "source": [
    "---"
   ]
  },
  {
   "cell_type": "code",
   "execution_count": null,
   "id": "2b0c3933",
   "metadata": {},
   "outputs": [],
   "source": [
    "# Visual Python: Data Analysis > Import\n",
    "import numpy as np\n",
    "import pandas as pd\n",
    "import matplotlib.pyplot as plt\n",
    "%matplotlib inline\n",
    "import seaborn as sns"
   ]
  },
  {
   "cell_type": "code",
   "execution_count": null,
   "id": "08a6b42d",
   "metadata": {},
   "outputs": [],
   "source": [
    "from matplotlib import rcParams\n",
    "rcParams['font.family'] = 'New Gulim'\n",
    "rcParams['font.size'] = 10\n",
    "rcParams['axes.unicode_minus'] = False"
   ]
  },
  {
   "cell_type": "markdown",
   "id": "83c127e8",
   "metadata": {},
   "source": [
    "## 1 Descriptive Statistics"
   ]
  },
  {
   "cell_type": "code",
   "execution_count": null,
   "id": "721ec578",
   "metadata": {},
   "outputs": [],
   "source": [
    "# Visual Python: Data Analysis > File\n",
    "df = pd.read_csv('./data/02_1_기술통계.csv')\n",
    "df"
   ]
  },
  {
   "cell_type": "code",
   "execution_count": null,
   "id": "d5e902b0",
   "metadata": {
    "scrolled": false
   },
   "outputs": [],
   "source": [
    "# Visual Python: Descriptive Statistics\n",
    "vp_df = df.copy()\n",
    "\n",
    "# Descriptive statistics\n",
    "from IPython.display import display, Markdown\n",
    "display(Markdown('### Descriptive statistics'))\n",
    "display(pd.DataFrame({\n",
    "    'N Total':vp_df.shape[0],\n",
    "    'N Valid':vp_df.count(numeric_only=True),\n",
    "    'N Missing':vp_df.loc[:,vp_df.apply(pd.api.types.is_numeric_dtype)].isnull().sum(),\n",
    "    'Mean':vp_df.mean(numeric_only=True),\n",
    "    'Sum':vp_df.sum(numeric_only=True),\n",
    "    'Std. deviation':vp_df.std(numeric_only=True),\n",
    "    'Percentile: 25':vp_df.quantile(q=0.25, numeric_only=True),\n",
    "    'Percentile: 50':vp_df.quantile(q=0.50, numeric_only=True),\n",
    "    'Percentile: 75':vp_df.quantile(q=0.75, numeric_only=True),\n",
    "}).round(3).T)\n",
    "\n",
    "# Frequency table\n",
    "display(Markdown('### Frequency table'))\n",
    "for col in vp_df.columns:\n",
    "    if pd.api.types.is_numeric_dtype(vp_df[col]) and  vp_df[col].value_counts().size > 10:\n",
    "        _bins = 10\n",
    "    else: _bins = None\n",
    "        \n",
    "    _dfr = pd.DataFrame({\n",
    "              'Frequency':vp_df[col].value_counts(bins=_bins, sort=False),\n",
    "              'Percent':100*(vp_df[col].value_counts(bins=_bins, sort=False) / vp_df[col].size),\n",
    "              'Valid percent':100*(vp_df[col].value_counts(bins=_bins, sort=False)/vp_df[col].count())\n",
    "}).round(2)\n",
    "    _dfr['Cumulative percent'] = _dfr['Valid percent'].cumsum()\n",
    "    _dfr.loc['N Valid',:] =  _dfr.iloc[:,:3].sum()\n",
    "    _dfr.loc['N Missing','Frequency'] =  vp_df[col].isnull().sum()\n",
    "    _dfr.loc['N Total','Frequency'] =  vp_df[col].size\n",
    "    display(_dfr)\n",
    "\n",
    "# Charts\n",
    "import seaborn as sns\n",
    "import warnings\n",
    "with warnings.catch_warnings():\n",
    "    warnings.simplefilter(action='ignore', category=Warning)\n",
    "\n",
    "    # Histogram\n",
    "    idx = 1\n",
    "    for col in vp_df.columns:\n",
    "        plt.subplot(2,2, idx)\n",
    "        if pd.api.types.is_numeric_dtype(vp_df[col]) and  vp_df[col].value_counts().size > 10:\n",
    "            sns.histplot(data=vp_df, x=col, kde=True)\n",
    "        else:\n",
    "            sns.countplot(data=vp_df, x=col)\n",
    "        \n",
    "        if idx < 4:\n",
    "            idx += 1\n",
    "        else:\n",
    "            idx = 1\n",
    "            plt.tight_layout()\n",
    "            plt.show()\n",
    "\n",
    "    # Scatter matrix        \n",
    "    pd.plotting.scatter_matrix(vp_df, marker='o', hist_kwds={'bins': 30}, s=30, alpha=.8)\n",
    "    plt.show()\n",
    "\n",
    "    # Boxplot\n",
    "    sns.boxplot(vp_df)\n",
    "    plt.show()"
   ]
  },
  {
   "cell_type": "markdown",
   "id": "9e81fca8",
   "metadata": {},
   "source": [
    "---"
   ]
  },
  {
   "cell_type": "code",
   "execution_count": null,
   "id": "480b6793",
   "metadata": {},
   "outputs": [],
   "source": [
    "# End of file"
   ]
  },
  {
   "cell_type": "code",
   "execution_count": null,
   "id": "9c9d14a4",
   "metadata": {},
   "outputs": [],
   "source": []
  }
 ],
 "metadata": {
  "kernelspec": {
   "display_name": "Python 3 (ipykernel)",
   "language": "python",
   "name": "python3"
  },
  "language_info": {
   "codemirror_mode": {
    "name": "ipython",
    "version": 3
   },
   "file_extension": ".py",
   "mimetype": "text/x-python",
   "name": "python",
   "nbconvert_exporter": "python",
   "pygments_lexer": "ipython3",
   "version": "3.11.4"
  },
  "vp": {
   "vp_config_version": "1.0.0",
   "vp_menu_width": 273,
   "vp_note_display": false,
   "vp_note_width": 0,
   "vp_position": {
    "width": 278
   },
   "vp_section_display": false,
   "vp_signature": "VisualPython"
  }
 },
 "nbformat": 4,
 "nbformat_minor": 5
}
