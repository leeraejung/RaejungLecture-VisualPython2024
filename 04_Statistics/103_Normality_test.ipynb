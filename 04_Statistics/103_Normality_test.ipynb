{
 "cells": [
  {
   "cell_type": "markdown",
   "metadata": {},
   "source": [
    "# Normality test"
   ]
  },
  {
   "cell_type": "markdown",
   "metadata": {},
   "source": [
    "1. Shapiro-Wilk test\n",
    "2. Anderson-Darling test\n",
    "3. Kolmogorov-Smirnov test\n",
    "4. D'Agostino and Pearson's test\n",
    "5. Jarque-Bera test"
   ]
  },
  {
   "cell_type": "markdown",
   "metadata": {},
   "source": [
    "---"
   ]
  },
  {
   "cell_type": "code",
   "execution_count": null,
   "metadata": {},
   "outputs": [],
   "source": [
    "# Visual Python: Data Analysis > Import\n",
    "import numpy as np\n",
    "import pandas as pd\n",
    "import matplotlib.pyplot as plt\n",
    "%matplotlib inline\n",
    "import seaborn as sns"
   ]
  },
  {
   "cell_type": "code",
   "execution_count": null,
   "metadata": {},
   "outputs": [],
   "source": [
    "from matplotlib import rcParams\n",
    "rcParams['font.family'] = 'New Gulim'\n",
    "rcParams['axes.unicode_minus'] = False"
   ]
  },
  {
   "cell_type": "markdown",
   "metadata": {},
   "source": [
    "## Read data\n",
    "- Visual Python: Data Analysis > File"
   ]
  },
  {
   "cell_type": "code",
   "execution_count": null,
   "metadata": {},
   "outputs": [],
   "source": [
    "# Visual Python: Data Analysis > File\n",
    "df = pd.read_csv('./data/03_1_정규성검정.csv')\n",
    "df"
   ]
  },
  {
   "cell_type": "markdown",
   "metadata": {},
   "source": [
    "## 1. Shapiro-Wilk test\n",
    "- Perform the Shapiro-Wilk test for normality."
   ]
  },
  {
   "cell_type": "code",
   "execution_count": null,
   "metadata": {},
   "outputs": [],
   "source": [
    "# Visual Python: Normality test\n",
    "# Shapiro-Wilk test\n",
    "vp_df = df.dropna().copy()\n",
    "\n",
    "# Normality test (Shapiro-Wilk)\n",
    "from IPython.display import display, Markdown\n",
    "from scipy import stats\n",
    "_res = stats.shapiro(vp_df['만족감'])\n",
    "display(Markdown('### Normality test (Shapiro-Wilk)'))\n",
    "display(pd.DataFrame(data={'Statistic':_res.statistic,'p-value':_res.pvalue},index=['Normality test (Shapiro-Wilk)']))\n",
    "\n",
    "# Charts\n",
    "import seaborn as sns\n",
    "import warnings\n",
    "with warnings.catch_warnings():\n",
    "    warnings.simplefilter(action='ignore', category=Warning)\n",
    "\n",
    "    plt.subplot(2,2,1)\n",
    "    sns.histplot(vp_df['만족감'], stat='density', kde=True)\n",
    "    plt.title('Histogram')\n",
    "\n",
    "    plt.subplot(2,2,2)\n",
    "    sns.boxplot(y=vp_df['만족감'])\n",
    "    plt.title('Boxplot')\n",
    "\n",
    "    plt.subplot(2,2,3)\n",
    "    stats.probplot(vp_df['만족감'], plot=plt)\n",
    "    plt.title('Q-Q Plot')\n",
    "\n",
    "    plt.tight_layout()\n",
    "    plt.show()"
   ]
  },
  {
   "cell_type": "markdown",
   "metadata": {},
   "source": [
    "## 2.  Anderson-Darling test\n",
    "- Anderson-Darling test for data coming from a particular distribution."
   ]
  },
  {
   "cell_type": "code",
   "execution_count": null,
   "metadata": {},
   "outputs": [],
   "source": [
    "# Visual Python: Normality test\n",
    "# Anderson-Darling test\n",
    "vp_df = df.dropna().copy()\n",
    "\n",
    "# Normality test (Anderson-Darling)\n",
    "from IPython.display import display, Markdown\n",
    "from scipy import stats\n",
    "_res = stats.anderson(vp_df['만족감'])\n",
    "display(Markdown('### Normality test (Anderson-Darling)'))\n",
    "display(pd.DataFrame(data={'Statistic':[_res.statistic],'Critical values':[_res.critical_values],\n",
    "                           'Significance level(%)':[_res.significance_level]},\n",
    "                     index=['Normality test (Anderson-Darling)']))\n",
    "\n",
    "# Charts\n",
    "import seaborn as sns\n",
    "import warnings\n",
    "with warnings.catch_warnings():\n",
    "    warnings.simplefilter(action='ignore', category=Warning)\n",
    "\n",
    "    plt.subplot(2,2,1)\n",
    "    sns.histplot(vp_df['만족감'], stat='density', kde=True)\n",
    "    plt.title('Histogram')\n",
    "\n",
    "    plt.subplot(2,2,2)\n",
    "    sns.boxplot(y=vp_df['만족감'])\n",
    "    plt.title('Boxplot')\n",
    "\n",
    "    plt.subplot(2,2,3)\n",
    "    stats.probplot(vp_df['만족감'], plot=plt)\n",
    "    plt.title('Q-Q Plot')\n",
    "\n",
    "    plt.tight_layout()\n",
    "    plt.show()"
   ]
  },
  {
   "cell_type": "markdown",
   "metadata": {},
   "source": [
    "## 3. Kolmogorov-Smirnov test\n",
    "- Performs the (one-sample or two-sample) Kolmogorov-Smirnov test for goodness of fit."
   ]
  },
  {
   "cell_type": "code",
   "execution_count": null,
   "metadata": {},
   "outputs": [],
   "source": [
    "# Visual Python: Normality test\n",
    "# Kolmogorov-Smirnov test\n",
    "vp_df = df.dropna().copy()\n",
    "\n",
    "# Normality test (Kolmogorov-Smirnov)\n",
    "from IPython.display import display, Markdown\n",
    "from scipy import stats\n",
    "_res = stats.kstest(vp_df['만족감'], 'norm', alternative='two-sided')\n",
    "display(Markdown('### Normality test (Kolmogorov-Smirnov)'))\n",
    "display(pd.DataFrame(data={'Statistic':_res.statistic,'p-value':_res.pvalue},\n",
    "                     index=['Normality test (Kolmogorov-Smirnov)']))\n",
    "\n",
    "# Charts\n",
    "import seaborn as sns\n",
    "import warnings\n",
    "with warnings.catch_warnings():\n",
    "    warnings.simplefilter(action='ignore', category=Warning)\n",
    "\n",
    "    plt.subplot(2,2,1)\n",
    "    sns.histplot(vp_df['만족감'], stat='density', kde=True)\n",
    "    plt.title('Histogram')\n",
    "\n",
    "    plt.subplot(2,2,2)\n",
    "    sns.boxplot(y=vp_df['만족감'])\n",
    "    plt.title('Boxplot')\n",
    "\n",
    "    plt.subplot(2,2,3)\n",
    "    stats.probplot(vp_df['만족감'], plot=plt)\n",
    "    plt.title('Q-Q Plot')\n",
    "\n",
    "    plt.tight_layout()\n",
    "    plt.show()"
   ]
  },
  {
   "cell_type": "markdown",
   "metadata": {},
   "source": [
    "## 4. D'Agostino and Pearson's test\n",
    "- Test whether a sample differs from a normal distribution."
   ]
  },
  {
   "cell_type": "code",
   "execution_count": null,
   "metadata": {},
   "outputs": [],
   "source": [
    "# Visual Python: Normality test\n",
    "# D'Agostino and Pearson's test\n",
    "vp_df = df.dropna().copy()\n",
    "\n",
    "# Normality test (D Agostino and Pearson)\n",
    "from IPython.display import display, Markdown\n",
    "from scipy import stats\n",
    "_res = stats.normaltest(vp_df['만족감'])\n",
    "display(Markdown('### Normality test (D Agostino and Pearson)'))\n",
    "display(pd.DataFrame(data={'Statistic':_res.statistic,'p-value':_res.pvalue},\n",
    "                     index=['Normality test (D Agostino and Pearson)']))\n",
    "\n",
    "# Charts\n",
    "import seaborn as sns\n",
    "import warnings\n",
    "with warnings.catch_warnings():\n",
    "    warnings.simplefilter(action='ignore', category=Warning)\n",
    "\n",
    "    plt.subplot(2,2,1)\n",
    "    sns.histplot(vp_df['만족감'], stat='density', kde=True)\n",
    "    plt.title('Histogram')\n",
    "\n",
    "    plt.subplot(2,2,2)\n",
    "    sns.boxplot(y=vp_df['만족감'])\n",
    "    plt.title('Boxplot')\n",
    "\n",
    "    plt.subplot(2,2,3)\n",
    "    stats.probplot(vp_df['만족감'], plot=plt)\n",
    "    plt.title('Q-Q Plot')\n",
    "\n",
    "    plt.tight_layout()\n",
    "    plt.show()"
   ]
  },
  {
   "cell_type": "markdown",
   "metadata": {},
   "source": [
    "## 5. Jarque-Bera test\n",
    "- The Jarque-Bera test tests whether the sample data has the skewness and kurtosis matching a normal distribution."
   ]
  },
  {
   "cell_type": "code",
   "execution_count": null,
   "metadata": {},
   "outputs": [],
   "source": [
    "# Visual Python: Normality test\n",
    "# Jarque-Bera test\n",
    "vp_df = df.dropna().copy()\n",
    "\n",
    "# Normality test (Jarque-Bera)\n",
    "from IPython.display import display, Markdown\n",
    "from scipy import stats\n",
    "_res = stats.jarque_bera(vp_df['만족감'])\n",
    "display(Markdown('### Normality test (Jarque-Bera)'))\n",
    "display(pd.DataFrame(data={'Statistic':_res.statistic,'p-value':_res.pvalue},\n",
    "                     index=['Normality test (Jarque-Bera)']))\n",
    "\n",
    "# Charts\n",
    "import seaborn as sns\n",
    "import warnings\n",
    "with warnings.catch_warnings():\n",
    "    warnings.simplefilter(action='ignore', category=Warning)\n",
    "\n",
    "    plt.subplot(2,2,1)\n",
    "    sns.histplot(vp_df['만족감'], stat='density', kde=True)\n",
    "    plt.title('Histogram')\n",
    "\n",
    "    plt.subplot(2,2,2)\n",
    "    sns.boxplot(y=vp_df['만족감'])\n",
    "    plt.title('Boxplot')\n",
    "\n",
    "    plt.subplot(2,2,3)\n",
    "    stats.probplot(vp_df['만족감'], plot=plt)\n",
    "    plt.title('Q-Q Plot')\n",
    "\n",
    "    plt.tight_layout()\n",
    "    plt.show()"
   ]
  },
  {
   "cell_type": "markdown",
   "metadata": {},
   "source": [
    "---"
   ]
  },
  {
   "cell_type": "code",
   "execution_count": null,
   "metadata": {},
   "outputs": [],
   "source": [
    "# End of file"
   ]
  },
  {
   "cell_type": "code",
   "execution_count": null,
   "metadata": {},
   "outputs": [],
   "source": []
  }
 ],
 "metadata": {
  "kernelspec": {
   "display_name": "Python 3 (ipykernel)",
   "language": "python",
   "name": "python3"
  },
  "language_info": {
   "codemirror_mode": {
    "name": "ipython",
    "version": 3
   },
   "file_extension": ".py",
   "mimetype": "text/x-python",
   "name": "python",
   "nbconvert_exporter": "python",
   "pygments_lexer": "ipython3",
   "version": "3.11.4"
  },
  "vp": {
   "vp_config_version": "1.0.0",
   "vp_menu_width": 273,
   "vp_note_display": false,
   "vp_note_width": 0,
   "vp_position": {
    "width": 278
   },
   "vp_section_display": false,
   "vp_signature": "VisualPython"
  }
 },
 "nbformat": 4,
 "nbformat_minor": 1
}
