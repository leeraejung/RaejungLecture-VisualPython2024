{
 "cells": [
  {
   "cell_type": "markdown",
   "metadata": {},
   "source": [
    "# Equal Variance test"
   ]
  },
  {
   "cell_type": "markdown",
   "metadata": {},
   "source": [
    "1. Bartlett's test\n",
    "2. Levene's test\n",
    "3. Fligner's test"
   ]
  },
  {
   "cell_type": "markdown",
   "metadata": {},
   "source": [
    "---"
   ]
  },
  {
   "cell_type": "markdown",
   "metadata": {},
   "source": [
    "## Import Packages\n",
    "- Visual Python: Data Analysis > Import"
   ]
  },
  {
   "cell_type": "code",
   "execution_count": null,
   "metadata": {},
   "outputs": [],
   "source": [
    "# Visual Python: Data Analysis > Import\n",
    "import numpy as np\n",
    "import pandas as pd\n",
    "import matplotlib.pyplot as plt\n",
    "%matplotlib inline\n",
    "import seaborn as sns"
   ]
  },
  {
   "cell_type": "code",
   "execution_count": null,
   "metadata": {},
   "outputs": [],
   "source": [
    "from matplotlib import rcParams\n",
    "rcParams['font.family'] = 'New Gulim'\n",
    "rcParams['axes.unicode_minus'] = False"
   ]
  },
  {
   "cell_type": "markdown",
   "metadata": {},
   "source": [
    "## Read data\n",
    "- Visual Python: Data Analysis > File"
   ]
  },
  {
   "cell_type": "code",
   "execution_count": null,
   "metadata": {},
   "outputs": [],
   "source": [
    "# Visual Python: Data Analysis > File\n",
    "df = pd.read_csv('./data/04_1_등분산검정.csv')\n",
    "df"
   ]
  },
  {
   "cell_type": "markdown",
   "metadata": {},
   "source": [
    "## 1. Bartlett test"
   ]
  },
  {
   "cell_type": "code",
   "execution_count": null,
   "metadata": {},
   "outputs": [],
   "source": [
    "# Visual Python: Equal Var. test\n",
    "# Bartlett test\n",
    "vp_df = df.dropna().copy()\n",
    "_df = pd.DataFrame()\n",
    "for k, v in  dict(list(vp_df.groupby('성별')['해외여행선호도'])).items():\n",
    "    _df_t = v.reset_index(drop=True)\n",
    "    _df_t.name = k\n",
    "    _df = pd.concat([_df, _df_t], axis=1)\n",
    "\n",
    "# Variance\n",
    "from IPython.display import display, Markdown\n",
    "from scipy import stats\n",
    "_dfr = _df.var().to_frame()\n",
    "_dfr.columns = ['Variance']\n",
    "display(_dfr)\n",
    "\n",
    "# Bartlett test\n",
    "_lst = []\n",
    "_df.apply(lambda x: _lst.append(x.dropna()))\n",
    "_res = stats.bartlett(*_lst)\n",
    "display(Markdown('### Bartlett test'))\n",
    "display(pd.DataFrame(data={'Statistic':_res.statistic,'p-value':_res.pvalue},\n",
    "                     index=['Equal Variance test (Bartlett)']))\n",
    "\n",
    "# Histogram\n",
    "import seaborn as sns\n",
    "import warnings\n",
    "with warnings.catch_warnings():\n",
    "    warnings.simplefilter(action='ignore', category=Warning)\n",
    "    sns.histplot(_df, stat='density', kde=True)\n",
    "    plt.title('Histogram')\n",
    "    plt.show()"
   ]
  },
  {
   "cell_type": "markdown",
   "metadata": {},
   "source": [
    "## 2.  Levene test "
   ]
  },
  {
   "cell_type": "code",
   "execution_count": null,
   "metadata": {},
   "outputs": [],
   "source": [
    "# Visual Python: Equal Var. test\n",
    "# Levene test\n",
    "vp_df = df.dropna().copy()\n",
    "_df = pd.DataFrame()\n",
    "for k, v in  dict(list(vp_df.groupby('여행빈도')['해외여행선호도'])).items():\n",
    "    _df_t = v.reset_index(drop=True)\n",
    "    _df_t.name = k\n",
    "    _df = pd.concat([_df, _df_t], axis=1)\n",
    "\n",
    "# Variance\n",
    "from IPython.display import display, Markdown\n",
    "from scipy import stats\n",
    "_dfr = _df.var().to_frame()\n",
    "_dfr.columns = ['Variance']\n",
    "display(_dfr)\n",
    "\n",
    "# Levene test\n",
    "_lst = []\n",
    "_df.apply(lambda x: _lst.append(x.dropna()))\n",
    "_res = stats.levene(*_lst, center='mean')\n",
    "display(Markdown('### Levene test'))\n",
    "display(pd.DataFrame(data={'Statistic':_res.statistic,'p-value':_res.pvalue},\n",
    "                     index=['Equal Variance test (Levene)']))\n",
    "\n",
    "# Histogram\n",
    "import seaborn as sns\n",
    "import warnings\n",
    "with warnings.catch_warnings():\n",
    "    warnings.simplefilter(action='ignore', category=Warning)\n",
    "    sns.histplot(_df, stat='density', kde=True)\n",
    "    plt.title('Histogram')\n",
    "    plt.show()"
   ]
  },
  {
   "cell_type": "markdown",
   "metadata": {},
   "source": [
    "## 3. Fligner test"
   ]
  },
  {
   "cell_type": "code",
   "execution_count": null,
   "metadata": {},
   "outputs": [],
   "source": [
    "# Visual Python: Equal Var. test\n",
    "# Fligner test\n",
    "vp_df = df.dropna().copy()\n",
    "_df = pd.DataFrame()\n",
    "for k, v in  dict(list(vp_df.groupby('성별')['해외여행선호도'])).items():\n",
    "    _df_t = v.reset_index(drop=True)\n",
    "    _df_t.name = k\n",
    "    _df = pd.concat([_df, _df_t], axis=1)\n",
    "\n",
    "# Variance\n",
    "from IPython.display import display, Markdown\n",
    "from scipy import stats\n",
    "_dfr = _df.var().to_frame()\n",
    "_dfr.columns = ['Variance']\n",
    "display(_dfr)\n",
    "\n",
    "# Fligner test\n",
    "_lst = []\n",
    "_df.apply(lambda x: _lst.append(x.dropna()))\n",
    "_res = stats.fligner(*_lst, center='mean')\n",
    "display(Markdown('### Fligner test'))\n",
    "display(pd.DataFrame(data={'Statistic':_res.statistic,'p-value':_res.pvalue},\n",
    "                     index=['Equal Variance test (Fligner)']))\n",
    "\n",
    "# Histogram\n",
    "import seaborn as sns\n",
    "import warnings\n",
    "with warnings.catch_warnings():\n",
    "    warnings.simplefilter(action='ignore', category=Warning)\n",
    "    sns.histplot(_df, stat='density', kde=True)\n",
    "    plt.title('Histogram')\n",
    "    plt.show()"
   ]
  },
  {
   "cell_type": "markdown",
   "metadata": {},
   "source": [
    "---"
   ]
  },
  {
   "cell_type": "code",
   "execution_count": null,
   "metadata": {},
   "outputs": [],
   "source": [
    "# End of file"
   ]
  },
  {
   "cell_type": "code",
   "execution_count": null,
   "metadata": {},
   "outputs": [],
   "source": []
  }
 ],
 "metadata": {
  "kernelspec": {
   "display_name": "Python 3 (ipykernel)",
   "language": "python",
   "name": "python3"
  },
  "language_info": {
   "codemirror_mode": {
    "name": "ipython",
    "version": 3
   },
   "file_extension": ".py",
   "mimetype": "text/x-python",
   "name": "python",
   "nbconvert_exporter": "python",
   "pygments_lexer": "ipython3",
   "version": "3.11.4"
  },
  "vp": {
   "vp_config_version": "1.0.0",
   "vp_menu_width": 273,
   "vp_note_display": false,
   "vp_note_width": 0,
   "vp_position": {
    "width": 278
   },
   "vp_section_display": false,
   "vp_signature": "VisualPython"
  }
 },
 "nbformat": 4,
 "nbformat_minor": 1
}
