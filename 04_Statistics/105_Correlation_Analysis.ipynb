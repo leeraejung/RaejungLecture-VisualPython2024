{
 "cells": [
  {
   "cell_type": "markdown",
   "id": "cd261202",
   "metadata": {},
   "source": [
    "# Correlation Analysis"
   ]
  },
  {
   "cell_type": "markdown",
   "id": "390f6b76",
   "metadata": {},
   "source": [
    "1. Pearson\n",
    "2. Spearman\n",
    "3. Kendall's Tau"
   ]
  },
  {
   "cell_type": "markdown",
   "id": "6513ce2a",
   "metadata": {},
   "source": [
    "---"
   ]
  },
  {
   "cell_type": "markdown",
   "id": "964c9e77",
   "metadata": {},
   "source": [
    "## Import Packages\n",
    "- Visual Python: Data Analysis > Import"
   ]
  },
  {
   "cell_type": "code",
   "execution_count": null,
   "id": "2b0c3933",
   "metadata": {},
   "outputs": [],
   "source": [
    "# Visual Python: Data Analysis > Import\n",
    "import numpy as np\n",
    "import pandas as pd\n",
    "import matplotlib.pyplot as plt\n",
    "%matplotlib inline\n",
    "import seaborn as sns"
   ]
  },
  {
   "cell_type": "code",
   "execution_count": null,
   "id": "c729cfa6",
   "metadata": {},
   "outputs": [],
   "source": [
    "from matplotlib import rcParams\n",
    "rcParams['font.family'] = 'New Gulim'\n",
    "rcParams['axes.unicode_minus'] = False"
   ]
  },
  {
   "cell_type": "markdown",
   "id": "83c127e8",
   "metadata": {},
   "source": [
    "## 1 Correlation Analysis"
   ]
  },
  {
   "cell_type": "code",
   "execution_count": null,
   "id": "78533fab",
   "metadata": {},
   "outputs": [],
   "source": [
    "# Visual Python: Data Analysis > File\n",
    "df = pd.read_csv('./data/05_1_상관분석.csv')\n",
    "df"
   ]
  },
  {
   "cell_type": "markdown",
   "id": "cff6b120",
   "metadata": {},
   "source": [
    "## 1 Correlation Analysis: Pearson"
   ]
  },
  {
   "cell_type": "code",
   "execution_count": null,
   "id": "b3df5445",
   "metadata": {},
   "outputs": [],
   "source": [
    "# Visual Python: Correlation Analysis\n",
    "def vp_confidence_interval_corr(x, y, method='pearson', alpha=0.05):\n",
    "    try: x=pd.Series(x); y=pd.Series(y)\n",
    "    except: return np.nan\n",
    "\n",
    "    corr_func = {'pearson':stats.pearsonr,'spearman':stats.spearmanr,'kendall':stats.kendalltau}\n",
    "    se_diff   = {'pearson':3,'spearman':3,'kendall':4}\n",
    "    se_func   = {'pearson': lambda corr: 1,\n",
    "                 'spearman':lambda corr: 1 + corr ** 2 / 2.,\n",
    "                 'kendall': lambda corr: .437 }\n",
    "                     \n",
    "    corr, pvalue = corr_func[method](x,y)\n",
    "    \n",
    "    z  = np.log((1 + corr) / (1 - corr)) / 2\n",
    "    se = np.sqrt(se_func[method](corr) / (x.size - se_diff[method]))\n",
    "    \n",
    "    z_lower = z - stats.norm.ppf(1 - alpha / 2.) * se\n",
    "    z_upper = z + stats.norm.ppf(1 - alpha / 2.) * se\n",
    "    \n",
    "    corr_lower = (np.exp(2 * z_lower) - 1) / (np.exp(2 * z_lower) + 1)\n",
    "    corr_upper = (np.exp(2 * z_upper) - 1) / (np.exp(2 * z_upper) + 1)    \n",
    "    \n",
    "    return corr, pvalue, corr_lower, corr_upper"
   ]
  },
  {
   "cell_type": "code",
   "execution_count": null,
   "id": "c324e409",
   "metadata": {},
   "outputs": [],
   "source": [
    "# Visual Python: Correlation Analysis\n",
    "vp_df = df.dropna().copy()\n",
    "\n",
    "# Correlation Analysis\n",
    "from scipy import stats\n",
    "from IPython.display import display, Markdown\n",
    "_dfr = pd.DataFrame()\n",
    "for i, col1 in enumerate(vp_df.columns):\n",
    "    for j, col2 in enumerate(vp_df.columns):\n",
    "        if i >= j: continue\n",
    "        if pd.api.types.is_numeric_dtype(vp_df[col1]) and pd.api.types.is_numeric_dtype(vp_df[col2]):\n",
    "            _res = vp_confidence_interval_corr(vp_df[col1], vp_df[col2], method='pearson')\n",
    "            _df_t = pd.DataFrame(data={'Variable1':col1,'Variable2':col2,'N':vp_df[col1].size,'Correlation coefficient':_res[0],\n",
    "                                   'p-value':_res[1],'Lower(95%)':_res[2],'Upper(95%)':_res[3]}, index=[0])\n",
    "            _dfr = pd.concat([_dfr, _df_t]).reset_index(drop=True)\n",
    "display(Markdown('### Correlation Analysis: Pearson'))\n",
    "display(_dfr)\n",
    "\n",
    "# Correlation matrix: Pearson\n",
    "from IPython.display import display\n",
    "display(vp_df.corr(method='pearson', numeric_only=True).round(2))\n",
    "\n",
    "# Chart\n",
    "import seaborn as sns\n",
    "import warnings\n",
    "with warnings.catch_warnings():\n",
    "    warnings.simplefilter(action='ignore', category=Warning)\n",
    "\n",
    "    # Heatmap\n",
    "    sns.heatmap(vp_df.corr(method='pearson', numeric_only=True), annot=True, fmt='.2f', cmap='coolwarm')\n",
    "    plt.title('Correlation heatmap: Pearson')\n",
    "    plt.show()\n",
    "\n",
    "    # Scatter matrix\n",
    "    pd.plotting.scatter_matrix(vp_df)\n",
    "    plt.show()"
   ]
  },
  {
   "cell_type": "markdown",
   "id": "d5de1a66",
   "metadata": {},
   "source": [
    "## 2 Correlation Analysis: Spearman"
   ]
  },
  {
   "cell_type": "code",
   "execution_count": null,
   "id": "4e19a702",
   "metadata": {},
   "outputs": [],
   "source": [
    "# Visual Python: Correlation Analysis\n",
    "vp_df = df.dropna().copy()\n",
    "\n",
    "# Correlation Analysis\n",
    "from scipy import stats\n",
    "from IPython.display import display, Markdown\n",
    "_dfr = pd.DataFrame()\n",
    "for i, col1 in enumerate(vp_df.columns):\n",
    "    for j, col2 in enumerate(vp_df.columns):\n",
    "        if i >= j: continue\n",
    "        if pd.api.types.is_numeric_dtype(vp_df[col1]) and pd.api.types.is_numeric_dtype(vp_df[col2]):\n",
    "            _res = vp_confidence_interval_corr(vp_df[col1], vp_df[col2], method='spearman')\n",
    "            _df_t = pd.DataFrame(data={'Variable1':col1,'Variable2':col2,'N':vp_df[col1].size,'Correlation coefficient':_res[0],\n",
    "                                   'p-value':_res[1],'Lower(95%)':_res[2],'Upper(95%)':_res[3]}, index=[0])\n",
    "            _dfr = pd.concat([_dfr, _df_t]).reset_index(drop=True)\n",
    "display(Markdown('### Correlation Analysis: Spearman'))\n",
    "display(_dfr)\n",
    "\n",
    "# Correlation matrix: Spearman\n",
    "from IPython.display import display\n",
    "display(vp_df.corr(method='spearman', numeric_only=True).round(2))"
   ]
  },
  {
   "cell_type": "markdown",
   "id": "e7f4b2a9",
   "metadata": {},
   "source": [
    "## 3 Correlation Analysis: Kendall's Tau"
   ]
  },
  {
   "cell_type": "code",
   "execution_count": null,
   "id": "cdcd76e5",
   "metadata": {},
   "outputs": [],
   "source": [
    "# Visual Python: Correlation Analysis\n",
    "vp_df = df.dropna().copy()\n",
    "\n",
    "# Correlation Analysis\n",
    "from scipy import stats\n",
    "from IPython.display import display, Markdown\n",
    "_dfr = pd.DataFrame()\n",
    "for i, col1 in enumerate(vp_df.columns):\n",
    "    for j, col2 in enumerate(vp_df.columns):\n",
    "        if i >= j: continue\n",
    "        if pd.api.types.is_numeric_dtype(vp_df[col1]) and pd.api.types.is_numeric_dtype(vp_df[col2]):\n",
    "            _res = vp_confidence_interval_corr(vp_df[col1], vp_df[col2], method='kendall')\n",
    "            _df_t = pd.DataFrame(data={'Variable1':col1,'Variable2':col2,'N':vp_df[col1].size,'Correlation coefficient':_res[0],\n",
    "                                   'p-value':_res[1],'Lower(95%)':_res[2],'Upper(95%)':_res[3]}, index=[0])\n",
    "            _dfr = pd.concat([_dfr, _df_t]).reset_index(drop=True)\n",
    "display(Markdown('### Correlation Analysis: Kendall\\'s Tau'))\n",
    "display(_dfr)\n",
    "\n",
    "# Correlation matrix: Kendall's Tau\n",
    "from IPython.display import display\n",
    "display(vp_df.corr(method='kendall', numeric_only=True).round(2))"
   ]
  },
  {
   "cell_type": "markdown",
   "id": "9e81fca8",
   "metadata": {},
   "source": [
    "---"
   ]
  },
  {
   "cell_type": "code",
   "execution_count": null,
   "id": "480b6793",
   "metadata": {},
   "outputs": [],
   "source": [
    "# End of file"
   ]
  },
  {
   "cell_type": "code",
   "execution_count": null,
   "id": "9c9d14a4",
   "metadata": {},
   "outputs": [],
   "source": []
  }
 ],
 "metadata": {
  "kernelspec": {
   "display_name": "Python 3 (ipykernel)",
   "language": "python",
   "name": "python3"
  },
  "language_info": {
   "codemirror_mode": {
    "name": "ipython",
    "version": 3
   },
   "file_extension": ".py",
   "mimetype": "text/x-python",
   "name": "python",
   "nbconvert_exporter": "python",
   "pygments_lexer": "ipython3",
   "version": "3.11.4"
  },
  "vp": {
   "vp_config_version": "1.0.0",
   "vp_menu_width": 273,
   "vp_note_display": false,
   "vp_note_width": 0,
   "vp_position": {
    "width": 278
   },
   "vp_section_display": false,
   "vp_signature": "VisualPython"
  }
 },
 "nbformat": 4,
 "nbformat_minor": 5
}
