{
 "cells": [
  {
   "cell_type": "markdown",
   "id": "cd261202",
   "metadata": {},
   "source": [
    "# Reliability Analysis"
   ]
  },
  {
   "cell_type": "markdown",
   "id": "040338e8",
   "metadata": {},
   "source": [
    "### Cronbach's α\n",
    "\n",
    "|Cronbach's α| | \n",
    "|:---|:---|\n",
    "| 0.90 <= α        |Excellent|\n",
    "| 0.80 <= α < 0.90 |Good|\n",
    "| 0.70 <= α < 0.80 |Acceptable|\n",
    "| 0.60 <= α < 0.70 |Questionable|\n",
    "| 0.50 <= α < 0.60 |Poor|\n",
    "|         α < 0.50 |Unacceptable|"
   ]
  },
  {
   "cell_type": "markdown",
   "id": "6513ce2a",
   "metadata": {},
   "source": [
    "---"
   ]
  },
  {
   "cell_type": "markdown",
   "id": "964c9e77",
   "metadata": {},
   "source": [
    "## Import Packages\n",
    "- Visual Python: Data Analysis > Import"
   ]
  },
  {
   "cell_type": "code",
   "execution_count": null,
   "id": "2b0c3933",
   "metadata": {},
   "outputs": [],
   "source": [
    "# Visual Python: Data Analysis > Import\n",
    "import numpy as np\n",
    "import pandas as pd\n",
    "import matplotlib.pyplot as plt\n",
    "%matplotlib inline\n",
    "import seaborn as sns"
   ]
  },
  {
   "cell_type": "markdown",
   "id": "83c127e8",
   "metadata": {},
   "source": [
    "## 1 Reliability Analysis"
   ]
  },
  {
   "cell_type": "code",
   "execution_count": null,
   "id": "637f12c3",
   "metadata": {},
   "outputs": [],
   "source": [
    "# Visual Python: Data Analysis > File\n",
    "df = pd.read_csv('./data/06_1_신뢰도분석.csv')\n",
    "df"
   ]
  },
  {
   "cell_type": "code",
   "execution_count": null,
   "id": "cbd4d498",
   "metadata": {},
   "outputs": [],
   "source": [
    "# Visual Python: Reliability Analysis\n",
    "def vp_cronbach_alpha(data):\n",
    "    _corr = data.corr()\n",
    "    _N = data.shape[1]\n",
    "    _rs = np.array([])\n",
    "    for i, col in enumerate(_corr.columns):\n",
    "        _sum = _corr[col][i+1:].values\n",
    "        _rs  = np.append(_sum, _rs)\n",
    "    _mean = np.mean(_rs)\n",
    "    \n",
    "    return (_N*_mean)/(1+(_N-1)*_mean)"
   ]
  },
  {
   "cell_type": "code",
   "execution_count": null,
   "id": "297759f6",
   "metadata": {},
   "outputs": [],
   "source": [
    "# Visual Python: Reliability Analysis\n",
    "vp_df = df.dropna().copy()\n",
    "\n",
    "# Cronbach alpha\n",
    "from IPython.display import display, Markdown\n",
    "display(Markdown('### Cronbach alpha'))\n",
    "display(pd.DataFrame({'Cronbach alpha':vp_cronbach_alpha(vp_df), 'N':vp_df.shape[1]},index=['Reliability statistics']).round(3))\n",
    "\n",
    "# Item-Total Statistics\n",
    "_dfr = pd.DataFrame()\n",
    "for i, col in enumerate(vp_df.columns):\n",
    "    _sr = vp_df.drop(col,axis=1).sum(axis=1)\n",
    "    _df_t = pd.DataFrame(data={'Scale Mean if Item Deleted':_sr.mean(),'Scale Variance if Item Deleted':_sr.var(),\n",
    "                               'Corrected Item-Total Correlation':_sr.corr(vp_df[col]),\n",
    "                               'Cronbach Alpha if Item Deleted':vp_cronbach_alpha(vp_df.drop(col,axis=1))}, index=[col])\n",
    "    _dfr = pd.concat([_dfr, _df_t])\n",
    "display(Markdown('### Item-Total Statistics'))\n",
    "display(_dfr.round(3))"
   ]
  },
  {
   "cell_type": "markdown",
   "id": "9e81fca8",
   "metadata": {},
   "source": [
    "---"
   ]
  },
  {
   "cell_type": "code",
   "execution_count": null,
   "id": "480b6793",
   "metadata": {},
   "outputs": [],
   "source": [
    "# End of file"
   ]
  },
  {
   "cell_type": "code",
   "execution_count": null,
   "id": "9c9d14a4",
   "metadata": {},
   "outputs": [],
   "source": []
  }
 ],
 "metadata": {
  "kernelspec": {
   "display_name": "Python 3 (ipykernel)",
   "language": "python",
   "name": "python3"
  },
  "language_info": {
   "codemirror_mode": {
    "name": "ipython",
    "version": 3
   },
   "file_extension": ".py",
   "mimetype": "text/x-python",
   "name": "python",
   "nbconvert_exporter": "python",
   "pygments_lexer": "ipython3",
   "version": "3.11.4"
  },
  "vp": {
   "vp_config_version": "1.0.0",
   "vp_menu_width": 273,
   "vp_note_display": false,
   "vp_note_width": 0,
   "vp_position": {
    "width": 278
   },
   "vp_section_display": false,
   "vp_signature": "VisualPython"
  }
 },
 "nbformat": 4,
 "nbformat_minor": 5
}
