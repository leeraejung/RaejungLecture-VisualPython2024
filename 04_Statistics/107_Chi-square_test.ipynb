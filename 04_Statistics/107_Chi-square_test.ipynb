{
 "cells": [
  {
   "cell_type": "markdown",
   "id": "cd261202",
   "metadata": {},
   "source": [
    "# Chi-square test of independence "
   ]
  },
  {
   "cell_type": "markdown",
   "id": "c03b1c76",
   "metadata": {},
   "source": [
    "### Cramer's V \n",
    "\n",
    "|Cramer's V|Effect Size|\n",
    "|:---|:---|\n",
    "|0.01 ~ 0.09|Very Small|\n",
    "|0.10 ~ 0.29|Small|\n",
    "|0.30 ~ 0.49|Medium|\n",
    "|0.50 ~ 0.69|Large|\n",
    "|0.70 and above|Very Large|"
   ]
  },
  {
   "cell_type": "markdown",
   "id": "6513ce2a",
   "metadata": {},
   "source": [
    "---"
   ]
  },
  {
   "cell_type": "markdown",
   "id": "964c9e77",
   "metadata": {},
   "source": [
    "## Import Packages\n",
    "- Visual Python: Data Analysis > Import"
   ]
  },
  {
   "cell_type": "code",
   "execution_count": null,
   "id": "2b0c3933",
   "metadata": {},
   "outputs": [],
   "source": [
    "# Visual Python: Data Analysis > Import\n",
    "import numpy as np\n",
    "import pandas as pd\n",
    "import matplotlib.pyplot as plt\n",
    "%matplotlib inline\n",
    "import seaborn as sns"
   ]
  },
  {
   "cell_type": "code",
   "execution_count": null,
   "id": "87b6b482",
   "metadata": {},
   "outputs": [],
   "source": [
    "from matplotlib import rcParams\n",
    "rcParams['font.family'] = 'New Gulim'\n",
    "rcParams['axes.unicode_minus'] = False"
   ]
  },
  {
   "cell_type": "markdown",
   "id": "83c127e8",
   "metadata": {},
   "source": [
    "## 1 Chi-square test of independence"
   ]
  },
  {
   "cell_type": "code",
   "execution_count": null,
   "id": "bec19f3b",
   "metadata": {},
   "outputs": [],
   "source": [
    "# Visual Python: Data Analysis > File\n",
    "df = pd.read_csv('./data/07_1_교차분석.csv')\n",
    "df"
   ]
  },
  {
   "cell_type": "code",
   "execution_count": null,
   "id": "8c54050f",
   "metadata": {},
   "outputs": [],
   "source": [
    "# Visual Python: Chi-square test\n",
    "vp_df = df.dropna().copy()\n",
    "\n",
    "# Count plot\n",
    "import seaborn as sns\n",
    "import warnings\n",
    "with warnings.catch_warnings():\n",
    "    warnings.simplefilter(action='ignore', category=Warning)\n",
    "    sns.countplot(data=vp_df, x='세탁기크기', hue='가족규모')\n",
    "    plt.show()\n",
    "\n",
    "# Chi-square test of independence\n",
    "from IPython.display import display, Markdown\n",
    "from scipy import stats\n",
    "_obs  = pd.crosstab(index=vp_df['세탁기크기'], columns=vp_df['가족규모'])\n",
    "_res1 = stats.chi2_contingency(_obs)\n",
    "_res2 = stats.chi2_contingency(_obs, lambda_='log-likelihood')\n",
    "\n",
    "# Cross tabulation: Count\n",
    "_dfc = pd.crosstab(index=vp_df['세탁기크기'],columns=vp_df['가족규모'],margins=True,margins_name='Total')\n",
    "_dfc = _dfc.reset_index().reset_index()\n",
    "_dfc[' '] = 'Count'\n",
    "\n",
    "# Cross tabulation: Expected count\n",
    "_dfe = pd.DataFrame(_res1.expected_freq, index=_obs.index, columns=_obs.columns).round(1)\n",
    "_dfe.loc['Total',:] = _dfe.sum(axis=0)\n",
    "_dfe.loc[:,'Total'] = _dfe.sum(axis=1)\n",
    "_dfe = _dfe.reset_index().reset_index()\n",
    "_dfe[' '] = 'Expected count'\n",
    "\n",
    "# Cross tabulation: Count + Expected count\n",
    "display(Markdown('### Cross tabulation'))\n",
    "display(pd.concat([_dfc, _dfe]).set_index(['세탁기크기',' ']).sort_values('index').drop('index',axis=1))\n",
    "\n",
    "# Chi-square test\n",
    "display(Markdown('### Chi-square test'))\n",
    "display(pd.DataFrame(data = {'Value':[_res1.statistic,_res2.statistic,vp_df.dropna().shape[0]],\n",
    "                             'df':[_res1.dof,_res2.dof,np.nan],\n",
    "                             'p-value(two-sided)':[_res1.pvalue,_res2.pvalue,np.nan]},\n",
    "                     index= ['Pearson Chi-square','Likelihood ratio','N of valid cases']))\n",
    "\n",
    "# Cramers' V coefficient\n",
    "_X2 = stats.chi2_contingency(_obs)[0]\n",
    "_sum = _obs.sum().sum()\n",
    "_minDim = min(_obs.shape)-1\n",
    "display(Markdown('### Cramers V coefficient'))\n",
    "display(pd.DataFrame(data={'Value':np.sqrt((_X2/_sum) / _minDim)}, index=['Cramers V coefficient']))"
   ]
  },
  {
   "cell_type": "markdown",
   "id": "9e81fca8",
   "metadata": {},
   "source": [
    "---"
   ]
  },
  {
   "cell_type": "code",
   "execution_count": null,
   "id": "480b6793",
   "metadata": {},
   "outputs": [],
   "source": [
    "# End of file"
   ]
  },
  {
   "cell_type": "code",
   "execution_count": null,
   "id": "9c9d14a4",
   "metadata": {},
   "outputs": [],
   "source": []
  }
 ],
 "metadata": {
  "kernelspec": {
   "display_name": "Python 3 (ipykernel)",
   "language": "python",
   "name": "python3"
  },
  "language_info": {
   "codemirror_mode": {
    "name": "ipython",
    "version": 3
   },
   "file_extension": ".py",
   "mimetype": "text/x-python",
   "name": "python",
   "nbconvert_exporter": "python",
   "pygments_lexer": "ipython3",
   "version": "3.11.4"
  },
  "vp": {
   "vp_config_version": "1.0.0",
   "vp_menu_width": 273,
   "vp_note_display": false,
   "vp_note_width": 0,
   "vp_position": {
    "width": 278
   },
   "vp_section_display": false,
   "vp_signature": "VisualPython"
  }
 },
 "nbformat": 4,
 "nbformat_minor": 5
}
