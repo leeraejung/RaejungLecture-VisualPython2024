{
 "cells": [
  {
   "cell_type": "markdown",
   "metadata": {},
   "source": [
    "# Student's t-test"
   ]
  },
  {
   "cell_type": "markdown",
   "metadata": {},
   "source": [
    "1. One-sample t-test\n",
    "2. Independent two-sample t-test\n",
    "3. Paired samples t-test"
   ]
  },
  {
   "cell_type": "markdown",
   "metadata": {},
   "source": [
    "---"
   ]
  },
  {
   "cell_type": "markdown",
   "metadata": {},
   "source": [
    "## Import Packages\n",
    "- Visual Python: Data Analysis > Import"
   ]
  },
  {
   "cell_type": "code",
   "execution_count": null,
   "metadata": {},
   "outputs": [],
   "source": [
    "# Visual Python: Data Analysis > Import\n",
    "import numpy as np\n",
    "import pandas as pd\n",
    "import matplotlib.pyplot as plt\n",
    "%matplotlib inline\n",
    "import seaborn as sns"
   ]
  },
  {
   "cell_type": "markdown",
   "metadata": {},
   "source": [
    "## 1 One-sample t-test"
   ]
  },
  {
   "cell_type": "code",
   "execution_count": null,
   "metadata": {},
   "outputs": [],
   "source": [
    "# Visual Python: Data Analysis > File\n",
    "df1 = pd.read_csv('./data/08_1_일표본t검정.csv')\n",
    "df1"
   ]
  },
  {
   "cell_type": "code",
   "execution_count": null,
   "metadata": {},
   "outputs": [],
   "source": [
    "# Visual Python: Student's t-test\n",
    "# One-sample t-test\n",
    "vp_df = df1.dropna().copy()\n",
    "\n",
    "# Normality test (Shapiro-Wilk)\n",
    "from IPython.display import display, Markdown\n",
    "from scipy import stats\n",
    "_res = stats.shapiro(vp_df['신장'])\n",
    "display(Markdown('### Normality test (Shapiro-Wilk)'))\n",
    "display(pd.DataFrame(data={'Statistic':_res.statistic,'p-value':_res.pvalue},index=['Normality test (Shapiro-Wilk)']))\n",
    "\n",
    "# Statistics\n",
    "display(Markdown('### Statistics'))\n",
    "display(pd.DataFrame(data={'N':vp_df['신장'].size,'Mean':vp_df['신장'].mean(),\n",
    "                           'Std. Deviation':vp_df['신장'].std(),\n",
    "                           'Std. Error Mean':vp_df['신장'].std()/np.sqrt(vp_df['신장'].size)},\n",
    "                     index=['Statistics']))\n",
    "\n",
    "# One-sample t-test\n",
    "_res = stats.ttest_1samp(vp_df['신장'], popmean=150, alternative='two-sided')\n",
    "_lower, _upper = _res.confidence_interval(confidence_level=0.95)\n",
    "display(Markdown('### One-sample t-test'))\n",
    "display(pd.DataFrame(data={'Statistic':_res.statistic,'dof':_res.df,'Alternative':'two-sided',\n",
    "                           'p-value':_res.pvalue,'Test Value':150,'Mean difference':vp_df['신장'].mean()-150,\n",
    "                           'Confidence interval':0.95,'Lower':_lower,'Upper':_upper},\n",
    "                     index=['One-sample t-test']))"
   ]
  },
  {
   "cell_type": "markdown",
   "metadata": {},
   "source": [
    "## 2 Independent two-sample t-test"
   ]
  },
  {
   "cell_type": "code",
   "execution_count": null,
   "metadata": {},
   "outputs": [],
   "source": [
    "# Visual Python: Data Analysis > File\n",
    "df2 = pd.read_csv('./data/08_2_독립표본t검정.csv')\n",
    "df2"
   ]
  },
  {
   "cell_type": "code",
   "execution_count": null,
   "metadata": {},
   "outputs": [],
   "source": [
    "# Visual Python: Student's t-test\n",
    "# Independent two-sample t-test\n",
    "vp_df1 = df2[(df2['성별'] == '남성')]['수학성적'].dropna().copy()\n",
    "vp_df2 = df2[(df2['성별'] == '여성')]['수학성적'].dropna().copy()\n",
    "\n",
    "# Normality test (Shapiro-Wilk)\n",
    "from IPython.display import display, Markdown\n",
    "from scipy import stats\n",
    "_res1 = stats.shapiro(vp_df1)\n",
    "_res2 = stats.shapiro(vp_df2)\n",
    "display(Markdown('### Normality test (Shapiro-Wilk)'))\n",
    "display(pd.DataFrame(data={'Statistic':[_res1.statistic,_res2.statistic],'p-value':[_res1.pvalue,_res2.pvalue]},\n",
    "                    index=[['Normality test (Shapiro-Wilk)' for i in range(2)],['Variable1','Variable2']]))\n",
    "\n",
    "# Equal Variance test (Levene)\n",
    "display(Markdown('### Equal Variance test (Levene)'))\n",
    "_res = stats.levene(vp_df1, vp_df2, center='mean')\n",
    "display(pd.DataFrame(data={'Statistic':_res.statistic,'p-value':_res.pvalue}, index=['Equal Variance test (Levene)']))\n",
    "\n",
    "# Statistics\n",
    "display(Markdown('### Statistics'))\n",
    "display(pd.DataFrame(data={'N':[vp_df1.size,vp_df2.size],\n",
    "                           'Mean':[vp_df1.mean(),vp_df2.mean()],\n",
    "                           'Std. Deviation':[vp_df1.std(),vp_df2.std()],\n",
    "                           'Std. Error mean':[vp_df1.std()/np.sqrt(vp_df1.size),\n",
    "                                              vp_df2.std()/np.sqrt(vp_df2.size )]},\n",
    "                     index=[['Statistics' for i in range(2)],['Variable1','Variable2']]))\n",
    "\n",
    "# Independent two-sample t-test\n",
    "_res1 = stats.ttest_ind(vp_df1, vp_df2, equal_var=True,  alternative='two-sided')\n",
    "_res2 = stats.ttest_ind(vp_df1, vp_df2, equal_var=False, alternative='two-sided')\n",
    "display(Markdown('### Independent two-sample t-test'))\n",
    "display(pd.DataFrame(data={'Statistic':[_res1.statistic,_res2.statistic],'Alternative':['two-sided' for i in range(2)],\n",
    "                           'p-value':[_res1.pvalue,_res2.pvalue],\n",
    "                           'Mean difference':[vp_df1.mean()-vp_df2.mean() for i in range(2)]},\n",
    "                     index=[['Independent two-sample t-test' for i in range(2)],['Equal variance' for i in range(2)],[True,False]]))\n",
    "display(Markdown('If equal_var is False, perform Welch\\'s t-test, which does not assume equal population variance'))"
   ]
  },
  {
   "cell_type": "markdown",
   "metadata": {},
   "source": [
    "## 3 Paired samples t-test"
   ]
  },
  {
   "cell_type": "code",
   "execution_count": null,
   "metadata": {},
   "outputs": [],
   "source": [
    "# Visual Python: Data Analysis > File\n",
    "df3 = pd.read_csv('./data/08_3_대응표본t검정.csv')\n",
    "df3"
   ]
  },
  {
   "cell_type": "code",
   "execution_count": null,
   "metadata": {},
   "outputs": [],
   "source": [
    "# Visual Python: Student's t-test\n",
    "# Paired samples t-test\n",
    "vp_df = df3.dropna().copy()\n",
    "\n",
    "try: vp_df['사전체력'].reset_index(drop=True, inplace=True)\n",
    "except: pass\n",
    "try: vp_df['사후체력'].reset_index(drop=True, inplace=True)\n",
    "except: pass\n",
    "\n",
    "# Normality test (Shapiro-Wilk)\n",
    "from IPython.display import display, Markdown\n",
    "from scipy import stats\n",
    "_res = stats.shapiro(vp_df['사전체력']-vp_df['사후체력'])\n",
    "display(Markdown('### Normality test (Shapiro-Wilk)'))\n",
    "display(pd.DataFrame(data={'Statistic':_res.statistic,'p-value':_res.pvalue},\n",
    "                     index=['Normality test (Shapiro-Wilk): Paired differences']))\n",
    "\n",
    "# Statistics\n",
    "display(Markdown('### Statistics'))\n",
    "display(pd.DataFrame(data={'N':[vp_df['사전체력'].size,vp_df['사후체력'].size,vp_df['사전체력'].size],\n",
    "                   'Mean':[vp_df['사전체력'].mean(),vp_df['사후체력'].mean(),(vp_df['사전체력']-vp_df['사후체력']).mean()],\n",
    "                   'Std. Deviation':[vp_df['사전체력'].std(),vp_df['사후체력'].std(),(vp_df['사전체력']-vp_df['사후체력']).std()],\n",
    "                   'Std. Error mean':[vp_df['사전체력'].std()/np.sqrt(vp_df['사전체력'].size),\n",
    "                                      vp_df['사후체력'].std()/np.sqrt(vp_df['사후체력'].size),\n",
    "                                      (vp_df['사전체력']-vp_df['사후체력']).std()/np.sqrt(vp_df['사전체력'].size)]},\n",
    "             index=[['Statistics' for i in range(3)],['Variable1','Variable2','Paired differences']]))\n",
    "\n",
    "# Paired samples t-test\n",
    "_res = stats.ttest_rel(vp_df['사전체력'], vp_df['사후체력'], alternative='two-sided')\n",
    "_lower, _upper = _res.confidence_interval(confidence_level=0.95)\n",
    "display(Markdown('### Paired samples t-test'))\n",
    "display(pd.DataFrame(data={'Statistic':_res.statistic,'dof':_res.df,'Alternative':'two-sided',\n",
    "                           'p-value':_res.pvalue,'Mean difference':(vp_df['사전체력']-vp_df['사후체력']).mean(),\n",
    "                           'Confidence interval':0.95,'Lower':_lower,'Upper':_upper},\n",
    "                     index=['Paired samples t-test']))"
   ]
  },
  {
   "cell_type": "markdown",
   "metadata": {},
   "source": [
    "---"
   ]
  },
  {
   "cell_type": "code",
   "execution_count": null,
   "metadata": {},
   "outputs": [],
   "source": [
    "# End of file"
   ]
  },
  {
   "cell_type": "code",
   "execution_count": null,
   "metadata": {},
   "outputs": [],
   "source": []
  }
 ],
 "metadata": {
  "kernelspec": {
   "display_name": "Python 3 (ipykernel)",
   "language": "python",
   "name": "python3"
  },
  "language_info": {
   "codemirror_mode": {
    "name": "ipython",
    "version": 3
   },
   "file_extension": ".py",
   "mimetype": "text/x-python",
   "name": "python",
   "nbconvert_exporter": "python",
   "pygments_lexer": "ipython3",
   "version": "3.11.4"
  },
  "vp": {
   "vp_config_version": "1.0.0",
   "vp_menu_width": 273,
   "vp_note_display": false,
   "vp_note_width": 0,
   "vp_position": {
    "width": 278
   },
   "vp_section_display": false,
   "vp_signature": "VisualPython"
  }
 },
 "nbformat": 4,
 "nbformat_minor": 1
}
