{
 "cells": [
  {
   "cell_type": "markdown",
   "metadata": {},
   "source": [
    "# ANOVA - Analysis of variance"
   ]
  },
  {
   "cell_type": "markdown",
   "metadata": {},
   "source": [
    "1. One-way ANOVA\n",
    "2. Two-way ANOVA\n",
    "3. ANCOVA - Analysis of covariance"
   ]
  },
  {
   "cell_type": "markdown",
   "metadata": {},
   "source": [
    "---"
   ]
  },
  {
   "cell_type": "markdown",
   "metadata": {},
   "source": [
    "## Import Packages\n",
    "- Visual Python: Data Analysis > Import"
   ]
  },
  {
   "cell_type": "code",
   "execution_count": null,
   "metadata": {},
   "outputs": [],
   "source": [
    "# Visual Python: Data Analysis > Import\n",
    "import numpy as np\n",
    "import pandas as pd\n",
    "import matplotlib.pyplot as plt\n",
    "%matplotlib inline\n",
    "import seaborn as sns"
   ]
  },
  {
   "cell_type": "code",
   "execution_count": null,
   "metadata": {},
   "outputs": [],
   "source": [
    "from matplotlib import rcParams\n",
    "rcParams['font.family'] = 'New Gulim'\n",
    "rcParams['axes.unicode_minus'] = False"
   ]
  },
  {
   "cell_type": "markdown",
   "metadata": {},
   "source": [
    "## 1 One-way ANOVA"
   ]
  },
  {
   "cell_type": "code",
   "execution_count": null,
   "metadata": {},
   "outputs": [],
   "source": [
    "# Visual Python: Data Analysis > File\n",
    "df1 = pd.read_csv('./data/09_1_일원분산분석.csv')\n",
    "df1"
   ]
  },
  {
   "cell_type": "code",
   "execution_count": null,
   "metadata": {},
   "outputs": [],
   "source": [
    "# Visual Python: ANOVA\n",
    "from scipy import stats\n",
    "def vp_confidence_interval(var, confidence_level=0.95):\n",
    "    try: sr = pd.Series(var)\n",
    "    except: return np.nan\n",
    "    return stats.t.interval(confidence_level, df=sr.count()-1, loc=sr.mean(), scale=sr.std() / np.sqrt(sr.count()) )\n",
    "def vp_sem(var):\n",
    "    try: sr = pd.Series(var)\n",
    "    except: return np.nan\n",
    "    return sr.std() / np.sqrt(sr.count())"
   ]
  },
  {
   "cell_type": "code",
   "execution_count": null,
   "metadata": {},
   "outputs": [],
   "source": [
    "# Visual Python: ANOVA\n",
    "# One-way ANOVA\n",
    "vp_df = df1.dropna().copy()\n",
    "\n",
    "from IPython.display import display, Markdown\n",
    "_df = pd.DataFrame()\n",
    "for k, v in  dict(list(vp_df.groupby('교육방법')['판매실적'])).items():\n",
    "    _df_t = v.reset_index(drop=True)\n",
    "    _df_t.name = k\n",
    "    _df = pd.concat([_df, _df_t], axis=1)\n",
    "\n",
    "# Statistics\n",
    "display(Markdown('### Statistics'))\n",
    "display(pd.DataFrame(data={'Count':_df.count(),'Mean':_df.mean(numeric_only=True),'Std. Deviation':_df.std(numeric_only=True),'Min':_df.min(),'Max':_df.max(),\n",
    "                           'Std. Error Mean':_df.apply(vp_sem),'Confidence interval':0.95,\n",
    "                           'Lower':_df.apply(vp_confidence_interval).T[0],'Upper':_df.apply(vp_confidence_interval).T[1] }))\n",
    "\n",
    "# Boxplot\n",
    "import seaborn as sns\n",
    "import warnings\n",
    "with warnings.catch_warnings():\n",
    "    warnings.simplefilter(action='ignore', category=Warning)\n",
    "    sns.boxplot(data=_df)\n",
    "    plt.show()\n",
    "\n",
    "# Equal Variance test (Levene)\n",
    "from scipy import stats\n",
    "_lst = []\n",
    "_df.apply(lambda x: _lst.append(x.dropna()))\n",
    "_res = stats.levene(*_lst, center='mean')\n",
    "display(Markdown('### Equal Variance test (Levene)'))\n",
    "display(pd.DataFrame(data={'Statistic':_res.statistic,'p-value':_res.pvalue}, index=['Equal Variance test (Levene)']))\n",
    "\n",
    "# One-way ANOVA\n",
    "import statsmodels.formula.api as smf\n",
    "from statsmodels.stats.anova import anova_lm\n",
    "_model  = smf.ols('판매실적 ~ C(교육방법)', vp_df)\n",
    "_result = _model.fit()\n",
    "_dfr = anova_lm(_result)\n",
    "_dfr.loc['Total','df'] = _dfr['df'].sum()\n",
    "_dfr.loc['Total','sum_sq'] = _dfr['sum_sq'].sum()\n",
    "display(Markdown('### One-way ANOVA'))\n",
    "display(_dfr)\n",
    "\n",
    "# Post-hoc: Tukey HSD\n",
    "from statsmodels.sandbox.stats.multicomp import MultiComparison\n",
    "_res = MultiComparison(vp_df['판매실적'], vp_df['교육방법']).tukeyhsd(alpha=0.05)\n",
    "display(Markdown('### Post-hoc: Tukey HSD'))\n",
    "display(_res.summary())"
   ]
  },
  {
   "cell_type": "markdown",
   "metadata": {},
   "source": [
    "## 2 Two-way ANOVA"
   ]
  },
  {
   "cell_type": "code",
   "execution_count": null,
   "metadata": {},
   "outputs": [],
   "source": [
    "# Visual Python: Data Analysis > File\n",
    "df2 = pd.read_csv('./data/09_2_이원분산분석.csv')\n",
    "df2"
   ]
  },
  {
   "cell_type": "code",
   "execution_count": null,
   "metadata": {},
   "outputs": [],
   "source": [
    "# Visual Python: ANOVA\n",
    "# Two-way ANOVA\n",
    "vp_df = df2.dropna().copy()\n",
    "\n",
    "from IPython.display import display, Markdown\n",
    "_df = pd.DataFrame()\n",
    "for k, v in  dict(list(vp_df.groupby(['성별','여행빈도'])['해외여행선호도'])).items():\n",
    "    _df_t = v.reset_index(drop=True)\n",
    "    _df_t.name = k\n",
    "    _df = pd.concat([_df, _df_t], axis=1)\n",
    "    _df.columns = [[x[0] for x in _df.columns],[x[1] for x in _df.columns]]\n",
    "\n",
    "# Statistics\n",
    "display(Markdown('### Statistics'))\n",
    "display(pd.DataFrame(data={'Count':_df.count(),'Mean':_df.mean(numeric_only=True),'Std. Deviation':_df.std(numeric_only=True),'Min':_df.min(),'Max':_df.max(),\n",
    "                   'Std. Error Mean':_df.apply(vp_sem),'Confidence interval':0.95,\n",
    "                   'Lower':_df.apply(vp_confidence_interval).T[0],'Upper':_df.apply(vp_confidence_interval).T[1] }))\n",
    "\n",
    "# Boxplot\n",
    "import seaborn as sns\n",
    "import warnings\n",
    "with warnings.catch_warnings():\n",
    "    warnings.simplefilter(action='ignore', category=Warning)\n",
    "    sns.boxplot(data=_df)\n",
    "    plt.show()\n",
    "\n",
    "# Equal Variance test (Levene)\n",
    "from scipy import stats\n",
    "_lst = []\n",
    "_df.apply(lambda x: _lst.append(x.dropna()))\n",
    "_res = stats.levene(*_lst, center='mean')\n",
    "display(Markdown('### Equal Variance test (Levene)'))\n",
    "display(pd.DataFrame(data={'Statistic':_res.statistic,'p-value':_res.pvalue}, index=['Equal Variance test (Levene)']))\n",
    "\n",
    "# Two-way ANOVA\n",
    "import statsmodels.formula.api as smf\n",
    "from statsmodels.stats.anova import anova_lm\n",
    "_model  = smf.ols('해외여행선호도 ~ C(여행빈도) + C(성별) + C(여행빈도):C(성별)', vp_df)\n",
    "_result = _model.fit()\n",
    "_dfr = anova_lm(_result)\n",
    "_dfr.loc['Total','df'] = _dfr['df'].sum()\n",
    "_dfr.loc['Total','sum_sq'] = _dfr['sum_sq'].sum()\n",
    "display(Markdown('### Two-way ANOVA'))\n",
    "display(_dfr)\n",
    "\n",
    "# Interaction plot\n",
    "from statsmodels.graphics.factorplots import interaction_plot\n",
    "import warnings\n",
    "with warnings.catch_warnings():\n",
    "    warnings.simplefilter(action='ignore', category=Warning)\n",
    "    fig = interaction_plot(x=vp_df['여행빈도'], trace=vp_df['성별'], response=vp_df['해외여행선호도'])\n",
    "    plt.show()\n",
    "\n",
    "# Post-hoc: Tukey HSD\n",
    "from statsmodels.sandbox.stats.multicomp import MultiComparison\n",
    "_res = MultiComparison(vp_df['해외여행선호도'], vp_df['여행빈도']).tukeyhsd(alpha=0.05)\n",
    "display(Markdown('### Post-hoc: Tukey HSD'))\n",
    "display(_res.summary())"
   ]
  },
  {
   "cell_type": "markdown",
   "metadata": {},
   "source": [
    "## 3 ANCOVA - Analysis of covariance"
   ]
  },
  {
   "cell_type": "code",
   "execution_count": null,
   "metadata": {},
   "outputs": [],
   "source": [
    "# Visual Python: Data Analysis > File\n",
    "df3 = pd.read_csv('./data/09_3_공분산분석.csv')\n",
    "df3"
   ]
  },
  {
   "cell_type": "code",
   "execution_count": null,
   "metadata": {},
   "outputs": [],
   "source": [
    "# Visual Python: ANOVA\n",
    "# ANCOVA - Analysis of covariance\n",
    "vp_df = df3.dropna().copy()\n",
    "\n",
    "from IPython.display import display, Markdown\n",
    "_df = pd.DataFrame()\n",
    "for k, v in  dict(list(vp_df.groupby('광고')['제품태도'])).items():\n",
    "    _df_t = v.reset_index(drop=True)\n",
    "    _df_t.name = k\n",
    "    _df = pd.concat([_df, _df_t], axis=1)\n",
    "\n",
    "# Statistics\n",
    "display(Markdown('### Statistics'))\n",
    "display(pd.DataFrame(data={'Count':_df.count(),'Mean':_df.mean(numeric_only=True),'Std. Deviation':_df.std(numeric_only=True),'Min':_df.min(),'Max':_df.max(),\n",
    "                   'Std. Error Mean':_df.apply(vp_sem),'Confidence interval':0.95,\n",
    "                   'Lower':_df.apply(vp_confidence_interval).T[0],'Upper':_df.apply(vp_confidence_interval).T[1] }))\n",
    "\n",
    "# Boxplot\n",
    "import seaborn as sns\n",
    "import warnings\n",
    "with warnings.catch_warnings():\n",
    "    warnings.simplefilter(action='ignore', category=Warning)\n",
    "    sns.boxplot(data=_df)\n",
    "    plt.show()\n",
    "\n",
    "# ANCOVA - Analysis of covariance\n",
    "import pingouin as pg\n",
    "display(Markdown('### ANCOVA - Analysis of covariance'))\n",
    "display(pg.ancova(data=vp_df, dv='제품태도', between='광고', covar='사전태도'))"
   ]
  },
  {
   "cell_type": "markdown",
   "metadata": {},
   "source": [
    "---"
   ]
  },
  {
   "cell_type": "code",
   "execution_count": null,
   "metadata": {},
   "outputs": [],
   "source": [
    "# End of file"
   ]
  },
  {
   "cell_type": "code",
   "execution_count": null,
   "metadata": {},
   "outputs": [],
   "source": []
  }
 ],
 "metadata": {
  "kernelspec": {
   "display_name": "Python 3 (ipykernel)",
   "language": "python",
   "name": "python3"
  },
  "language_info": {
   "codemirror_mode": {
    "name": "ipython",
    "version": 3
   },
   "file_extension": ".py",
   "mimetype": "text/x-python",
   "name": "python",
   "nbconvert_exporter": "python",
   "pygments_lexer": "ipython3",
   "version": "3.11.4"
  },
  "vp": {
   "vp_config_version": "1.0.0",
   "vp_menu_width": 273,
   "vp_note_display": false,
   "vp_note_width": 0,
   "vp_position": {
    "width": 278
   },
   "vp_section_display": false,
   "vp_signature": "VisualPython"
  }
 },
 "nbformat": 4,
 "nbformat_minor": 1
}
