{
 "cells": [
  {
   "cell_type": "markdown",
   "metadata": {},
   "source": [
    "# Factor Analysis"
   ]
  },
  {
   "cell_type": "markdown",
   "metadata": {},
   "source": [
    "### KMO(Kaiser-Meyer-Olkin)\n",
    "- 변수들 간의 상관관계가 다른 변수에 의해 잘 설명되는 정도\n",
    "\n",
    "|KMO||\n",
    "|:---|:---|\n",
    "|0.90 이상|상당히 좋음|\n",
    "|0.80 ~ 0.89|좋음|\n",
    "|0.70 ~ 0.79|적당함|\n",
    "|0.60 ~ 0.69|평범|\n",
    "|0.50 ~ 0.59|좋지 않음|\n",
    "|0.50 미만|부적합|\n",
    "\n",
    "### Bartlett's test of sphericity(구형성 검정)\n",
    "- 요인분석 모형의 적합성 여부 판단\n",
    "- 귀무가설: 상관관계 행렬이 단위행렬이다. (귀무가설이 기각되어야 요인분석 모델 사용가능)\n",
    "\n",
    "### Communalities(공통성)\n",
    "- 주어진 컬럼(요인)에 대한 분석\n",
    "- 추출된 요인들에 의해 설명되는 비율\n",
    "- 공통성이 낮은 변수(0.4이하)는 요인변수에서 제외하는게 좋음\n",
    "\n",
    "### Total variance explained\n",
    "- 주성분 분석에 생성된 요인에 대한 분석\n",
    "- 각 요인이 설명하는 분산의 양"
   ]
  },
  {
   "cell_type": "markdown",
   "metadata": {},
   "source": [
    "---"
   ]
  },
  {
   "cell_type": "markdown",
   "metadata": {},
   "source": [
    "## Import Packages\n",
    "- Visual Python: Data Analysis > Import"
   ]
  },
  {
   "cell_type": "code",
   "execution_count": null,
   "metadata": {},
   "outputs": [],
   "source": [
    "# Visual Python: Data Analysis > Import\n",
    "import numpy as np\n",
    "import pandas as pd\n",
    "import matplotlib.pyplot as plt\n",
    "%matplotlib inline\n",
    "import seaborn as sns"
   ]
  },
  {
   "cell_type": "markdown",
   "metadata": {},
   "source": [
    "## 1 Factor Analysis"
   ]
  },
  {
   "cell_type": "code",
   "execution_count": null,
   "metadata": {},
   "outputs": [],
   "source": [
    "# Visual Python: Data Analysis > File\n",
    "df = pd.read_csv('./data/10_1_요인분석.csv')\n",
    "df"
   ]
  },
  {
   "cell_type": "code",
   "execution_count": null,
   "metadata": {
    "scrolled": false
   },
   "outputs": [],
   "source": [
    "# Visual Python: Factor Analysis\n",
    "vp_df = df.dropna().copy()\n",
    "\n",
    "# KMO(Kaiser-Meyer-Olkin) measure of sampling adequacy\n",
    "from IPython.display import display, Markdown\n",
    "from factor_analyzer.factor_analyzer import calculate_kmo\n",
    "_kmo = calculate_kmo(vp_df)\n",
    "display(Markdown('### KMO measure of sampling adequacy'))\n",
    "display(pd.DataFrame(data={'Statistic ':_kmo[1]}, index=['KMO measure of sampling adequacy']))\n",
    "\n",
    "# Bartlett's test of sphericity\n",
    "from factor_analyzer.factor_analyzer import calculate_bartlett_sphericity\n",
    "_bartlett = calculate_bartlett_sphericity(vp_df)\n",
    "display(Markdown('### Bartlett\\'s test of sphericity'))\n",
    "display(pd.DataFrame(data={'Chi-square statistic':_bartlett[0],'p-value':_bartlett[1]}, index=['Bartlett test of sphericity']))\n",
    "\n",
    "# Initial\n",
    "from factor_analyzer import FactorAnalyzer\n",
    "_fa1 = FactorAnalyzer(n_factors=vp_df.shape[1], rotation=None, method='principal', impute='drop')\n",
    "_fa1.fit(vp_df)\n",
    "\n",
    "# Number of Factor\n",
    "_nof = (_fa1.get_eigenvalues()[0] > 1).sum()\n",
    "\n",
    "# Un-rotated\n",
    "_fa2 = FactorAnalyzer(n_factors=_nof, rotation=None, method='principal', impute='drop')\n",
    "_fa2.fit(vp_df)\n",
    "\n",
    "# Rotated\n",
    "_fa3 = FactorAnalyzer(n_factors=_nof, rotation='varimax', method='principal', impute='drop')\n",
    "_fa3.fit(vp_df)\n",
    "\n",
    "# Correlation matrix\n",
    "display(Markdown('### Correlation matrix'))\n",
    "display(pd.DataFrame(data= _fa1.corr_ , index=vp_df.columns, columns=vp_df.columns).round(2))\n",
    "\n",
    "# Scree plot\n",
    "import warnings\n",
    "with warnings.catch_warnings():\n",
    "    warnings.simplefilter(action='ignore', category=Warning)\n",
    "    plt.plot(_fa1.get_factor_variance()[1], 'o-')\n",
    "    plt.title('Scree Plot')\n",
    "    plt.xlabel('Factors')\n",
    "    plt.ylabel('Eigenvalue')\n",
    "    plt.show()\n",
    "\n",
    "# Communalities\n",
    "display(Markdown('### Communalities'))\n",
    "display(pd.DataFrame(data={'Initial':_fa1.get_communalities(),'Extraction':_fa2.get_communalities()},index=vp_df.columns).round(3))\n",
    "\n",
    "# Total variance explained\n",
    "# Initial Eigenvalues\n",
    "_ss1 = pd.DataFrame(data=_fa1.get_factor_variance(),\n",
    "                    index=[['Initial Eigenvalues' for i in range(3)],['Total','% of variance','Cumulative %']]).T\n",
    "# Extraction sums of squared loadings\n",
    "_ss2 = pd.DataFrame(data=_fa1.get_factor_variance(),\n",
    "                    index=[['Extraction sums of squared loadings' for i in range(3)],['Total','% of variance','Cumulative %']]).T[:3]\n",
    "# Rotation sums of squared loadings\n",
    "_ss3 = pd.DataFrame(data=_fa3.get_factor_variance(),\n",
    "                    index=[['Rotation sums of squared loadings' for i in range(3)],['Total','% of variance','Cumulative %']]).T\n",
    "                    \n",
    "display(Markdown('### Total variance explained'))\n",
    "display(pd.concat([_ss1,_ss2,_ss3], axis=1).round(3))\n",
    "\n",
    "# Factor matrix\n",
    "display(Markdown('### Factor matrix'))\n",
    "display(pd.DataFrame(data=_fa2.loadings_,index=vp_df.columns,\n",
    "                     columns=list(range(_nof))).round(3))\n",
    "\n",
    "# Rotated factor matrix\n",
    "display(Markdown('### Rotated factor matrix'))\n",
    "display(pd.DataFrame(data=_fa3.loadings_,index=vp_df.columns,\n",
    "                     columns=list(range(_nof))).round(3))"
   ]
  },
  {
   "cell_type": "markdown",
   "metadata": {},
   "source": [
    "---"
   ]
  },
  {
   "cell_type": "code",
   "execution_count": null,
   "metadata": {},
   "outputs": [],
   "source": [
    "# End of file"
   ]
  },
  {
   "cell_type": "code",
   "execution_count": null,
   "metadata": {},
   "outputs": [],
   "source": []
  }
 ],
 "metadata": {
  "kernelspec": {
   "display_name": "Python 3 (ipykernel)",
   "language": "python",
   "name": "python3"
  },
  "language_info": {
   "codemirror_mode": {
    "name": "ipython",
    "version": 3
   },
   "file_extension": ".py",
   "mimetype": "text/x-python",
   "name": "python",
   "nbconvert_exporter": "python",
   "pygments_lexer": "ipython3",
   "version": "3.11.4"
  },
  "vp": {
   "vp_config_version": "1.0.0",
   "vp_menu_width": 273,
   "vp_note_display": false,
   "vp_note_width": 0,
   "vp_position": {
    "width": 278
   },
   "vp_section_display": false,
   "vp_signature": "VisualPython"
  }
 },
 "nbformat": 4,
 "nbformat_minor": 1
}
