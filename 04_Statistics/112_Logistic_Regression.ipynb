{
 "cells": [
  {
   "cell_type": "markdown",
   "id": "cd261202",
   "metadata": {},
   "source": [
    "# Logistic Regression"
   ]
  },
  {
   "cell_type": "markdown",
   "id": "95f0a2e6",
   "metadata": {},
   "source": [
    "---"
   ]
  },
  {
   "cell_type": "markdown",
   "id": "964c9e77",
   "metadata": {},
   "source": [
    "## Import Packages\n",
    "- Visual Python: Data Analysis > Import"
   ]
  },
  {
   "cell_type": "code",
   "execution_count": null,
   "id": "2b0c3933",
   "metadata": {},
   "outputs": [],
   "source": [
    "# Visual Python: Data Analysis > Import\n",
    "import numpy as np\n",
    "import pandas as pd\n",
    "import matplotlib.pyplot as plt\n",
    "%matplotlib inline\n",
    "import seaborn as sns"
   ]
  },
  {
   "cell_type": "markdown",
   "id": "83c127e8",
   "metadata": {},
   "source": [
    "## 1 Logistic Regression"
   ]
  },
  {
   "cell_type": "code",
   "execution_count": null,
   "id": "9ce6c1ea",
   "metadata": {},
   "outputs": [],
   "source": [
    "# Visual Python: Data Analysis > File\n",
    "df = pd.read_csv('./data/12_1_로지스틱회귀분석.csv')\n",
    "df"
   ]
  },
  {
   "cell_type": "code",
   "execution_count": null,
   "id": "6fbc22ff",
   "metadata": {},
   "outputs": [],
   "source": [
    "# Visual Python: Logistic Regression\n",
    "vp_df = df.dropna().copy()\n",
    "vp_df['성별'+'_EL'] = pd.Categorical(vp_df['성별']).codes\n",
    "\n",
    "# Logistic regression\n",
    "from IPython.display import display\n",
    "import statsmodels.formula.api as smf\n",
    "_model  = smf.logit('성별_EL ~ 외관 + 편의성 + 유용성 + 만족감', vp_df)\n",
    "_result = _model.fit()\n",
    "print(_result.summary())\n",
    "\n",
    "# Multi-collinearity statistics\n",
    "from statsmodels.stats.outliers_influence import variance_inflation_factor\n",
    "_dfr = pd.DataFrame(_result.summary().tables[1].data[1:],columns=_result.summary().tables[1].data[0]).set_index('')\n",
    "_dfr['Odds'] = np.exp(_result.params)\n",
    "_dfr['Lower(Odds)'] = np.exp(_result.conf_int()[0])\n",
    "_dfr['Upper(Odds)'] = np.exp(_result.conf_int()[1])\n",
    "for i, col in enumerate(_model.exog_names[1:]):\n",
    "    _vif = variance_inflation_factor(_model.exog, i+1)\n",
    "    _dfr.loc[col,'Tolerance'] = 1/_vif\n",
    "    _dfr.loc[col,'VIF'] = _vif\n",
    "display(_dfr)"
   ]
  },
  {
   "cell_type": "markdown",
   "id": "9e81fca8",
   "metadata": {},
   "source": [
    "---"
   ]
  },
  {
   "cell_type": "code",
   "execution_count": null,
   "id": "480b6793",
   "metadata": {},
   "outputs": [],
   "source": [
    "# End of file"
   ]
  },
  {
   "cell_type": "code",
   "execution_count": null,
   "id": "9c9d14a4",
   "metadata": {},
   "outputs": [],
   "source": []
  }
 ],
 "metadata": {
  "kernelspec": {
   "display_name": "Python 3 (ipykernel)",
   "language": "python",
   "name": "python3"
  },
  "language_info": {
   "codemirror_mode": {
    "name": "ipython",
    "version": 3
   },
   "file_extension": ".py",
   "mimetype": "text/x-python",
   "name": "python",
   "nbconvert_exporter": "python",
   "pygments_lexer": "ipython3",
   "version": "3.11.4"
  },
  "vp": {
   "vp_config_version": "1.0.0",
   "vp_menu_width": 273,
   "vp_note_display": false,
   "vp_note_width": 0,
   "vp_position": {
    "width": 278
   },
   "vp_section_display": false,
   "vp_signature": "VisualPython"
  }
 },
 "nbformat": 4,
 "nbformat_minor": 5
}
